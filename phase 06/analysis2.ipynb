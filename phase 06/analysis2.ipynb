{
 "cells": [
  {
   "cell_type": "code",
   "execution_count": 53,
   "id": "d4a9c7d6",
   "metadata": {
    "id": "d4a9c7d6"
   },
   "outputs": [],
   "source": [
    "import pandas as pd\n",
    "import numpy as np\n",
    "import seaborn as sns\n",
    "from sklearn.preprocessing import OneHotEncoder\n",
    "from sklearn.linear_model import LogisticRegression\n",
    "from sklearn.model_selection import train_test_split\n",
    "import matplotlib.pyplot as plt\n",
    "import seaborn as sns\n",
    "from scipy.stats import chi2_contingency\n",
    "import math\n",
    "import random\n",
    "sns.set()\n",
    "np.random.seed(42)\n",
    "import hvplot\n",
    "import hvplot.pandas\n",
    "import panel as pn"
   ]
  },
  {
   "cell_type": "code",
   "execution_count": 3,
   "id": "8787caea",
   "metadata": {
    "colab": {
     "base_uri": "https://localhost:8080/",
     "height": 1000
    },
    "id": "8787caea",
    "outputId": "2f782c37-373f-404b-c871-68c642e6b516"
   },
   "outputs": [
    {
     "data": {
      "text/html": [
       "<div>\n",
       "<style scoped>\n",
       "    .dataframe tbody tr th:only-of-type {\n",
       "        vertical-align: middle;\n",
       "    }\n",
       "\n",
       "    .dataframe tbody tr th {\n",
       "        vertical-align: top;\n",
       "    }\n",
       "\n",
       "    .dataframe thead th {\n",
       "        text-align: right;\n",
       "    }\n",
       "</style>\n",
       "<table border=\"1\" class=\"dataframe\">\n",
       "  <thead>\n",
       "    <tr style=\"text-align: right;\">\n",
       "      <th></th>\n",
       "      <th>Timestamp</th>\n",
       "      <th>age</th>\n",
       "      <th>gender</th>\n",
       "      <th>level</th>\n",
       "      <th>income level</th>\n",
       "      <th>income level (num)</th>\n",
       "      <th>ID</th>\n",
       "      <th>Current career /future career</th>\n",
       "      <th>Data scientist?</th>\n",
       "      <th>devices count</th>\n",
       "      <th>...</th>\n",
       "      <th>Self study hours</th>\n",
       "      <th>Entertainment (general) hours</th>\n",
       "      <th>sum of the time spent</th>\n",
       "      <th>processor.</th>\n",
       "      <th>is it intel</th>\n",
       "      <th>processor generation</th>\n",
       "      <th>how powerful from 1_to_5</th>\n",
       "      <th>graphics card model</th>\n",
       "      <th>how powerful from 1_to_5.1</th>\n",
       "      <th>point of view</th>\n",
       "    </tr>\n",
       "  </thead>\n",
       "  <tbody>\n",
       "    <tr>\n",
       "      <th>0</th>\n",
       "      <td>2023/04/27 11:05:28 PM GMT+3</td>\n",
       "      <td>19</td>\n",
       "      <td>Female</td>\n",
       "      <td>First</td>\n",
       "      <td>Medium</td>\n",
       "      <td>2</td>\n",
       "      <td>NaN</td>\n",
       "      <td>Data scientist</td>\n",
       "      <td>1</td>\n",
       "      <td>4</td>\n",
       "      <td>...</td>\n",
       "      <td>1</td>\n",
       "      <td>1</td>\n",
       "      <td>4</td>\n",
       "      <td>Core i7</td>\n",
       "      <td>1</td>\n",
       "      <td>8</td>\n",
       "      <td>4.0</td>\n",
       "      <td>NaN</td>\n",
       "      <td>NaN</td>\n",
       "      <td>Laptop</td>\n",
       "    </tr>\n",
       "    <tr>\n",
       "      <th>1</th>\n",
       "      <td>2023/04/27 11:07:17 PM GMT+3</td>\n",
       "      <td>21 or more</td>\n",
       "      <td>Male</td>\n",
       "      <td>Third</td>\n",
       "      <td>Low</td>\n",
       "      <td>1</td>\n",
       "      <td>2.020145e+10</td>\n",
       "      <td>Data scientist</td>\n",
       "      <td>1</td>\n",
       "      <td>2</td>\n",
       "      <td>...</td>\n",
       "      <td>3</td>\n",
       "      <td>5</td>\n",
       "      <td>10</td>\n",
       "      <td>Ryzen 5</td>\n",
       "      <td>0</td>\n",
       "      <td>4</td>\n",
       "      <td>4.0</td>\n",
       "      <td>Integrated AMD Graphics</td>\n",
       "      <td>2.0</td>\n",
       "      <td>PC, more flexible in terms of future upgrades ...</td>\n",
       "    </tr>\n",
       "    <tr>\n",
       "      <th>2</th>\n",
       "      <td>2023/04/27 11:15:08 PM GMT+3</td>\n",
       "      <td>20</td>\n",
       "      <td>Female</td>\n",
       "      <td>Second</td>\n",
       "      <td>Medium</td>\n",
       "      <td>2</td>\n",
       "      <td>2.022146e+10</td>\n",
       "      <td>mobile developer</td>\n",
       "      <td>0</td>\n",
       "      <td>4</td>\n",
       "      <td>...</td>\n",
       "      <td>1</td>\n",
       "      <td>8</td>\n",
       "      <td>12</td>\n",
       "      <td>Ryzen 5</td>\n",
       "      <td>0</td>\n",
       "      <td>10</td>\n",
       "      <td>4.0</td>\n",
       "      <td>NaN</td>\n",
       "      <td>NaN</td>\n",
       "      <td>Laptop :Portability</td>\n",
       "    </tr>\n",
       "    <tr>\n",
       "      <th>3</th>\n",
       "      <td>2023/04/27 11:47:44 PM GMT+3</td>\n",
       "      <td>19</td>\n",
       "      <td>Female</td>\n",
       "      <td>Second</td>\n",
       "      <td>Medium</td>\n",
       "      <td>2</td>\n",
       "      <td>NaN</td>\n",
       "      <td>Data scientist</td>\n",
       "      <td>1</td>\n",
       "      <td>3</td>\n",
       "      <td>...</td>\n",
       "      <td>3</td>\n",
       "      <td>1</td>\n",
       "      <td>6</td>\n",
       "      <td>Intel Xeon</td>\n",
       "      <td>1</td>\n",
       "      <td>8</td>\n",
       "      <td>2.0</td>\n",
       "      <td>INTEL HD Graphics</td>\n",
       "      <td>2.0</td>\n",
       "      <td>Laptop</td>\n",
       "    </tr>\n",
       "    <tr>\n",
       "      <th>4</th>\n",
       "      <td>2023/04/27 7:04:17 PM GMT+3</td>\n",
       "      <td>21 or more</td>\n",
       "      <td>Female</td>\n",
       "      <td>Third</td>\n",
       "      <td>Medium</td>\n",
       "      <td>2</td>\n",
       "      <td>2.024865e+08</td>\n",
       "      <td>web developer</td>\n",
       "      <td>0</td>\n",
       "      <td>3</td>\n",
       "      <td>...</td>\n",
       "      <td>1</td>\n",
       "      <td>3</td>\n",
       "      <td>4</td>\n",
       "      <td>Core i7</td>\n",
       "      <td>1</td>\n",
       "      <td>7</td>\n",
       "      <td>3.0</td>\n",
       "      <td>NaN</td>\n",
       "      <td>NaN</td>\n",
       "      <td>Laptop, I can move with it everywere</td>\n",
       "    </tr>\n",
       "    <tr>\n",
       "      <th>...</th>\n",
       "      <td>...</td>\n",
       "      <td>...</td>\n",
       "      <td>...</td>\n",
       "      <td>...</td>\n",
       "      <td>...</td>\n",
       "      <td>...</td>\n",
       "      <td>...</td>\n",
       "      <td>...</td>\n",
       "      <td>...</td>\n",
       "      <td>...</td>\n",
       "      <td>...</td>\n",
       "      <td>...</td>\n",
       "      <td>...</td>\n",
       "      <td>...</td>\n",
       "      <td>...</td>\n",
       "      <td>...</td>\n",
       "      <td>...</td>\n",
       "      <td>...</td>\n",
       "      <td>...</td>\n",
       "      <td>...</td>\n",
       "      <td>...</td>\n",
       "    </tr>\n",
       "    <tr>\n",
       "      <th>101</th>\n",
       "      <td>2023/05/05 11:55:34 PM GMT+3</td>\n",
       "      <td>19</td>\n",
       "      <td>Male</td>\n",
       "      <td>Second</td>\n",
       "      <td>Low</td>\n",
       "      <td>1</td>\n",
       "      <td>2.022169e+10</td>\n",
       "      <td>Data scientist</td>\n",
       "      <td>1</td>\n",
       "      <td>3</td>\n",
       "      <td>...</td>\n",
       "      <td>1</td>\n",
       "      <td>1</td>\n",
       "      <td>4</td>\n",
       "      <td>Ryzen 5</td>\n",
       "      <td>0</td>\n",
       "      <td>12</td>\n",
       "      <td>4.0</td>\n",
       "      <td>rtx 3060</td>\n",
       "      <td>5.0</td>\n",
       "      <td>i think that pc is better if you are thinking ...</td>\n",
       "    </tr>\n",
       "    <tr>\n",
       "      <th>102</th>\n",
       "      <td>2023/05/05 4:20:42 AM GMT+3</td>\n",
       "      <td>20</td>\n",
       "      <td>Female</td>\n",
       "      <td>Second</td>\n",
       "      <td>Lower medium</td>\n",
       "      <td>3</td>\n",
       "      <td>NaN</td>\n",
       "      <td>Electrical engineer</td>\n",
       "      <td>0</td>\n",
       "      <td>3</td>\n",
       "      <td>...</td>\n",
       "      <td>1</td>\n",
       "      <td>3</td>\n",
       "      <td>8</td>\n",
       "      <td>Core i7</td>\n",
       "      <td>1</td>\n",
       "      <td>11</td>\n",
       "      <td>5.0</td>\n",
       "      <td>NaN</td>\n",
       "      <td>NaN</td>\n",
       "      <td>Laptop because of mobility</td>\n",
       "    </tr>\n",
       "    <tr>\n",
       "      <th>103</th>\n",
       "      <td>2023/05/05 4:36:22 PM GMT+3</td>\n",
       "      <td>21 or more</td>\n",
       "      <td>Female</td>\n",
       "      <td>Fourth</td>\n",
       "      <td>Medium</td>\n",
       "      <td>2</td>\n",
       "      <td>2.019482e+09</td>\n",
       "      <td>Data scientist</td>\n",
       "      <td>1</td>\n",
       "      <td>3</td>\n",
       "      <td>...</td>\n",
       "      <td>5</td>\n",
       "      <td>3</td>\n",
       "      <td>16</td>\n",
       "      <td>Core i7</td>\n",
       "      <td>1</td>\n",
       "      <td>11</td>\n",
       "      <td>5.0</td>\n",
       "      <td>NaN</td>\n",
       "      <td>NaN</td>\n",
       "      <td>Pc for portability</td>\n",
       "    </tr>\n",
       "    <tr>\n",
       "      <th>104</th>\n",
       "      <td>2023/05/05 6:34:01 AM GMT+3</td>\n",
       "      <td>21 or more</td>\n",
       "      <td>Female</td>\n",
       "      <td>Fourth</td>\n",
       "      <td>Medium</td>\n",
       "      <td>2</td>\n",
       "      <td>NaN</td>\n",
       "      <td>Data scientist</td>\n",
       "      <td>1</td>\n",
       "      <td>4</td>\n",
       "      <td>...</td>\n",
       "      <td>3</td>\n",
       "      <td>5</td>\n",
       "      <td>18</td>\n",
       "      <td>Core i5</td>\n",
       "      <td>1</td>\n",
       "      <td>8</td>\n",
       "      <td>4.0</td>\n",
       "      <td>Intel Iris 5100</td>\n",
       "      <td>4.0</td>\n",
       "      <td>PC, easily upgradable, costs less for same per...</td>\n",
       "    </tr>\n",
       "    <tr>\n",
       "      <th>105</th>\n",
       "      <td>2023/05/05 9:28:17 AM GMT+3</td>\n",
       "      <td>19</td>\n",
       "      <td>Male</td>\n",
       "      <td>First</td>\n",
       "      <td>Low</td>\n",
       "      <td>1</td>\n",
       "      <td>2.201014e+07</td>\n",
       "      <td>mobile developer</td>\n",
       "      <td>0</td>\n",
       "      <td>2</td>\n",
       "      <td>...</td>\n",
       "      <td>5</td>\n",
       "      <td>3</td>\n",
       "      <td>6</td>\n",
       "      <td>Core i7</td>\n",
       "      <td>1</td>\n",
       "      <td>6</td>\n",
       "      <td>3.0</td>\n",
       "      <td>NaN</td>\n",
       "      <td>NaN</td>\n",
       "      <td>Pc</td>\n",
       "    </tr>\n",
       "  </tbody>\n",
       "</table>\n",
       "<p>106 rows × 44 columns</p>\n",
       "</div>"
      ],
      "text/plain": [
       "                        Timestamp         age  gender   level  income level  \\\n",
       "0    2023/04/27 11:05:28 PM GMT+3          19  Female   First        Medium   \n",
       "1    2023/04/27 11:07:17 PM GMT+3  21 or more    Male   Third           Low   \n",
       "2    2023/04/27 11:15:08 PM GMT+3          20  Female  Second        Medium   \n",
       "3    2023/04/27 11:47:44 PM GMT+3          19  Female  Second        Medium   \n",
       "4     2023/04/27 7:04:17 PM GMT+3  21 or more  Female   Third        Medium   \n",
       "..                            ...         ...     ...     ...           ...   \n",
       "101  2023/05/05 11:55:34 PM GMT+3          19    Male  Second           Low   \n",
       "102   2023/05/05 4:20:42 AM GMT+3          20  Female  Second  Lower medium   \n",
       "103   2023/05/05 4:36:22 PM GMT+3  21 or more  Female  Fourth        Medium   \n",
       "104   2023/05/05 6:34:01 AM GMT+3  21 or more  Female  Fourth        Medium   \n",
       "105   2023/05/05 9:28:17 AM GMT+3          19    Male   First           Low   \n",
       "\n",
       "     income level (num)            ID Current career /future career  \\\n",
       "0                     2           NaN                Data scientist   \n",
       "1                     1  2.020145e+10                Data scientist   \n",
       "2                     2  2.022146e+10              mobile developer   \n",
       "3                     2           NaN                Data scientist   \n",
       "4                     2  2.024865e+08                 web developer   \n",
       "..                  ...           ...                           ...   \n",
       "101                   1  2.022169e+10                Data scientist   \n",
       "102                   3           NaN           Electrical engineer   \n",
       "103                   2  2.019482e+09                Data scientist   \n",
       "104                   2           NaN                Data scientist   \n",
       "105                   1  2.201014e+07              mobile developer   \n",
       "\n",
       "     Data scientist? devices count  ... Self study hours   \\\n",
       "0                  1             4  ...                 1   \n",
       "1                  1             2  ...                 3   \n",
       "2                  0             4  ...                 1   \n",
       "3                  1             3  ...                 3   \n",
       "4                  0             3  ...                 1   \n",
       "..               ...           ...  ...               ...   \n",
       "101                1             3  ...                 1   \n",
       "102                0             3  ...                 1   \n",
       "103                1             3  ...                 5   \n",
       "104                1             4  ...                 3   \n",
       "105                0             2  ...                 5   \n",
       "\n",
       "    Entertainment (general) hours  sum of the time spent  processor.  \\\n",
       "0                                1                     4     Core i7   \n",
       "1                                5                    10     Ryzen 5   \n",
       "2                                8                    12     Ryzen 5   \n",
       "3                                1                     6  Intel Xeon   \n",
       "4                                3                     4     Core i7   \n",
       "..                             ...                   ...         ...   \n",
       "101                              1                     4     Ryzen 5   \n",
       "102                              3                     8     Core i7   \n",
       "103                              3                    16     Core i7   \n",
       "104                              5                    18     Core i5   \n",
       "105                              3                     6     Core i7   \n",
       "\n",
       "     is it intel  processor generation  how powerful from 1_to_5  \\\n",
       "0               1                    8                       4.0   \n",
       "1               0                    4                       4.0   \n",
       "2               0                   10                       4.0   \n",
       "3               1                    8                       2.0   \n",
       "4               1                    7                       3.0   \n",
       "..            ...                  ...                       ...   \n",
       "101             0                   12                       4.0   \n",
       "102             1                   11                       5.0   \n",
       "103             1                   11                       5.0   \n",
       "104             1                    8                       4.0   \n",
       "105             1                    6                       3.0   \n",
       "\n",
       "         graphics card model how powerful from 1_to_5.1  \\\n",
       "0                        NaN                        NaN   \n",
       "1    Integrated AMD Graphics                        2.0   \n",
       "2                        NaN                        NaN   \n",
       "3          INTEL HD Graphics                        2.0   \n",
       "4                        NaN                        NaN   \n",
       "..                       ...                        ...   \n",
       "101                 rtx 3060                        5.0   \n",
       "102                      NaN                        NaN   \n",
       "103                      NaN                        NaN   \n",
       "104          Intel Iris 5100                        4.0   \n",
       "105                      NaN                        NaN   \n",
       "\n",
       "                                         point of view  \n",
       "0                                              Laptop   \n",
       "1    PC, more flexible in terms of future upgrades ...  \n",
       "2                                  Laptop :Portability  \n",
       "3                                              Laptop   \n",
       "4                Laptop, I can move with it everywere   \n",
       "..                                                 ...  \n",
       "101  i think that pc is better if you are thinking ...  \n",
       "102                        Laptop because of mobility   \n",
       "103                                Pc for portability   \n",
       "104  PC, easily upgradable, costs less for same per...  \n",
       "105                                                 Pc  \n",
       "\n",
       "[106 rows x 44 columns]"
      ]
     },
     "execution_count": 3,
     "metadata": {},
     "output_type": "execute_result"
    }
   ],
   "source": [
    "df = pd.read_csv(\"data.csv\")\n",
    "df"
   ]
  },
  {
   "cell_type": "code",
   "execution_count": 4,
   "id": "af4be171",
   "metadata": {},
   "outputs": [
    {
     "data": {
      "text/plain": [
       "Index(['Timestamp', 'age', 'gender', 'level', 'income level',\n",
       "       'income level (num)', 'ID', 'Current career /future career',\n",
       "       'Data scientist?', 'devices count', 'own Laptop', 'own DeskTop',\n",
       "       'own Tablet', 'device use ratio ', 'main device', 'MAIN usage device',\n",
       "       'Surfing the internet', 'device price', 'what would you rebuy',\n",
       "       'would he chage his device', 'operating system',\n",
       "       'device's performance.', 'Screen size importance',\n",
       "       'Portability importance', 'Upgradability importance',\n",
       "       ' working without cable importance', 'Performance importance',\n",
       "       'Affordability importance', 'CD existence importance',\n",
       "       'Integrated camera importance', 'Multiple monitors importance',\n",
       "       'hours Gaming', 'hours Work', 'hours Academic study',\n",
       "       'Self study hours ', 'Entertainment (general) hours ',\n",
       "       'sum of the time spent', 'processor.', 'is it intel ',\n",
       "       'processor generation', 'how powerful from 1_to_5',\n",
       "       'graphics card model', 'how powerful from 1_to_5.1', 'point of view'],\n",
       "      dtype='object')"
      ]
     },
     "execution_count": 4,
     "metadata": {},
     "output_type": "execute_result"
    }
   ],
   "source": [
    "df.columns"
   ]
  },
  {
   "cell_type": "markdown",
   "id": "tvDQK3_sfn9h",
   "metadata": {
    "id": "tvDQK3_sfn9h"
   },
   "source": [
    "## Data Cleaning"
   ]
  },
  {
   "cell_type": "code",
   "execution_count": 5,
   "id": "80b05f95",
   "metadata": {},
   "outputs": [],
   "source": [
    "df.drop(axis = 0, index = 65,inplace = True)"
   ]
  },
  {
   "cell_type": "code",
   "execution_count": 6,
   "id": "58fdbd65",
   "metadata": {
    "id": "6416212c"
   },
   "outputs": [],
   "source": [
    "df.drop(columns=['ID', 'point of view','graphics card model','how powerful from 1_to_5.1', 'main device', \n",
    "                            'is it intel ', 'sum of the time spent', 'own DeskTop', 'own Laptop', 'Data scientist?',  \n",
    "                            'would he chage his device'], inplace=True)\n",
    "\n",
    "# don't use ['main_usage_device','income_level', 'gender'] "
   ]
  },
  {
   "cell_type": "code",
   "execution_count": 7,
   "id": "11dcf2ab",
   "metadata": {
    "id": "11dcf2ab"
   },
   "outputs": [],
   "source": [
    "df.rename(columns= {'Current career /future career':'career_path','is it intel ':'intel'},inplace=True)\n",
    "df.rename(columns = lambda x: x.replace(\"'s\",\"\"),inplace=True)\n",
    "df.rename(columns = lambda x: x.replace('.',''),inplace=True)\n",
    "df.rename(columns = lambda x: x.replace('?',''),inplace=True)\n",
    "df.rename(columns=lambda x: x.strip().lower().replace(' ','_'),inplace=True)"
   ]
  },
  {
   "cell_type": "code",
   "execution_count": 8,
   "id": "4b08a194",
   "metadata": {
    "colab": {
     "base_uri": "https://localhost:8080/"
    },
    "id": "4b08a194",
    "outputId": "9239e4c7-4c4a-4247-fb8f-bdd9cb8a6337"
   },
   "outputs": [
    {
     "data": {
      "text/plain": [
       "I only use laptop                              33\n",
       "I don�t have both                              23\n",
       "80% using laptop 20% using desktop computer    19\n",
       "20% using laptop 80% using desktop computer    10\n",
       "60% using laptop 40% using desktop computer     7\n",
       "I only use PC                                   6\n",
       "40% using laptop 60% using desktop computer     4\n",
       "I don’t have both                               2\n",
       "50% using laptop 50% using desktop computer     1\n",
       "Name: device_use_ratio, dtype: int64"
      ]
     },
     "execution_count": 8,
     "metadata": {},
     "output_type": "execute_result"
    }
   ],
   "source": [
    "df['device_use_ratio'].value_counts()"
   ]
  },
  {
   "cell_type": "code",
   "execution_count": 9,
   "id": "f6Ed1NwqJulB",
   "metadata": {
    "id": "f6Ed1NwqJulB"
   },
   "outputs": [],
   "source": [
    "df.device_use_ratio = df.device_use_ratio.replace([\"I don�t have both\", \"I don’t have both\"], 'I have neither')"
   ]
  },
  {
   "cell_type": "code",
   "execution_count": 10,
   "id": "zG7RLiaVTsEY",
   "metadata": {
    "id": "zG7RLiaVTsEY"
   },
   "outputs": [],
   "source": [
    "df['desktop_perc'] = df.device_use_ratio.replace(['I have neither', 'I only use laptop', '80% using laptop 20% using desktop computer',\n",
    "                                               '60% using laptop 40% using desktop computer', '50% using laptop 50% using desktop computer',\n",
    "                                               '40% using laptop 60% using desktop computer', '20% using laptop 80% using desktop computer', \n",
    "                                               'I only use PC'], [0, 0, 0.2, 0.4, 0.5, 0.6, 0.8, 1])\n",
    "df['laptop_perc'] = df.device_use_ratio.replace(['I have neither', 'I only use laptop', '80% using laptop 20% using desktop computer',\n",
    "                                               '60% using laptop 40% using desktop computer', '50% using laptop 50% using desktop computer',\n",
    "                                               '40% using laptop 60% using desktop computer', '20% using laptop 80% using desktop computer', \n",
    "                                               'I only use PC'], [0, 1, 0.8, 0.6, 0.5, 0.4, 0.2, 0])\n",
    "\n",
    "df.drop(columns=['device_use_ratio'], inplace=True)"
   ]
  },
  {
   "cell_type": "code",
   "execution_count": 11,
   "id": "6866b394",
   "metadata": {
    "colab": {
     "base_uri": "https://localhost:8080/"
    },
    "id": "6866b394",
    "outputId": "7a3d99cb-2292-48fb-9210-3fa4cb173abc"
   },
   "outputs": [
    {
     "data": {
      "text/plain": [
       "array([0. , 0.2, 0.8, 0.4, 1. , 0.6, 0.5])"
      ]
     },
     "execution_count": 11,
     "metadata": {},
     "output_type": "execute_result"
    }
   ],
   "source": [
    "df['desktop_perc'].unique()"
   ]
  },
  {
   "cell_type": "code",
   "execution_count": 12,
   "id": "9800f156",
   "metadata": {},
   "outputs": [
    {
     "data": {
      "text/plain": [
       "array(['15000', '13000', '8000', '18000', '26000', '10000', '30000',\n",
       "       '28000', '35000', '13800', '3500', '21000', '20000', '16000',\n",
       "       '19000', '17000', '5000', '12000', '25000', '14000', '23000',\n",
       "       '4000', '18500', '4500', '11000', '3000', '18950', '24000',\n",
       "       '40000', '32000', '2400', '14800', '22000', '50000', '4600',\n",
       "       '7000', '3900', '27000', '38000', '15500', '7500'], dtype=object)"
      ]
     },
     "execution_count": 12,
     "metadata": {},
     "output_type": "execute_result"
    }
   ],
   "source": [
    "df.device_price.replace('          ', None, inplace = True)\n",
    "df.device_price.replace('           ', None, inplace = True)\n",
    "df.device_price.unique()"
   ]
  },
  {
   "cell_type": "code",
   "execution_count": 13,
   "id": "1b9ea535",
   "metadata": {
    "id": "1b9ea535"
   },
   "outputs": [],
   "source": [
    "df.device_price = df.device_price.replace(' ', None, regex=True).astype(float)\n",
    "df.device_price.fillna(df.device_price.mean(), inplace=True)"
   ]
  },
  {
   "cell_type": "code",
   "execution_count": 14,
   "id": "JMn1RDGplOCf",
   "metadata": {
    "id": "JMn1RDGplOCf"
   },
   "outputs": [],
   "source": [
    "df.how_powerful_from_1_to_5.fillna(round(df.how_powerful_from_1_to_5.mean()), inplace=True)"
   ]
  },
  {
   "cell_type": "code",
   "execution_count": 15,
   "id": "5FS0AzYxlh_u",
   "metadata": {
    "colab": {
     "base_uri": "https://localhost:8080/"
    },
    "id": "5FS0AzYxlh_u",
    "outputId": "a0450163-78d0-4f2f-b77e-8d6e57cca68c"
   },
   "outputs": [
    {
     "data": {
      "text/plain": [
       "array([4., 2., 3., 5., 1.])"
      ]
     },
     "execution_count": 15,
     "metadata": {},
     "output_type": "execute_result"
    }
   ],
   "source": [
    "df.how_powerful_from_1_to_5.unique()"
   ]
  },
  {
   "cell_type": "code",
   "execution_count": 16,
   "id": "dd2ef49f",
   "metadata": {
    "colab": {
     "base_uri": "https://localhost:8080/"
    },
    "id": "dd2ef49f",
    "outputId": "c5260060-e4d9-4d30-c7e1-92de76d3cd54"
   },
   "outputs": [
    {
     "data": {
      "text/plain": [
       "array([15000., 13000.,  8000., 18000., 26000., 10000., 30000., 28000.,\n",
       "       35000., 13800.,  3500., 21000., 20000., 16000., 19000., 17000.,\n",
       "        5000., 12000., 25000., 14000., 23000.,  4000., 18500.,  4500.,\n",
       "       11000.,  3000., 18950., 24000., 40000., 32000.,  2400., 14800.,\n",
       "       22000., 50000.,  4600.,  7000.,  3900., 27000., 38000., 15500.,\n",
       "        7500.])"
      ]
     },
     "execution_count": 16,
     "metadata": {},
     "output_type": "execute_result"
    }
   ],
   "source": [
    "df['device_price'].unique()"
   ]
  },
  {
   "cell_type": "code",
   "execution_count": 17,
   "id": "jGyLdg1im8We",
   "metadata": {
    "id": "jGyLdg1im8We"
   },
   "outputs": [],
   "source": [
    "df = df.apply(lambda x: x.fillna(x.value_counts().index[0]))"
   ]
  },
  {
   "cell_type": "code",
   "execution_count": 18,
   "id": "38Ioq-ejDVog",
   "metadata": {
    "id": "38Ioq-ejDVog"
   },
   "outputs": [],
   "source": [
    "df.age = df.age.replace('21 or more', 21)\n",
    "df.age = df.age.astype(int)"
   ]
  },
  {
   "cell_type": "code",
   "execution_count": 19,
   "id": "Mgb3FZvLHBHT",
   "metadata": {
    "colab": {
     "base_uri": "https://localhost:8080/"
    },
    "id": "Mgb3FZvLHBHT",
    "outputId": "567b0b52-db59-4715-d0ce-a9baf13ab931"
   },
   "outputs": [
    {
     "data": {
      "text/plain": [
       "Second    42\n",
       "First     34\n",
       "Third     15\n",
       "Fourth    14\n",
       "Name: level, dtype: int64"
      ]
     },
     "execution_count": 19,
     "metadata": {},
     "output_type": "execute_result"
    }
   ],
   "source": [
    "df.level.value_counts()"
   ]
  },
  {
   "cell_type": "code",
   "execution_count": 20,
   "id": "g5eOpskIFSRm",
   "metadata": {
    "id": "g5eOpskIFSRm"
   },
   "outputs": [],
   "source": [
    "df.level.unique()\n",
    "df.level = df.level.replace(['First', 'Second', 'Third', 'Fourth'], [1, 2, 3, 4])"
   ]
  },
  {
   "cell_type": "code",
   "execution_count": 21,
   "id": "DHN9JYgIHpd0",
   "metadata": {
    "colab": {
     "base_uri": "https://localhost:8080/"
    },
    "id": "DHN9JYgIHpd0",
    "outputId": "1b6f3034-860c-4ad6-851c-30c86f9e7e00"
   },
   "outputs": [
    {
     "data": {
      "text/plain": [
       "3            48\n",
       "4            27\n",
       "2            24\n",
       "5 or more     4\n",
       "1             2\n",
       "Name: devices_count, dtype: int64"
      ]
     },
     "execution_count": 21,
     "metadata": {},
     "output_type": "execute_result"
    }
   ],
   "source": [
    "df.devices_count.value_counts()"
   ]
  },
  {
   "cell_type": "code",
   "execution_count": 22,
   "id": "VDZ8nvgFIH5Q",
   "metadata": {
    "id": "VDZ8nvgFIH5Q"
   },
   "outputs": [],
   "source": [
    "df.devices_count = df.devices_count.replace('5 or more', 5).astype(int)"
   ]
  },
  {
   "cell_type": "code",
   "execution_count": 23,
   "id": "0O-TucHqY5K_",
   "metadata": {
    "id": "0O-TucHqY5K_"
   },
   "outputs": [],
   "source": [
    "df['what_would_you_rebuy_for_laptop_imp'] = df.what_would_you_rebuy.replace(['Laptop', 'Desktop computer'], [1, 0])\n",
    "df['what_would_you_rebuy_for_desktop_imp'] = df.what_would_you_rebuy.replace(['Desktop computer', 'Laptop'], [1, 0])\n",
    "df.drop(columns=['what_would_you_rebuy'], inplace=True)"
   ]
  },
  {
   "cell_type": "code",
   "execution_count": 24,
   "id": "tytxbZlVZ4Mt",
   "metadata": {
    "colab": {
     "base_uri": "https://localhost:8080/"
    },
    "id": "tytxbZlVZ4Mt",
    "outputId": "b7663549-2bdc-4747-c0e4-b42f9be94f2e"
   },
   "outputs": [
    {
     "data": {
      "text/plain": [
       "5.0    33\n",
       "3.0    32\n",
       "4.0    27\n",
       "2.0     8\n",
       "1.0     5\n",
       "Name: how_powerful_from_1_to_5, dtype: int64"
      ]
     },
     "execution_count": 24,
     "metadata": {},
     "output_type": "execute_result"
    }
   ],
   "source": [
    "df.how_powerful_from_1_to_5.value_counts()"
   ]
  },
  {
   "cell_type": "markdown",
   "id": "keS3fYMIgBOw",
   "metadata": {
    "id": "keS3fYMIgBOw"
   },
   "source": [
    "## Descriptive Statistics"
   ]
  },
  {
   "cell_type": "code",
   "execution_count": 25,
   "id": "00787e66",
   "metadata": {},
   "outputs": [
    {
     "data": {
      "text/html": [
       "<div>\n",
       "<style scoped>\n",
       "    .dataframe tbody tr th:only-of-type {\n",
       "        vertical-align: middle;\n",
       "    }\n",
       "\n",
       "    .dataframe tbody tr th {\n",
       "        vertical-align: top;\n",
       "    }\n",
       "\n",
       "    .dataframe thead th {\n",
       "        text-align: right;\n",
       "    }\n",
       "</style>\n",
       "<table border=\"1\" class=\"dataframe\">\n",
       "  <thead>\n",
       "    <tr style=\"text-align: right;\">\n",
       "      <th></th>\n",
       "      <th>age</th>\n",
       "      <th>level</th>\n",
       "      <th>income_level_(num)</th>\n",
       "      <th>devices_count</th>\n",
       "      <th>surfing_the_internet</th>\n",
       "      <th>device_price</th>\n",
       "      <th>screen_size_importance</th>\n",
       "      <th>portability_importance</th>\n",
       "      <th>upgradability_importance</th>\n",
       "      <th>working_without_cable_importance</th>\n",
       "      <th>...</th>\n",
       "      <th>hours_work</th>\n",
       "      <th>hours_academic_study</th>\n",
       "      <th>self_study_hours</th>\n",
       "      <th>entertainment_(general)_hours</th>\n",
       "      <th>processor_generation</th>\n",
       "      <th>how_powerful_from_1_to_5</th>\n",
       "      <th>desktop_perc</th>\n",
       "      <th>laptop_perc</th>\n",
       "      <th>what_would_you_rebuy_for_laptop_imp</th>\n",
       "      <th>what_would_you_rebuy_for_desktop_imp</th>\n",
       "    </tr>\n",
       "  </thead>\n",
       "  <tbody>\n",
       "    <tr>\n",
       "      <th>0</th>\n",
       "      <td>19</td>\n",
       "      <td>1</td>\n",
       "      <td>2</td>\n",
       "      <td>4</td>\n",
       "      <td>0</td>\n",
       "      <td>15000.0</td>\n",
       "      <td>4</td>\n",
       "      <td>4</td>\n",
       "      <td>4</td>\n",
       "      <td>4</td>\n",
       "      <td>...</td>\n",
       "      <td>1</td>\n",
       "      <td>5</td>\n",
       "      <td>1</td>\n",
       "      <td>1</td>\n",
       "      <td>8</td>\n",
       "      <td>4.0</td>\n",
       "      <td>0.0</td>\n",
       "      <td>1.0</td>\n",
       "      <td>1</td>\n",
       "      <td>0</td>\n",
       "    </tr>\n",
       "    <tr>\n",
       "      <th>1</th>\n",
       "      <td>21</td>\n",
       "      <td>3</td>\n",
       "      <td>1</td>\n",
       "      <td>2</td>\n",
       "      <td>0</td>\n",
       "      <td>13000.0</td>\n",
       "      <td>3</td>\n",
       "      <td>1</td>\n",
       "      <td>5</td>\n",
       "      <td>1</td>\n",
       "      <td>...</td>\n",
       "      <td>3</td>\n",
       "      <td>1</td>\n",
       "      <td>3</td>\n",
       "      <td>5</td>\n",
       "      <td>4</td>\n",
       "      <td>4.0</td>\n",
       "      <td>0.0</td>\n",
       "      <td>0.0</td>\n",
       "      <td>0</td>\n",
       "      <td>1</td>\n",
       "    </tr>\n",
       "    <tr>\n",
       "      <th>2</th>\n",
       "      <td>20</td>\n",
       "      <td>2</td>\n",
       "      <td>2</td>\n",
       "      <td>4</td>\n",
       "      <td>0</td>\n",
       "      <td>8000.0</td>\n",
       "      <td>3</td>\n",
       "      <td>4</td>\n",
       "      <td>3</td>\n",
       "      <td>5</td>\n",
       "      <td>...</td>\n",
       "      <td>1</td>\n",
       "      <td>5</td>\n",
       "      <td>1</td>\n",
       "      <td>8</td>\n",
       "      <td>10</td>\n",
       "      <td>4.0</td>\n",
       "      <td>0.0</td>\n",
       "      <td>1.0</td>\n",
       "      <td>1</td>\n",
       "      <td>0</td>\n",
       "    </tr>\n",
       "    <tr>\n",
       "      <th>3</th>\n",
       "      <td>19</td>\n",
       "      <td>2</td>\n",
       "      <td>2</td>\n",
       "      <td>3</td>\n",
       "      <td>0</td>\n",
       "      <td>18000.0</td>\n",
       "      <td>4</td>\n",
       "      <td>4</td>\n",
       "      <td>3</td>\n",
       "      <td>5</td>\n",
       "      <td>...</td>\n",
       "      <td>1</td>\n",
       "      <td>5</td>\n",
       "      <td>3</td>\n",
       "      <td>1</td>\n",
       "      <td>8</td>\n",
       "      <td>2.0</td>\n",
       "      <td>0.2</td>\n",
       "      <td>0.8</td>\n",
       "      <td>1</td>\n",
       "      <td>0</td>\n",
       "    </tr>\n",
       "    <tr>\n",
       "      <th>4</th>\n",
       "      <td>21</td>\n",
       "      <td>3</td>\n",
       "      <td>2</td>\n",
       "      <td>3</td>\n",
       "      <td>0</td>\n",
       "      <td>15000.0</td>\n",
       "      <td>2</td>\n",
       "      <td>2</td>\n",
       "      <td>1</td>\n",
       "      <td>1</td>\n",
       "      <td>...</td>\n",
       "      <td>1</td>\n",
       "      <td>3</td>\n",
       "      <td>1</td>\n",
       "      <td>3</td>\n",
       "      <td>7</td>\n",
       "      <td>3.0</td>\n",
       "      <td>0.0</td>\n",
       "      <td>0.0</td>\n",
       "      <td>1</td>\n",
       "      <td>0</td>\n",
       "    </tr>\n",
       "    <tr>\n",
       "      <th>...</th>\n",
       "      <td>...</td>\n",
       "      <td>...</td>\n",
       "      <td>...</td>\n",
       "      <td>...</td>\n",
       "      <td>...</td>\n",
       "      <td>...</td>\n",
       "      <td>...</td>\n",
       "      <td>...</td>\n",
       "      <td>...</td>\n",
       "      <td>...</td>\n",
       "      <td>...</td>\n",
       "      <td>...</td>\n",
       "      <td>...</td>\n",
       "      <td>...</td>\n",
       "      <td>...</td>\n",
       "      <td>...</td>\n",
       "      <td>...</td>\n",
       "      <td>...</td>\n",
       "      <td>...</td>\n",
       "      <td>...</td>\n",
       "      <td>...</td>\n",
       "    </tr>\n",
       "    <tr>\n",
       "      <th>101</th>\n",
       "      <td>19</td>\n",
       "      <td>2</td>\n",
       "      <td>1</td>\n",
       "      <td>3</td>\n",
       "      <td>0</td>\n",
       "      <td>30000.0</td>\n",
       "      <td>5</td>\n",
       "      <td>1</td>\n",
       "      <td>4</td>\n",
       "      <td>1</td>\n",
       "      <td>...</td>\n",
       "      <td>1</td>\n",
       "      <td>1</td>\n",
       "      <td>1</td>\n",
       "      <td>1</td>\n",
       "      <td>12</td>\n",
       "      <td>4.0</td>\n",
       "      <td>0.8</td>\n",
       "      <td>0.2</td>\n",
       "      <td>0</td>\n",
       "      <td>1</td>\n",
       "    </tr>\n",
       "    <tr>\n",
       "      <th>102</th>\n",
       "      <td>20</td>\n",
       "      <td>2</td>\n",
       "      <td>3</td>\n",
       "      <td>3</td>\n",
       "      <td>1</td>\n",
       "      <td>30000.0</td>\n",
       "      <td>4</td>\n",
       "      <td>5</td>\n",
       "      <td>2</td>\n",
       "      <td>3</td>\n",
       "      <td>...</td>\n",
       "      <td>1</td>\n",
       "      <td>7</td>\n",
       "      <td>1</td>\n",
       "      <td>3</td>\n",
       "      <td>11</td>\n",
       "      <td>5.0</td>\n",
       "      <td>0.2</td>\n",
       "      <td>0.8</td>\n",
       "      <td>1</td>\n",
       "      <td>0</td>\n",
       "    </tr>\n",
       "    <tr>\n",
       "      <th>103</th>\n",
       "      <td>21</td>\n",
       "      <td>4</td>\n",
       "      <td>2</td>\n",
       "      <td>3</td>\n",
       "      <td>0</td>\n",
       "      <td>38000.0</td>\n",
       "      <td>4</td>\n",
       "      <td>4</td>\n",
       "      <td>3</td>\n",
       "      <td>3</td>\n",
       "      <td>...</td>\n",
       "      <td>7</td>\n",
       "      <td>5</td>\n",
       "      <td>5</td>\n",
       "      <td>3</td>\n",
       "      <td>11</td>\n",
       "      <td>5.0</td>\n",
       "      <td>0.2</td>\n",
       "      <td>0.8</td>\n",
       "      <td>1</td>\n",
       "      <td>0</td>\n",
       "    </tr>\n",
       "    <tr>\n",
       "      <th>104</th>\n",
       "      <td>21</td>\n",
       "      <td>4</td>\n",
       "      <td>2</td>\n",
       "      <td>4</td>\n",
       "      <td>0</td>\n",
       "      <td>15500.0</td>\n",
       "      <td>3</td>\n",
       "      <td>4</td>\n",
       "      <td>4</td>\n",
       "      <td>4</td>\n",
       "      <td>...</td>\n",
       "      <td>7</td>\n",
       "      <td>3</td>\n",
       "      <td>3</td>\n",
       "      <td>5</td>\n",
       "      <td>8</td>\n",
       "      <td>4.0</td>\n",
       "      <td>0.6</td>\n",
       "      <td>0.4</td>\n",
       "      <td>0</td>\n",
       "      <td>1</td>\n",
       "    </tr>\n",
       "    <tr>\n",
       "      <th>105</th>\n",
       "      <td>19</td>\n",
       "      <td>1</td>\n",
       "      <td>1</td>\n",
       "      <td>2</td>\n",
       "      <td>0</td>\n",
       "      <td>7500.0</td>\n",
       "      <td>2</td>\n",
       "      <td>2</td>\n",
       "      <td>2</td>\n",
       "      <td>2</td>\n",
       "      <td>...</td>\n",
       "      <td>1</td>\n",
       "      <td>1</td>\n",
       "      <td>5</td>\n",
       "      <td>3</td>\n",
       "      <td>6</td>\n",
       "      <td>3.0</td>\n",
       "      <td>0.8</td>\n",
       "      <td>0.2</td>\n",
       "      <td>0</td>\n",
       "      <td>1</td>\n",
       "    </tr>\n",
       "  </tbody>\n",
       "</table>\n",
       "<p>105 rows × 26 columns</p>\n",
       "</div>"
      ],
      "text/plain": [
       "     age  level  income_level_(num)  devices_count  surfing_the_internet  \\\n",
       "0     19      1                   2              4                     0   \n",
       "1     21      3                   1              2                     0   \n",
       "2     20      2                   2              4                     0   \n",
       "3     19      2                   2              3                     0   \n",
       "4     21      3                   2              3                     0   \n",
       "..   ...    ...                 ...            ...                   ...   \n",
       "101   19      2                   1              3                     0   \n",
       "102   20      2                   3              3                     1   \n",
       "103   21      4                   2              3                     0   \n",
       "104   21      4                   2              4                     0   \n",
       "105   19      1                   1              2                     0   \n",
       "\n",
       "     device_price  screen_size_importance  portability_importance  \\\n",
       "0         15000.0                       4                       4   \n",
       "1         13000.0                       3                       1   \n",
       "2          8000.0                       3                       4   \n",
       "3         18000.0                       4                       4   \n",
       "4         15000.0                       2                       2   \n",
       "..            ...                     ...                     ...   \n",
       "101       30000.0                       5                       1   \n",
       "102       30000.0                       4                       5   \n",
       "103       38000.0                       4                       4   \n",
       "104       15500.0                       3                       4   \n",
       "105        7500.0                       2                       2   \n",
       "\n",
       "     upgradability_importance  working_without_cable_importance  ...  \\\n",
       "0                           4                                 4  ...   \n",
       "1                           5                                 1  ...   \n",
       "2                           3                                 5  ...   \n",
       "3                           3                                 5  ...   \n",
       "4                           1                                 1  ...   \n",
       "..                        ...                               ...  ...   \n",
       "101                         4                                 1  ...   \n",
       "102                         2                                 3  ...   \n",
       "103                         3                                 3  ...   \n",
       "104                         4                                 4  ...   \n",
       "105                         2                                 2  ...   \n",
       "\n",
       "     hours_work  hours_academic_study  self_study_hours  \\\n",
       "0             1                     5                 1   \n",
       "1             3                     1                 3   \n",
       "2             1                     5                 1   \n",
       "3             1                     5                 3   \n",
       "4             1                     3                 1   \n",
       "..          ...                   ...               ...   \n",
       "101           1                     1                 1   \n",
       "102           1                     7                 1   \n",
       "103           7                     5                 5   \n",
       "104           7                     3                 3   \n",
       "105           1                     1                 5   \n",
       "\n",
       "     entertainment_(general)_hours  processor_generation  \\\n",
       "0                                1                     8   \n",
       "1                                5                     4   \n",
       "2                                8                    10   \n",
       "3                                1                     8   \n",
       "4                                3                     7   \n",
       "..                             ...                   ...   \n",
       "101                              1                    12   \n",
       "102                              3                    11   \n",
       "103                              3                    11   \n",
       "104                              5                     8   \n",
       "105                              3                     6   \n",
       "\n",
       "     how_powerful_from_1_to_5  desktop_perc  laptop_perc  \\\n",
       "0                         4.0           0.0          1.0   \n",
       "1                         4.0           0.0          0.0   \n",
       "2                         4.0           0.0          1.0   \n",
       "3                         2.0           0.2          0.8   \n",
       "4                         3.0           0.0          0.0   \n",
       "..                        ...           ...          ...   \n",
       "101                       4.0           0.8          0.2   \n",
       "102                       5.0           0.2          0.8   \n",
       "103                       5.0           0.2          0.8   \n",
       "104                       4.0           0.6          0.4   \n",
       "105                       3.0           0.8          0.2   \n",
       "\n",
       "     what_would_you_rebuy_for_laptop_imp  what_would_you_rebuy_for_desktop_imp  \n",
       "0                                      1                                     0  \n",
       "1                                      0                                     1  \n",
       "2                                      1                                     0  \n",
       "3                                      1                                     0  \n",
       "4                                      1                                     0  \n",
       "..                                   ...                                   ...  \n",
       "101                                    0                                     1  \n",
       "102                                    1                                     0  \n",
       "103                                    1                                     0  \n",
       "104                                    0                                     1  \n",
       "105                                    0                                     1  \n",
       "\n",
       "[105 rows x 26 columns]"
      ]
     },
     "execution_count": 25,
     "metadata": {},
     "output_type": "execute_result"
    }
   ],
   "source": [
    "dfplot=df.select_dtypes(exclude=['object'])\n",
    "dfplot"
   ]
  },
  {
   "cell_type": "code",
   "execution_count": 26,
   "id": "2d1ff403",
   "metadata": {},
   "outputs": [
    {
     "name": "stdout",
     "output_type": "stream",
     "text": [
      "age\n",
      "level\n",
      "income_level_(num)\n",
      "devices_count\n",
      "surfing_the_internet\n",
      "device_price\n",
      "screen_size_importance\n",
      "portability_importance\n",
      "upgradability_importance\n",
      "working_without_cable_importance\n",
      "performance_importance\n",
      "affordability_importance\n",
      "cd_existence_importance\n",
      "integrated_camera_importance\n",
      "multiple_monitors_importance\n"
     ]
    },
    {
     "name": "stderr",
     "output_type": "stream",
     "text": [
      "<ipython-input-26-f8b42e3c2d74>:3: RuntimeWarning: More than 20 figures have been opened. Figures created through the pyplot interface (`matplotlib.pyplot.figure`) are retained until explicitly closed and may consume too much memory. (To control this warning, see the rcParam `figure.max_open_warning`).\n",
      "  plt.figure()\n"
     ]
    },
    {
     "name": "stdout",
     "output_type": "stream",
     "text": [
      "hours_gaming\n",
      "hours_work\n",
      "hours_academic_study\n",
      "self_study_hours\n",
      "entertainment_(general)_hours\n",
      "processor_generation\n",
      "how_powerful_from_1_to_5\n",
      "desktop_perc\n",
      "laptop_perc\n",
      "what_would_you_rebuy_for_laptop_imp\n",
      "what_would_you_rebuy_for_desktop_imp\n"
     ]
    },
    {
     "data": {
      "text/plain": [
       "<Figure size 432x288 with 0 Axes>"
      ]
     },
     "metadata": {},
     "output_type": "display_data"
    },
    {
     "data": {
      "image/png": "[encoded data removed]",
      "text/plain": [
       "<Figure size 432x288 with 1 Axes>"
      ]
     },
     "metadata": {},
     "output_type": "display_data"
    },
    {
     "data": {
      "text/plain": [
       "<Figure size 432x288 with 0 Axes>"
      ]
     },
     "metadata": {},
     "output_type": "display_data"
    },
    {
     "data": {
      "image/png": "[encoded data removed]",
      "text/plain": [
       "<Figure size 432x288 with 1 Axes>"
      ]
     },
     "metadata": {},
     "output_type": "display_data"
    },
    {
     "data": {
      "text/plain": [
       "<Figure size 432x288 with 0 Axes>"
      ]
     },
     "metadata": {},
     "output_type": "display_data"
    },
    {
     "data": {
      "image/png": "[encoded data removed]",
      "text/plain": [
       "<Figure size 432x288 with 1 Axes>"
      ]
     },
     "metadata": {},
     "output_type": "display_data"
    },
    {
     "data": {
      "text/plain": [
       "<Figure size 432x288 with 0 Axes>"
      ]
     },
     "metadata": {},
     "output_type": "display_data"
    },
    {
     "data": {
      "image/png": "[encoded data removed]",
      "text/plain": [
       "<Figure size 432x288 with 1 Axes>"
      ]
     },
     "metadata": {},
     "output_type": "display_data"
    },
    {
     "data": {
      "text/plain": [
       "<Figure size 432x288 with 0 Axes>"
      ]
     },
     "metadata": {},
     "output_type": "display_data"
    },
    {
     "data": {
      "image/png": "[encoded data removed]",
      "text/plain": [
       "<Figure size 432x288 with 1 Axes>"
      ]
     },
     "metadata": {},
     "output_type": "display_data"
    },
    {
     "data": {
      "text/plain": [
       "<Figure size 432x288 with 0 Axes>"
      ]
     },
     "metadata": {},
     "output_type": "display_data"
    },
    {
     "data": {
      "image/png": "[encoded data removed]",
      "text/plain": [
       "<Figure size 432x288 with 1 Axes>"
      ]
     },
     "metadata": {},
     "output_type": "display_data"
    },
    {
     "data": {
      "text/plain": [
       "<Figure size 432x288 with 0 Axes>"
      ]
     },
     "metadata": {},
     "output_type": "display_data"
    },
    {
     "data": {
      "image/png": "[encoded data removed]",
      "text/plain": [
       "<Figure size 432x288 with 1 Axes>"
      ]
     },
     "metadata": {},
     "output_type": "display_data"
    },
    {
     "data": {
      "text/plain": [
       "<Figure size 432x288 with 0 Axes>"
      ]
     },
     "metadata": {},
     "output_type": "display_data"
    },
    {
     "data": {
      "image/png": "[encoded data removed]",
      "text/plain": [
       "<Figure size 432x288 with 1 Axes>"
      ]
     },
     "metadata": {},
     "output_type": "display_data"
    },
    {
     "data": {
      "text/plain": [
       "<Figure size 432x288 with 0 Axes>"
      ]
     },
     "metadata": {},
     "output_type": "display_data"
    },
    {
     "data": {
      "image/png": "[encoded data removed]",
      "text/plain": [
       "<Figure size 432x288 with 1 Axes>"
      ]
     },
     "metadata": {},
     "output_type": "display_data"
    },
    {
     "data": {
      "text/plain": [
       "<Figure size 432x288 with 0 Axes>"
      ]
     },
     "metadata": {},
     "output_type": "display_data"
    },
    {
     "data": {
      "image/png": "[encoded data removed]",
      "text/plain": [
       "<Figure size 432x288 with 1 Axes>"
      ]
     },
     "metadata": {},
     "output_type": "display_data"
    },
    {
     "data": {
      "text/plain": [
       "<Figure size 432x288 with 0 Axes>"
      ]
     },
     "metadata": {},
     "output_type": "display_data"
    },
    {
     "data": {
      "image/png": "[encoded data removed]",
      "text/plain": [
       "<Figure size 432x288 with 1 Axes>"
      ]
     },
     "metadata": {},
     "output_type": "display_data"
    },
    {
     "data": {
      "text/plain": [
       "<Figure size 432x288 with 0 Axes>"
      ]
     },
     "metadata": {},
     "output_type": "display_data"
    },
    {
     "data": {
      "image/png": "[encoded data removed]",
      "text/plain": [
       "<Figure size 432x288 with 1 Axes>"
      ]
     },
     "metadata": {},
     "output_type": "display_data"
    },
    {
     "data": {
      "text/plain": [
       "<Figure size 432x288 with 0 Axes>"
      ]
     },
     "metadata": {},
     "output_type": "display_data"
    },
    {
     "data": {
      "image/png": "[encoded data removed]",
      "text/plain": [
       "<Figure size 432x288 with 1 Axes>"
      ]
     },
     "metadata": {},
     "output_type": "display_data"
    },
    {
     "data": {
      "text/plain": [
       "<Figure size 432x288 with 0 Axes>"
      ]
     },
     "metadata": {},
     "output_type": "display_data"
    },
    {
     "data": {
      "image/png": "[encoded data removed]",
      "text/plain": [
       "<Figure size 432x288 with 1 Axes>"
      ]
     },
     "metadata": {},
     "output_type": "display_data"
    },
    {
     "data": {
      "text/plain": [
       "<Figure size 432x288 with 0 Axes>"
      ]
     },
     "metadata": {},
     "output_type": "display_data"
    },
    {
     "data": {
      "image/png": "[encoded data removed]",
      "text/plain": [
       "<Figure size 432x288 with 1 Axes>"
      ]
     },
     "metadata": {},
     "output_type": "display_data"
    },
    {
     "data": {
      "text/plain": [
       "<Figure size 432x288 with 0 Axes>"
      ]
     },
     "metadata": {},
     "output_type": "display_data"
    },
    {
     "data": {
      "image/png": "[encoded data removed]",
      "text/plain": [
       "<Figure size 432x288 with 1 Axes>"
      ]
     },
     "metadata": {},
     "output_type": "display_data"
    },
    {
     "data": {
      "text/plain": [
       "<Figure size 432x288 with 0 Axes>"
      ]
     },
     "metadata": {},
     "output_type": "display_data"
    },
    {
     "data": {
      "image/png": "[encoded data removed]",
      "text/plain": [
       "<Figure size 432x288 with 1 Axes>"
      ]
     },
     "metadata": {},
     "output_type": "display_data"
    },
    {
     "data": {
      "text/plain": [
       "<Figure size 432x288 with 0 Axes>"
      ]
     },
     "metadata": {},
     "output_type": "display_data"
    },
    {
     "data": {
      "image/png": "[encoded data removed]",
      "text/plain": [
       "<Figure size 432x288 with 1 Axes>"
      ]
     },
     "metadata": {},
     "output_type": "display_data"
    },
    {
     "data": {
      "text/plain": [
       "<Figure size 432x288 with 0 Axes>"
      ]
     },
     "metadata": {},
     "output_type": "display_data"
    },
    {
     "data": {
      "image/png": "[encoded data removed]",
      "text/plain": [
       "<Figure size 432x288 with 1 Axes>"
      ]
     },
     "metadata": {},
     "output_type": "display_data"
    },
    {
     "data": {
      "text/plain": [
       "<Figure size 432x288 with 0 Axes>"
      ]
     },
     "metadata": {},
     "output_type": "display_data"
    },
    {
     "data": {
      "image/png": "[encoded data removed]",
      "text/plain": [
       "<Figure size 432x288 with 1 Axes>"
      ]
     },
     "metadata": {},
     "output_type": "display_data"
    },
    {
     "data": {
      "text/plain": [
       "<Figure size 432x288 with 0 Axes>"
      ]
     },
     "metadata": {},
     "output_type": "display_data"
    },
    {
     "data": {
      "image/png": "[encoded data removed]",
      "text/plain": [
       "<Figure size 432x288 with 1 Axes>"
      ]
     },
     "metadata": {},
     "output_type": "display_data"
    },
    {
     "data": {
      "text/plain": [
       "<Figure size 432x288 with 0 Axes>"
      ]
     },
     "metadata": {},
     "output_type": "display_data"
    },
    {
     "data": {
      "image/png": "[encoded data removed]",
      "text/plain": [
       "<Figure size 432x288 with 1 Axes>"
      ]
     },
     "metadata": {},
     "output_type": "display_data"
    },
    {
     "data": {
      "text/plain": [
       "<Figure size 432x288 with 0 Axes>"
      ]
     },
     "metadata": {},
     "output_type": "display_data"
    },
    {
     "data": {
      "image/png": "[encoded data removed]",
      "text/plain": [
       "<Figure size 432x288 with 1 Axes>"
      ]
     },
     "metadata": {},
     "output_type": "display_data"
    },
    {
     "data": {
      "text/plain": [
       "<Figure size 432x288 with 0 Axes>"
      ]
     },
     "metadata": {},
     "output_type": "display_data"
    },
    {
     "data": {
      "image/png": "[encoded data removed]",
      "text/plain": [
       "<Figure size 432x288 with 1 Axes>"
      ]
     },
     "metadata": {},
     "output_type": "display_data"
    },
    {
     "data": {
      "text/plain": [
       "<Figure size 432x288 with 0 Axes>"
      ]
     },
     "metadata": {},
     "output_type": "display_data"
    },
    {
     "data": {
      "image/png": "[encoded data removed]",
      "text/plain": [
       "<Figure size 432x288 with 1 Axes>"
      ]
     },
     "metadata": {},
     "output_type": "display_data"
    },
    {
     "data": {
      "text/plain": [
       "<Figure size 432x288 with 0 Axes>"
      ]
     },
     "metadata": {},
     "output_type": "display_data"
    },
    {
     "data": {
      "image/png": "[encoded data removed]",
      "text/plain": [
       "<Figure size 432x288 with 1 Axes>"
      ]
     },
     "metadata": {},
     "output_type": "display_data"
    }
   ],
   "source": [
    "for column in dfplot:\n",
    "    print(column)\n",
    "    plt.figure()\n",
    "    dfplot.hist([column])\n"
   ]
  },
  {
   "cell_type": "code",
   "execution_count": 27,
   "id": "MLa3MBjbgINv",
   "metadata": {
    "colab": {
     "base_uri": "https://localhost:8080/",
     "height": 864
    },
    "id": "MLa3MBjbgINv",
    "outputId": "707f1158-1554-45aa-b794-9e8aed6ebd2a",
    "scrolled": true
   },
   "outputs": [
    {
     "data": {
      "text/html": [
       "<div>\n",
       "<style scoped>\n",
       "    .dataframe tbody tr th:only-of-type {\n",
       "        vertical-align: middle;\n",
       "    }\n",
       "\n",
       "    .dataframe tbody tr th {\n",
       "        vertical-align: top;\n",
       "    }\n",
       "\n",
       "    .dataframe thead th {\n",
       "        text-align: right;\n",
       "    }\n",
       "</style>\n",
       "<table border=\"1\" class=\"dataframe\">\n",
       "  <thead>\n",
       "    <tr style=\"text-align: right;\">\n",
       "      <th></th>\n",
       "      <th>count</th>\n",
       "      <th>mean</th>\n",
       "      <th>std</th>\n",
       "      <th>min</th>\n",
       "      <th>25%</th>\n",
       "      <th>50%</th>\n",
       "      <th>75%</th>\n",
       "      <th>max</th>\n",
       "    </tr>\n",
       "  </thead>\n",
       "  <tbody>\n",
       "    <tr>\n",
       "      <th>age</th>\n",
       "      <td>105.0</td>\n",
       "      <td>19.819048</td>\n",
       "      <td>0.927994</td>\n",
       "      <td>18.0</td>\n",
       "      <td>19.0</td>\n",
       "      <td>20.0</td>\n",
       "      <td>21.0</td>\n",
       "      <td>21.0</td>\n",
       "    </tr>\n",
       "    <tr>\n",
       "      <th>level</th>\n",
       "      <td>105.0</td>\n",
       "      <td>2.085714</td>\n",
       "      <td>1.001098</td>\n",
       "      <td>1.0</td>\n",
       "      <td>1.0</td>\n",
       "      <td>2.0</td>\n",
       "      <td>3.0</td>\n",
       "      <td>4.0</td>\n",
       "    </tr>\n",
       "    <tr>\n",
       "      <th>income_level_(num)</th>\n",
       "      <td>105.0</td>\n",
       "      <td>2.038095</td>\n",
       "      <td>0.989598</td>\n",
       "      <td>1.0</td>\n",
       "      <td>1.0</td>\n",
       "      <td>2.0</td>\n",
       "      <td>3.0</td>\n",
       "      <td>5.0</td>\n",
       "    </tr>\n",
       "    <tr>\n",
       "      <th>devices_count</th>\n",
       "      <td>105.0</td>\n",
       "      <td>3.066667</td>\n",
       "      <td>0.846562</td>\n",
       "      <td>1.0</td>\n",
       "      <td>3.0</td>\n",
       "      <td>3.0</td>\n",
       "      <td>4.0</td>\n",
       "      <td>5.0</td>\n",
       "    </tr>\n",
       "    <tr>\n",
       "      <th>surfing_the_internet</th>\n",
       "      <td>105.0</td>\n",
       "      <td>0.095238</td>\n",
       "      <td>0.294951</td>\n",
       "      <td>0.0</td>\n",
       "      <td>0.0</td>\n",
       "      <td>0.0</td>\n",
       "      <td>0.0</td>\n",
       "      <td>1.0</td>\n",
       "    </tr>\n",
       "    <tr>\n",
       "      <th>device_price</th>\n",
       "      <td>105.0</td>\n",
       "      <td>17755.714286</td>\n",
       "      <td>9796.416423</td>\n",
       "      <td>2400.0</td>\n",
       "      <td>12000.0</td>\n",
       "      <td>16000.0</td>\n",
       "      <td>23000.0</td>\n",
       "      <td>50000.0</td>\n",
       "    </tr>\n",
       "    <tr>\n",
       "      <th>screen_size_importance</th>\n",
       "      <td>105.0</td>\n",
       "      <td>3.209524</td>\n",
       "      <td>0.977588</td>\n",
       "      <td>1.0</td>\n",
       "      <td>3.0</td>\n",
       "      <td>3.0</td>\n",
       "      <td>4.0</td>\n",
       "      <td>5.0</td>\n",
       "    </tr>\n",
       "    <tr>\n",
       "      <th>portability_importance</th>\n",
       "      <td>105.0</td>\n",
       "      <td>3.571429</td>\n",
       "      <td>1.350621</td>\n",
       "      <td>1.0</td>\n",
       "      <td>2.0</td>\n",
       "      <td>4.0</td>\n",
       "      <td>5.0</td>\n",
       "      <td>5.0</td>\n",
       "    </tr>\n",
       "    <tr>\n",
       "      <th>upgradability_importance</th>\n",
       "      <td>105.0</td>\n",
       "      <td>3.533333</td>\n",
       "      <td>1.225268</td>\n",
       "      <td>1.0</td>\n",
       "      <td>3.0</td>\n",
       "      <td>4.0</td>\n",
       "      <td>5.0</td>\n",
       "      <td>5.0</td>\n",
       "    </tr>\n",
       "    <tr>\n",
       "      <th>working_without_cable_importance</th>\n",
       "      <td>105.0</td>\n",
       "      <td>3.428571</td>\n",
       "      <td>1.406422</td>\n",
       "      <td>1.0</td>\n",
       "      <td>2.0</td>\n",
       "      <td>4.0</td>\n",
       "      <td>5.0</td>\n",
       "      <td>5.0</td>\n",
       "    </tr>\n",
       "    <tr>\n",
       "      <th>performance_importance</th>\n",
       "      <td>105.0</td>\n",
       "      <td>4.133333</td>\n",
       "      <td>1.209471</td>\n",
       "      <td>1.0</td>\n",
       "      <td>4.0</td>\n",
       "      <td>5.0</td>\n",
       "      <td>5.0</td>\n",
       "      <td>5.0</td>\n",
       "    </tr>\n",
       "    <tr>\n",
       "      <th>affordability_importance</th>\n",
       "      <td>105.0</td>\n",
       "      <td>3.552381</td>\n",
       "      <td>1.168340</td>\n",
       "      <td>1.0</td>\n",
       "      <td>3.0</td>\n",
       "      <td>4.0</td>\n",
       "      <td>5.0</td>\n",
       "      <td>5.0</td>\n",
       "    </tr>\n",
       "    <tr>\n",
       "      <th>cd_existence_importance</th>\n",
       "      <td>105.0</td>\n",
       "      <td>1.752381</td>\n",
       "      <td>1.035717</td>\n",
       "      <td>1.0</td>\n",
       "      <td>1.0</td>\n",
       "      <td>1.0</td>\n",
       "      <td>2.0</td>\n",
       "      <td>5.0</td>\n",
       "    </tr>\n",
       "    <tr>\n",
       "      <th>integrated_camera_importance</th>\n",
       "      <td>105.0</td>\n",
       "      <td>2.352381</td>\n",
       "      <td>1.184686</td>\n",
       "      <td>1.0</td>\n",
       "      <td>1.0</td>\n",
       "      <td>2.0</td>\n",
       "      <td>3.0</td>\n",
       "      <td>5.0</td>\n",
       "    </tr>\n",
       "    <tr>\n",
       "      <th>multiple_monitors_importance</th>\n",
       "      <td>105.0</td>\n",
       "      <td>2.409524</td>\n",
       "      <td>1.222350</td>\n",
       "      <td>1.0</td>\n",
       "      <td>1.0</td>\n",
       "      <td>2.0</td>\n",
       "      <td>3.0</td>\n",
       "      <td>5.0</td>\n",
       "    </tr>\n",
       "    <tr>\n",
       "      <th>hours_gaming</th>\n",
       "      <td>105.0</td>\n",
       "      <td>1.961905</td>\n",
       "      <td>1.941073</td>\n",
       "      <td>1.0</td>\n",
       "      <td>1.0</td>\n",
       "      <td>1.0</td>\n",
       "      <td>1.0</td>\n",
       "      <td>8.0</td>\n",
       "    </tr>\n",
       "    <tr>\n",
       "      <th>hours_work</th>\n",
       "      <td>105.0</td>\n",
       "      <td>2.819048</td>\n",
       "      <td>2.120327</td>\n",
       "      <td>1.0</td>\n",
       "      <td>1.0</td>\n",
       "      <td>3.0</td>\n",
       "      <td>3.0</td>\n",
       "      <td>8.0</td>\n",
       "    </tr>\n",
       "    <tr>\n",
       "      <th>hours_academic_study</th>\n",
       "      <td>105.0</td>\n",
       "      <td>4.133333</td>\n",
       "      <td>2.175328</td>\n",
       "      <td>1.0</td>\n",
       "      <td>3.0</td>\n",
       "      <td>5.0</td>\n",
       "      <td>5.0</td>\n",
       "      <td>8.0</td>\n",
       "    </tr>\n",
       "    <tr>\n",
       "      <th>self_study_hours</th>\n",
       "      <td>105.0</td>\n",
       "      <td>3.647619</td>\n",
       "      <td>2.033285</td>\n",
       "      <td>1.0</td>\n",
       "      <td>3.0</td>\n",
       "      <td>3.0</td>\n",
       "      <td>5.0</td>\n",
       "      <td>8.0</td>\n",
       "    </tr>\n",
       "    <tr>\n",
       "      <th>entertainment_(general)_hours</th>\n",
       "      <td>105.0</td>\n",
       "      <td>3.085714</td>\n",
       "      <td>2.103634</td>\n",
       "      <td>1.0</td>\n",
       "      <td>1.0</td>\n",
       "      <td>3.0</td>\n",
       "      <td>5.0</td>\n",
       "      <td>8.0</td>\n",
       "    </tr>\n",
       "    <tr>\n",
       "      <th>processor_generation</th>\n",
       "      <td>105.0</td>\n",
       "      <td>8.038095</td>\n",
       "      <td>2.944760</td>\n",
       "      <td>1.0</td>\n",
       "      <td>5.0</td>\n",
       "      <td>9.0</td>\n",
       "      <td>11.0</td>\n",
       "      <td>12.0</td>\n",
       "    </tr>\n",
       "    <tr>\n",
       "      <th>how_powerful_from_1_to_5</th>\n",
       "      <td>105.0</td>\n",
       "      <td>3.714286</td>\n",
       "      <td>1.132681</td>\n",
       "      <td>1.0</td>\n",
       "      <td>3.0</td>\n",
       "      <td>4.0</td>\n",
       "      <td>5.0</td>\n",
       "      <td>5.0</td>\n",
       "    </tr>\n",
       "    <tr>\n",
       "      <th>desktop_perc</th>\n",
       "      <td>105.0</td>\n",
       "      <td>0.223810</td>\n",
       "      <td>0.320913</td>\n",
       "      <td>0.0</td>\n",
       "      <td>0.0</td>\n",
       "      <td>0.0</td>\n",
       "      <td>0.4</td>\n",
       "      <td>1.0</td>\n",
       "    </tr>\n",
       "    <tr>\n",
       "      <th>laptop_perc</th>\n",
       "      <td>105.0</td>\n",
       "      <td>0.538095</td>\n",
       "      <td>0.422534</td>\n",
       "      <td>0.0</td>\n",
       "      <td>0.0</td>\n",
       "      <td>0.6</td>\n",
       "      <td>1.0</td>\n",
       "      <td>1.0</td>\n",
       "    </tr>\n",
       "    <tr>\n",
       "      <th>what_would_you_rebuy_for_laptop_imp</th>\n",
       "      <td>105.0</td>\n",
       "      <td>0.790476</td>\n",
       "      <td>0.408921</td>\n",
       "      <td>0.0</td>\n",
       "      <td>1.0</td>\n",
       "      <td>1.0</td>\n",
       "      <td>1.0</td>\n",
       "      <td>1.0</td>\n",
       "    </tr>\n",
       "    <tr>\n",
       "      <th>what_would_you_rebuy_for_desktop_imp</th>\n",
       "      <td>105.0</td>\n",
       "      <td>0.209524</td>\n",
       "      <td>0.408921</td>\n",
       "      <td>0.0</td>\n",
       "      <td>0.0</td>\n",
       "      <td>0.0</td>\n",
       "      <td>0.0</td>\n",
       "      <td>1.0</td>\n",
       "    </tr>\n",
       "  </tbody>\n",
       "</table>\n",
       "</div>"
      ],
      "text/plain": [
       "                                      count          mean          std  \\\n",
       "age                                   105.0     19.819048     0.927994   \n",
       "level                                 105.0      2.085714     1.001098   \n",
       "income_level_(num)                    105.0      2.038095     0.989598   \n",
       "devices_count                         105.0      3.066667     0.846562   \n",
       "surfing_the_internet                  105.0      0.095238     0.294951   \n",
       "device_price                          105.0  17755.714286  9796.416423   \n",
       "screen_size_importance                105.0      3.209524     0.977588   \n",
       "portability_importance                105.0      3.571429     1.350621   \n",
       "upgradability_importance              105.0      3.533333     1.225268   \n",
       "working_without_cable_importance      105.0      3.428571     1.406422   \n",
       "performance_importance                105.0      4.133333     1.209471   \n",
       "affordability_importance              105.0      3.552381     1.168340   \n",
       "cd_existence_importance               105.0      1.752381     1.035717   \n",
       "integrated_camera_importance          105.0      2.352381     1.184686   \n",
       "multiple_monitors_importance          105.0      2.409524     1.222350   \n",
       "hours_gaming                          105.0      1.961905     1.941073   \n",
       "hours_work                            105.0      2.819048     2.120327   \n",
       "hours_academic_study                  105.0      4.133333     2.175328   \n",
       "self_study_hours                      105.0      3.647619     2.033285   \n",
       "entertainment_(general)_hours         105.0      3.085714     2.103634   \n",
       "processor_generation                  105.0      8.038095     2.944760   \n",
       "how_powerful_from_1_to_5              105.0      3.714286     1.132681   \n",
       "desktop_perc                          105.0      0.223810     0.320913   \n",
       "laptop_perc                           105.0      0.538095     0.422534   \n",
       "what_would_you_rebuy_for_laptop_imp   105.0      0.790476     0.408921   \n",
       "what_would_you_rebuy_for_desktop_imp  105.0      0.209524     0.408921   \n",
       "\n",
       "                                         min      25%      50%      75%  \\\n",
       "age                                     18.0     19.0     20.0     21.0   \n",
       "level                                    1.0      1.0      2.0      3.0   \n",
       "income_level_(num)                       1.0      1.0      2.0      3.0   \n",
       "devices_count                            1.0      3.0      3.0      4.0   \n",
       "surfing_the_internet                     0.0      0.0      0.0      0.0   \n",
       "device_price                          2400.0  12000.0  16000.0  23000.0   \n",
       "screen_size_importance                   1.0      3.0      3.0      4.0   \n",
       "portability_importance                   1.0      2.0      4.0      5.0   \n",
       "upgradability_importance                 1.0      3.0      4.0      5.0   \n",
       "working_without_cable_importance         1.0      2.0      4.0      5.0   \n",
       "performance_importance                   1.0      4.0      5.0      5.0   \n",
       "affordability_importance                 1.0      3.0      4.0      5.0   \n",
       "cd_existence_importance                  1.0      1.0      1.0      2.0   \n",
       "integrated_camera_importance             1.0      1.0      2.0      3.0   \n",
       "multiple_monitors_importance             1.0      1.0      2.0      3.0   \n",
       "hours_gaming                             1.0      1.0      1.0      1.0   \n",
       "hours_work                               1.0      1.0      3.0      3.0   \n",
       "hours_academic_study                     1.0      3.0      5.0      5.0   \n",
       "self_study_hours                         1.0      3.0      3.0      5.0   \n",
       "entertainment_(general)_hours            1.0      1.0      3.0      5.0   \n",
       "processor_generation                     1.0      5.0      9.0     11.0   \n",
       "how_powerful_from_1_to_5                 1.0      3.0      4.0      5.0   \n",
       "desktop_perc                             0.0      0.0      0.0      0.4   \n",
       "laptop_perc                              0.0      0.0      0.6      1.0   \n",
       "what_would_you_rebuy_for_laptop_imp      0.0      1.0      1.0      1.0   \n",
       "what_would_you_rebuy_for_desktop_imp     0.0      0.0      0.0      0.0   \n",
       "\n",
       "                                          max  \n",
       "age                                      21.0  \n",
       "level                                     4.0  \n",
       "income_level_(num)                        5.0  \n",
       "devices_count                             5.0  \n",
       "surfing_the_internet                      1.0  \n",
       "device_price                          50000.0  \n",
       "screen_size_importance                    5.0  \n",
       "portability_importance                    5.0  \n",
       "upgradability_importance                  5.0  \n",
       "working_without_cable_importance          5.0  \n",
       "performance_importance                    5.0  \n",
       "affordability_importance                  5.0  \n",
       "cd_existence_importance                   5.0  \n",
       "integrated_camera_importance              5.0  \n",
       "multiple_monitors_importance              5.0  \n",
       "hours_gaming                              8.0  \n",
       "hours_work                                8.0  \n",
       "hours_academic_study                      8.0  \n",
       "self_study_hours                          8.0  \n",
       "entertainment_(general)_hours             8.0  \n",
       "processor_generation                     12.0  \n",
       "how_powerful_from_1_to_5                  5.0  \n",
       "desktop_perc                              1.0  \n",
       "laptop_perc                               1.0  \n",
       "what_would_you_rebuy_for_laptop_imp       1.0  \n",
       "what_would_you_rebuy_for_desktop_imp      1.0  "
      ]
     },
     "execution_count": 27,
     "metadata": {},
     "output_type": "execute_result"
    }
   ],
   "source": [
    "df.describe().T"
   ]
  },
  {
   "cell_type": "code",
   "execution_count": 127,
   "id": "bf2e0829",
   "metadata": {},
   "outputs": [
    {
     "data": {
      "text/plain": [
       "what_would_you_rebuy_for_desktop_imp   -1.000000\n",
       "desktop_perc                           -0.511162\n",
       "hours_gaming                           -0.385685\n",
       "entertainment_(general)_hours          -0.146589\n",
       "upgradability_importance               -0.139454\n",
       "screen_size_importance                 -0.105605\n",
       "level                                  -0.096637\n",
       "performance_importance                 -0.079063\n",
       "age                                    -0.075533\n",
       "hours_work                             -0.066328\n",
       "affordability_importance               -0.037185\n",
       "devices_count                          -0.014814\n",
       "device_price                            0.003662\n",
       "surfing_the_internet                    0.007593\n",
       "self_study_hours                        0.014428\n",
       "multiple_monitors_importance            0.019420\n",
       "processor_generation                    0.030647\n",
       "how_powerful_from_1_to_5                0.077107\n",
       "cd_existence_importance                 0.148760\n",
       "integrated_camera_importance            0.193569\n",
       "hours_academic_study                    0.193849\n",
       "income_level_(num)                      0.210004\n",
       "laptop_perc                             0.263676\n",
       "working_without_cable_importance        0.324828\n",
       "portability_importance                  0.375555\n",
       "what_would_you_rebuy_for_laptop_imp     1.000000\n",
       "Name: what_would_you_rebuy_for_laptop_imp, dtype: float64"
      ]
     },
     "execution_count": 127,
     "metadata": {},
     "output_type": "execute_result"
    }
   ],
   "source": [
    "df.corr()[\"what_would_you_rebuy_for_laptop_imp\"].sort_values()"
   ]
  },
  {
   "cell_type": "code",
   "execution_count": 29,
   "id": "Mnoc-QQTole-",
   "metadata": {
    "colab": {
     "base_uri": "https://localhost:8080/",
     "height": 994
    },
    "id": "Mnoc-QQTole-",
    "outputId": "81b6f70f-893a-4b3e-a4af-9c1699df0cef"
   },
   "outputs": [
    {
     "data": {
      "text/plain": [
       "Index(['timestamp', 'age', 'gender', 'level', 'income_level',\n",
       "       'income_level_(num)', 'career_path', 'devices_count', 'own_tablet',\n",
       "       'main_usage_device', 'surfing_the_internet', 'device_price',\n",
       "       'operating_system', 'device_performance', 'screen_size_importance',\n",
       "       'portability_importance', 'upgradability_importance',\n",
       "       'working_without_cable_importance', 'performance_importance',\n",
       "       'affordability_importance', 'cd_existence_importance',\n",
       "       'integrated_camera_importance', 'multiple_monitors_importance',\n",
       "       'hours_gaming', 'hours_work', 'hours_academic_study',\n",
       "       'self_study_hours', 'entertainment_(general)_hours', 'processor',\n",
       "       'processor_generation', 'how_powerful_from_1_to_5', 'desktop_perc',\n",
       "       'laptop_perc', 'what_would_you_rebuy_for_laptop_imp',\n",
       "       'what_would_you_rebuy_for_desktop_imp'],\n",
       "      dtype='object')"
      ]
     },
     "execution_count": 29,
     "metadata": {},
     "output_type": "execute_result"
    }
   ],
   "source": [
    "df.columns"
   ]
  },
  {
   "cell_type": "code",
   "execution_count": 30,
   "id": "Wz4Oq03WmSNY",
   "metadata": {
    "colab": {
     "base_uri": "https://localhost:8080/"
    },
    "id": "Wz4Oq03WmSNY",
    "outputId": "e50bfe8c-8f5e-4245-caf0-b18e021c68b7"
   },
   "outputs": [
    {
     "data": {
      "text/plain": [
       "0.7101191167495957"
      ]
     },
     "execution_count": 30,
     "metadata": {},
     "output_type": "execute_result"
    }
   ],
   "source": [
    "df.corr().portability_importance['working_without_cable_importance']"
   ]
  },
  {
   "cell_type": "code",
   "execution_count": 31,
   "id": "1edad2bf",
   "metadata": {},
   "outputs": [
    {
     "name": "stdout",
     "output_type": "stream",
     "text": [
      "<class 'pandas.core.frame.DataFrame'>\n",
      "Int64Index: 105 entries, 0 to 105\n",
      "Data columns (total 35 columns):\n",
      " #   Column                                Non-Null Count  Dtype  \n",
      "---  ------                                --------------  -----  \n",
      " 0   timestamp                             105 non-null    object \n",
      " 1   age                                   105 non-null    int32  \n",
      " 2   gender                                105 non-null    object \n",
      " 3   level                                 105 non-null    int64  \n",
      " 4   income_level                          105 non-null    object \n",
      " 5   income_level_(num)                    105 non-null    int64  \n",
      " 6   career_path                           105 non-null    object \n",
      " 7   devices_count                         105 non-null    int32  \n",
      " 8   own_tablet                            105 non-null    object \n",
      " 9   main_usage_device                     105 non-null    object \n",
      " 10  surfing_the_internet                  105 non-null    int64  \n",
      " 11  device_price                          105 non-null    float64\n",
      " 12  operating_system                      105 non-null    object \n",
      " 13  device_performance                    105 non-null    object \n",
      " 14  screen_size_importance                105 non-null    int64  \n",
      " 15  portability_importance                105 non-null    int64  \n",
      " 16  upgradability_importance              105 non-null    int64  \n",
      " 17  working_without_cable_importance      105 non-null    int64  \n",
      " 18  performance_importance                105 non-null    int64  \n",
      " 19  affordability_importance              105 non-null    int64  \n",
      " 20  cd_existence_importance               105 non-null    int64  \n",
      " 21  integrated_camera_importance          105 non-null    int64  \n",
      " 22  multiple_monitors_importance          105 non-null    int64  \n",
      " 23  hours_gaming                          105 non-null    int64  \n",
      " 24  hours_work                            105 non-null    int64  \n",
      " 25  hours_academic_study                  105 non-null    int64  \n",
      " 26  self_study_hours                      105 non-null    int64  \n",
      " 27  entertainment_(general)_hours         105 non-null    int64  \n",
      " 28  processor                             105 non-null    object \n",
      " 29  processor_generation                  105 non-null    int64  \n",
      " 30  how_powerful_from_1_to_5              105 non-null    float64\n",
      " 31  desktop_perc                          105 non-null    float64\n",
      " 32  laptop_perc                           105 non-null    float64\n",
      " 33  what_would_you_rebuy_for_laptop_imp   105 non-null    int64  \n",
      " 34  what_would_you_rebuy_for_desktop_imp  105 non-null    int64  \n",
      "dtypes: float64(4), int32(2), int64(20), object(9)\n",
      "memory usage: 28.7+ KB\n"
     ]
    }
   ],
   "source": [
    "\n",
    "df.info()"
   ]
  },
  {
   "cell_type": "code",
   "execution_count": 32,
   "id": "102ddb08",
   "metadata": {},
   "outputs": [
    {
     "data": {
      "text/plain": [
       "array(['Medium end device', 'medium high specs', 'high end specs',\n",
       "       'Low end device'], dtype=object)"
      ]
     },
     "execution_count": 32,
     "metadata": {},
     "output_type": "execute_result"
    }
   ],
   "source": [
    "replace_map = {'Medium end device ' : 'Medium end device', 'high end specs ': 'high end specs'}\n",
    "df[\"device_performance\"] = df[\"device_performance\"].replace(replace_map)\n",
    "df[\"device_performance\"].unique()"
   ]
  },
  {
   "cell_type": "code",
   "execution_count": 33,
   "id": "798b4ce9",
   "metadata": {},
   "outputs": [
    {
     "data": {
      "text/html": [
       "<div>\n",
       "<style scoped>\n",
       "    .dataframe tbody tr th:only-of-type {\n",
       "        vertical-align: middle;\n",
       "    }\n",
       "\n",
       "    .dataframe tbody tr th {\n",
       "        vertical-align: top;\n",
       "    }\n",
       "\n",
       "    .dataframe thead th {\n",
       "        text-align: right;\n",
       "    }\n",
       "</style>\n",
       "<table border=\"1\" class=\"dataframe\">\n",
       "  <thead>\n",
       "    <tr style=\"text-align: right;\">\n",
       "      <th></th>\n",
       "      <th>timestamp</th>\n",
       "      <th>age</th>\n",
       "      <th>gender</th>\n",
       "      <th>level</th>\n",
       "      <th>income_level</th>\n",
       "      <th>income_level_(num)</th>\n",
       "      <th>career_path</th>\n",
       "      <th>devices_count</th>\n",
       "      <th>own_tablet</th>\n",
       "      <th>main_usage_device</th>\n",
       "      <th>...</th>\n",
       "      <th>hours_academic_study</th>\n",
       "      <th>self_study_hours</th>\n",
       "      <th>entertainment_(general)_hours</th>\n",
       "      <th>processor</th>\n",
       "      <th>processor_generation</th>\n",
       "      <th>how_powerful_from_1_to_5</th>\n",
       "      <th>desktop_perc</th>\n",
       "      <th>laptop_perc</th>\n",
       "      <th>what_would_you_rebuy_for_laptop_imp</th>\n",
       "      <th>what_would_you_rebuy_for_desktop_imp</th>\n",
       "    </tr>\n",
       "    <tr>\n",
       "      <th>device_performance</th>\n",
       "      <th></th>\n",
       "      <th></th>\n",
       "      <th></th>\n",
       "      <th></th>\n",
       "      <th></th>\n",
       "      <th></th>\n",
       "      <th></th>\n",
       "      <th></th>\n",
       "      <th></th>\n",
       "      <th></th>\n",
       "      <th></th>\n",
       "      <th></th>\n",
       "      <th></th>\n",
       "      <th></th>\n",
       "      <th></th>\n",
       "      <th></th>\n",
       "      <th></th>\n",
       "      <th></th>\n",
       "      <th></th>\n",
       "      <th></th>\n",
       "      <th></th>\n",
       "    </tr>\n",
       "  </thead>\n",
       "  <tbody>\n",
       "    <tr>\n",
       "      <th>Low end device</th>\n",
       "      <td>3</td>\n",
       "      <td>3</td>\n",
       "      <td>3</td>\n",
       "      <td>3</td>\n",
       "      <td>3</td>\n",
       "      <td>3</td>\n",
       "      <td>3</td>\n",
       "      <td>3</td>\n",
       "      <td>3</td>\n",
       "      <td>3</td>\n",
       "      <td>...</td>\n",
       "      <td>3</td>\n",
       "      <td>3</td>\n",
       "      <td>3</td>\n",
       "      <td>3</td>\n",
       "      <td>3</td>\n",
       "      <td>3</td>\n",
       "      <td>3</td>\n",
       "      <td>3</td>\n",
       "      <td>3</td>\n",
       "      <td>3</td>\n",
       "    </tr>\n",
       "    <tr>\n",
       "      <th>Medium end device</th>\n",
       "      <td>31</td>\n",
       "      <td>31</td>\n",
       "      <td>31</td>\n",
       "      <td>31</td>\n",
       "      <td>31</td>\n",
       "      <td>31</td>\n",
       "      <td>31</td>\n",
       "      <td>31</td>\n",
       "      <td>31</td>\n",
       "      <td>31</td>\n",
       "      <td>...</td>\n",
       "      <td>31</td>\n",
       "      <td>31</td>\n",
       "      <td>31</td>\n",
       "      <td>31</td>\n",
       "      <td>31</td>\n",
       "      <td>31</td>\n",
       "      <td>31</td>\n",
       "      <td>31</td>\n",
       "      <td>31</td>\n",
       "      <td>31</td>\n",
       "    </tr>\n",
       "    <tr>\n",
       "      <th>high end specs</th>\n",
       "      <td>21</td>\n",
       "      <td>21</td>\n",
       "      <td>21</td>\n",
       "      <td>21</td>\n",
       "      <td>21</td>\n",
       "      <td>21</td>\n",
       "      <td>21</td>\n",
       "      <td>21</td>\n",
       "      <td>21</td>\n",
       "      <td>21</td>\n",
       "      <td>...</td>\n",
       "      <td>21</td>\n",
       "      <td>21</td>\n",
       "      <td>21</td>\n",
       "      <td>21</td>\n",
       "      <td>21</td>\n",
       "      <td>21</td>\n",
       "      <td>21</td>\n",
       "      <td>21</td>\n",
       "      <td>21</td>\n",
       "      <td>21</td>\n",
       "    </tr>\n",
       "    <tr>\n",
       "      <th>medium high specs</th>\n",
       "      <td>50</td>\n",
       "      <td>50</td>\n",
       "      <td>50</td>\n",
       "      <td>50</td>\n",
       "      <td>50</td>\n",
       "      <td>50</td>\n",
       "      <td>50</td>\n",
       "      <td>50</td>\n",
       "      <td>50</td>\n",
       "      <td>50</td>\n",
       "      <td>...</td>\n",
       "      <td>50</td>\n",
       "      <td>50</td>\n",
       "      <td>50</td>\n",
       "      <td>50</td>\n",
       "      <td>50</td>\n",
       "      <td>50</td>\n",
       "      <td>50</td>\n",
       "      <td>50</td>\n",
       "      <td>50</td>\n",
       "      <td>50</td>\n",
       "    </tr>\n",
       "  </tbody>\n",
       "</table>\n",
       "<p>4 rows × 34 columns</p>\n",
       "</div>"
      ],
      "text/plain": [
       "                    timestamp  age  gender  level  income_level  \\\n",
       "device_performance                                                \n",
       "Low end device              3    3       3      3             3   \n",
       "Medium end device          31   31      31     31            31   \n",
       "high end specs             21   21      21     21            21   \n",
       "medium high specs          50   50      50     50            50   \n",
       "\n",
       "                    income_level_(num)  career_path  devices_count  \\\n",
       "device_performance                                                   \n",
       "Low end device                       3            3              3   \n",
       "Medium end device                   31           31             31   \n",
       "high end specs                      21           21             21   \n",
       "medium high specs                   50           50             50   \n",
       "\n",
       "                    own_tablet  main_usage_device  ...  hours_academic_study  \\\n",
       "device_performance                                 ...                         \n",
       "Low end device               3                  3  ...                     3   \n",
       "Medium end device           31                 31  ...                    31   \n",
       "high end specs              21                 21  ...                    21   \n",
       "medium high specs           50                 50  ...                    50   \n",
       "\n",
       "                    self_study_hours  entertainment_(general)_hours  \\\n",
       "device_performance                                                    \n",
       "Low end device                     3                              3   \n",
       "Medium end device                 31                             31   \n",
       "high end specs                    21                             21   \n",
       "medium high specs                 50                             50   \n",
       "\n",
       "                    processor  processor_generation  how_powerful_from_1_to_5  \\\n",
       "device_performance                                                              \n",
       "Low end device              3                     3                         3   \n",
       "Medium end device          31                    31                        31   \n",
       "high end specs             21                    21                        21   \n",
       "medium high specs          50                    50                        50   \n",
       "\n",
       "                    desktop_perc  laptop_perc  \\\n",
       "device_performance                              \n",
       "Low end device                 3            3   \n",
       "Medium end device             31           31   \n",
       "high end specs                21           21   \n",
       "medium high specs             50           50   \n",
       "\n",
       "                    what_would_you_rebuy_for_laptop_imp  \\\n",
       "device_performance                                        \n",
       "Low end device                                        3   \n",
       "Medium end device                                    31   \n",
       "high end specs                                       21   \n",
       "medium high specs                                    50   \n",
       "\n",
       "                    what_would_you_rebuy_for_desktop_imp  \n",
       "device_performance                                        \n",
       "Low end device                                         3  \n",
       "Medium end device                                     31  \n",
       "high end specs                                        21  \n",
       "medium high specs                                     50  \n",
       "\n",
       "[4 rows x 34 columns]"
      ]
     },
     "execution_count": 33,
     "metadata": {},
     "output_type": "execute_result"
    }
   ],
   "source": [
    "group = df.groupby([\"device_performance\"])\n",
    "group.count()"
   ]
  },
  {
   "cell_type": "code",
   "execution_count": 34,
   "id": "82974265",
   "metadata": {},
   "outputs": [
    {
     "data": {
      "text/plain": [
       "<AxesSubplot:ylabel='level'>"
      ]
     },
     "execution_count": 34,
     "metadata": {},
     "output_type": "execute_result"
    },
    {
     "data": {
      "image/png": "[encoded data removed]",
      "text/plain": [
       "<Figure size 432x288 with 1 Axes>"
      ]
     },
     "metadata": {},
     "output_type": "display_data"
    }
   ],
   "source": [
    "group.count()[\"level\"].plot.pie()"
   ]
  },
  {
   "cell_type": "markdown",
   "id": "3fe823d1",
   "metadata": {},
   "source": [
    "We see that the sampling is not representative enough for low end devices, which is expected given that the sample is drawn from Computer science majors and professionals, we focus on analyzing the differences between the other 3 segments"
   ]
  },
  {
   "cell_type": "code",
   "execution_count": 35,
   "id": "cdb1d094",
   "metadata": {},
   "outputs": [],
   "source": [
    "df_by_performance = df[df[\"device_performance\"] != \"Low end device\"]\n",
    "group = df_by_performance.groupby(\"device_performance\")"
   ]
  },
  {
   "cell_type": "code",
   "execution_count": 36,
   "id": "f3b7e0db",
   "metadata": {},
   "outputs": [
    {
     "data": {
      "text/plain": [
       "<AxesSubplot:ylabel='level'>"
      ]
     },
     "execution_count": 36,
     "metadata": {},
     "output_type": "execute_result"
    },
    {
     "data": {
      "image/png": "[encoded data removed]",
      "text/plain": [
       "<Figure size 432x288 with 1 Axes>"
      ]
     },
     "metadata": {},
     "output_type": "display_data"
    }
   ],
   "source": [
    "group.count()[\"level\"].plot.pie()"
   ]
  },
  {
   "cell_type": "code",
   "execution_count": 37,
   "id": "26aada6d",
   "metadata": {},
   "outputs": [
    {
     "data": {
      "text/plain": [
       "device_performance\n",
       "Medium end device    13345.161290\n",
       "high end specs       26180.952381\n",
       "medium high specs    16997.000000\n",
       "Name: device_price, dtype: float64"
      ]
     },
     "execution_count": 37,
     "metadata": {},
     "output_type": "execute_result"
    }
   ],
   "source": [
    "group.mean()[\"device_price\"]"
   ]
  },
  {
   "cell_type": "markdown",
   "id": "5801a006",
   "metadata": {},
   "source": [
    "We see that device price is consistent with device performance"
   ]
  },
  {
   "cell_type": "code",
   "execution_count": 38,
   "id": "99e2b302",
   "metadata": {},
   "outputs": [
    {
     "name": "stdout",
     "output_type": "stream",
     "text": [
      "<class 'pandas.core.frame.DataFrame'>\n",
      "Int64Index: 105 entries, 0 to 105\n",
      "Data columns (total 35 columns):\n",
      " #   Column                                Non-Null Count  Dtype  \n",
      "---  ------                                --------------  -----  \n",
      " 0   timestamp                             105 non-null    object \n",
      " 1   age                                   105 non-null    int32  \n",
      " 2   gender                                105 non-null    object \n",
      " 3   level                                 105 non-null    int64  \n",
      " 4   income_level                          105 non-null    object \n",
      " 5   income_level_(num)                    105 non-null    int64  \n",
      " 6   career_path                           105 non-null    object \n",
      " 7   devices_count                         105 non-null    int32  \n",
      " 8   own_tablet                            105 non-null    object \n",
      " 9   main_usage_device                     105 non-null    object \n",
      " 10  surfing_the_internet                  105 non-null    int64  \n",
      " 11  device_price                          105 non-null    float64\n",
      " 12  operating_system                      105 non-null    object \n",
      " 13  device_performance                    105 non-null    object \n",
      " 14  screen_size_importance                105 non-null    int64  \n",
      " 15  portability_importance                105 non-null    int64  \n",
      " 16  upgradability_importance              105 non-null    int64  \n",
      " 17  working_without_cable_importance      105 non-null    int64  \n",
      " 18  performance_importance                105 non-null    int64  \n",
      " 19  affordability_importance              105 non-null    int64  \n",
      " 20  cd_existence_importance               105 non-null    int64  \n",
      " 21  integrated_camera_importance          105 non-null    int64  \n",
      " 22  multiple_monitors_importance          105 non-null    int64  \n",
      " 23  hours_gaming                          105 non-null    int64  \n",
      " 24  hours_work                            105 non-null    int64  \n",
      " 25  hours_academic_study                  105 non-null    int64  \n",
      " 26  self_study_hours                      105 non-null    int64  \n",
      " 27  entertainment_(general)_hours         105 non-null    int64  \n",
      " 28  processor                             105 non-null    object \n",
      " 29  processor_generation                  105 non-null    int64  \n",
      " 30  how_powerful_from_1_to_5              105 non-null    float64\n",
      " 31  desktop_perc                          105 non-null    float64\n",
      " 32  laptop_perc                           105 non-null    float64\n",
      " 33  what_would_you_rebuy_for_laptop_imp   105 non-null    int64  \n",
      " 34  what_would_you_rebuy_for_desktop_imp  105 non-null    int64  \n",
      "dtypes: float64(4), int32(2), int64(20), object(9)\n",
      "memory usage: 28.7+ KB\n"
     ]
    }
   ],
   "source": [
    "df.info()"
   ]
  },
  {
   "cell_type": "code",
   "execution_count": 39,
   "id": "012fbde3",
   "metadata": {},
   "outputs": [
    {
     "data": {
      "text/plain": [
       "<AxesSubplot:xlabel='what_would_you_rebuy_for_laptop_imp', ylabel='device_price'>"
      ]
     },
     "execution_count": 39,
     "metadata": {},
     "output_type": "execute_result"
    },
    {
     "data": {
      "image/png": "[encoded data removed]",
      "text/plain": [
       "<Figure size 432x288 with 1 Axes>"
      ]
     },
     "metadata": {},
     "output_type": "display_data"
    }
   ],
   "source": [
    "sns.boxplot(y = df[\"device_price\"], x = df[\"what_would_you_rebuy_for_laptop_imp\"], orient = \"v\")\n"
   ]
  },
  {
   "cell_type": "markdown",
   "id": "0971090f",
   "metadata": {},
   "source": [
    "## Inferential statistics"
   ]
  },
  {
   "cell_type": "code",
   "execution_count": 74,
   "id": "27a89755",
   "metadata": {},
   "outputs": [
    {
     "data": {
      "text/plain": [
       "0.7904761904761904"
      ]
     },
     "execution_count": 74,
     "metadata": {},
     "output_type": "execute_result"
    }
   ],
   "source": [
    "total_ratio = df[\"what_would_you_rebuy_for_laptop_imp\"].sum() / df[\"what_would_you_rebuy_for_laptop_imp\"].count()\n",
    "total_ratio"
   ]
  },
  {
   "cell_type": "code",
   "execution_count": 40,
   "id": "bf5e02f3",
   "metadata": {},
   "outputs": [
    {
     "data": {
      "text/plain": [
       "0.40892067350051786"
      ]
     },
     "execution_count": 40,
     "metadata": {},
     "output_type": "execute_result"
    }
   ],
   "source": [
    "df['what_would_you_rebuy_for_laptop_imp'].std()"
   ]
  },
  {
   "cell_type": "markdown",
   "id": "75a5c083",
   "metadata": {},
   "source": [
    "#### Do people spend more on PCs or laptops?"
   ]
  },
  {
   "cell_type": "code",
   "execution_count": 41,
   "id": "7dac4ff0",
   "metadata": {},
   "outputs": [],
   "source": [
    "df_pc = df[df['what_would_you_rebuy_for_laptop_imp'] == 0]\n",
    "df_lap = df[df['what_would_you_rebuy_for_laptop_imp'] == 1]"
   ]
  },
  {
   "cell_type": "code",
   "execution_count": 84,
   "id": "e8fc197f",
   "metadata": {
    "scrolled": true
   },
   "outputs": [
    {
     "data": {
      "text/plain": [
       "(array([15., 10., 30., 19., 13.,  9.,  3.,  5.,  0.,  1.]),\n",
       " array([ 2400.,  7160., 11920., 16680., 21440., 26200., 30960., 35720.,\n",
       "        40480., 45240., 50000.]),\n",
       " <BarContainer object of 10 artists>)"
      ]
     },
     "execution_count": 84,
     "metadata": {},
     "output_type": "execute_result"
    },
    {
     "data": {
      "image/png": "[encoded data removed]",
      "text/plain": [
       "<Figure size 432x288 with 1 Axes>"
      ]
     },
     "metadata": {},
     "output_type": "display_data"
    }
   ],
   "source": [
    "plt.hist(df[\"device_price\"])"
   ]
  },
  {
   "cell_type": "code",
   "execution_count": 86,
   "id": "807a5a04",
   "metadata": {},
   "outputs": [
    {
     "name": "stdout",
     "output_type": "stream",
     "text": [
      "17774.09638554217\n",
      "17686.363636363636\n"
     ]
    }
   ],
   "source": [
    "mean_income_lap = df_lap[\"device_price\"].mean()\n",
    "mean_income_pc = df_pc[\"device_price\"].mean()\n",
    "print(mean_income_lap)\n",
    "print(mean_income_pc)"
   ]
  },
  {
   "cell_type": "markdown",
   "id": "0519c587",
   "metadata": {},
   "source": [
    "$H_0: \\mu_1 \\leq \\mu_2$<br>\n",
    "$H_1: \\mu_1 > \\mu_2$"
   ]
  },
  {
   "cell_type": "markdown",
   "id": "d6a7f90c",
   "metadata": {},
   "source": [
    "Since the sample sizes are very small and the distributions are hard to identify, we use empirical statistical methods to perform hypothesis testing.\n",
    "The most suitable to use here is bootstrap."
   ]
  },
  {
   "cell_type": "code",
   "execution_count": 98,
   "id": "8289b82b",
   "metadata": {},
   "outputs": [],
   "source": [
    "iterations = 1000\n",
    "bootstrap_data = np.zeros(iterations)\n",
    "for i in range(iterations):\n",
    "    bootstrap_data[i] = np.random.choice(df_lap[\"device_price\"], size = 23, replace = True).mean() - np.random.choice(df_pc[\"device_price\"], size = 23, replace = True).mean()"
   ]
  },
  {
   "cell_type": "code",
   "execution_count": 99,
   "id": "e4fdb2c0",
   "metadata": {},
   "outputs": [],
   "source": [
    "bootstrap_data.sort()\n"
   ]
  },
  {
   "cell_type": "code",
   "execution_count": 100,
   "id": "eef19b88",
   "metadata": {},
   "outputs": [
    {
     "data": {
      "text/plain": [
       "array([-9539.13043478, -9406.52173913, -9400.        , -8358.69565217,\n",
       "       -8182.60869565, -8169.56521739, -7460.86956522, -7439.13043478,\n",
       "       -7252.17391304, -7208.69565217, -7078.26086957, -7047.82608696,\n",
       "       -6991.30434783, -6900.        , -6795.65217391, -6765.2173913 ,\n",
       "       -6578.26086957, -6573.91304348, -6486.95652174])"
      ]
     },
     "execution_count": 100,
     "metadata": {},
     "output_type": "execute_result"
    }
   ],
   "source": [
    "bootstrap_data[1:20]"
   ]
  },
  {
   "cell_type": "code",
   "execution_count": 101,
   "id": "68b25fdd",
   "metadata": {},
   "outputs": [
    {
     "data": {
      "text/plain": [
       "(array([  4.,  13.,  50., 115., 199., 228., 206., 132.,  47.,   6.]),\n",
       " array([-10539.13043478,  -8594.34782609,  -6649.56521739,  -4704.7826087 ,\n",
       "         -2760.        ,   -815.2173913 ,   1129.56521739,   3074.34782609,\n",
       "          5019.13043478,   6963.91304348,   8908.69565217]),\n",
       " <BarContainer object of 10 artists>)"
      ]
     },
     "execution_count": 101,
     "metadata": {},
     "output_type": "execute_result"
    },
    {
     "data": {
      "image/png": "[encoded data removed]",
      "text/plain": [
       "<Figure size 432x288 with 1 Axes>"
      ]
     },
     "metadata": {},
     "output_type": "display_data"
    }
   ],
   "source": [
    "plt.hist(bootstrap_data)"
   ]
  },
  {
   "cell_type": "code",
   "execution_count": 102,
   "id": "0bfdcb1c",
   "metadata": {},
   "outputs": [
    {
     "data": {
      "text/plain": [
       "110.28260869565234"
      ]
     },
     "execution_count": 102,
     "metadata": {},
     "output_type": "execute_result"
    }
   ],
   "source": [
    "bootstrap_point_mean = bootstrap_data.mean()\n",
    "bootstrap_point_mean"
   ]
  },
  {
   "cell_type": "code",
   "execution_count": 103,
   "id": "11946e56",
   "metadata": {},
   "outputs": [],
   "source": [
    "alpha = 0.05"
   ]
  },
  {
   "cell_type": "markdown",
   "id": "34b20e67",
   "metadata": {},
   "source": [
    "The bootstrap confidence interval is constructed by taking the value at $(\\alpha \\times iterations )\\space  and \\space (iterations - \\alpha \\times iterations)$"
   ]
  },
  {
   "cell_type": "code",
   "execution_count": 104,
   "id": "41a0e97b",
   "metadata": {},
   "outputs": [],
   "source": [
    "left_bound =  bootstrap_data[math.ceil(alpha * iterations)]\n",
    "right_bound = bootstrap_data[math.ceil(1 - alpha * iterations)]"
   ]
  },
  {
   "cell_type": "code",
   "execution_count": 106,
   "id": "4a998b87",
   "metadata": {},
   "outputs": [
    {
     "name": "stdout",
     "output_type": "stream",
     "text": [
      "95% confidence interval for mu1 - mu2:\n",
      "[ -5252.17391304348  ,  5250.0 ]\n"
     ]
    }
   ],
   "source": [
    "print(\"95% confidence interval for mu1 - mu2:\")\n",
    "print(\"[\", left_bound, \" , \", right_bound, \"]\")"
   ]
  },
  {
   "cell_type": "markdown",
   "id": "3a833ace",
   "metadata": {},
   "source": [
    "The bootstrap hypothesis test is performed by checking whether the value for the variable lies within the acceptance region or not, since the null hypothesis states that $X = 0$ where $X = \\mu_1 - \\mu_2$, and $0$ lies inside the acceptance region, therefore we do not have enough evidence to reject the null hypothesis, that people tend to spend more on one device than another"
   ]
  },
  {
   "cell_type": "markdown",
   "id": "4476845f",
   "metadata": {},
   "source": [
    "#### Chi-Square test for gender, with confidence level = 95%\n"
   ]
  },
  {
   "cell_type": "markdown",
   "id": "2259e8aa",
   "metadata": {},
   "source": [
    "$H_0: \\text{The gender has no relationship with one's purchase choice.}$<br>\n",
    "$H_1: \\text{The two variables, gender and purchase choice, are dependent.}$"
   ]
  },
  {
   "cell_type": "code",
   "execution_count": 73,
   "id": "ac59ae2d",
   "metadata": {},
   "outputs": [
    {
     "data": {
      "text/html": [
       "<div>\n",
       "<style scoped>\n",
       "    .dataframe tbody tr th:only-of-type {\n",
       "        vertical-align: middle;\n",
       "    }\n",
       "\n",
       "    .dataframe tbody tr th {\n",
       "        vertical-align: top;\n",
       "    }\n",
       "\n",
       "    .dataframe thead th {\n",
       "        text-align: right;\n",
       "    }\n",
       "</style>\n",
       "<table border=\"1\" class=\"dataframe\">\n",
       "  <thead>\n",
       "    <tr style=\"text-align: right;\">\n",
       "      <th>what_would_you_rebuy_for_laptop_imp</th>\n",
       "      <th>0</th>\n",
       "      <th>1</th>\n",
       "    </tr>\n",
       "    <tr>\n",
       "      <th>gender</th>\n",
       "      <th></th>\n",
       "      <th></th>\n",
       "    </tr>\n",
       "  </thead>\n",
       "  <tbody>\n",
       "    <tr>\n",
       "      <th>Female</th>\n",
       "      <td>7</td>\n",
       "      <td>44</td>\n",
       "    </tr>\n",
       "    <tr>\n",
       "      <th>Male</th>\n",
       "      <td>15</td>\n",
       "      <td>39</td>\n",
       "    </tr>\n",
       "  </tbody>\n",
       "</table>\n",
       "</div>"
      ],
      "text/plain": [
       "what_would_you_rebuy_for_laptop_imp   0   1\n",
       "gender                                     \n",
       "Female                                7  44\n",
       "Male                                 15  39"
      ]
     },
     "execution_count": 73,
     "metadata": {},
     "output_type": "execute_result"
    }
   ],
   "source": [
    "contingency= pd.crosstab(df['gender'], df['what_would_you_rebuy_for_laptop_imp']) \n",
    "contingency"
   ]
  },
  {
   "cell_type": "code",
   "execution_count": 79,
   "id": "b15c62f2",
   "metadata": {},
   "outputs": [
    {
     "data": {
      "text/plain": [
       "0.12639457846098398"
      ]
     },
     "execution_count": 79,
     "metadata": {},
     "output_type": "execute_result"
    }
   ],
   "source": [
    "chi2, p, dof, ex = chi2_contingency(contingency)\n",
    "p"
   ]
  },
  {
   "cell_type": "markdown",
   "id": "1035e576",
   "metadata": {},
   "source": [
    "Since p-value = 0.12639 > $\\alpha$, we cannot reliably reject the null hypothesis.\n",
    "<b>There is not enough evidence to say that the two variables, gender and purchase decision are dependant.</b>"
   ]
  },
  {
   "cell_type": "markdown",
   "id": "ddeb3e7e",
   "metadata": {},
   "source": [
    "#### We conduct a similar test for age:"
   ]
  },
  {
   "cell_type": "code",
   "execution_count": 80,
   "id": "151f8622",
   "metadata": {},
   "outputs": [
    {
     "data": {
      "text/html": [
       "<div>\n",
       "<style scoped>\n",
       "    .dataframe tbody tr th:only-of-type {\n",
       "        vertical-align: middle;\n",
       "    }\n",
       "\n",
       "    .dataframe tbody tr th {\n",
       "        vertical-align: top;\n",
       "    }\n",
       "\n",
       "    .dataframe thead th {\n",
       "        text-align: right;\n",
       "    }\n",
       "</style>\n",
       "<table border=\"1\" class=\"dataframe\">\n",
       "  <thead>\n",
       "    <tr style=\"text-align: right;\">\n",
       "      <th>what_would_you_rebuy_for_laptop_imp</th>\n",
       "      <th>0</th>\n",
       "      <th>1</th>\n",
       "    </tr>\n",
       "    <tr>\n",
       "      <th>age</th>\n",
       "      <th></th>\n",
       "      <th></th>\n",
       "    </tr>\n",
       "  </thead>\n",
       "  <tbody>\n",
       "    <tr>\n",
       "      <th>18</th>\n",
       "      <td>0</td>\n",
       "      <td>8</td>\n",
       "    </tr>\n",
       "    <tr>\n",
       "      <th>19</th>\n",
       "      <td>8</td>\n",
       "      <td>24</td>\n",
       "    </tr>\n",
       "    <tr>\n",
       "      <th>20</th>\n",
       "      <td>7</td>\n",
       "      <td>29</td>\n",
       "    </tr>\n",
       "    <tr>\n",
       "      <th>21</th>\n",
       "      <td>7</td>\n",
       "      <td>22</td>\n",
       "    </tr>\n",
       "  </tbody>\n",
       "</table>\n",
       "</div>"
      ],
      "text/plain": [
       "what_would_you_rebuy_for_laptop_imp  0   1\n",
       "age                                       \n",
       "18                                   0   8\n",
       "19                                   8  24\n",
       "20                                   7  29\n",
       "21                                   7  22"
      ]
     },
     "execution_count": 80,
     "metadata": {},
     "output_type": "execute_result"
    }
   ],
   "source": [
    "contingency= pd.crosstab(df['age'], df['what_would_you_rebuy_for_laptop_imp']) \n",
    "chi2, p, dof, ex = chi2_contingency(contingency)\n",
    "p"
   ]
  },
  {
   "cell_type": "code",
   "execution_count": 81,
   "id": "2078e2a6",
   "metadata": {},
   "outputs": [
    {
     "data": {
      "text/plain": [
       "0.4463577738771113"
      ]
     },
     "execution_count": 81,
     "metadata": {},
     "output_type": "execute_result"
    }
   ],
   "source": [
    "chi2, p, dof, ex = chi2_contingency(contingency)\n",
    "p"
   ]
  },
  {
   "cell_type": "markdown",
   "id": "d756a40d",
   "metadata": {},
   "source": [
    "Since p-value = 0.44635 $ > \\alpha$, we cannot reliably reject the null hypothesis.\n",
    "<b>There is not enough evidence to say that the two variables, age and purchase decision are dependant.</b>"
   ]
  },
  {
   "cell_type": "markdown",
   "id": "8b570c94",
   "metadata": {},
   "source": [
    "#### Chi-square test for the factors matrix:"
   ]
  },
  {
   "cell_type": "code",
   "execution_count": 107,
   "id": "fdac7b82",
   "metadata": {},
   "outputs": [
    {
     "name": "stdout",
     "output_type": "stream",
     "text": [
      "<class 'pandas.core.frame.DataFrame'>\n",
      "Int64Index: 105 entries, 0 to 105\n",
      "Data columns (total 35 columns):\n",
      " #   Column                                Non-Null Count  Dtype  \n",
      "---  ------                                --------------  -----  \n",
      " 0   timestamp                             105 non-null    object \n",
      " 1   age                                   105 non-null    int32  \n",
      " 2   gender                                105 non-null    object \n",
      " 3   level                                 105 non-null    int64  \n",
      " 4   income_level                          105 non-null    object \n",
      " 5   income_level_(num)                    105 non-null    int64  \n",
      " 6   career_path                           105 non-null    object \n",
      " 7   devices_count                         105 non-null    int32  \n",
      " 8   own_tablet                            105 non-null    object \n",
      " 9   main_usage_device                     105 non-null    object \n",
      " 10  surfing_the_internet                  105 non-null    int64  \n",
      " 11  device_price                          105 non-null    float64\n",
      " 12  operating_system                      105 non-null    object \n",
      " 13  device_performance                    105 non-null    object \n",
      " 14  screen_size_importance                105 non-null    int64  \n",
      " 15  portability_importance                105 non-null    int64  \n",
      " 16  upgradability_importance              105 non-null    int64  \n",
      " 17  working_without_cable_importance      105 non-null    int64  \n",
      " 18  performance_importance                105 non-null    int64  \n",
      " 19  affordability_importance              105 non-null    int64  \n",
      " 20  cd_existence_importance               105 non-null    int64  \n",
      " 21  integrated_camera_importance          105 non-null    int64  \n",
      " 22  multiple_monitors_importance          105 non-null    int64  \n",
      " 23  hours_gaming                          105 non-null    int64  \n",
      " 24  hours_work                            105 non-null    int64  \n",
      " 25  hours_academic_study                  105 non-null    int64  \n",
      " 26  self_study_hours                      105 non-null    int64  \n",
      " 27  entertainment_(general)_hours         105 non-null    int64  \n",
      " 28  processor                             105 non-null    object \n",
      " 29  processor_generation                  105 non-null    int64  \n",
      " 30  how_powerful_from_1_to_5              105 non-null    float64\n",
      " 31  desktop_perc                          105 non-null    float64\n",
      " 32  laptop_perc                           105 non-null    float64\n",
      " 33  what_would_you_rebuy_for_laptop_imp   105 non-null    int64  \n",
      " 34  what_would_you_rebuy_for_desktop_imp  105 non-null    int64  \n",
      "dtypes: float64(4), int32(2), int64(20), object(9)\n",
      "memory usage: 32.8+ KB\n"
     ]
    }
   ],
   "source": [
    "df.info()"
   ]
  },
  {
   "cell_type": "code",
   "execution_count": 129,
   "id": "dd40b06e",
   "metadata": {},
   "outputs": [
    {
     "data": {
      "text/html": [
       "<div>\n",
       "<style scoped>\n",
       "    .dataframe tbody tr th:only-of-type {\n",
       "        vertical-align: middle;\n",
       "    }\n",
       "\n",
       "    .dataframe tbody tr th {\n",
       "        vertical-align: top;\n",
       "    }\n",
       "\n",
       "    .dataframe thead th {\n",
       "        text-align: right;\n",
       "    }\n",
       "</style>\n",
       "<table border=\"1\" class=\"dataframe\">\n",
       "  <thead>\n",
       "    <tr style=\"text-align: right;\">\n",
       "      <th></th>\n",
       "      <th>device_performance</th>\n",
       "      <th>screen_size_importance</th>\n",
       "      <th>portability_importance</th>\n",
       "      <th>upgradability_importance</th>\n",
       "      <th>working_without_cable_importance</th>\n",
       "      <th>performance_importance</th>\n",
       "      <th>affordability_importance</th>\n",
       "      <th>cd_existence_importance</th>\n",
       "      <th>integrated_camera_importance</th>\n",
       "    </tr>\n",
       "  </thead>\n",
       "  <tbody>\n",
       "    <tr>\n",
       "      <th>0</th>\n",
       "      <td>Medium end device</td>\n",
       "      <td>4</td>\n",
       "      <td>4</td>\n",
       "      <td>4</td>\n",
       "      <td>4</td>\n",
       "      <td>5</td>\n",
       "      <td>4</td>\n",
       "      <td>2</td>\n",
       "      <td>2</td>\n",
       "    </tr>\n",
       "    <tr>\n",
       "      <th>1</th>\n",
       "      <td>medium high specs</td>\n",
       "      <td>3</td>\n",
       "      <td>1</td>\n",
       "      <td>5</td>\n",
       "      <td>1</td>\n",
       "      <td>5</td>\n",
       "      <td>5</td>\n",
       "      <td>1</td>\n",
       "      <td>1</td>\n",
       "    </tr>\n",
       "  </tbody>\n",
       "</table>\n",
       "</div>"
      ],
      "text/plain": [
       "  device_performance  screen_size_importance  portability_importance  \\\n",
       "0  Medium end device                       4                       4   \n",
       "1  medium high specs                       3                       1   \n",
       "\n",
       "   upgradability_importance  working_without_cable_importance  \\\n",
       "0                         4                                 4   \n",
       "1                         5                                 1   \n",
       "\n",
       "   performance_importance  affordability_importance  cd_existence_importance  \\\n",
       "0                       5                         4                        2   \n",
       "1                       5                         5                        1   \n",
       "\n",
       "   integrated_camera_importance  \n",
       "0                             2  \n",
       "1                             1  "
      ]
     },
     "execution_count": 129,
     "metadata": {},
     "output_type": "execute_result"
    }
   ],
   "source": [
    "df.iloc[:,13:22].head(2)"
   ]
  },
  {
   "cell_type": "code",
   "execution_count": 122,
   "id": "8c88062f",
   "metadata": {},
   "outputs": [
    {
     "name": "stdout",
     "output_type": "stream",
     "text": [
      "14 0.050392628991067896\n",
      "15 0.0011445778985958997\n",
      "17 0.007655248020749649\n"
     ]
    }
   ],
   "source": [
    "for i in range(13, 23):\n",
    "    contingency= pd.crosstab(df['what_would_you_rebuy_for_laptop_imp'], df.iloc[:,i]) \n",
    "    chi2, p, dof, ex = chi2_contingency(contingency)\n",
    "    if(p < 0.1):\n",
    "        print(i, p)"
   ]
  },
  {
   "cell_type": "markdown",
   "id": "bf63b84d",
   "metadata": {},
   "source": [
    "Since all the variables are ordinal, we use the chi-square test to test all of them for dependency.\n",
    "With alpha = 0.05, the only two factors that show dependency is how much a user cares about portability and working without cable, which are highly correlated because the latter is part of the first.\n",
    "Using alpha = 0.1, we can be at least 90% confident that the screen size also shows dependency. \n",
    "For other tests, there is not enough evidence for dependency."
   ]
  },
  {
   "cell_type": "markdown",
   "id": "b8cf24c5",
   "metadata": {},
   "source": [
    "Other factors will be checked through logistic regression analysis"
   ]
  },
  {
   "cell_type": "markdown",
   "id": "38c6d361",
   "metadata": {},
   "source": [
    "## Building the model"
   ]
  },
  {
   "cell_type": "code",
   "execution_count": 373,
   "id": "7zCB7FzspTuU",
   "metadata": {
    "id": "7zCB7FzspTuU"
   },
   "outputs": [],
   "source": [
    "df.drop(columns=['working_without_cable_importance', 'affordability_importance', 'processor_generation'], inplace=True)\n",
    "# dropped due to multicollinearity"
   ]
  },
  {
   "cell_type": "code",
   "execution_count": 374,
   "id": "Mz1Z-t0tbE4F",
   "metadata": {
    "id": "Mz1Z-t0tbE4F"
   },
   "outputs": [],
   "source": [
    "ohe = OneHotEncoder(drop='first')\n",
    "\n",
    "gender_enc = ohe.fit_transform(df[['gender']])\n",
    "df[list(ohe.categories_[0])[1:]] = gender_enc.toarray()\n",
    "\n",
    "own_tablet_enc = ohe.fit_transform(df[['own_tablet']])\n",
    "df['own_tablet'] = own_tablet_enc.toarray()\n",
    "\n",
    "operating_system_enc = ohe.fit_transform(df[['operating_system']])\n",
    "df[list(ohe.categories_[0])[1:]] = operating_system_enc.toarray()\n",
    "df.drop(columns=['operating_system'], inplace=True)\n",
    "\n",
    "career_path_enc = ohe.fit_transform(df[['career_path']])\n",
    "df[list(ohe.categories_[0])[1:]] = career_path_enc.toarray()\n",
    "df.drop(columns=['career_path'], inplace=True)\n",
    "\n",
    "processor_enc = ohe.fit_transform(df[['processor']])\n",
    "df[list(ohe.categories_[0])[1:]] = processor_enc.toarray()\n",
    "df.drop(columns=['processor'], inplace=True)"
   ]
  },
  {
   "cell_type": "code",
   "execution_count": 375,
   "id": "7faca7f9",
   "metadata": {
    "colab": {
     "base_uri": "https://localhost:8080/"
    },
    "id": "7faca7f9",
    "outputId": "a60012c7-fe10-48ab-fb43-2796ba1a53a4",
    "scrolled": false
   },
   "outputs": [
    {
     "name": "stdout",
     "output_type": "stream",
     "text": [
      "<class 'pandas.core.frame.DataFrame'>\n",
      "Int64Index: 105 entries, 0 to 105\n",
      "Data columns (total 59 columns):\n",
      " #   Column                                Non-Null Count  Dtype  \n",
      "---  ------                                --------------  -----  \n",
      " 0   timestamp                             105 non-null    object \n",
      " 1   age                                   105 non-null    int32  \n",
      " 2   gender                                105 non-null    object \n",
      " 3   level                                 105 non-null    int64  \n",
      " 4   income_level                          105 non-null    object \n",
      " 5   income_level_(num)                    105 non-null    int64  \n",
      " 6   devices_count                         105 non-null    int32  \n",
      " 7   own_tablet                            105 non-null    float64\n",
      " 8   main_usage_device                     105 non-null    object \n",
      " 9   surfing_the_internet                  105 non-null    int64  \n",
      " 10  device_price                          105 non-null    float64\n",
      " 11  device_performance                    105 non-null    object \n",
      " 12  screen_size_importance                105 non-null    int64  \n",
      " 13  portability_importance                105 non-null    int64  \n",
      " 14  upgradability_importance              105 non-null    int64  \n",
      " 15  performance_importance                105 non-null    int64  \n",
      " 16  cd_existence_importance               105 non-null    int64  \n",
      " 17  integrated_camera_importance          105 non-null    int64  \n",
      " 18  multiple_monitors_importance          105 non-null    int64  \n",
      " 19  hours_gaming                          105 non-null    int64  \n",
      " 20  hours_work                            105 non-null    int64  \n",
      " 21  hours_academic_study                  105 non-null    int64  \n",
      " 22  self_study_hours                      105 non-null    int64  \n",
      " 23  entertainment_(general)_hours         105 non-null    int64  \n",
      " 24  how_powerful_from_1_to_5              105 non-null    float64\n",
      " 25  desktop_perc                          105 non-null    float64\n",
      " 26  laptop_perc                           105 non-null    float64\n",
      " 27  what_would_you_rebuy_for_laptop_imp   105 non-null    int64  \n",
      " 28  what_would_you_rebuy_for_desktop_imp  105 non-null    int64  \n",
      " 29  Male                                  105 non-null    float64\n",
      " 30  Mac                                   105 non-null    float64\n",
      " 31  Windows                               105 non-null    float64\n",
      " 32  Cyber security analyst                105 non-null    float64\n",
      " 33  Data analyst                          105 non-null    float64\n",
      " 34  Data scientist                        105 non-null    float64\n",
      " 35  Dentist                               105 non-null    float64\n",
      " 36  Electrical engineer                   105 non-null    float64\n",
      " 37  Graphic Designer                      105 non-null    float64\n",
      " 38  Penetration tester                    105 non-null    float64\n",
      " 39  Quantum Physicist                     105 non-null    float64\n",
      " 40  Software Developer                    105 non-null    float64\n",
      " 41  Student                               105 non-null    float64\n",
      " 42  Teaching                              105 non-null    float64\n",
      " 43  Video Game Developer                  105 non-null    float64\n",
      " 44  cloud computing engineer              105 non-null    float64\n",
      " 45  mobile developer                      105 non-null    float64\n",
      " 46  web developer                         105 non-null    float64\n",
      " 47  AMD a4                                105 non-null    float64\n",
      " 48  AMD a6                                105 non-null    float64\n",
      " 49  AMD a8                                105 non-null    float64\n",
      " 50  Core i3                               105 non-null    float64\n",
      " 51  Core i5                               105 non-null    float64\n",
      " 52  Core i7                               105 non-null    float64\n",
      " 53  Core i9                               105 non-null    float64\n",
      " 54  Intel Xeon                            105 non-null    float64\n",
      " 55  Ryzen 3                               105 non-null    float64\n",
      " 56  Ryzen 5                               105 non-null    float64\n",
      " 57  Ryzen 7                               105 non-null    float64\n",
      " 58  Ryzen 9                               105 non-null    float64\n",
      "dtypes: float64(35), int32(2), int64(17), object(5)\n",
      "memory usage: 48.4+ KB\n"
     ]
    }
   ],
   "source": [
    "df.info()"
   ]
  },
  {
   "cell_type": "code",
   "execution_count": 376,
   "id": "Gu_LMZA36zwg",
   "metadata": {
    "colab": {
     "base_uri": "https://localhost:8080/"
    },
    "id": "Gu_LMZA36zwg",
    "outputId": "45cca9a9-9296-4e9a-9e17-d94016852e07"
   },
   "outputs": [
    {
     "data": {
      "text/plain": [
       "array([1., 0.])"
      ]
     },
     "execution_count": 376,
     "metadata": {},
     "output_type": "execute_result"
    }
   ],
   "source": [
    "df['own_tablet'].unique()"
   ]
  },
  {
   "cell_type": "code",
   "execution_count": 377,
   "id": "qCObIOKe9AsV",
   "metadata": {
    "id": "qCObIOKe9AsV"
   },
   "outputs": [],
   "source": [
    "X = df.drop(columns=['device_performance','timestamp','main_usage_device','income_level', 'gender', 'what_would_you_rebuy_for_laptop_imp', 'what_would_you_rebuy_for_desktop_imp'])\n",
    "y_lap = df['what_would_you_rebuy_for_laptop_imp']\n",
    "y_desk = df['what_would_you_rebuy_for_desktop_imp']\n"
   ]
  },
  {
   "cell_type": "code",
   "execution_count": 378,
   "id": "Pfp7fdWR-2fX",
   "metadata": {
    "id": "Pfp7fdWR-2fX"
   },
   "outputs": [],
   "source": [
    "X_train, X_test, y_train, y_test = train_test_split(X, y_lap, test_size=.2, random_state=42)"
   ]
  },
  {
   "cell_type": "code",
   "execution_count": 379,
   "id": "yN5wuWy__cBU",
   "metadata": {
    "colab": {
     "base_uri": "https://localhost:8080/"
    },
    "id": "yN5wuWy__cBU",
    "outputId": "0849b3a6-b7f8-4523-fe46-41e24262b568"
   },
   "outputs": [
    {
     "data": {
      "text/plain": [
       "1    0.790476\n",
       "0    0.209524\n",
       "Name: what_would_you_rebuy_for_laptop_imp, dtype: float64"
      ]
     },
     "execution_count": 379,
     "metadata": {},
     "output_type": "execute_result"
    }
   ],
   "source": [
    "df.what_would_you_rebuy_for_laptop_imp.value_counts(normalize=True)\n",
    "# baseline is 0.78"
   ]
  },
  {
   "cell_type": "code",
   "execution_count": 380,
   "id": "DvqcHYif_I-M",
   "metadata": {
    "colab": {
     "base_uri": "https://localhost:8080/",
     "height": 74
    },
    "id": "DvqcHYif_I-M",
    "outputId": "7803a501-a6a1-45a4-8b84-b9ebd68e4257",
    "scrolled": true
   },
   "outputs": [
    {
     "data": {
      "text/plain": [
       "LogisticRegression(max_iter=1000)"
      ]
     },
     "execution_count": 380,
     "metadata": {},
     "output_type": "execute_result"
    }
   ],
   "source": [
    "model = LogisticRegression(max_iter=1000)\n",
    "model.fit(X_train, y_train)"
   ]
  },
  {
   "cell_type": "code",
   "execution_count": 381,
   "id": "1a99f78d",
   "metadata": {},
   "outputs": [
    {
     "data": {
      "text/html": [
       "<div>\n",
       "<style scoped>\n",
       "    .dataframe tbody tr th:only-of-type {\n",
       "        vertical-align: middle;\n",
       "    }\n",
       "\n",
       "    .dataframe tbody tr th {\n",
       "        vertical-align: top;\n",
       "    }\n",
       "\n",
       "    .dataframe thead th {\n",
       "        text-align: right;\n",
       "    }\n",
       "</style>\n",
       "<table border=\"1\" class=\"dataframe\">\n",
       "  <thead>\n",
       "    <tr style=\"text-align: right;\">\n",
       "      <th></th>\n",
       "      <th>timestamp</th>\n",
       "      <th>age</th>\n",
       "      <th>gender</th>\n",
       "      <th>level</th>\n",
       "      <th>income_level</th>\n",
       "      <th>income_level_(num)</th>\n",
       "      <th>devices_count</th>\n",
       "      <th>own_tablet</th>\n",
       "      <th>main_usage_device</th>\n",
       "      <th>surfing_the_internet</th>\n",
       "      <th>...</th>\n",
       "      <th>AMD a8</th>\n",
       "      <th>Core i3</th>\n",
       "      <th>Core i5</th>\n",
       "      <th>Core i7</th>\n",
       "      <th>Core i9</th>\n",
       "      <th>Intel Xeon</th>\n",
       "      <th>Ryzen 3</th>\n",
       "      <th>Ryzen 5</th>\n",
       "      <th>Ryzen 7</th>\n",
       "      <th>Ryzen 9</th>\n",
       "    </tr>\n",
       "  </thead>\n",
       "  <tbody>\n",
       "    <tr>\n",
       "      <th>0</th>\n",
       "      <td>2023/04/27 11:05:28 PM GMT+3</td>\n",
       "      <td>19</td>\n",
       "      <td>Female</td>\n",
       "      <td>1</td>\n",
       "      <td>Medium</td>\n",
       "      <td>2</td>\n",
       "      <td>4</td>\n",
       "      <td>1.0</td>\n",
       "      <td>Study</td>\n",
       "      <td>0</td>\n",
       "      <td>...</td>\n",
       "      <td>0.0</td>\n",
       "      <td>0.0</td>\n",
       "      <td>0.0</td>\n",
       "      <td>1.0</td>\n",
       "      <td>0.0</td>\n",
       "      <td>0.0</td>\n",
       "      <td>0.0</td>\n",
       "      <td>0.0</td>\n",
       "      <td>0.0</td>\n",
       "      <td>0.0</td>\n",
       "    </tr>\n",
       "    <tr>\n",
       "      <th>1</th>\n",
       "      <td>2023/04/27 11:07:17 PM GMT+3</td>\n",
       "      <td>21</td>\n",
       "      <td>Male</td>\n",
       "      <td>3</td>\n",
       "      <td>Low</td>\n",
       "      <td>1</td>\n",
       "      <td>2</td>\n",
       "      <td>1.0</td>\n",
       "      <td>Study</td>\n",
       "      <td>0</td>\n",
       "      <td>...</td>\n",
       "      <td>0.0</td>\n",
       "      <td>0.0</td>\n",
       "      <td>0.0</td>\n",
       "      <td>0.0</td>\n",
       "      <td>0.0</td>\n",
       "      <td>0.0</td>\n",
       "      <td>0.0</td>\n",
       "      <td>1.0</td>\n",
       "      <td>0.0</td>\n",
       "      <td>0.0</td>\n",
       "    </tr>\n",
       "    <tr>\n",
       "      <th>2</th>\n",
       "      <td>2023/04/27 11:15:08 PM GMT+3</td>\n",
       "      <td>20</td>\n",
       "      <td>Female</td>\n",
       "      <td>2</td>\n",
       "      <td>Medium</td>\n",
       "      <td>2</td>\n",
       "      <td>4</td>\n",
       "      <td>1.0</td>\n",
       "      <td>Study</td>\n",
       "      <td>0</td>\n",
       "      <td>...</td>\n",
       "      <td>0.0</td>\n",
       "      <td>0.0</td>\n",
       "      <td>0.0</td>\n",
       "      <td>0.0</td>\n",
       "      <td>0.0</td>\n",
       "      <td>0.0</td>\n",
       "      <td>0.0</td>\n",
       "      <td>1.0</td>\n",
       "      <td>0.0</td>\n",
       "      <td>0.0</td>\n",
       "    </tr>\n",
       "    <tr>\n",
       "      <th>3</th>\n",
       "      <td>2023/04/27 11:47:44 PM GMT+3</td>\n",
       "      <td>19</td>\n",
       "      <td>Female</td>\n",
       "      <td>2</td>\n",
       "      <td>Medium</td>\n",
       "      <td>2</td>\n",
       "      <td>3</td>\n",
       "      <td>1.0</td>\n",
       "      <td>Study</td>\n",
       "      <td>0</td>\n",
       "      <td>...</td>\n",
       "      <td>0.0</td>\n",
       "      <td>0.0</td>\n",
       "      <td>0.0</td>\n",
       "      <td>0.0</td>\n",
       "      <td>0.0</td>\n",
       "      <td>1.0</td>\n",
       "      <td>0.0</td>\n",
       "      <td>0.0</td>\n",
       "      <td>0.0</td>\n",
       "      <td>0.0</td>\n",
       "    </tr>\n",
       "    <tr>\n",
       "      <th>4</th>\n",
       "      <td>2023/04/27 7:04:17 PM GMT+3</td>\n",
       "      <td>21</td>\n",
       "      <td>Female</td>\n",
       "      <td>3</td>\n",
       "      <td>Medium</td>\n",
       "      <td>2</td>\n",
       "      <td>3</td>\n",
       "      <td>0.0</td>\n",
       "      <td>Study</td>\n",
       "      <td>0</td>\n",
       "      <td>...</td>\n",
       "      <td>0.0</td>\n",
       "      <td>0.0</td>\n",
       "      <td>0.0</td>\n",
       "      <td>1.0</td>\n",
       "      <td>0.0</td>\n",
       "      <td>0.0</td>\n",
       "      <td>0.0</td>\n",
       "      <td>0.0</td>\n",
       "      <td>0.0</td>\n",
       "      <td>0.0</td>\n",
       "    </tr>\n",
       "    <tr>\n",
       "      <th>...</th>\n",
       "      <td>...</td>\n",
       "      <td>...</td>\n",
       "      <td>...</td>\n",
       "      <td>...</td>\n",
       "      <td>...</td>\n",
       "      <td>...</td>\n",
       "      <td>...</td>\n",
       "      <td>...</td>\n",
       "      <td>...</td>\n",
       "      <td>...</td>\n",
       "      <td>...</td>\n",
       "      <td>...</td>\n",
       "      <td>...</td>\n",
       "      <td>...</td>\n",
       "      <td>...</td>\n",
       "      <td>...</td>\n",
       "      <td>...</td>\n",
       "      <td>...</td>\n",
       "      <td>...</td>\n",
       "      <td>...</td>\n",
       "      <td>...</td>\n",
       "    </tr>\n",
       "    <tr>\n",
       "      <th>101</th>\n",
       "      <td>2023/05/05 11:55:34 PM GMT+3</td>\n",
       "      <td>19</td>\n",
       "      <td>Male</td>\n",
       "      <td>2</td>\n",
       "      <td>Low</td>\n",
       "      <td>1</td>\n",
       "      <td>3</td>\n",
       "      <td>1.0</td>\n",
       "      <td>Gaming</td>\n",
       "      <td>0</td>\n",
       "      <td>...</td>\n",
       "      <td>0.0</td>\n",
       "      <td>0.0</td>\n",
       "      <td>0.0</td>\n",
       "      <td>0.0</td>\n",
       "      <td>0.0</td>\n",
       "      <td>0.0</td>\n",
       "      <td>0.0</td>\n",
       "      <td>1.0</td>\n",
       "      <td>0.0</td>\n",
       "      <td>0.0</td>\n",
       "    </tr>\n",
       "    <tr>\n",
       "      <th>102</th>\n",
       "      <td>2023/05/05 4:20:42 AM GMT+3</td>\n",
       "      <td>20</td>\n",
       "      <td>Female</td>\n",
       "      <td>2</td>\n",
       "      <td>Lower medium</td>\n",
       "      <td>3</td>\n",
       "      <td>3</td>\n",
       "      <td>1.0</td>\n",
       "      <td>Surfing the internet</td>\n",
       "      <td>1</td>\n",
       "      <td>...</td>\n",
       "      <td>0.0</td>\n",
       "      <td>0.0</td>\n",
       "      <td>0.0</td>\n",
       "      <td>1.0</td>\n",
       "      <td>0.0</td>\n",
       "      <td>0.0</td>\n",
       "      <td>0.0</td>\n",
       "      <td>0.0</td>\n",
       "      <td>0.0</td>\n",
       "      <td>0.0</td>\n",
       "    </tr>\n",
       "    <tr>\n",
       "      <th>103</th>\n",
       "      <td>2023/05/05 4:36:22 PM GMT+3</td>\n",
       "      <td>21</td>\n",
       "      <td>Female</td>\n",
       "      <td>4</td>\n",
       "      <td>Medium</td>\n",
       "      <td>2</td>\n",
       "      <td>3</td>\n",
       "      <td>1.0</td>\n",
       "      <td>Study</td>\n",
       "      <td>0</td>\n",
       "      <td>...</td>\n",
       "      <td>0.0</td>\n",
       "      <td>0.0</td>\n",
       "      <td>0.0</td>\n",
       "      <td>1.0</td>\n",
       "      <td>0.0</td>\n",
       "      <td>0.0</td>\n",
       "      <td>0.0</td>\n",
       "      <td>0.0</td>\n",
       "      <td>0.0</td>\n",
       "      <td>0.0</td>\n",
       "    </tr>\n",
       "    <tr>\n",
       "      <th>104</th>\n",
       "      <td>2023/05/05 6:34:01 AM GMT+3</td>\n",
       "      <td>21</td>\n",
       "      <td>Female</td>\n",
       "      <td>4</td>\n",
       "      <td>Medium</td>\n",
       "      <td>2</td>\n",
       "      <td>4</td>\n",
       "      <td>1.0</td>\n",
       "      <td>Work</td>\n",
       "      <td>0</td>\n",
       "      <td>...</td>\n",
       "      <td>0.0</td>\n",
       "      <td>0.0</td>\n",
       "      <td>1.0</td>\n",
       "      <td>0.0</td>\n",
       "      <td>0.0</td>\n",
       "      <td>0.0</td>\n",
       "      <td>0.0</td>\n",
       "      <td>0.0</td>\n",
       "      <td>0.0</td>\n",
       "      <td>0.0</td>\n",
       "    </tr>\n",
       "    <tr>\n",
       "      <th>105</th>\n",
       "      <td>2023/05/05 9:28:17 AM GMT+3</td>\n",
       "      <td>19</td>\n",
       "      <td>Male</td>\n",
       "      <td>1</td>\n",
       "      <td>Low</td>\n",
       "      <td>1</td>\n",
       "      <td>2</td>\n",
       "      <td>0.0</td>\n",
       "      <td>Study</td>\n",
       "      <td>0</td>\n",
       "      <td>...</td>\n",
       "      <td>0.0</td>\n",
       "      <td>0.0</td>\n",
       "      <td>0.0</td>\n",
       "      <td>1.0</td>\n",
       "      <td>0.0</td>\n",
       "      <td>0.0</td>\n",
       "      <td>0.0</td>\n",
       "      <td>0.0</td>\n",
       "      <td>0.0</td>\n",
       "      <td>0.0</td>\n",
       "    </tr>\n",
       "  </tbody>\n",
       "</table>\n",
       "<p>105 rows × 59 columns</p>\n",
       "</div>"
      ],
      "text/plain": [
       "                        timestamp  age  gender  level  income_level  \\\n",
       "0    2023/04/27 11:05:28 PM GMT+3   19  Female      1        Medium   \n",
       "1    2023/04/27 11:07:17 PM GMT+3   21    Male      3           Low   \n",
       "2    2023/04/27 11:15:08 PM GMT+3   20  Female      2        Medium   \n",
       "3    2023/04/27 11:47:44 PM GMT+3   19  Female      2        Medium   \n",
       "4     2023/04/27 7:04:17 PM GMT+3   21  Female      3        Medium   \n",
       "..                            ...  ...     ...    ...           ...   \n",
       "101  2023/05/05 11:55:34 PM GMT+3   19    Male      2           Low   \n",
       "102   2023/05/05 4:20:42 AM GMT+3   20  Female      2  Lower medium   \n",
       "103   2023/05/05 4:36:22 PM GMT+3   21  Female      4        Medium   \n",
       "104   2023/05/05 6:34:01 AM GMT+3   21  Female      4        Medium   \n",
       "105   2023/05/05 9:28:17 AM GMT+3   19    Male      1           Low   \n",
       "\n",
       "     income_level_(num)  devices_count  own_tablet     main_usage_device  \\\n",
       "0                     2              4         1.0                 Study   \n",
       "1                     1              2         1.0                 Study   \n",
       "2                     2              4         1.0                 Study   \n",
       "3                     2              3         1.0                 Study   \n",
       "4                     2              3         0.0                 Study   \n",
       "..                  ...            ...         ...                   ...   \n",
       "101                   1              3         1.0                Gaming   \n",
       "102                   3              3         1.0  Surfing the internet   \n",
       "103                   2              3         1.0                 Study   \n",
       "104                   2              4         1.0                  Work   \n",
       "105                   1              2         0.0                 Study   \n",
       "\n",
       "     surfing_the_internet  ...  AMD a8 Core i3  Core i5  Core i7  Core i9  \\\n",
       "0                       0  ...     0.0     0.0      0.0      1.0      0.0   \n",
       "1                       0  ...     0.0     0.0      0.0      0.0      0.0   \n",
       "2                       0  ...     0.0     0.0      0.0      0.0      0.0   \n",
       "3                       0  ...     0.0     0.0      0.0      0.0      0.0   \n",
       "4                       0  ...     0.0     0.0      0.0      1.0      0.0   \n",
       "..                    ...  ...     ...     ...      ...      ...      ...   \n",
       "101                     0  ...     0.0     0.0      0.0      0.0      0.0   \n",
       "102                     1  ...     0.0     0.0      0.0      1.0      0.0   \n",
       "103                     0  ...     0.0     0.0      0.0      1.0      0.0   \n",
       "104                     0  ...     0.0     0.0      1.0      0.0      0.0   \n",
       "105                     0  ...     0.0     0.0      0.0      1.0      0.0   \n",
       "\n",
       "     Intel Xeon  Ryzen 3  Ryzen 5  Ryzen 7  Ryzen 9  \n",
       "0           0.0      0.0      0.0      0.0      0.0  \n",
       "1           0.0      0.0      1.0      0.0      0.0  \n",
       "2           0.0      0.0      1.0      0.0      0.0  \n",
       "3           1.0      0.0      0.0      0.0      0.0  \n",
       "4           0.0      0.0      0.0      0.0      0.0  \n",
       "..          ...      ...      ...      ...      ...  \n",
       "101         0.0      0.0      1.0      0.0      0.0  \n",
       "102         0.0      0.0      0.0      0.0      0.0  \n",
       "103         0.0      0.0      0.0      0.0      0.0  \n",
       "104         0.0      0.0      0.0      0.0      0.0  \n",
       "105         0.0      0.0      0.0      0.0      0.0  \n",
       "\n",
       "[105 rows x 59 columns]"
      ]
     },
     "execution_count": 381,
     "metadata": {},
     "output_type": "execute_result"
    }
   ],
   "source": [
    "df"
   ]
  },
  {
   "cell_type": "code",
   "execution_count": 382,
   "id": "d014f2c2",
   "metadata": {
    "colab": {
     "base_uri": "https://localhost:8080/"
    },
    "id": "d014f2c2",
    "outputId": "e25c060b-1f1a-413a-bb6c-e14f898ebf49"
   },
   "outputs": [
    {
     "data": {
      "text/plain": [
       "0.7619047619047619"
      ]
     },
     "execution_count": 382,
     "metadata": {},
     "output_type": "execute_result"
    }
   ],
   "source": [
    "model.score(X_test, y_test)\n",
    "# The accuracy is better than the baseline.\n",
    "# We evaluated the model, and we can see that it's valuable. Now we can use the whole data for training."
   ]
  },
  {
   "cell_type": "markdown",
   "id": "RhLTm3tUbLET",
   "metadata": {
    "id": "RhLTm3tUbLET"
   },
   "source": [
    "## Model Interpretation"
   ]
  },
  {
   "cell_type": "code",
   "execution_count": 391,
   "id": "39co5DbCFy3t",
   "metadata": {
    "colab": {
     "base_uri": "https://localhost:8080/",
     "height": 434
    },
    "id": "39co5DbCFy3t",
    "outputId": "7cb8a321-3bcd-4c7d-d642-bec0302055da"
   },
   "outputs": [
    {
     "data": {},
     "metadata": {},
     "output_type": "display_data"
    },
    {
     "data": {
      "application/vnd.holoviews_exec.v0+json": "",
      "text/html": [
       "<div id='1224'>\n",
       "  <div class=\"bk-root\" id=\"e11247fa-3270-4c61-b7a9-5d4686c6e5c9\" data-root-id=\"1224\"></div>\n",
       "</div>\n",
       "<script type=\"application/javascript\">(function(root) {\n",
       "  function embed_document(root) {\n",
       "    var docs_json = {\"b8f1803a-fcdc-46cb-ad41-5d050a4f4d3a\":{\"defs\":[{\"extends\":null,\"module\":null,\"name\":\"ReactiveHTML1\",\"overrides\":[],\"properties\":[]},{\"extends\":null,\"module\":null,\"name\":\"FlexBox1\",\"overrides\":[],\"properties\":[{\"default\":\"flex-start\",\"kind\":null,\"name\":\"align_content\"},{\"default\":\"flex-start\",\"kind\":null,\"name\":\"align_items\"},{\"default\":\"row\",\"kind\":null,\"name\":\"flex_direction\"},{\"default\":\"wrap\",\"kind\":null,\"name\":\"flex_wrap\"},{\"default\":\"flex-start\",\"kind\":null,\"name\":\"justify_content\"}]},{\"extends\":null,\"module\":null,\"name\":\"GridStack1\",\"overrides\":[],\"properties\":[{\"default\":\"warn\",\"kind\":null,\"name\":\"mode\"},{\"default\":null,\"kind\":null,\"name\":\"ncols\"},{\"default\":null,\"kind\":null,\"name\":\"nrows\"},{\"default\":true,\"kind\":null,\"name\":\"allow_resize\"},{\"default\":true,\"kind\":null,\"name\":\"allow_drag\"},{\"default\":[],\"kind\":null,\"name\":\"state\"}]},{\"extends\":null,\"module\":null,\"name\":\"click1\",\"overrides\":[],\"properties\":[{\"default\":\"\",\"kind\":null,\"name\":\"terminal_output\"},{\"default\":\"\",\"kind\":null,\"name\":\"debug_name\"},{\"default\":0,\"kind\":null,\"name\":\"clears\"}]},{\"extends\":null,\"module\":null,\"name\":\"NotificationAreaBase1\",\"overrides\":[],\"properties\":[{\"default\":\"bottom-right\",\"kind\":null,\"name\":\"position\"},{\"default\":0,\"kind\":null,\"name\":\"_clear\"}]},{\"extends\":null,\"module\":null,\"name\":\"NotificationArea1\",\"overrides\":[],\"properties\":[{\"default\":[],\"kind\":null,\"name\":\"notifications\"},{\"default\":\"bottom-right\",\"kind\":null,\"name\":\"position\"},{\"default\":0,\"kind\":null,\"name\":\"_clear\"},{\"default\":[{\"background\":\"#ffc107\",\"icon\":{\"className\":\"fas fa-exclamation-triangle\",\"color\":\"white\",\"tagName\":\"i\"},\"type\":\"warning\"},{\"background\":\"#007bff\",\"icon\":{\"className\":\"fas fa-info-circle\",\"color\":\"white\",\"tagName\":\"i\"},\"type\":\"info\"}],\"kind\":null,\"name\":\"types\"}]},{\"extends\":null,\"module\":null,\"name\":\"Notification\",\"overrides\":[],\"properties\":[{\"default\":null,\"kind\":null,\"name\":\"background\"},{\"default\":3000,\"kind\":null,\"name\":\"duration\"},{\"default\":null,\"kind\":null,\"name\":\"icon\"},{\"default\":\"\",\"kind\":null,\"name\":\"message\"},{\"default\":null,\"kind\":null,\"name\":\"notification_type\"},{\"default\":false,\"kind\":null,\"name\":\"_destroyed\"}]},{\"extends\":null,\"module\":null,\"name\":\"TemplateActions1\",\"overrides\":[],\"properties\":[{\"default\":0,\"kind\":null,\"name\":\"open_modal\"},{\"default\":0,\"kind\":null,\"name\":\"close_modal\"}]},{\"extends\":null,\"module\":null,\"name\":\"MaterialTemplateActions1\",\"overrides\":[],\"properties\":[{\"default\":0,\"kind\":null,\"name\":\"open_modal\"},{\"default\":0,\"kind\":null,\"name\":\"close_modal\"}]}],\"roots\":{\"references\":[{\"attributes\":{},\"id\":\"1239\",\"type\":\"BasicTicker\"},{\"attributes\":{},\"id\":\"1259\",\"type\":\"Selection\"},{\"attributes\":{},\"id\":\"1243\",\"type\":\"CategoricalTicker\"},{\"attributes\":{\"axis_label\":\"feature\",\"coordinates\":null,\"formatter\":{\"id\":\"1271\"},\"group\":null,\"major_label_policy\":{\"id\":\"1272\"},\"ticker\":{\"id\":\"1243\"}},\"id\":\"1242\",\"type\":\"CategoricalAxis\"},{\"attributes\":{\"tools\":[{\"id\":\"1228\"},{\"id\":\"1245\"},{\"id\":\"1246\"},{\"id\":\"1247\"},{\"id\":\"1248\"},{\"id\":\"1249\"}]},\"id\":\"1251\",\"type\":\"Toolbar\"},{\"attributes\":{\"axis\":{\"id\":\"1242\"},\"coordinates\":null,\"dimension\":1,\"grid_line_color\":null,\"group\":null,\"ticker\":null},\"id\":\"1244\",\"type\":\"Grid\"},{\"attributes\":{\"data\":{\"feature\":[\"portability_importance\",\"income_level_(num)\",\"laptop_perc\",\"how_powerful_from_1_to_5\",\"cd_existence_importance\",\"Software Developer\"],\"importance_for_laptop\":{\"__ndarray__\":\"BCPx7EaYCkBF8m2Oa4wCQFW1CQkzWAFAZXDYOrf8/T8QsNpGnXn7P6pOyReRofc/\",\"dtype\":\"float64\",\"order\":\"little\",\"shape\":[6]}},\"selected\":{\"id\":\"1259\"},\"selection_policy\":{\"id\":\"1280\"}},\"id\":\"1258\",\"type\":\"ColumnDataSource\"},{\"attributes\":{},\"id\":\"1271\",\"type\":\"CategoricalTickFormatter\"},{\"attributes\":{},\"id\":\"1246\",\"type\":\"PanTool\"},{\"attributes\":{},\"id\":\"1236\",\"type\":\"CategoricalScale\"},{\"attributes\":{\"margin\":[5,5,5,5],\"name\":\"HSpacer01267\",\"sizing_mode\":\"stretch_width\"},\"id\":\"1225\",\"type\":\"Spacer\"},{\"attributes\":{\"callback\":null,\"renderers\":[{\"id\":\"1264\"}],\"tags\":[\"hv_created\"],\"tooltips\":[[\"feature\",\"@{feature}\"],[\"importance for laptop\",\"@{importance_for_laptop}\"]]},\"id\":\"1228\",\"type\":\"HoverTool\"},{\"attributes\":{\"margin\":[5,5,5,5],\"name\":\"HSpacer01268\",\"sizing_mode\":\"stretch_width\"},\"id\":\"1283\",\"type\":\"Spacer\"},{\"attributes\":{\"children\":[{\"id\":\"1225\"},{\"id\":\"1229\"},{\"id\":\"1283\"}],\"margin\":[0,0,0,0],\"name\":\"Row01263\",\"tags\":[\"embedded\"]},\"id\":\"1224\",\"type\":\"Row\"},{\"attributes\":{\"axis\":{\"id\":\"1238\"},\"coordinates\":null,\"grid_line_color\":null,\"group\":null,\"ticker\":null},\"id\":\"1241\",\"type\":\"Grid\"},{\"attributes\":{},\"id\":\"1249\",\"type\":\"ResetTool\"},{\"attributes\":{},\"id\":\"1272\",\"type\":\"AllLabels\"},{\"attributes\":{\"fill_alpha\":{\"value\":1.0},\"fill_color\":{\"value\":\"#30a2da\"},\"hatch_alpha\":{\"value\":1.0},\"hatch_color\":{\"value\":\"#30a2da\"},\"hatch_scale\":{\"value\":12.0},\"hatch_weight\":{\"value\":1.0},\"height\":{\"value\":0.8},\"left\":{\"value\":0},\"line_alpha\":{\"value\":1.0},\"line_cap\":{\"value\":\"butt\"},\"line_color\":{\"value\":\"black\"},\"line_dash\":{\"value\":[]},\"line_dash_offset\":{\"value\":0},\"line_join\":{\"value\":\"bevel\"},\"line_width\":{\"value\":1},\"right\":{\"field\":\"importance_for_laptop\"},\"y\":{\"field\":\"feature\"}},\"id\":\"1266\",\"type\":\"HBar\"},{\"attributes\":{},\"id\":\"1247\",\"type\":\"WheelZoomTool\"},{\"attributes\":{\"overlay\":{\"id\":\"1250\"}},\"id\":\"1248\",\"type\":\"BoxZoomTool\"},{\"attributes\":{\"factors\":[\"portability_importance\",\"income_level_(num)\",\"laptop_perc\",\"how_powerful_from_1_to_5\",\"cd_existence_importance\",\"Software Developer\"],\"tags\":[[[\"feature\",\"feature\",null]]]},\"id\":\"1227\",\"type\":\"FactorRange\"},{\"attributes\":{\"fill_alpha\":{\"value\":0.2},\"fill_color\":{\"value\":\"#30a2da\"},\"hatch_alpha\":{\"value\":0.2},\"hatch_color\":{\"value\":\"#30a2da\"},\"height\":{\"value\":0.8},\"line_alpha\":{\"value\":0.2},\"right\":{\"field\":\"importance_for_laptop\"},\"y\":{\"field\":\"feature\"}},\"id\":\"1263\",\"type\":\"HBar\"},{\"attributes\":{},\"id\":\"1245\",\"type\":\"SaveTool\"},{\"attributes\":{\"coordinates\":null,\"data_source\":{\"id\":\"1258\"},\"glyph\":{\"id\":\"1261\"},\"group\":null,\"hover_glyph\":null,\"muted_glyph\":{\"id\":\"1263\"},\"nonselection_glyph\":{\"id\":\"1262\"},\"selection_glyph\":{\"id\":\"1266\"},\"view\":{\"id\":\"1265\"}},\"id\":\"1264\",\"type\":\"GlyphRenderer\"},{\"attributes\":{},\"id\":\"1280\",\"type\":\"UnionRenderers\"},{\"attributes\":{},\"id\":\"1269\",\"type\":\"AllLabels\"},{\"attributes\":{\"fill_color\":{\"value\":\"#30a2da\"},\"hatch_color\":{\"value\":\"#30a2da\"},\"height\":{\"value\":0.8},\"right\":{\"field\":\"importance_for_laptop\"},\"y\":{\"field\":\"feature\"}},\"id\":\"1261\",\"type\":\"HBar\"},{\"attributes\":{},\"id\":\"1234\",\"type\":\"LinearScale\"},{\"attributes\":{\"axis_label\":\"importance for laptop\",\"coordinates\":null,\"formatter\":{\"id\":\"1268\"},\"group\":null,\"major_label_policy\":{\"id\":\"1269\"},\"ticker\":{\"id\":\"1239\"}},\"id\":\"1238\",\"type\":\"LinearAxis\"},{\"attributes\":{},\"id\":\"1268\",\"type\":\"BasicTickFormatter\"},{\"attributes\":{\"bottom_units\":\"screen\",\"coordinates\":null,\"fill_alpha\":0.5,\"fill_color\":\"lightgrey\",\"group\":null,\"left_units\":\"screen\",\"level\":\"overlay\",\"line_alpha\":1.0,\"line_color\":\"black\",\"line_dash\":[4,4],\"line_width\":2,\"right_units\":\"screen\",\"syncable\":false,\"top_units\":\"screen\"},\"id\":\"1250\",\"type\":\"BoxAnnotation\"},{\"attributes\":{\"below\":[{\"id\":\"1238\"}],\"center\":[{\"id\":\"1241\"},{\"id\":\"1244\"}],\"height\":300,\"left\":[{\"id\":\"1242\"}],\"margin\":[5,5,5,5],\"min_border_bottom\":10,\"min_border_left\":10,\"min_border_right\":10,\"min_border_top\":10,\"renderers\":[{\"id\":\"1264\"}],\"sizing_mode\":\"fixed\",\"title\":{\"id\":\"1230\"},\"toolbar\":{\"id\":\"1251\"},\"width\":700,\"x_range\":{\"id\":\"1226\"},\"x_scale\":{\"id\":\"1234\"},\"y_range\":{\"id\":\"1227\"},\"y_scale\":{\"id\":\"1236\"}},\"id\":\"1229\",\"subtype\":\"Figure\",\"type\":\"Plot\"},{\"attributes\":{\"fill_alpha\":{\"value\":0.1},\"fill_color\":{\"value\":\"#30a2da\"},\"hatch_alpha\":{\"value\":0.1},\"hatch_color\":{\"value\":\"#30a2da\"},\"height\":{\"value\":0.8},\"line_alpha\":{\"value\":0.1},\"right\":{\"field\":\"importance_for_laptop\"},\"y\":{\"field\":\"feature\"}},\"id\":\"1262\",\"type\":\"HBar\"},{\"attributes\":{\"coordinates\":null,\"group\":null,\"text_color\":\"black\",\"text_font_size\":\"12pt\"},\"id\":\"1230\",\"type\":\"Title\"},{\"attributes\":{\"end\":3.5090949315340576,\"reset_end\":3.5090949315340576,\"reset_start\":0.0,\"tags\":[[[\"importance for laptop\",\"importance for laptop\",null]]]},\"id\":\"1226\",\"type\":\"Range1d\"},{\"attributes\":{\"source\":{\"id\":\"1258\"}},\"id\":\"1265\",\"type\":\"CDSView\"}],\"root_ids\":[\"1224\"]},\"title\":\"Bokeh Application\",\"version\":\"2.4.3\"}};\n",
       "    var render_items = [{\"docid\":\"b8f1803a-fcdc-46cb-ad41-5d050a4f4d3a\",\"root_ids\":[\"1224\"],\"roots\":{\"1224\":\"e11247fa-3270-4c61-b7a9-5d4686c6e5c9\"}}];\n",
       "    root.Bokeh.embed.embed_items_notebook(docs_json, render_items);\n",
       "    for (const render_item of render_items) {\n",
       "      for (const root_id of render_item.root_ids) {\n",
       "\tconst id_el = document.getElementById(root_id)\n",
       "\tif (id_el.children.length && (id_el.children[0].className === 'bk-root')) {\n",
       "\t  const root_el = id_el.children[0]\n",
       "\t  root_el.id = root_el.id + '-rendered'\n",
       "\t}\n",
       "      }\n",
       "    }\n",
       "  }\n",
       "  if (root.Bokeh !== undefined && root.Bokeh.Panel !== undefined) {\n",
       "    embed_document(root);\n",
       "  } else {\n",
       "    var attempts = 0;\n",
       "    var timer = setInterval(function(root) {\n",
       "      if (root.Bokeh !== undefined && root.Bokeh.Panel !== undefined) {\n",
       "        clearInterval(timer);\n",
       "        embed_document(root);\n",
       "      } else if (document.readyState == \"complete\") {\n",
       "        attempts++;\n",
       "        if (attempts > 200) {\n",
       "          clearInterval(timer);\n",
       "          console.log(\"Bokeh: ERROR: Unable to run BokehJS code because BokehJS library is missing\");\n",
       "        }\n",
       "      }\n",
       "    }, 25, root)\n",
       "  }\n",
       "})(window);</script>"
      ],
      "text/plain": [
       ":Bars   [feature]   (importance for laptop)"
      ]
     },
     "execution_count": 391,
     "metadata": {
      "application/vnd.holoviews_exec.v0+json": {
       "id": "1224"
      }
     },
     "output_type": "execute_result"
    }
   ],
   "source": [
    "model = LogisticRegression(max_iter=1000)\n",
    "model.fit(X, y_lap)\n",
    "feature_importance = pd.DataFrame(list(X.columns), columns = [\"feature\"])\n",
    "feature_importance[\"importance for laptop\"] = pow(math.e, model.coef_[0])\n",
    "feature_importance = feature_importance.sort_values(by = [\"importance for laptop\"], ascending=False).head(6)\n",
    " \n",
    "feature_importance.hvplot.barh(x='feature', y='importance for laptop')"
   ]
  },
  {
   "cell_type": "markdown",
   "id": "e6029207",
   "metadata": {},
   "source": [
    "- The 'portability importance' is the most effective feature for increasing the odds of buying a laptop as the next device. An increase of the 'portability importance' feature by one unit increases the odds of buying a laptop by a factor of 3.5 when all other features remain the same.\n",
    "- An increase of the 'income level' feature by one unit increases the odds of buying a laptop by a factor of 2.42 when all other features remain the same.\n",
    "- An increase of the 'laptop usage percentage' feature by one unit increases the odds of buying a laptop by a factor of 2.21 when all other features remain the same.\n",
    "- An increase of the 'CD existence importance    ' feature by one unit increases the odds of buying a laptop by a factor of 1.87 when all other features remain the same.\n",
    "- Using the device for studying mainly increases the odds of buying a laptop by a factor of 1.74 when all other features remain the same."
   ]
  },
  {
   "cell_type": "code",
   "execution_count": 390,
   "id": "lIfI6tTYNItJ",
   "metadata": {
    "colab": {
     "base_uri": "https://localhost:8080/",
     "height": 434
    },
    "id": "lIfI6tTYNItJ",
    "outputId": "c10eb302-6123-4811-a799-90d579ccf929"
   },
   "outputs": [
    {
     "data": {},
     "metadata": {},
     "output_type": "display_data"
    },
    {
     "data": {
      "application/vnd.holoviews_exec.v0+json": "",
      "text/html": [
       "<div id='1113'>\n",
       "  <div class=\"bk-root\" id=\"02ee9a3b-7276-4f26-9a99-15e435e03f83\" data-root-id=\"1113\"></div>\n",
       "</div>\n",
       "<script type=\"application/javascript\">(function(root) {\n",
       "  function embed_document(root) {\n",
       "    var docs_json = {\"36344e78-ba32-41dc-8510-e9fe855c4664\":{\"defs\":[{\"extends\":null,\"module\":null,\"name\":\"ReactiveHTML1\",\"overrides\":[],\"properties\":[]},{\"extends\":null,\"module\":null,\"name\":\"FlexBox1\",\"overrides\":[],\"properties\":[{\"default\":\"flex-start\",\"kind\":null,\"name\":\"align_content\"},{\"default\":\"flex-start\",\"kind\":null,\"name\":\"align_items\"},{\"default\":\"row\",\"kind\":null,\"name\":\"flex_direction\"},{\"default\":\"wrap\",\"kind\":null,\"name\":\"flex_wrap\"},{\"default\":\"flex-start\",\"kind\":null,\"name\":\"justify_content\"}]},{\"extends\":null,\"module\":null,\"name\":\"GridStack1\",\"overrides\":[],\"properties\":[{\"default\":\"warn\",\"kind\":null,\"name\":\"mode\"},{\"default\":null,\"kind\":null,\"name\":\"ncols\"},{\"default\":null,\"kind\":null,\"name\":\"nrows\"},{\"default\":true,\"kind\":null,\"name\":\"allow_resize\"},{\"default\":true,\"kind\":null,\"name\":\"allow_drag\"},{\"default\":[],\"kind\":null,\"name\":\"state\"}]},{\"extends\":null,\"module\":null,\"name\":\"click1\",\"overrides\":[],\"properties\":[{\"default\":\"\",\"kind\":null,\"name\":\"terminal_output\"},{\"default\":\"\",\"kind\":null,\"name\":\"debug_name\"},{\"default\":0,\"kind\":null,\"name\":\"clears\"}]},{\"extends\":null,\"module\":null,\"name\":\"NotificationAreaBase1\",\"overrides\":[],\"properties\":[{\"default\":\"bottom-right\",\"kind\":null,\"name\":\"position\"},{\"default\":0,\"kind\":null,\"name\":\"_clear\"}]},{\"extends\":null,\"module\":null,\"name\":\"NotificationArea1\",\"overrides\":[],\"properties\":[{\"default\":[],\"kind\":null,\"name\":\"notifications\"},{\"default\":\"bottom-right\",\"kind\":null,\"name\":\"position\"},{\"default\":0,\"kind\":null,\"name\":\"_clear\"},{\"default\":[{\"background\":\"#ffc107\",\"icon\":{\"className\":\"fas fa-exclamation-triangle\",\"color\":\"white\",\"tagName\":\"i\"},\"type\":\"warning\"},{\"background\":\"#007bff\",\"icon\":{\"className\":\"fas fa-info-circle\",\"color\":\"white\",\"tagName\":\"i\"},\"type\":\"info\"}],\"kind\":null,\"name\":\"types\"}]},{\"extends\":null,\"module\":null,\"name\":\"Notification\",\"overrides\":[],\"properties\":[{\"default\":null,\"kind\":null,\"name\":\"background\"},{\"default\":3000,\"kind\":null,\"name\":\"duration\"},{\"default\":null,\"kind\":null,\"name\":\"icon\"},{\"default\":\"\",\"kind\":null,\"name\":\"message\"},{\"default\":null,\"kind\":null,\"name\":\"notification_type\"},{\"default\":false,\"kind\":null,\"name\":\"_destroyed\"}]},{\"extends\":null,\"module\":null,\"name\":\"TemplateActions1\",\"overrides\":[],\"properties\":[{\"default\":0,\"kind\":null,\"name\":\"open_modal\"},{\"default\":0,\"kind\":null,\"name\":\"close_modal\"}]},{\"extends\":null,\"module\":null,\"name\":\"MaterialTemplateActions1\",\"overrides\":[],\"properties\":[{\"default\":0,\"kind\":null,\"name\":\"open_modal\"},{\"default\":0,\"kind\":null,\"name\":\"close_modal\"}]}],\"roots\":{\"references\":[{\"attributes\":{\"margin\":[5,5,5,5],\"name\":\"HSpacer01143\",\"sizing_mode\":\"stretch_width\"},\"id\":\"1172\",\"type\":\"Spacer\"},{\"attributes\":{},\"id\":\"1125\",\"type\":\"CategoricalScale\"},{\"attributes\":{\"axis_label\":\"importance for pc\",\"coordinates\":null,\"formatter\":{\"id\":\"1157\"},\"group\":null,\"major_label_policy\":{\"id\":\"1158\"},\"ticker\":{\"id\":\"1128\"}},\"id\":\"1127\",\"type\":\"LinearAxis\"},{\"attributes\":{\"axis\":{\"id\":\"1131\"},\"coordinates\":null,\"dimension\":1,\"grid_line_color\":null,\"group\":null,\"ticker\":null},\"id\":\"1133\",\"type\":\"Grid\"},{\"attributes\":{},\"id\":\"1161\",\"type\":\"AllLabels\"},{\"attributes\":{\"end\":2.3920819043610746,\"reset_end\":2.3920819043610746,\"reset_start\":0.0,\"tags\":[[[\"importance for pc\",\"importance for pc\",null]]]},\"id\":\"1115\",\"type\":\"Range1d\"},{\"attributes\":{\"axis_label\":\"feature\",\"coordinates\":null,\"formatter\":{\"id\":\"1160\"},\"group\":null,\"major_label_policy\":{\"id\":\"1161\"},\"ticker\":{\"id\":\"1132\"}},\"id\":\"1131\",\"type\":\"CategoricalAxis\"},{\"attributes\":{\"margin\":[5,5,5,5],\"name\":\"HSpacer01142\",\"sizing_mode\":\"stretch_width\"},\"id\":\"1114\",\"type\":\"Spacer\"},{\"attributes\":{\"callback\":null,\"renderers\":[{\"id\":\"1153\"}],\"tags\":[\"hv_created\"],\"tooltips\":[[\"feature\",\"@{feature}\"],[\"importance for pc\",\"@{importance_for_pc}\"]]},\"id\":\"1117\",\"type\":\"HoverTool\"},{\"attributes\":{\"below\":[{\"id\":\"1127\"}],\"center\":[{\"id\":\"1130\"},{\"id\":\"1133\"}],\"height\":300,\"left\":[{\"id\":\"1131\"}],\"margin\":[5,5,5,5],\"min_border_bottom\":10,\"min_border_left\":10,\"min_border_right\":10,\"min_border_top\":10,\"renderers\":[{\"id\":\"1153\"}],\"sizing_mode\":\"fixed\",\"title\":{\"id\":\"1119\"},\"toolbar\":{\"id\":\"1140\"},\"width\":700,\"x_range\":{\"id\":\"1115\"},\"x_scale\":{\"id\":\"1123\"},\"y_range\":{\"id\":\"1116\"},\"y_scale\":{\"id\":\"1125\"}},\"id\":\"1118\",\"subtype\":\"Figure\",\"type\":\"Plot\"},{\"attributes\":{\"fill_alpha\":{\"value\":1.0},\"fill_color\":{\"value\":\"#30a2da\"},\"hatch_alpha\":{\"value\":1.0},\"hatch_color\":{\"value\":\"#30a2da\"},\"hatch_scale\":{\"value\":12.0},\"hatch_weight\":{\"value\":1.0},\"height\":{\"value\":0.8},\"left\":{\"value\":0},\"line_alpha\":{\"value\":1.0},\"line_cap\":{\"value\":\"butt\"},\"line_color\":{\"value\":\"black\"},\"line_dash\":{\"value\":[]},\"line_dash_offset\":{\"value\":0},\"line_join\":{\"value\":\"bevel\"},\"line_width\":{\"value\":1},\"right\":{\"field\":\"importance_for_pc\"},\"y\":{\"field\":\"feature\"}},\"id\":\"1155\",\"type\":\"HBar\"},{\"attributes\":{\"children\":[{\"id\":\"1114\"},{\"id\":\"1118\"},{\"id\":\"1172\"}],\"margin\":[0,0,0,0],\"name\":\"Row01138\",\"tags\":[\"embedded\"]},\"id\":\"1113\",\"type\":\"Row\"},{\"attributes\":{},\"id\":\"1148\",\"type\":\"Selection\"},{\"attributes\":{},\"id\":\"1135\",\"type\":\"PanTool\"},{\"attributes\":{\"tools\":[{\"id\":\"1117\"},{\"id\":\"1134\"},{\"id\":\"1135\"},{\"id\":\"1136\"},{\"id\":\"1137\"},{\"id\":\"1138\"}]},\"id\":\"1140\",\"type\":\"Toolbar\"},{\"attributes\":{\"coordinates\":null,\"data_source\":{\"id\":\"1147\"},\"glyph\":{\"id\":\"1150\"},\"group\":null,\"hover_glyph\":null,\"muted_glyph\":{\"id\":\"1152\"},\"nonselection_glyph\":{\"id\":\"1151\"},\"selection_glyph\":{\"id\":\"1155\"},\"view\":{\"id\":\"1154\"}},\"id\":\"1153\",\"type\":\"GlyphRenderer\"},{\"attributes\":{},\"id\":\"1169\",\"type\":\"UnionRenderers\"},{\"attributes\":{\"fill_color\":{\"value\":\"#30a2da\"},\"hatch_color\":{\"value\":\"#30a2da\"},\"height\":{\"value\":0.8},\"right\":{\"field\":\"importance_for_pc\"},\"y\":{\"field\":\"feature\"}},\"id\":\"1150\",\"type\":\"HBar\"},{\"attributes\":{},\"id\":\"1157\",\"type\":\"BasicTickFormatter\"},{\"attributes\":{\"axis\":{\"id\":\"1127\"},\"coordinates\":null,\"grid_line_color\":null,\"group\":null,\"ticker\":null},\"id\":\"1130\",\"type\":\"Grid\"},{\"attributes\":{},\"id\":\"1132\",\"type\":\"CategoricalTicker\"},{\"attributes\":{\"bottom_units\":\"screen\",\"coordinates\":null,\"fill_alpha\":0.5,\"fill_color\":\"lightgrey\",\"group\":null,\"left_units\":\"screen\",\"level\":\"overlay\",\"line_alpha\":1.0,\"line_color\":\"black\",\"line_dash\":[4,4],\"line_width\":2,\"right_units\":\"screen\",\"syncable\":false,\"top_units\":\"screen\"},\"id\":\"1139\",\"type\":\"BoxAnnotation\"},{\"attributes\":{\"overlay\":{\"id\":\"1139\"}},\"id\":\"1137\",\"type\":\"BoxZoomTool\"},{\"attributes\":{\"fill_alpha\":{\"value\":0.1},\"fill_color\":{\"value\":\"#30a2da\"},\"hatch_alpha\":{\"value\":0.1},\"hatch_color\":{\"value\":\"#30a2da\"},\"height\":{\"value\":0.8},\"line_alpha\":{\"value\":0.1},\"right\":{\"field\":\"importance_for_pc\"},\"y\":{\"field\":\"feature\"}},\"id\":\"1151\",\"type\":\"HBar\"},{\"attributes\":{},\"id\":\"1128\",\"type\":\"BasicTicker\"},{\"attributes\":{\"source\":{\"id\":\"1147\"}},\"id\":\"1154\",\"type\":\"CDSView\"},{\"attributes\":{},\"id\":\"1138\",\"type\":\"ResetTool\"},{\"attributes\":{},\"id\":\"1160\",\"type\":\"CategoricalTickFormatter\"},{\"attributes\":{\"fill_alpha\":{\"value\":0.2},\"fill_color\":{\"value\":\"#30a2da\"},\"hatch_alpha\":{\"value\":0.2},\"hatch_color\":{\"value\":\"#30a2da\"},\"height\":{\"value\":0.8},\"line_alpha\":{\"value\":0.2},\"right\":{\"field\":\"importance_for_pc\"},\"y\":{\"field\":\"feature\"}},\"id\":\"1152\",\"type\":\"HBar\"},{\"attributes\":{},\"id\":\"1158\",\"type\":\"AllLabels\"},{\"attributes\":{},\"id\":\"1136\",\"type\":\"WheelZoomTool\"},{\"attributes\":{\"factors\":[\"desktop_perc\",\"Core i5\",\"performance_importance\",\"screen_size_importance\",\"hours_gaming\",\"self_study_hours\"],\"tags\":[[[\"feature\",\"feature\",null]]]},\"id\":\"1116\",\"type\":\"FactorRange\"},{\"attributes\":{},\"id\":\"1134\",\"type\":\"SaveTool\"},{\"attributes\":{\"coordinates\":null,\"group\":null,\"text_color\":\"black\",\"text_font_size\":\"12pt\"},\"id\":\"1119\",\"type\":\"Title\"},{\"attributes\":{\"data\":{\"feature\":[\"desktop_perc\",\"Core i5\",\"performance_importance\",\"screen_size_importance\",\"hours_gaming\",\"self_study_hours\"],\"importance_for_pc\":{\"__ndarray__\":\"pOgaMpttAkDsWeDcy5b8PwfpA7ydM/w/6pn5j+2U+z9MdyroaQf6P5yEco6pr/Y/\",\"dtype\":\"float64\",\"order\":\"little\",\"shape\":[6]}},\"selected\":{\"id\":\"1148\"},\"selection_policy\":{\"id\":\"1169\"}},\"id\":\"1147\",\"type\":\"ColumnDataSource\"},{\"attributes\":{},\"id\":\"1123\",\"type\":\"LinearScale\"}],\"root_ids\":[\"1113\"]},\"title\":\"Bokeh Application\",\"version\":\"2.4.3\"}};\n",
       "    var render_items = [{\"docid\":\"36344e78-ba32-41dc-8510-e9fe855c4664\",\"root_ids\":[\"1113\"],\"roots\":{\"1113\":\"02ee9a3b-7276-4f26-9a99-15e435e03f83\"}}];\n",
       "    root.Bokeh.embed.embed_items_notebook(docs_json, render_items);\n",
       "    for (const render_item of render_items) {\n",
       "      for (const root_id of render_item.root_ids) {\n",
       "\tconst id_el = document.getElementById(root_id)\n",
       "\tif (id_el.children.length && (id_el.children[0].className === 'bk-root')) {\n",
       "\t  const root_el = id_el.children[0]\n",
       "\t  root_el.id = root_el.id + '-rendered'\n",
       "\t}\n",
       "      }\n",
       "    }\n",
       "  }\n",
       "  if (root.Bokeh !== undefined && root.Bokeh.Panel !== undefined) {\n",
       "    embed_document(root);\n",
       "  } else {\n",
       "    var attempts = 0;\n",
       "    var timer = setInterval(function(root) {\n",
       "      if (root.Bokeh !== undefined && root.Bokeh.Panel !== undefined) {\n",
       "        clearInterval(timer);\n",
       "        embed_document(root);\n",
       "      } else if (document.readyState == \"complete\") {\n",
       "        attempts++;\n",
       "        if (attempts > 200) {\n",
       "          clearInterval(timer);\n",
       "          console.log(\"Bokeh: ERROR: Unable to run BokehJS code because BokehJS library is missing\");\n",
       "        }\n",
       "      }\n",
       "    }, 25, root)\n",
       "  }\n",
       "})(window);</script>"
      ],
      "text/plain": [
       ":Bars   [feature]   (importance for pc)"
      ]
     },
     "execution_count": 390,
     "metadata": {
      "application/vnd.holoviews_exec.v0+json": {
       "id": "1113"
      }
     },
     "output_type": "execute_result"
    }
   ],
   "source": [
    "model = LogisticRegression(max_iter=1000)\n",
    "model.fit(X, y_desk)\n",
    "feature_importance = pd.DataFrame(list(X.columns), columns = [\"feature\"])\n",
    "feature_importance[\"importance for pc\"] = pow(math.e, model.coef_[0])\n",
    "feature_importance = feature_importance.sort_values(by = [\"importance for pc\"], ascending=False).head(6)\n",
    " \n",
    "feature_importance.hvplot.barh(x='feature', y='importance for pc')"
   ]
  },
  {
   "cell_type": "markdown",
   "id": "510c9b88",
   "metadata": {},
   "source": [
    "- The 'desktop usage percentage' is the most effective feature for increasing the odds of buying a desktop as the next device. An increase of the 'desktop usage percentage' feature by one unit increases the odds of buying a desktop by a factor of 2.48 when all other features remain the same.\n",
    "- Having a Core i5 processor increases the odds of buying a desktop by a factor of 1.98 when all other features remain the same.\n",
    "- An increase of the 'performance importance' feature by one unit increases the odds of buying a desktop as the next by a factor of 1.84 when all other features remain the same.\n",
    "- An increase of the 'screen size importance' feature by one unit increases the odds of buying a desktop by a factor of 1.83 when all other features remain the same.\n",
    "- Being a Data scientist increases the odds of buying a desktop by a factor of 1.6 when all other features remain the same."
   ]
  },
  {
   "cell_type": "code",
   "execution_count": 387,
   "id": "7sNAnYvqkcWr",
   "metadata": {
    "id": "7sNAnYvqkcWr"
   },
   "outputs": [
    {
     "data": {},
     "metadata": {},
     "output_type": "display_data"
    },
    {
     "data": {
      "application/vnd.holoviews_exec.v0+json": "",
      "text/html": [
       "<div id='1002'>\n",
       "  <div class=\"bk-root\" id=\"f7c9dd11-983d-41d1-8b97-be7d7e62ec9f\" data-root-id=\"1002\"></div>\n",
       "</div>\n",
       "<script type=\"application/javascript\">(function(root) {\n",
       "  function embed_document(root) {\n",
       "    var docs_json = {\"ccff3cbe-f77f-44eb-948e-3c440f95e934\":{\"defs\":[{\"extends\":null,\"module\":null,\"name\":\"ReactiveHTML1\",\"overrides\":[],\"properties\":[]},{\"extends\":null,\"module\":null,\"name\":\"FlexBox1\",\"overrides\":[],\"properties\":[{\"default\":\"flex-start\",\"kind\":null,\"name\":\"align_content\"},{\"default\":\"flex-start\",\"kind\":null,\"name\":\"align_items\"},{\"default\":\"row\",\"kind\":null,\"name\":\"flex_direction\"},{\"default\":\"wrap\",\"kind\":null,\"name\":\"flex_wrap\"},{\"default\":\"flex-start\",\"kind\":null,\"name\":\"justify_content\"}]},{\"extends\":null,\"module\":null,\"name\":\"GridStack1\",\"overrides\":[],\"properties\":[{\"default\":\"warn\",\"kind\":null,\"name\":\"mode\"},{\"default\":null,\"kind\":null,\"name\":\"ncols\"},{\"default\":null,\"kind\":null,\"name\":\"nrows\"},{\"default\":true,\"kind\":null,\"name\":\"allow_resize\"},{\"default\":true,\"kind\":null,\"name\":\"allow_drag\"},{\"default\":[],\"kind\":null,\"name\":\"state\"}]},{\"extends\":null,\"module\":null,\"name\":\"click1\",\"overrides\":[],\"properties\":[{\"default\":\"\",\"kind\":null,\"name\":\"terminal_output\"},{\"default\":\"\",\"kind\":null,\"name\":\"debug_name\"},{\"default\":0,\"kind\":null,\"name\":\"clears\"}]},{\"extends\":null,\"module\":null,\"name\":\"NotificationAreaBase1\",\"overrides\":[],\"properties\":[{\"default\":\"bottom-right\",\"kind\":null,\"name\":\"position\"},{\"default\":0,\"kind\":null,\"name\":\"_clear\"}]},{\"extends\":null,\"module\":null,\"name\":\"NotificationArea1\",\"overrides\":[],\"properties\":[{\"default\":[],\"kind\":null,\"name\":\"notifications\"},{\"default\":\"bottom-right\",\"kind\":null,\"name\":\"position\"},{\"default\":0,\"kind\":null,\"name\":\"_clear\"},{\"default\":[{\"background\":\"#ffc107\",\"icon\":{\"className\":\"fas fa-exclamation-triangle\",\"color\":\"white\",\"tagName\":\"i\"},\"type\":\"warning\"},{\"background\":\"#007bff\",\"icon\":{\"className\":\"fas fa-info-circle\",\"color\":\"white\",\"tagName\":\"i\"},\"type\":\"info\"}],\"kind\":null,\"name\":\"types\"}]},{\"extends\":null,\"module\":null,\"name\":\"Notification\",\"overrides\":[],\"properties\":[{\"default\":null,\"kind\":null,\"name\":\"background\"},{\"default\":3000,\"kind\":null,\"name\":\"duration\"},{\"default\":null,\"kind\":null,\"name\":\"icon\"},{\"default\":\"\",\"kind\":null,\"name\":\"message\"},{\"default\":null,\"kind\":null,\"name\":\"notification_type\"},{\"default\":false,\"kind\":null,\"name\":\"_destroyed\"}]},{\"extends\":null,\"module\":null,\"name\":\"TemplateActions1\",\"overrides\":[],\"properties\":[{\"default\":0,\"kind\":null,\"name\":\"open_modal\"},{\"default\":0,\"kind\":null,\"name\":\"close_modal\"}]},{\"extends\":null,\"module\":null,\"name\":\"MaterialTemplateActions1\",\"overrides\":[],\"properties\":[{\"default\":0,\"kind\":null,\"name\":\"open_modal\"},{\"default\":0,\"kind\":null,\"name\":\"close_modal\"}]}],\"roots\":{\"references\":[{\"attributes\":{\"bottom\":{\"value\":0},\"fill_alpha\":{\"value\":1.0},\"fill_color\":{\"value\":\"#30a2da\"},\"hatch_alpha\":{\"value\":1.0},\"hatch_color\":{\"value\":\"#30a2da\"},\"hatch_scale\":{\"value\":12.0},\"hatch_weight\":{\"value\":1.0},\"line_alpha\":{\"value\":1.0},\"line_cap\":{\"value\":\"butt\"},\"line_color\":{\"value\":\"black\"},\"line_dash\":{\"value\":[]},\"line_dash_offset\":{\"value\":0},\"line_join\":{\"value\":\"bevel\"},\"line_width\":{\"value\":1},\"top\":{\"field\":\"devices_count\"},\"width\":{\"value\":0.8},\"x\":{\"field\":\"income_level\"}},\"id\":\"1044\",\"type\":\"VBar\"},{\"attributes\":{\"fill_color\":{\"value\":\"#30a2da\"},\"hatch_color\":{\"value\":\"#30a2da\"},\"top\":{\"field\":\"devices_count\"},\"width\":{\"value\":0.8},\"x\":{\"field\":\"income_level\"}},\"id\":\"1039\",\"type\":\"VBar\"},{\"attributes\":{\"bottom_units\":\"screen\",\"coordinates\":null,\"fill_alpha\":0.5,\"fill_color\":\"lightgrey\",\"group\":null,\"left_units\":\"screen\",\"level\":\"overlay\",\"line_alpha\":1.0,\"line_color\":\"black\",\"line_dash\":[4,4],\"line_width\":2,\"right_units\":\"screen\",\"syncable\":false,\"top_units\":\"screen\"},\"id\":\"1028\",\"type\":\"BoxAnnotation\"},{\"attributes\":{\"margin\":[5,5,5,5],\"name\":\"HSpacer00918\",\"sizing_mode\":\"stretch_width\"},\"id\":\"1061\",\"type\":\"Spacer\"},{\"attributes\":{\"source\":{\"id\":\"1036\"}},\"id\":\"1043\",\"type\":\"CDSView\"},{\"attributes\":{},\"id\":\"1023\",\"type\":\"SaveTool\"},{\"attributes\":{},\"id\":\"1049\",\"type\":\"BasicTickFormatter\"},{\"attributes\":{\"axis_label\":\"devices_count\",\"coordinates\":null,\"formatter\":{\"id\":\"1049\"},\"group\":null,\"major_label_policy\":{\"id\":\"1050\"},\"ticker\":{\"id\":\"1020\"}},\"id\":\"1019\",\"type\":\"LinearAxis\"},{\"attributes\":{\"end\":151.1,\"reset_end\":151.1,\"reset_start\":0.0,\"tags\":[[[\"devices_count\",\"devices_count\",null]]]},\"id\":\"1005\",\"type\":\"Range1d\"},{\"attributes\":{},\"id\":\"1020\",\"type\":\"BasicTicker\"},{\"attributes\":{},\"id\":\"1046\",\"type\":\"CategoricalTickFormatter\"},{\"attributes\":{\"axis\":{\"id\":\"1019\"},\"coordinates\":null,\"dimension\":1,\"grid_line_color\":null,\"group\":null,\"ticker\":null},\"id\":\"1022\",\"type\":\"Grid\"},{\"attributes\":{\"coordinates\":null,\"group\":null,\"text_color\":\"black\",\"text_font_size\":\"12pt\"},\"id\":\"1008\",\"type\":\"Title\"},{\"attributes\":{},\"id\":\"1017\",\"type\":\"CategoricalTicker\"},{\"attributes\":{\"fill_alpha\":{\"value\":0.1},\"fill_color\":{\"value\":\"#30a2da\"},\"hatch_alpha\":{\"value\":0.1},\"hatch_color\":{\"value\":\"#30a2da\"},\"line_alpha\":{\"value\":0.1},\"top\":{\"field\":\"devices_count\"},\"width\":{\"value\":0.8},\"x\":{\"field\":\"income_level\"}},\"id\":\"1040\",\"type\":\"VBar\"},{\"attributes\":{\"data\":{\"devices_count\":{\"__ndarray__\":\"BwAAABcAAABqAAAAMAAAAIoAAAA=\",\"dtype\":\"int32\",\"order\":\"little\",\"shape\":[5]},\"income_level\":[\"High\",\"Higher medium\",\"Low\",\"Lower medium\",\"Medium\"]},\"selected\":{\"id\":\"1037\"},\"selection_policy\":{\"id\":\"1058\"}},\"id\":\"1036\",\"type\":\"ColumnDataSource\"},{\"attributes\":{},\"id\":\"1050\",\"type\":\"AllLabels\"},{\"attributes\":{},\"id\":\"1037\",\"type\":\"Selection\"},{\"attributes\":{\"callback\":null,\"renderers\":[{\"id\":\"1042\"}],\"tags\":[\"hv_created\"],\"tooltips\":[[\"income_level\",\"@{income_level}\"],[\"devices_count\",\"@{devices_count}\"]]},\"id\":\"1006\",\"type\":\"HoverTool\"},{\"attributes\":{\"axis\":{\"id\":\"1016\"},\"coordinates\":null,\"grid_line_color\":null,\"group\":null,\"ticker\":null},\"id\":\"1018\",\"type\":\"Grid\"},{\"attributes\":{\"fill_alpha\":{\"value\":0.2},\"fill_color\":{\"value\":\"#30a2da\"},\"hatch_alpha\":{\"value\":0.2},\"hatch_color\":{\"value\":\"#30a2da\"},\"line_alpha\":{\"value\":0.2},\"top\":{\"field\":\"devices_count\"},\"width\":{\"value\":0.8},\"x\":{\"field\":\"income_level\"}},\"id\":\"1041\",\"type\":\"VBar\"},{\"attributes\":{},\"id\":\"1027\",\"type\":\"ResetTool\"},{\"attributes\":{\"overlay\":{\"id\":\"1028\"}},\"id\":\"1026\",\"type\":\"BoxZoomTool\"},{\"attributes\":{\"margin\":[5,5,5,5],\"name\":\"HSpacer00917\",\"sizing_mode\":\"stretch_width\"},\"id\":\"1003\",\"type\":\"Spacer\"},{\"attributes\":{\"factors\":[\"High\",\"Higher medium\",\"Low\",\"Lower medium\",\"Medium\"],\"tags\":[[[\"income_level\",\"income_level\",null]]]},\"id\":\"1004\",\"type\":\"FactorRange\"},{\"attributes\":{},\"id\":\"1047\",\"type\":\"AllLabels\"},{\"attributes\":{\"tools\":[{\"id\":\"1006\"},{\"id\":\"1023\"},{\"id\":\"1024\"},{\"id\":\"1025\"},{\"id\":\"1026\"},{\"id\":\"1027\"}]},\"id\":\"1029\",\"type\":\"Toolbar\"},{\"attributes\":{},\"id\":\"1025\",\"type\":\"WheelZoomTool\"},{\"attributes\":{},\"id\":\"1058\",\"type\":\"UnionRenderers\"},{\"attributes\":{},\"id\":\"1024\",\"type\":\"PanTool\"},{\"attributes\":{\"coordinates\":null,\"data_source\":{\"id\":\"1036\"},\"glyph\":{\"id\":\"1039\"},\"group\":null,\"hover_glyph\":null,\"muted_glyph\":{\"id\":\"1041\"},\"nonselection_glyph\":{\"id\":\"1040\"},\"selection_glyph\":{\"id\":\"1044\"},\"view\":{\"id\":\"1043\"}},\"id\":\"1042\",\"type\":\"GlyphRenderer\"},{\"attributes\":{\"axis_label\":\"income_level\",\"coordinates\":null,\"formatter\":{\"id\":\"1046\"},\"group\":null,\"major_label_policy\":{\"id\":\"1047\"},\"ticker\":{\"id\":\"1017\"}},\"id\":\"1016\",\"type\":\"CategoricalAxis\"},{\"attributes\":{},\"id\":\"1014\",\"type\":\"LinearScale\"},{\"attributes\":{},\"id\":\"1012\",\"type\":\"CategoricalScale\"},{\"attributes\":{\"children\":[{\"id\":\"1003\"},{\"id\":\"1007\"},{\"id\":\"1061\"}],\"margin\":[0,0,0,0],\"name\":\"Row00913\",\"tags\":[\"embedded\"]},\"id\":\"1002\",\"type\":\"Row\"},{\"attributes\":{\"below\":[{\"id\":\"1016\"}],\"center\":[{\"id\":\"1018\"},{\"id\":\"1022\"}],\"height\":300,\"left\":[{\"id\":\"1019\"}],\"margin\":[5,5,5,5],\"min_border_bottom\":10,\"min_border_left\":10,\"min_border_right\":10,\"min_border_top\":10,\"renderers\":[{\"id\":\"1042\"}],\"sizing_mode\":\"fixed\",\"title\":{\"id\":\"1008\"},\"toolbar\":{\"id\":\"1029\"},\"width\":700,\"x_range\":{\"id\":\"1004\"},\"x_scale\":{\"id\":\"1012\"},\"y_range\":{\"id\":\"1005\"},\"y_scale\":{\"id\":\"1014\"}},\"id\":\"1007\",\"subtype\":\"Figure\",\"type\":\"Plot\"}],\"root_ids\":[\"1002\"]},\"title\":\"Bokeh Application\",\"version\":\"2.4.3\"}};\n",
       "    var render_items = [{\"docid\":\"ccff3cbe-f77f-44eb-948e-3c440f95e934\",\"root_ids\":[\"1002\"],\"roots\":{\"1002\":\"f7c9dd11-983d-41d1-8b97-be7d7e62ec9f\"}}];\n",
       "    root.Bokeh.embed.embed_items_notebook(docs_json, render_items);\n",
       "    for (const render_item of render_items) {\n",
       "      for (const root_id of render_item.root_ids) {\n",
       "\tconst id_el = document.getElementById(root_id)\n",
       "\tif (id_el.children.length && (id_el.children[0].className === 'bk-root')) {\n",
       "\t  const root_el = id_el.children[0]\n",
       "\t  root_el.id = root_el.id + '-rendered'\n",
       "\t}\n",
       "      }\n",
       "    }\n",
       "  }\n",
       "  if (root.Bokeh !== undefined && root.Bokeh.Panel !== undefined) {\n",
       "    embed_document(root);\n",
       "  } else {\n",
       "    var attempts = 0;\n",
       "    var timer = setInterval(function(root) {\n",
       "      if (root.Bokeh !== undefined && root.Bokeh.Panel !== undefined) {\n",
       "        clearInterval(timer);\n",
       "        embed_document(root);\n",
       "      } else if (document.readyState == \"complete\") {\n",
       "        attempts++;\n",
       "        if (attempts > 200) {\n",
       "          clearInterval(timer);\n",
       "          console.log(\"Bokeh: ERROR: Unable to run BokehJS code because BokehJS library is missing\");\n",
       "        }\n",
       "      }\n",
       "    }, 25, root)\n",
       "  }\n",
       "})(window);</script>"
      ],
      "text/plain": [
       ":Bars   [income_level]   (devices_count)"
      ]
     },
     "execution_count": 387,
     "metadata": {
      "application/vnd.holoviews_exec.v0+json": {
       "id": "1002"
      }
     },
     "output_type": "execute_result"
    }
   ],
   "source": [
    "gm = df.groupby('income_level').sum()\n",
    "gm.reset_index(inplace=True)\n",
    "gm.hvplot.bar(x = 'income_level' ,y = 'devices_count')"
   ]
  },
  {
   "cell_type": "code",
   "execution_count": null,
   "id": "52ab6e29",
   "metadata": {},
   "outputs": [],
   "source": []
  }
 ],
 "metadata": {
  "accelerator": "GPU",
  "colab": {
   "gpuType": "T4",
   "provenance": []
  },
  "gpuClass": "standard",
  "kernelspec": {
   "display_name": "Python 3",
   "language": "python",
   "name": "python3"
  },
  "language_info": {
   "codemirror_mode": {
    "name": "ipython",
    "version": 3
   },
   "file_extension": ".py",
   "mimetype": "text/x-python",
   "name": "python",
   "nbconvert_exporter": "python",
   "pygments_lexer": "ipython3",
   "version": "3.8.8"
  }
 },
 "nbformat": 4,
 "nbformat_minor": 5
}
