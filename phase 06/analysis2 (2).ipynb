{
 "cells": [
  {
   "cell_type": "code",
   "execution_count": 152,
   "id": "d4a9c7d6",
   "metadata": {
    "id": "d4a9c7d6"
   },
   "outputs": [],
   "source": [
    "import pandas as pd\n",
    "import numpy as np\n",
    "import seaborn as sns\n",
    "from sklearn.preprocessing import OneHotEncoder\n",
    "from sklearn.linear_model import LogisticRegression\n",
    "from sklearn.model_selection import train_test_split\n",
    "import matplotlib.pyplot as plt\n",
    "import seaborn as sns\n",
    "from scipy.stats import chi2_contingency\n",
    "import math\n",
    "import random\n",
    "sns.set()\n",
    "np.random.seed(42)\n",
    "import hvplot\n",
    "import hvplot.pandas\n",
    "import panel as pn\n",
    "import pingouin"
   ]
  },
  {
   "cell_type": "code",
   "execution_count": 153,
   "id": "8787caea",
   "metadata": {
    "colab": {
     "base_uri": "https://localhost:8080/",
     "height": 1000
    },
    "id": "8787caea",
    "outputId": "2f782c37-373f-404b-c871-68c642e6b516"
   },
   "outputs": [
    {
     "data": {
      "text/html": [
       "<div>\n",
       "<style scoped>\n",
       "    .dataframe tbody tr th:only-of-type {\n",
       "        vertical-align: middle;\n",
       "    }\n",
       "\n",
       "    .dataframe tbody tr th {\n",
       "        vertical-align: top;\n",
       "    }\n",
       "\n",
       "    .dataframe thead th {\n",
       "        text-align: right;\n",
       "    }\n",
       "</style>\n",
       "<table border=\"1\" class=\"dataframe\">\n",
       "  <thead>\n",
       "    <tr style=\"text-align: right;\">\n",
       "      <th></th>\n",
       "      <th>Timestamp</th>\n",
       "      <th>age</th>\n",
       "      <th>gender</th>\n",
       "      <th>level</th>\n",
       "      <th>income level</th>\n",
       "      <th>income level (num)</th>\n",
       "      <th>ID</th>\n",
       "      <th>Current career /future career</th>\n",
       "      <th>Data scientist?</th>\n",
       "      <th>devices count</th>\n",
       "      <th>...</th>\n",
       "      <th>Self study hours</th>\n",
       "      <th>Entertainment (general) hours</th>\n",
       "      <th>sum of the time spent</th>\n",
       "      <th>processor.</th>\n",
       "      <th>is it intel</th>\n",
       "      <th>processor generation</th>\n",
       "      <th>how powerful from 1_to_5</th>\n",
       "      <th>graphics card model</th>\n",
       "      <th>how powerful from 1_to_5.1</th>\n",
       "      <th>point of view</th>\n",
       "    </tr>\n",
       "  </thead>\n",
       "  <tbody>\n",
       "    <tr>\n",
       "      <th>0</th>\n",
       "      <td>2023/04/27 11:05:28 PM GMT+3</td>\n",
       "      <td>19</td>\n",
       "      <td>Female</td>\n",
       "      <td>First</td>\n",
       "      <td>Medium</td>\n",
       "      <td>2</td>\n",
       "      <td>NaN</td>\n",
       "      <td>Data scientist</td>\n",
       "      <td>1</td>\n",
       "      <td>4</td>\n",
       "      <td>...</td>\n",
       "      <td>1</td>\n",
       "      <td>1</td>\n",
       "      <td>4</td>\n",
       "      <td>Core i7</td>\n",
       "      <td>1</td>\n",
       "      <td>8</td>\n",
       "      <td>4.0</td>\n",
       "      <td>NaN</td>\n",
       "      <td>NaN</td>\n",
       "      <td>Laptop</td>\n",
       "    </tr>\n",
       "    <tr>\n",
       "      <th>1</th>\n",
       "      <td>2023/04/27 11:07:17 PM GMT+3</td>\n",
       "      <td>21 or more</td>\n",
       "      <td>Male</td>\n",
       "      <td>Third</td>\n",
       "      <td>Low</td>\n",
       "      <td>1</td>\n",
       "      <td>2.020145e+10</td>\n",
       "      <td>Data scientist</td>\n",
       "      <td>1</td>\n",
       "      <td>2</td>\n",
       "      <td>...</td>\n",
       "      <td>3</td>\n",
       "      <td>5</td>\n",
       "      <td>10</td>\n",
       "      <td>Ryzen 5</td>\n",
       "      <td>0</td>\n",
       "      <td>4</td>\n",
       "      <td>4.0</td>\n",
       "      <td>Integrated AMD Graphics</td>\n",
       "      <td>2.0</td>\n",
       "      <td>PC, more flexible in terms of future upgrades ...</td>\n",
       "    </tr>\n",
       "    <tr>\n",
       "      <th>2</th>\n",
       "      <td>2023/04/27 11:15:08 PM GMT+3</td>\n",
       "      <td>20</td>\n",
       "      <td>Female</td>\n",
       "      <td>Second</td>\n",
       "      <td>Medium</td>\n",
       "      <td>2</td>\n",
       "      <td>2.022146e+10</td>\n",
       "      <td>mobile developer</td>\n",
       "      <td>0</td>\n",
       "      <td>4</td>\n",
       "      <td>...</td>\n",
       "      <td>1</td>\n",
       "      <td>8</td>\n",
       "      <td>12</td>\n",
       "      <td>Ryzen 5</td>\n",
       "      <td>0</td>\n",
       "      <td>10</td>\n",
       "      <td>4.0</td>\n",
       "      <td>NaN</td>\n",
       "      <td>NaN</td>\n",
       "      <td>Laptop :Portability</td>\n",
       "    </tr>\n",
       "    <tr>\n",
       "      <th>3</th>\n",
       "      <td>2023/04/27 11:47:44 PM GMT+3</td>\n",
       "      <td>19</td>\n",
       "      <td>Female</td>\n",
       "      <td>Second</td>\n",
       "      <td>Medium</td>\n",
       "      <td>2</td>\n",
       "      <td>NaN</td>\n",
       "      <td>Data scientist</td>\n",
       "      <td>1</td>\n",
       "      <td>3</td>\n",
       "      <td>...</td>\n",
       "      <td>3</td>\n",
       "      <td>1</td>\n",
       "      <td>6</td>\n",
       "      <td>Intel Xeon</td>\n",
       "      <td>1</td>\n",
       "      <td>8</td>\n",
       "      <td>2.0</td>\n",
       "      <td>INTEL HD Graphics</td>\n",
       "      <td>2.0</td>\n",
       "      <td>Laptop</td>\n",
       "    </tr>\n",
       "    <tr>\n",
       "      <th>4</th>\n",
       "      <td>2023/04/27 7:04:17 PM GMT+3</td>\n",
       "      <td>21 or more</td>\n",
       "      <td>Female</td>\n",
       "      <td>Third</td>\n",
       "      <td>Medium</td>\n",
       "      <td>2</td>\n",
       "      <td>2.024865e+08</td>\n",
       "      <td>web developer</td>\n",
       "      <td>0</td>\n",
       "      <td>3</td>\n",
       "      <td>...</td>\n",
       "      <td>1</td>\n",
       "      <td>3</td>\n",
       "      <td>4</td>\n",
       "      <td>Core i7</td>\n",
       "      <td>1</td>\n",
       "      <td>7</td>\n",
       "      <td>3.0</td>\n",
       "      <td>NaN</td>\n",
       "      <td>NaN</td>\n",
       "      <td>Laptop, I can move with it everywere</td>\n",
       "    </tr>\n",
       "    <tr>\n",
       "      <th>...</th>\n",
       "      <td>...</td>\n",
       "      <td>...</td>\n",
       "      <td>...</td>\n",
       "      <td>...</td>\n",
       "      <td>...</td>\n",
       "      <td>...</td>\n",
       "      <td>...</td>\n",
       "      <td>...</td>\n",
       "      <td>...</td>\n",
       "      <td>...</td>\n",
       "      <td>...</td>\n",
       "      <td>...</td>\n",
       "      <td>...</td>\n",
       "      <td>...</td>\n",
       "      <td>...</td>\n",
       "      <td>...</td>\n",
       "      <td>...</td>\n",
       "      <td>...</td>\n",
       "      <td>...</td>\n",
       "      <td>...</td>\n",
       "      <td>...</td>\n",
       "    </tr>\n",
       "    <tr>\n",
       "      <th>101</th>\n",
       "      <td>2023/05/05 11:55:34 PM GMT+3</td>\n",
       "      <td>19</td>\n",
       "      <td>Male</td>\n",
       "      <td>Second</td>\n",
       "      <td>Low</td>\n",
       "      <td>1</td>\n",
       "      <td>2.022169e+10</td>\n",
       "      <td>Data scientist</td>\n",
       "      <td>1</td>\n",
       "      <td>3</td>\n",
       "      <td>...</td>\n",
       "      <td>1</td>\n",
       "      <td>1</td>\n",
       "      <td>4</td>\n",
       "      <td>Ryzen 5</td>\n",
       "      <td>0</td>\n",
       "      <td>12</td>\n",
       "      <td>4.0</td>\n",
       "      <td>rtx 3060</td>\n",
       "      <td>5.0</td>\n",
       "      <td>i think that pc is better if you are thinking ...</td>\n",
       "    </tr>\n",
       "    <tr>\n",
       "      <th>102</th>\n",
       "      <td>2023/05/05 4:20:42 AM GMT+3</td>\n",
       "      <td>20</td>\n",
       "      <td>Female</td>\n",
       "      <td>Second</td>\n",
       "      <td>Lower medium</td>\n",
       "      <td>3</td>\n",
       "      <td>NaN</td>\n",
       "      <td>Electrical engineer</td>\n",
       "      <td>0</td>\n",
       "      <td>3</td>\n",
       "      <td>...</td>\n",
       "      <td>1</td>\n",
       "      <td>3</td>\n",
       "      <td>8</td>\n",
       "      <td>Core i7</td>\n",
       "      <td>1</td>\n",
       "      <td>11</td>\n",
       "      <td>5.0</td>\n",
       "      <td>NaN</td>\n",
       "      <td>NaN</td>\n",
       "      <td>Laptop because of mobility</td>\n",
       "    </tr>\n",
       "    <tr>\n",
       "      <th>103</th>\n",
       "      <td>2023/05/05 4:36:22 PM GMT+3</td>\n",
       "      <td>21 or more</td>\n",
       "      <td>Female</td>\n",
       "      <td>Fourth</td>\n",
       "      <td>Medium</td>\n",
       "      <td>2</td>\n",
       "      <td>2.019482e+09</td>\n",
       "      <td>Data scientist</td>\n",
       "      <td>1</td>\n",
       "      <td>3</td>\n",
       "      <td>...</td>\n",
       "      <td>5</td>\n",
       "      <td>3</td>\n",
       "      <td>16</td>\n",
       "      <td>Core i7</td>\n",
       "      <td>1</td>\n",
       "      <td>11</td>\n",
       "      <td>5.0</td>\n",
       "      <td>NaN</td>\n",
       "      <td>NaN</td>\n",
       "      <td>Pc for portability</td>\n",
       "    </tr>\n",
       "    <tr>\n",
       "      <th>104</th>\n",
       "      <td>2023/05/05 6:34:01 AM GMT+3</td>\n",
       "      <td>21 or more</td>\n",
       "      <td>Female</td>\n",
       "      <td>Fourth</td>\n",
       "      <td>Medium</td>\n",
       "      <td>2</td>\n",
       "      <td>NaN</td>\n",
       "      <td>Data scientist</td>\n",
       "      <td>1</td>\n",
       "      <td>4</td>\n",
       "      <td>...</td>\n",
       "      <td>3</td>\n",
       "      <td>5</td>\n",
       "      <td>18</td>\n",
       "      <td>Core i5</td>\n",
       "      <td>1</td>\n",
       "      <td>8</td>\n",
       "      <td>4.0</td>\n",
       "      <td>Intel Iris 5100</td>\n",
       "      <td>4.0</td>\n",
       "      <td>PC, easily upgradable, costs less for same per...</td>\n",
       "    </tr>\n",
       "    <tr>\n",
       "      <th>105</th>\n",
       "      <td>2023/05/05 9:28:17 AM GMT+3</td>\n",
       "      <td>19</td>\n",
       "      <td>Male</td>\n",
       "      <td>First</td>\n",
       "      <td>Low</td>\n",
       "      <td>1</td>\n",
       "      <td>2.201014e+07</td>\n",
       "      <td>mobile developer</td>\n",
       "      <td>0</td>\n",
       "      <td>2</td>\n",
       "      <td>...</td>\n",
       "      <td>5</td>\n",
       "      <td>3</td>\n",
       "      <td>6</td>\n",
       "      <td>Core i7</td>\n",
       "      <td>1</td>\n",
       "      <td>6</td>\n",
       "      <td>3.0</td>\n",
       "      <td>NaN</td>\n",
       "      <td>NaN</td>\n",
       "      <td>Pc</td>\n",
       "    </tr>\n",
       "  </tbody>\n",
       "</table>\n",
       "<p>106 rows × 44 columns</p>\n",
       "</div>"
      ],
      "text/plain": [
       "                        Timestamp         age  gender   level  income level   \n",
       "0    2023/04/27 11:05:28 PM GMT+3          19  Female   First        Medium  \\\n",
       "1    2023/04/27 11:07:17 PM GMT+3  21 or more    Male   Third           Low   \n",
       "2    2023/04/27 11:15:08 PM GMT+3          20  Female  Second        Medium   \n",
       "3    2023/04/27 11:47:44 PM GMT+3          19  Female  Second        Medium   \n",
       "4     2023/04/27 7:04:17 PM GMT+3  21 or more  Female   Third        Medium   \n",
       "..                            ...         ...     ...     ...           ...   \n",
       "101  2023/05/05 11:55:34 PM GMT+3          19    Male  Second           Low   \n",
       "102   2023/05/05 4:20:42 AM GMT+3          20  Female  Second  Lower medium   \n",
       "103   2023/05/05 4:36:22 PM GMT+3  21 or more  Female  Fourth        Medium   \n",
       "104   2023/05/05 6:34:01 AM GMT+3  21 or more  Female  Fourth        Medium   \n",
       "105   2023/05/05 9:28:17 AM GMT+3          19    Male   First           Low   \n",
       "\n",
       "     income level (num)            ID Current career /future career   \n",
       "0                     2           NaN                Data scientist  \\\n",
       "1                     1  2.020145e+10                Data scientist   \n",
       "2                     2  2.022146e+10              mobile developer   \n",
       "3                     2           NaN                Data scientist   \n",
       "4                     2  2.024865e+08                 web developer   \n",
       "..                  ...           ...                           ...   \n",
       "101                   1  2.022169e+10                Data scientist   \n",
       "102                   3           NaN           Electrical engineer   \n",
       "103                   2  2.019482e+09                Data scientist   \n",
       "104                   2           NaN                Data scientist   \n",
       "105                   1  2.201014e+07              mobile developer   \n",
       "\n",
       "     Data scientist? devices count  ... Self study hours    \n",
       "0                  1             4  ...                 1  \\\n",
       "1                  1             2  ...                 3   \n",
       "2                  0             4  ...                 1   \n",
       "3                  1             3  ...                 3   \n",
       "4                  0             3  ...                 1   \n",
       "..               ...           ...  ...               ...   \n",
       "101                1             3  ...                 1   \n",
       "102                0             3  ...                 1   \n",
       "103                1             3  ...                 5   \n",
       "104                1             4  ...                 3   \n",
       "105                0             2  ...                 5   \n",
       "\n",
       "    Entertainment (general) hours  sum of the time spent  processor.   \n",
       "0                                1                     4     Core i7  \\\n",
       "1                                5                    10     Ryzen 5   \n",
       "2                                8                    12     Ryzen 5   \n",
       "3                                1                     6  Intel Xeon   \n",
       "4                                3                     4     Core i7   \n",
       "..                             ...                   ...         ...   \n",
       "101                              1                     4     Ryzen 5   \n",
       "102                              3                     8     Core i7   \n",
       "103                              3                    16     Core i7   \n",
       "104                              5                    18     Core i5   \n",
       "105                              3                     6     Core i7   \n",
       "\n",
       "     is it intel  processor generation  how powerful from 1_to_5   \n",
       "0               1                    8                       4.0  \\\n",
       "1               0                    4                       4.0   \n",
       "2               0                   10                       4.0   \n",
       "3               1                    8                       2.0   \n",
       "4               1                    7                       3.0   \n",
       "..            ...                  ...                       ...   \n",
       "101             0                   12                       4.0   \n",
       "102             1                   11                       5.0   \n",
       "103             1                   11                       5.0   \n",
       "104             1                    8                       4.0   \n",
       "105             1                    6                       3.0   \n",
       "\n",
       "         graphics card model how powerful from 1_to_5.1   \n",
       "0                        NaN                        NaN  \\\n",
       "1    Integrated AMD Graphics                        2.0   \n",
       "2                        NaN                        NaN   \n",
       "3          INTEL HD Graphics                        2.0   \n",
       "4                        NaN                        NaN   \n",
       "..                       ...                        ...   \n",
       "101                 rtx 3060                        5.0   \n",
       "102                      NaN                        NaN   \n",
       "103                      NaN                        NaN   \n",
       "104          Intel Iris 5100                        4.0   \n",
       "105                      NaN                        NaN   \n",
       "\n",
       "                                         point of view  \n",
       "0                                              Laptop   \n",
       "1    PC, more flexible in terms of future upgrades ...  \n",
       "2                                  Laptop :Portability  \n",
       "3                                              Laptop   \n",
       "4                Laptop, I can move with it everywere   \n",
       "..                                                 ...  \n",
       "101  i think that pc is better if you are thinking ...  \n",
       "102                        Laptop because of mobility   \n",
       "103                                Pc for portability   \n",
       "104  PC, easily upgradable, costs less for same per...  \n",
       "105                                                 Pc  \n",
       "\n",
       "[106 rows x 44 columns]"
      ]
     },
     "execution_count": 153,
     "metadata": {},
     "output_type": "execute_result"
    }
   ],
   "source": [
    "df = pd.read_csv(\"final_data_cleaned_for_analysis.csv\")\n",
    "df"
   ]
  },
  {
   "cell_type": "code",
   "execution_count": 154,
   "id": "4d43099b",
   "metadata": {},
   "outputs": [
    {
     "name": "stdout",
     "output_type": "stream",
     "text": [
      "<class 'pandas.core.frame.DataFrame'>\n",
      "RangeIndex: 106 entries, 0 to 105\n",
      "Data columns (total 44 columns):\n",
      " #   Column                             Non-Null Count  Dtype  \n",
      "---  ------                             --------------  -----  \n",
      " 0   Timestamp                          106 non-null    object \n",
      " 1   age                                106 non-null    object \n",
      " 2   gender                             106 non-null    object \n",
      " 3   level                              106 non-null    object \n",
      " 4   income level                       106 non-null    object \n",
      " 5   income level (num)                 106 non-null    int64  \n",
      " 6   ID                                 76 non-null     float64\n",
      " 7   Current career /future career      104 non-null    object \n",
      " 8   Data scientist?                    106 non-null    int64  \n",
      " 9   devices count                      106 non-null    object \n",
      " 10  own Laptop                         106 non-null    object \n",
      " 11  own DeskTop                        106 non-null    object \n",
      " 12  own Tablet                         106 non-null    object \n",
      " 13  device use ratio                   106 non-null    object \n",
      " 14  main device                        105 non-null    float64\n",
      " 15  MAIN usage device                  104 non-null    object \n",
      " 16  Surfing the internet               106 non-null    int64  \n",
      " 17  device price                       106 non-null    object \n",
      " 18  what would you rebuy               106 non-null    object \n",
      " 19  would he chage his device          106 non-null    int64  \n",
      " 20  operating system                   106 non-null    object \n",
      " 21  device's performance.              106 non-null    object \n",
      " 22  Screen size importance             106 non-null    int64  \n",
      " 23  Portability importance             106 non-null    int64  \n",
      " 24  Upgradability importance           106 non-null    int64  \n",
      " 25   working without cable importance  106 non-null    int64  \n",
      " 26  Performance importance             106 non-null    int64  \n",
      " 27  Affordability importance           106 non-null    int64  \n",
      " 28  CD existence importance            106 non-null    int64  \n",
      " 29  Integrated camera importance       106 non-null    int64  \n",
      " 30  Multiple monitors importance       106 non-null    int64  \n",
      " 31  hours Gaming                       106 non-null    int64  \n",
      " 32  hours Work                         106 non-null    int64  \n",
      " 33  hours Academic study               106 non-null    int64  \n",
      " 34  Self study hours                   106 non-null    int64  \n",
      " 35  Entertainment (general) hours      106 non-null    int64  \n",
      " 36  sum of the time spent              106 non-null    int64  \n",
      " 37  processor.                         106 non-null    object \n",
      " 38  is it intel                        106 non-null    int64  \n",
      " 39  processor generation               106 non-null    int64  \n",
      " 40  how powerful from 1_to_5           105 non-null    float64\n",
      " 41  graphics card model                62 non-null     object \n",
      " 42  how powerful from 1_to_5.1         62 non-null     float64\n",
      " 43  point of view                      102 non-null    object \n",
      "dtypes: float64(4), int64(21), object(19)\n",
      "memory usage: 36.6+ KB\n"
     ]
    }
   ],
   "source": [
    "df.info()"
   ]
  },
  {
   "cell_type": "code",
   "execution_count": 155,
   "id": "0d9174e2",
   "metadata": {},
   "outputs": [],
   "source": [
    "df_test_alpha = df.iloc[:,13:26]"
   ]
  },
  {
   "cell_type": "code",
   "execution_count": 156,
   "id": "d2f6b37e",
   "metadata": {},
   "outputs": [],
   "source": [
    "# pingouin.cronbach_alpha(data = df_test_alpha)"
   ]
  },
  {
   "cell_type": "code",
   "execution_count": 157,
   "id": "af4be171",
   "metadata": {},
   "outputs": [
    {
     "data": {
      "text/plain": [
       "Index(['Timestamp', 'age', 'gender', 'level', 'income level',\n",
       "       'income level (num)', 'ID', 'Current career /future career',\n",
       "       'Data scientist?', 'devices count', 'own Laptop', 'own DeskTop',\n",
       "       'own Tablet', 'device use ratio ', 'main device', 'MAIN usage device',\n",
       "       'Surfing the internet', 'device price', 'what would you rebuy',\n",
       "       'would he chage his device', 'operating system',\n",
       "       'device's performance.', 'Screen size importance',\n",
       "       'Portability importance', 'Upgradability importance',\n",
       "       ' working without cable importance', 'Performance importance',\n",
       "       'Affordability importance', 'CD existence importance',\n",
       "       'Integrated camera importance', 'Multiple monitors importance',\n",
       "       'hours Gaming', 'hours Work', 'hours Academic study',\n",
       "       'Self study hours ', 'Entertainment (general) hours ',\n",
       "       'sum of the time spent', 'processor.', 'is it intel ',\n",
       "       'processor generation', 'how powerful from 1_to_5',\n",
       "       'graphics card model', 'how powerful from 1_to_5.1', 'point of view'],\n",
       "      dtype='object')"
      ]
     },
     "execution_count": 157,
     "metadata": {},
     "output_type": "execute_result"
    }
   ],
   "source": [
    "df.columns"
   ]
  },
  {
   "cell_type": "markdown",
   "id": "tvDQK3_sfn9h",
   "metadata": {
    "id": "tvDQK3_sfn9h"
   },
   "source": [
    "## Data Cleaning"
   ]
  },
  {
   "cell_type": "code",
   "execution_count": 158,
   "id": "80b05f95",
   "metadata": {},
   "outputs": [],
   "source": [
    "df.drop(axis = 0, index = 65,inplace = True)"
   ]
  },
  {
   "cell_type": "code",
   "execution_count": 159,
   "id": "58fdbd65",
   "metadata": {
    "id": "6416212c"
   },
   "outputs": [],
   "source": [
    "df.drop(columns=[\"Timestamp\", 'ID', 'point of view','graphics card model','how powerful from 1_to_5.1', 'main device', \n",
    "                            'is it intel ', 'sum of the time spent', 'own DeskTop', 'own Laptop', 'Data scientist?',  \n",
    "                            'would he chage his device'], inplace=True)\n",
    "\n",
    "# don't use ['main_usage_device','income_level', 'gender'] "
   ]
  },
  {
   "cell_type": "code",
   "execution_count": 160,
   "id": "11dcf2ab",
   "metadata": {
    "id": "11dcf2ab"
   },
   "outputs": [],
   "source": [
    "df.rename(columns= {'Current career /future career':'career_path','is it intel ':'intel'},inplace=True)\n",
    "df.rename(columns = lambda x: x.replace(\"'s\",\"\"),inplace=True)\n",
    "df.rename(columns = lambda x: x.replace('.',''),inplace=True)\n",
    "df.rename(columns = lambda x: x.replace('?',''),inplace=True)\n",
    "df.rename(columns=lambda x: x.strip().lower().replace(' ','_'),inplace=True)"
   ]
  },
  {
   "cell_type": "code",
   "execution_count": 161,
   "id": "4b08a194",
   "metadata": {
    "colab": {
     "base_uri": "https://localhost:8080/"
    },
    "id": "4b08a194",
    "outputId": "9239e4c7-4c4a-4247-fb8f-bdd9cb8a6337"
   },
   "outputs": [
    {
     "data": {
      "text/plain": [
       "device_use_ratio\n",
       "I only use laptop                              33\n",
       "I don�t have both                              23\n",
       "80% using laptop 20% using desktop computer    19\n",
       "20% using laptop 80% using desktop computer    10\n",
       "60% using laptop 40% using desktop computer     7\n",
       "I only use PC                                   6\n",
       "40% using laptop 60% using desktop computer     4\n",
       "I don’t have both                               2\n",
       "50% using laptop 50% using desktop computer     1\n",
       "Name: count, dtype: int64"
      ]
     },
     "execution_count": 161,
     "metadata": {},
     "output_type": "execute_result"
    }
   ],
   "source": [
    "df['device_use_ratio'].value_counts()"
   ]
  },
  {
   "cell_type": "code",
   "execution_count": 162,
   "id": "f6Ed1NwqJulB",
   "metadata": {
    "id": "f6Ed1NwqJulB"
   },
   "outputs": [],
   "source": [
    "df.device_use_ratio = df.device_use_ratio.replace([\"I don�t have both\", \"I don’t have both\"], 'I have neither')"
   ]
  },
  {
   "cell_type": "code",
   "execution_count": 163,
   "id": "zG7RLiaVTsEY",
   "metadata": {
    "id": "zG7RLiaVTsEY"
   },
   "outputs": [],
   "source": [
    "df['desktop_perc'] = df.device_use_ratio.replace(['I have neither', 'I only use laptop', '80% using laptop 20% using desktop computer',\n",
    "                                               '60% using laptop 40% using desktop computer', '50% using laptop 50% using desktop computer',\n",
    "                                               '40% using laptop 60% using desktop computer', '20% using laptop 80% using desktop computer', \n",
    "                                               'I only use PC'], [0, 0, 0.2, 0.4, 0.5, 0.6, 0.8, 1])\n",
    "df['laptop_perc'] = df.device_use_ratio.replace(['I have neither', 'I only use laptop', '80% using laptop 20% using desktop computer',\n",
    "                                               '60% using laptop 40% using desktop computer', '50% using laptop 50% using desktop computer',\n",
    "                                               '40% using laptop 60% using desktop computer', '20% using laptop 80% using desktop computer', \n",
    "                                               'I only use PC'], [0, 1, 0.8, 0.6, 0.5, 0.4, 0.2, 0])\n",
    "\n",
    "df.drop(columns=['device_use_ratio'], inplace=True)"
   ]
  },
  {
   "cell_type": "code",
   "execution_count": 164,
   "id": "6866b394",
   "metadata": {
    "colab": {
     "base_uri": "https://localhost:8080/"
    },
    "id": "6866b394",
    "outputId": "7a3d99cb-2292-48fb-9210-3fa4cb173abc"
   },
   "outputs": [
    {
     "data": {
      "text/plain": [
       "array([0. , 0.2, 0.8, 0.4, 1. , 0.6, 0.5])"
      ]
     },
     "execution_count": 164,
     "metadata": {},
     "output_type": "execute_result"
    }
   ],
   "source": [
    "df['desktop_perc'].unique()"
   ]
  },
  {
   "cell_type": "code",
   "execution_count": 165,
   "id": "9800f156",
   "metadata": {},
   "outputs": [
    {
     "data": {
      "text/plain": [
       "array(['15000', '13000', '8000', '18000', '26000', '10000', '30000',\n",
       "       '28000', '35000', '13800', '3500', '21000', '20000', '16000',\n",
       "       '19000', '17000', '5000', None, '12000', '25000', '14000', '23000',\n",
       "       '4000', '18500', '4500', '11000', '3000', '18950', '24000',\n",
       "       '40000', '32000', '2400', '14800', '22000', '50000', '4600',\n",
       "       '7000', '3900', '27000', '38000', '15500', '7500'], dtype=object)"
      ]
     },
     "execution_count": 165,
     "metadata": {},
     "output_type": "execute_result"
    }
   ],
   "source": [
    "df.device_price.replace('          ', None, inplace = True)\n",
    "df.device_price.replace('           ', None, inplace = True)\n",
    "df.device_price.unique()"
   ]
  },
  {
   "cell_type": "code",
   "execution_count": 166,
   "id": "1b9ea535",
   "metadata": {
    "id": "1b9ea535"
   },
   "outputs": [],
   "source": [
    "df.device_price = df.device_price.replace(' ', None, regex=True).astype(float)\n",
    "df.device_price.fillna(df.device_price.mean(), inplace=True)"
   ]
  },
  {
   "cell_type": "code",
   "execution_count": 167,
   "id": "JMn1RDGplOCf",
   "metadata": {
    "id": "JMn1RDGplOCf"
   },
   "outputs": [],
   "source": [
    "df.how_powerful_from_1_to_5.fillna(round(df.how_powerful_from_1_to_5.mean()), inplace=True)"
   ]
  },
  {
   "cell_type": "code",
   "execution_count": 168,
   "id": "5FS0AzYxlh_u",
   "metadata": {
    "colab": {
     "base_uri": "https://localhost:8080/"
    },
    "id": "5FS0AzYxlh_u",
    "outputId": "a0450163-78d0-4f2f-b77e-8d6e57cca68c"
   },
   "outputs": [
    {
     "data": {
      "text/plain": [
       "array([4., 2., 3., 5., 1.])"
      ]
     },
     "execution_count": 168,
     "metadata": {},
     "output_type": "execute_result"
    }
   ],
   "source": [
    "df.how_powerful_from_1_to_5.unique()"
   ]
  },
  {
   "cell_type": "code",
   "execution_count": 169,
   "id": "dd2ef49f",
   "metadata": {
    "colab": {
     "base_uri": "https://localhost:8080/"
    },
    "id": "dd2ef49f",
    "outputId": "c5260060-e4d9-4d30-c7e1-92de76d3cd54"
   },
   "outputs": [
    {
     "data": {
      "text/plain": [
       "array([15000.        , 13000.        ,  8000.        , 18000.        ,\n",
       "       26000.        , 10000.        , 30000.        , 28000.        ,\n",
       "       35000.        , 13800.        ,  3500.        , 21000.        ,\n",
       "       20000.        , 16000.        , 19000.        , 17000.        ,\n",
       "        5000.        , 18114.64646465, 12000.        , 25000.        ,\n",
       "       14000.        , 23000.        ,  4000.        , 18500.        ,\n",
       "        4500.        , 11000.        ,  3000.        , 18950.        ,\n",
       "       24000.        , 40000.        , 32000.        ,  2400.        ,\n",
       "       14800.        , 22000.        , 50000.        ,  4600.        ,\n",
       "        7000.        ,  3900.        , 27000.        , 38000.        ,\n",
       "       15500.        ,  7500.        ])"
      ]
     },
     "execution_count": 169,
     "metadata": {},
     "output_type": "execute_result"
    }
   ],
   "source": [
    "df['device_price'].unique()"
   ]
  },
  {
   "cell_type": "code",
   "execution_count": 170,
   "id": "jGyLdg1im8We",
   "metadata": {
    "id": "jGyLdg1im8We"
   },
   "outputs": [],
   "source": [
    "df = df.apply(lambda x: x.fillna(x.value_counts().index[0]))"
   ]
  },
  {
   "cell_type": "code",
   "execution_count": 171,
   "id": "38Ioq-ejDVog",
   "metadata": {
    "id": "38Ioq-ejDVog"
   },
   "outputs": [],
   "source": [
    "df.age = df.age.replace('21 or more', 21)\n",
    "df.age = df.age.astype(int)"
   ]
  },
  {
   "cell_type": "code",
   "execution_count": 172,
   "id": "Mgb3FZvLHBHT",
   "metadata": {
    "colab": {
     "base_uri": "https://localhost:8080/"
    },
    "id": "Mgb3FZvLHBHT",
    "outputId": "567b0b52-db59-4715-d0ce-a9baf13ab931"
   },
   "outputs": [
    {
     "data": {
      "text/plain": [
       "level\n",
       "Second    42\n",
       "First     34\n",
       "Third     15\n",
       "Fourth    14\n",
       "Name: count, dtype: int64"
      ]
     },
     "execution_count": 172,
     "metadata": {},
     "output_type": "execute_result"
    }
   ],
   "source": [
    "df.level.value_counts()"
   ]
  },
  {
   "cell_type": "code",
   "execution_count": 173,
   "id": "g5eOpskIFSRm",
   "metadata": {
    "id": "g5eOpskIFSRm"
   },
   "outputs": [],
   "source": [
    "df.level.unique()\n",
    "df.level = df.level.replace(['First', 'Second', 'Third', 'Fourth'], [1, 2, 3, 4])"
   ]
  },
  {
   "cell_type": "code",
   "execution_count": 174,
   "id": "DHN9JYgIHpd0",
   "metadata": {
    "colab": {
     "base_uri": "https://localhost:8080/"
    },
    "id": "DHN9JYgIHpd0",
    "outputId": "1b6f3034-860c-4ad6-851c-30c86f9e7e00"
   },
   "outputs": [
    {
     "data": {
      "text/plain": [
       "devices_count\n",
       "3            48\n",
       "4            27\n",
       "2            24\n",
       "5 or more     4\n",
       "1             2\n",
       "Name: count, dtype: int64"
      ]
     },
     "execution_count": 174,
     "metadata": {},
     "output_type": "execute_result"
    }
   ],
   "source": [
    "df.devices_count.value_counts()"
   ]
  },
  {
   "cell_type": "code",
   "execution_count": 175,
   "id": "VDZ8nvgFIH5Q",
   "metadata": {
    "id": "VDZ8nvgFIH5Q"
   },
   "outputs": [],
   "source": [
    "df.devices_count = df.devices_count.replace('5 or more', 5).astype(int)"
   ]
  },
  {
   "cell_type": "code",
   "execution_count": 176,
   "id": "0O-TucHqY5K_",
   "metadata": {
    "id": "0O-TucHqY5K_"
   },
   "outputs": [],
   "source": [
    "df['what_would_you_rebuy_for_laptop_imp'] = df.what_would_you_rebuy.replace(['Laptop', 'Desktop computer'], [1, 0])\n",
    "df['what_would_you_rebuy_for_desktop_imp'] = df.what_would_you_rebuy.replace(['Desktop computer', 'Laptop'], [1, 0])\n",
    "df.drop(columns=['what_would_you_rebuy'], inplace=True)"
   ]
  },
  {
   "cell_type": "code",
   "execution_count": 177,
   "id": "tytxbZlVZ4Mt",
   "metadata": {
    "colab": {
     "base_uri": "https://localhost:8080/"
    },
    "id": "tytxbZlVZ4Mt",
    "outputId": "b7663549-2bdc-4747-c0e4-b42f9be94f2e"
   },
   "outputs": [
    {
     "data": {
      "text/plain": [
       "how_powerful_from_1_to_5\n",
       "5.0    33\n",
       "3.0    32\n",
       "4.0    27\n",
       "2.0     8\n",
       "1.0     5\n",
       "Name: count, dtype: int64"
      ]
     },
     "execution_count": 177,
     "metadata": {},
     "output_type": "execute_result"
    }
   ],
   "source": [
    "df.how_powerful_from_1_to_5.value_counts()"
   ]
  },
  {
   "attachments": {},
   "cell_type": "markdown",
   "id": "keS3fYMIgBOw",
   "metadata": {
    "id": "keS3fYMIgBOw"
   },
   "source": [
    "## Descriptive Statistics"
   ]
  },
  {
   "cell_type": "code",
   "execution_count": 178,
   "id": "00787e66",
   "metadata": {},
   "outputs": [
    {
     "data": {
      "text/html": [
       "<div>\n",
       "<style scoped>\n",
       "    .dataframe tbody tr th:only-of-type {\n",
       "        vertical-align: middle;\n",
       "    }\n",
       "\n",
       "    .dataframe tbody tr th {\n",
       "        vertical-align: top;\n",
       "    }\n",
       "\n",
       "    .dataframe thead th {\n",
       "        text-align: right;\n",
       "    }\n",
       "</style>\n",
       "<table border=\"1\" class=\"dataframe\">\n",
       "  <thead>\n",
       "    <tr style=\"text-align: right;\">\n",
       "      <th></th>\n",
       "      <th>age</th>\n",
       "      <th>level</th>\n",
       "      <th>income_level_(num)</th>\n",
       "      <th>devices_count</th>\n",
       "      <th>surfing_the_internet</th>\n",
       "      <th>device_price</th>\n",
       "      <th>screen_size_importance</th>\n",
       "      <th>portability_importance</th>\n",
       "      <th>upgradability_importance</th>\n",
       "      <th>working_without_cable_importance</th>\n",
       "      <th>...</th>\n",
       "      <th>hours_work</th>\n",
       "      <th>hours_academic_study</th>\n",
       "      <th>self_study_hours</th>\n",
       "      <th>entertainment_(general)_hours</th>\n",
       "      <th>processor_generation</th>\n",
       "      <th>how_powerful_from_1_to_5</th>\n",
       "      <th>desktop_perc</th>\n",
       "      <th>laptop_perc</th>\n",
       "      <th>what_would_you_rebuy_for_laptop_imp</th>\n",
       "      <th>what_would_you_rebuy_for_desktop_imp</th>\n",
       "    </tr>\n",
       "  </thead>\n",
       "  <tbody>\n",
       "    <tr>\n",
       "      <th>0</th>\n",
       "      <td>19</td>\n",
       "      <td>1</td>\n",
       "      <td>2</td>\n",
       "      <td>4</td>\n",
       "      <td>0</td>\n",
       "      <td>15000.0</td>\n",
       "      <td>4</td>\n",
       "      <td>4</td>\n",
       "      <td>4</td>\n",
       "      <td>4</td>\n",
       "      <td>...</td>\n",
       "      <td>1</td>\n",
       "      <td>5</td>\n",
       "      <td>1</td>\n",
       "      <td>1</td>\n",
       "      <td>8</td>\n",
       "      <td>4.0</td>\n",
       "      <td>0.0</td>\n",
       "      <td>1.0</td>\n",
       "      <td>1</td>\n",
       "      <td>0</td>\n",
       "    </tr>\n",
       "    <tr>\n",
       "      <th>1</th>\n",
       "      <td>21</td>\n",
       "      <td>3</td>\n",
       "      <td>1</td>\n",
       "      <td>2</td>\n",
       "      <td>0</td>\n",
       "      <td>13000.0</td>\n",
       "      <td>3</td>\n",
       "      <td>1</td>\n",
       "      <td>5</td>\n",
       "      <td>1</td>\n",
       "      <td>...</td>\n",
       "      <td>3</td>\n",
       "      <td>1</td>\n",
       "      <td>3</td>\n",
       "      <td>5</td>\n",
       "      <td>4</td>\n",
       "      <td>4.0</td>\n",
       "      <td>0.0</td>\n",
       "      <td>0.0</td>\n",
       "      <td>0</td>\n",
       "      <td>1</td>\n",
       "    </tr>\n",
       "    <tr>\n",
       "      <th>2</th>\n",
       "      <td>20</td>\n",
       "      <td>2</td>\n",
       "      <td>2</td>\n",
       "      <td>4</td>\n",
       "      <td>0</td>\n",
       "      <td>8000.0</td>\n",
       "      <td>3</td>\n",
       "      <td>4</td>\n",
       "      <td>3</td>\n",
       "      <td>5</td>\n",
       "      <td>...</td>\n",
       "      <td>1</td>\n",
       "      <td>5</td>\n",
       "      <td>1</td>\n",
       "      <td>8</td>\n",
       "      <td>10</td>\n",
       "      <td>4.0</td>\n",
       "      <td>0.0</td>\n",
       "      <td>1.0</td>\n",
       "      <td>1</td>\n",
       "      <td>0</td>\n",
       "    </tr>\n",
       "    <tr>\n",
       "      <th>3</th>\n",
       "      <td>19</td>\n",
       "      <td>2</td>\n",
       "      <td>2</td>\n",
       "      <td>3</td>\n",
       "      <td>0</td>\n",
       "      <td>18000.0</td>\n",
       "      <td>4</td>\n",
       "      <td>4</td>\n",
       "      <td>3</td>\n",
       "      <td>5</td>\n",
       "      <td>...</td>\n",
       "      <td>1</td>\n",
       "      <td>5</td>\n",
       "      <td>3</td>\n",
       "      <td>1</td>\n",
       "      <td>8</td>\n",
       "      <td>2.0</td>\n",
       "      <td>0.2</td>\n",
       "      <td>0.8</td>\n",
       "      <td>1</td>\n",
       "      <td>0</td>\n",
       "    </tr>\n",
       "    <tr>\n",
       "      <th>4</th>\n",
       "      <td>21</td>\n",
       "      <td>3</td>\n",
       "      <td>2</td>\n",
       "      <td>3</td>\n",
       "      <td>0</td>\n",
       "      <td>15000.0</td>\n",
       "      <td>2</td>\n",
       "      <td>2</td>\n",
       "      <td>1</td>\n",
       "      <td>1</td>\n",
       "      <td>...</td>\n",
       "      <td>1</td>\n",
       "      <td>3</td>\n",
       "      <td>1</td>\n",
       "      <td>3</td>\n",
       "      <td>7</td>\n",
       "      <td>3.0</td>\n",
       "      <td>0.0</td>\n",
       "      <td>0.0</td>\n",
       "      <td>1</td>\n",
       "      <td>0</td>\n",
       "    </tr>\n",
       "    <tr>\n",
       "      <th>...</th>\n",
       "      <td>...</td>\n",
       "      <td>...</td>\n",
       "      <td>...</td>\n",
       "      <td>...</td>\n",
       "      <td>...</td>\n",
       "      <td>...</td>\n",
       "      <td>...</td>\n",
       "      <td>...</td>\n",
       "      <td>...</td>\n",
       "      <td>...</td>\n",
       "      <td>...</td>\n",
       "      <td>...</td>\n",
       "      <td>...</td>\n",
       "      <td>...</td>\n",
       "      <td>...</td>\n",
       "      <td>...</td>\n",
       "      <td>...</td>\n",
       "      <td>...</td>\n",
       "      <td>...</td>\n",
       "      <td>...</td>\n",
       "      <td>...</td>\n",
       "    </tr>\n",
       "    <tr>\n",
       "      <th>101</th>\n",
       "      <td>19</td>\n",
       "      <td>2</td>\n",
       "      <td>1</td>\n",
       "      <td>3</td>\n",
       "      <td>0</td>\n",
       "      <td>30000.0</td>\n",
       "      <td>5</td>\n",
       "      <td>1</td>\n",
       "      <td>4</td>\n",
       "      <td>1</td>\n",
       "      <td>...</td>\n",
       "      <td>1</td>\n",
       "      <td>1</td>\n",
       "      <td>1</td>\n",
       "      <td>1</td>\n",
       "      <td>12</td>\n",
       "      <td>4.0</td>\n",
       "      <td>0.8</td>\n",
       "      <td>0.2</td>\n",
       "      <td>0</td>\n",
       "      <td>1</td>\n",
       "    </tr>\n",
       "    <tr>\n",
       "      <th>102</th>\n",
       "      <td>20</td>\n",
       "      <td>2</td>\n",
       "      <td>3</td>\n",
       "      <td>3</td>\n",
       "      <td>1</td>\n",
       "      <td>30000.0</td>\n",
       "      <td>4</td>\n",
       "      <td>5</td>\n",
       "      <td>2</td>\n",
       "      <td>3</td>\n",
       "      <td>...</td>\n",
       "      <td>1</td>\n",
       "      <td>7</td>\n",
       "      <td>1</td>\n",
       "      <td>3</td>\n",
       "      <td>11</td>\n",
       "      <td>5.0</td>\n",
       "      <td>0.2</td>\n",
       "      <td>0.8</td>\n",
       "      <td>1</td>\n",
       "      <td>0</td>\n",
       "    </tr>\n",
       "    <tr>\n",
       "      <th>103</th>\n",
       "      <td>21</td>\n",
       "      <td>4</td>\n",
       "      <td>2</td>\n",
       "      <td>3</td>\n",
       "      <td>0</td>\n",
       "      <td>38000.0</td>\n",
       "      <td>4</td>\n",
       "      <td>4</td>\n",
       "      <td>3</td>\n",
       "      <td>3</td>\n",
       "      <td>...</td>\n",
       "      <td>7</td>\n",
       "      <td>5</td>\n",
       "      <td>5</td>\n",
       "      <td>3</td>\n",
       "      <td>11</td>\n",
       "      <td>5.0</td>\n",
       "      <td>0.2</td>\n",
       "      <td>0.8</td>\n",
       "      <td>1</td>\n",
       "      <td>0</td>\n",
       "    </tr>\n",
       "    <tr>\n",
       "      <th>104</th>\n",
       "      <td>21</td>\n",
       "      <td>4</td>\n",
       "      <td>2</td>\n",
       "      <td>4</td>\n",
       "      <td>0</td>\n",
       "      <td>15500.0</td>\n",
       "      <td>3</td>\n",
       "      <td>4</td>\n",
       "      <td>4</td>\n",
       "      <td>4</td>\n",
       "      <td>...</td>\n",
       "      <td>7</td>\n",
       "      <td>3</td>\n",
       "      <td>3</td>\n",
       "      <td>5</td>\n",
       "      <td>8</td>\n",
       "      <td>4.0</td>\n",
       "      <td>0.6</td>\n",
       "      <td>0.4</td>\n",
       "      <td>0</td>\n",
       "      <td>1</td>\n",
       "    </tr>\n",
       "    <tr>\n",
       "      <th>105</th>\n",
       "      <td>19</td>\n",
       "      <td>1</td>\n",
       "      <td>1</td>\n",
       "      <td>2</td>\n",
       "      <td>0</td>\n",
       "      <td>7500.0</td>\n",
       "      <td>2</td>\n",
       "      <td>2</td>\n",
       "      <td>2</td>\n",
       "      <td>2</td>\n",
       "      <td>...</td>\n",
       "      <td>1</td>\n",
       "      <td>1</td>\n",
       "      <td>5</td>\n",
       "      <td>3</td>\n",
       "      <td>6</td>\n",
       "      <td>3.0</td>\n",
       "      <td>0.8</td>\n",
       "      <td>0.2</td>\n",
       "      <td>0</td>\n",
       "      <td>1</td>\n",
       "    </tr>\n",
       "  </tbody>\n",
       "</table>\n",
       "<p>105 rows × 26 columns</p>\n",
       "</div>"
      ],
      "text/plain": [
       "     age  level  income_level_(num)  devices_count  surfing_the_internet   \n",
       "0     19      1                   2              4                     0  \\\n",
       "1     21      3                   1              2                     0   \n",
       "2     20      2                   2              4                     0   \n",
       "3     19      2                   2              3                     0   \n",
       "4     21      3                   2              3                     0   \n",
       "..   ...    ...                 ...            ...                   ...   \n",
       "101   19      2                   1              3                     0   \n",
       "102   20      2                   3              3                     1   \n",
       "103   21      4                   2              3                     0   \n",
       "104   21      4                   2              4                     0   \n",
       "105   19      1                   1              2                     0   \n",
       "\n",
       "     device_price  screen_size_importance  portability_importance   \n",
       "0         15000.0                       4                       4  \\\n",
       "1         13000.0                       3                       1   \n",
       "2          8000.0                       3                       4   \n",
       "3         18000.0                       4                       4   \n",
       "4         15000.0                       2                       2   \n",
       "..            ...                     ...                     ...   \n",
       "101       30000.0                       5                       1   \n",
       "102       30000.0                       4                       5   \n",
       "103       38000.0                       4                       4   \n",
       "104       15500.0                       3                       4   \n",
       "105        7500.0                       2                       2   \n",
       "\n",
       "     upgradability_importance  working_without_cable_importance  ...   \n",
       "0                           4                                 4  ...  \\\n",
       "1                           5                                 1  ...   \n",
       "2                           3                                 5  ...   \n",
       "3                           3                                 5  ...   \n",
       "4                           1                                 1  ...   \n",
       "..                        ...                               ...  ...   \n",
       "101                         4                                 1  ...   \n",
       "102                         2                                 3  ...   \n",
       "103                         3                                 3  ...   \n",
       "104                         4                                 4  ...   \n",
       "105                         2                                 2  ...   \n",
       "\n",
       "     hours_work  hours_academic_study  self_study_hours   \n",
       "0             1                     5                 1  \\\n",
       "1             3                     1                 3   \n",
       "2             1                     5                 1   \n",
       "3             1                     5                 3   \n",
       "4             1                     3                 1   \n",
       "..          ...                   ...               ...   \n",
       "101           1                     1                 1   \n",
       "102           1                     7                 1   \n",
       "103           7                     5                 5   \n",
       "104           7                     3                 3   \n",
       "105           1                     1                 5   \n",
       "\n",
       "     entertainment_(general)_hours  processor_generation   \n",
       "0                                1                     8  \\\n",
       "1                                5                     4   \n",
       "2                                8                    10   \n",
       "3                                1                     8   \n",
       "4                                3                     7   \n",
       "..                             ...                   ...   \n",
       "101                              1                    12   \n",
       "102                              3                    11   \n",
       "103                              3                    11   \n",
       "104                              5                     8   \n",
       "105                              3                     6   \n",
       "\n",
       "     how_powerful_from_1_to_5  desktop_perc  laptop_perc   \n",
       "0                         4.0           0.0          1.0  \\\n",
       "1                         4.0           0.0          0.0   \n",
       "2                         4.0           0.0          1.0   \n",
       "3                         2.0           0.2          0.8   \n",
       "4                         3.0           0.0          0.0   \n",
       "..                        ...           ...          ...   \n",
       "101                       4.0           0.8          0.2   \n",
       "102                       5.0           0.2          0.8   \n",
       "103                       5.0           0.2          0.8   \n",
       "104                       4.0           0.6          0.4   \n",
       "105                       3.0           0.8          0.2   \n",
       "\n",
       "     what_would_you_rebuy_for_laptop_imp  what_would_you_rebuy_for_desktop_imp  \n",
       "0                                      1                                     0  \n",
       "1                                      0                                     1  \n",
       "2                                      1                                     0  \n",
       "3                                      1                                     0  \n",
       "4                                      1                                     0  \n",
       "..                                   ...                                   ...  \n",
       "101                                    0                                     1  \n",
       "102                                    1                                     0  \n",
       "103                                    1                                     0  \n",
       "104                                    0                                     1  \n",
       "105                                    0                                     1  \n",
       "\n",
       "[105 rows x 26 columns]"
      ]
     },
     "execution_count": 178,
     "metadata": {},
     "output_type": "execute_result"
    }
   ],
   "source": [
    "dfplot=df.select_dtypes(exclude=['object'])\n",
    "dfplot"
   ]
  },
  {
   "cell_type": "code",
   "execution_count": 179,
   "id": "2d1ff403",
   "metadata": {},
   "outputs": [
    {
     "name": "stdout",
     "output_type": "stream",
     "text": [
      "age\n",
      "level\n",
      "income_level_(num)\n",
      "devices_count\n",
      "surfing_the_internet\n",
      "device_price\n",
      "screen_size_importance\n",
      "portability_importance\n",
      "upgradability_importance\n",
      "working_without_cable_importance\n",
      "performance_importance\n"
     ]
    },
    {
     "name": "stderr",
     "output_type": "stream",
     "text": [
      "C:\\Users\\Blu-ray\\AppData\\Local\\Temp\\ipykernel_22964\\340710176.py:3: RuntimeWarning: More than 20 figures have been opened. Figures created through the pyplot interface (`matplotlib.pyplot.figure`) are retained until explicitly closed and may consume too much memory. (To control this warning, see the rcParam `figure.max_open_warning`). Consider using `matplotlib.pyplot.close()`.\n",
      "  plt.figure()\n"
     ]
    },
    {
     "name": "stdout",
     "output_type": "stream",
     "text": [
      "affordability_importance\n",
      "cd_existence_importance\n",
      "integrated_camera_importance\n",
      "multiple_monitors_importance\n",
      "hours_gaming\n",
      "hours_work\n",
      "hours_academic_study\n",
      "self_study_hours\n",
      "entertainment_(general)_hours\n",
      "processor_generation\n",
      "how_powerful_from_1_to_5\n",
      "desktop_perc\n",
      "laptop_perc\n",
      "what_would_you_rebuy_for_laptop_imp\n",
      "what_would_you_rebuy_for_desktop_imp\n"
     ]
    },
    {
     "data": {
      "text/plain": [
       "<Figure size 640x480 with 0 Axes>"
      ]
     },
     "metadata": {},
     "output_type": "display_data"
    },
    {
     "data": {
      "image/png": "[encoded data removed]",
      "text/plain": [
       "<Figure size 640x480 with 1 Axes>"
      ]
     },
     "metadata": {},
     "output_type": "display_data"
    },
    {
     "data": {
      "text/plain": [
       "<Figure size 640x480 with 0 Axes>"
      ]
     },
     "metadata": {},
     "output_type": "display_data"
    },
    {
     "data": {
      "image/png": "[encoded data removed]",
      "text/plain": [
       "<Figure size 640x480 with 1 Axes>"
      ]
     },
     "metadata": {},
     "output_type": "display_data"
    },
    {
     "data": {
      "text/plain": [
       "<Figure size 640x480 with 0 Axes>"
      ]
     },
     "metadata": {},
     "output_type": "display_data"
    },
    {
     "data": {
      "image/png": "[encoded data removed]",
      "text/plain": [
       "<Figure size 640x480 with 1 Axes>"
      ]
     },
     "metadata": {},
     "output_type": "display_data"
    },
    {
     "data": {
      "text/plain": [
       "<Figure size 640x480 with 0 Axes>"
      ]
     },
     "metadata": {},
     "output_type": "display_data"
    },
    {
     "data": {
      "image/png": "[encoded data removed]",
      "text/plain": [
       "<Figure size 640x480 with 1 Axes>"
      ]
     },
     "metadata": {},
     "output_type": "display_data"
    },
    {
     "data": {
      "text/plain": [
       "<Figure size 640x480 with 0 Axes>"
      ]
     },
     "metadata": {},
     "output_type": "display_data"
    },
    {
     "data": {
      "image/png": "[encoded data removed]",
      "text/plain": [
       "<Figure size 640x480 with 1 Axes>"
      ]
     },
     "metadata": {},
     "output_type": "display_data"
    },
    {
     "data": {
      "text/plain": [
       "<Figure size 640x480 with 0 Axes>"
      ]
     },
     "metadata": {},
     "output_type": "display_data"
    },
    {
     "data": {
      "image/png": "[encoded data removed]",
      "text/plain": [
       "<Figure size 640x480 with 1 Axes>"
      ]
     },
     "metadata": {},
     "output_type": "display_data"
    },
    {
     "data": {
      "text/plain": [
       "<Figure size 640x480 with 0 Axes>"
      ]
     },
     "metadata": {},
     "output_type": "display_data"
    },
    {
     "data": {
      "image/png": "[encoded data removed]",
      "text/plain": [
       "<Figure size 640x480 with 1 Axes>"
      ]
     },
     "metadata": {},
     "output_type": "display_data"
    },
    {
     "data": {
      "text/plain": [
       "<Figure size 640x480 with 0 Axes>"
      ]
     },
     "metadata": {},
     "output_type": "display_data"
    },
    {
     "data": {
      "image/png": "[encoded data removed]",
      "text/plain": [
       "<Figure size 640x480 with 1 Axes>"
      ]
     },
     "metadata": {},
     "output_type": "display_data"
    },
    {
     "data": {
      "text/plain": [
       "<Figure size 640x480 with 0 Axes>"
      ]
     },
     "metadata": {},
     "output_type": "display_data"
    },
    {
     "data": {
      "image/png": "[encoded data removed]",
      "text/plain": [
       "<Figure size 640x480 with 1 Axes>"
      ]
     },
     "metadata": {},
     "output_type": "display_data"
    },
    {
     "data": {
      "text/plain": [
       "<Figure size 640x480 with 0 Axes>"
      ]
     },
     "metadata": {},
     "output_type": "display_data"
    },
    {
     "data": {
      "image/png": "[encoded data removed]",
      "text/plain": [
       "<Figure size 640x480 with 1 Axes>"
      ]
     },
     "metadata": {},
     "output_type": "display_data"
    },
    {
     "data": {
      "text/plain": [
       "<Figure size 640x480 with 0 Axes>"
      ]
     },
     "metadata": {},
     "output_type": "display_data"
    },
    {
     "data": {
      "image/png": "[encoded data removed]",
      "text/plain": [
       "<Figure size 640x480 with 1 Axes>"
      ]
     },
     "metadata": {},
     "output_type": "display_data"
    },
    {
     "data": {
      "text/plain": [
       "<Figure size 640x480 with 0 Axes>"
      ]
     },
     "metadata": {},
     "output_type": "display_data"
    },
    {
     "data": {
      "image/png": "[encoded data removed]",
      "text/plain": [
       "<Figure size 640x480 with 1 Axes>"
      ]
     },
     "metadata": {},
     "output_type": "display_data"
    },
    {
     "data": {
      "text/plain": [
       "<Figure size 640x480 with 0 Axes>"
      ]
     },
     "metadata": {},
     "output_type": "display_data"
    },
    {
     "data": {
      "image/png": "[encoded data removed]",
      "text/plain": [
       "<Figure size 640x480 with 1 Axes>"
      ]
     },
     "metadata": {},
     "output_type": "display_data"
    },
    {
     "data": {
      "text/plain": [
       "<Figure size 640x480 with 0 Axes>"
      ]
     },
     "metadata": {},
     "output_type": "display_data"
    },
    {
     "data": {
      "image/png": "[encoded data removed]",
      "text/plain": [
       "<Figure size 640x480 with 1 Axes>"
      ]
     },
     "metadata": {},
     "output_type": "display_data"
    },
    {
     "data": {
      "text/plain": [
       "<Figure size 640x480 with 0 Axes>"
      ]
     },
     "metadata": {},
     "output_type": "display_data"
    },
    {
     "data": {
      "image/png": "[encoded data removed]",
      "text/plain": [
       "<Figure size 640x480 with 1 Axes>"
      ]
     },
     "metadata": {},
     "output_type": "display_data"
    },
    {
     "data": {
      "text/plain": [
       "<Figure size 640x480 with 0 Axes>"
      ]
     },
     "metadata": {},
     "output_type": "display_data"
    },
    {
     "data": {
      "image/png": "[encoded data removed]",
      "text/plain": [
       "<Figure size 640x480 with 1 Axes>"
      ]
     },
     "metadata": {},
     "output_type": "display_data"
    },
    {
     "data": {
      "text/plain": [
       "<Figure size 640x480 with 0 Axes>"
      ]
     },
     "metadata": {},
     "output_type": "display_data"
    },
    {
     "data": {
      "image/png": "[encoded data removed]",
      "text/plain": [
       "<Figure size 640x480 with 1 Axes>"
      ]
     },
     "metadata": {},
     "output_type": "display_data"
    },
    {
     "data": {
      "text/plain": [
       "<Figure size 640x480 with 0 Axes>"
      ]
     },
     "metadata": {},
     "output_type": "display_data"
    },
    {
     "data": {
      "image/png": "[encoded data removed]",
      "text/plain": [
       "<Figure size 640x480 with 1 Axes>"
      ]
     },
     "metadata": {},
     "output_type": "display_data"
    },
    {
     "data": {
      "text/plain": [
       "<Figure size 640x480 with 0 Axes>"
      ]
     },
     "metadata": {},
     "output_type": "display_data"
    },
    {
     "data": {
      "image/png": "[encoded data removed]",
      "text/plain": [
       "<Figure size 640x480 with 1 Axes>"
      ]
     },
     "metadata": {},
     "output_type": "display_data"
    },
    {
     "data": {
      "text/plain": [
       "<Figure size 640x480 with 0 Axes>"
      ]
     },
     "metadata": {},
     "output_type": "display_data"
    },
    {
     "data": {
      "image/png": "[encoded data removed]",
      "text/plain": [
       "<Figure size 640x480 with 1 Axes>"
      ]
     },
     "metadata": {},
     "output_type": "display_data"
    },
    {
     "data": {
      "text/plain": [
       "<Figure size 640x480 with 0 Axes>"
      ]
     },
     "metadata": {},
     "output_type": "display_data"
    },
    {
     "data": {
      "image/png": "[encoded data removed]",
      "text/plain": [
       "<Figure size 640x480 with 1 Axes>"
      ]
     },
     "metadata": {},
     "output_type": "display_data"
    },
    {
     "data": {
      "text/plain": [
       "<Figure size 640x480 with 0 Axes>"
      ]
     },
     "metadata": {},
     "output_type": "display_data"
    },
    {
     "data": {
      "image/png": "[encoded data removed]",
      "text/plain": [
       "<Figure size 640x480 with 1 Axes>"
      ]
     },
     "metadata": {},
     "output_type": "display_data"
    },
    {
     "data": {
      "text/plain": [
       "<Figure size 640x480 with 0 Axes>"
      ]
     },
     "metadata": {},
     "output_type": "display_data"
    },
    {
     "data": {
      "image/png": "[encoded data removed]",
      "text/plain": [
       "<Figure size 640x480 with 1 Axes>"
      ]
     },
     "metadata": {},
     "output_type": "display_data"
    },
    {
     "data": {
      "text/plain": [
       "<Figure size 640x480 with 0 Axes>"
      ]
     },
     "metadata": {},
     "output_type": "display_data"
    },
    {
     "data": {
      "image/png": "[encoded data removed]",
      "text/plain": [
       "<Figure size 640x480 with 1 Axes>"
      ]
     },
     "metadata": {},
     "output_type": "display_data"
    },
    {
     "data": {
      "text/plain": [
       "<Figure size 640x480 with 0 Axes>"
      ]
     },
     "metadata": {},
     "output_type": "display_data"
    },
    {
     "data": {
      "image/png": "[encoded data removed]",
      "text/plain": [
       "<Figure size 640x480 with 1 Axes>"
      ]
     },
     "metadata": {},
     "output_type": "display_data"
    },
    {
     "data": {
      "text/plain": [
       "<Figure size 640x480 with 0 Axes>"
      ]
     },
     "metadata": {},
     "output_type": "display_data"
    },
    {
     "data": {
      "image/png": "[encoded data removed]",
      "text/plain": [
       "<Figure size 640x480 with 1 Axes>"
      ]
     },
     "metadata": {},
     "output_type": "display_data"
    }
   ],
   "source": [
    "for column in dfplot:\n",
    "    print(column)\n",
    "    plt.figure()\n",
    "    dfplot.hist([column])\n"
   ]
  },
  {
   "cell_type": "code",
   "execution_count": 180,
   "id": "MLa3MBjbgINv",
   "metadata": {
    "colab": {
     "base_uri": "https://localhost:8080/",
     "height": 864
    },
    "id": "MLa3MBjbgINv",
    "outputId": "707f1158-1554-45aa-b794-9e8aed6ebd2a",
    "scrolled": true
   },
   "outputs": [
    {
     "data": {
      "text/html": [
       "<div>\n",
       "<style scoped>\n",
       "    .dataframe tbody tr th:only-of-type {\n",
       "        vertical-align: middle;\n",
       "    }\n",
       "\n",
       "    .dataframe tbody tr th {\n",
       "        vertical-align: top;\n",
       "    }\n",
       "\n",
       "    .dataframe thead th {\n",
       "        text-align: right;\n",
       "    }\n",
       "</style>\n",
       "<table border=\"1\" class=\"dataframe\">\n",
       "  <thead>\n",
       "    <tr style=\"text-align: right;\">\n",
       "      <th></th>\n",
       "      <th>count</th>\n",
       "      <th>mean</th>\n",
       "      <th>std</th>\n",
       "      <th>min</th>\n",
       "      <th>25%</th>\n",
       "      <th>50%</th>\n",
       "      <th>75%</th>\n",
       "      <th>max</th>\n",
       "    </tr>\n",
       "  </thead>\n",
       "  <tbody>\n",
       "    <tr>\n",
       "      <th>age</th>\n",
       "      <td>105.0</td>\n",
       "      <td>19.819048</td>\n",
       "      <td>0.927994</td>\n",
       "      <td>18.0</td>\n",
       "      <td>19.0</td>\n",
       "      <td>20.0</td>\n",
       "      <td>21.0</td>\n",
       "      <td>21.0</td>\n",
       "    </tr>\n",
       "    <tr>\n",
       "      <th>level</th>\n",
       "      <td>105.0</td>\n",
       "      <td>2.085714</td>\n",
       "      <td>1.001098</td>\n",
       "      <td>1.0</td>\n",
       "      <td>1.0</td>\n",
       "      <td>2.0</td>\n",
       "      <td>3.0</td>\n",
       "      <td>4.0</td>\n",
       "    </tr>\n",
       "    <tr>\n",
       "      <th>income_level_(num)</th>\n",
       "      <td>105.0</td>\n",
       "      <td>2.038095</td>\n",
       "      <td>0.989598</td>\n",
       "      <td>1.0</td>\n",
       "      <td>1.0</td>\n",
       "      <td>2.0</td>\n",
       "      <td>3.0</td>\n",
       "      <td>5.0</td>\n",
       "    </tr>\n",
       "    <tr>\n",
       "      <th>devices_count</th>\n",
       "      <td>105.0</td>\n",
       "      <td>3.066667</td>\n",
       "      <td>0.846562</td>\n",
       "      <td>1.0</td>\n",
       "      <td>3.0</td>\n",
       "      <td>3.0</td>\n",
       "      <td>4.0</td>\n",
       "      <td>5.0</td>\n",
       "    </tr>\n",
       "    <tr>\n",
       "      <th>surfing_the_internet</th>\n",
       "      <td>105.0</td>\n",
       "      <td>0.095238</td>\n",
       "      <td>0.294951</td>\n",
       "      <td>0.0</td>\n",
       "      <td>0.0</td>\n",
       "      <td>0.0</td>\n",
       "      <td>0.0</td>\n",
       "      <td>1.0</td>\n",
       "    </tr>\n",
       "    <tr>\n",
       "      <th>device_price</th>\n",
       "      <td>105.0</td>\n",
       "      <td>18114.646465</td>\n",
       "      <td>9502.439597</td>\n",
       "      <td>2400.0</td>\n",
       "      <td>13000.0</td>\n",
       "      <td>17000.0</td>\n",
       "      <td>23000.0</td>\n",
       "      <td>50000.0</td>\n",
       "    </tr>\n",
       "    <tr>\n",
       "      <th>screen_size_importance</th>\n",
       "      <td>105.0</td>\n",
       "      <td>3.209524</td>\n",
       "      <td>0.977588</td>\n",
       "      <td>1.0</td>\n",
       "      <td>3.0</td>\n",
       "      <td>3.0</td>\n",
       "      <td>4.0</td>\n",
       "      <td>5.0</td>\n",
       "    </tr>\n",
       "    <tr>\n",
       "      <th>portability_importance</th>\n",
       "      <td>105.0</td>\n",
       "      <td>3.571429</td>\n",
       "      <td>1.350621</td>\n",
       "      <td>1.0</td>\n",
       "      <td>2.0</td>\n",
       "      <td>4.0</td>\n",
       "      <td>5.0</td>\n",
       "      <td>5.0</td>\n",
       "    </tr>\n",
       "    <tr>\n",
       "      <th>upgradability_importance</th>\n",
       "      <td>105.0</td>\n",
       "      <td>3.533333</td>\n",
       "      <td>1.225268</td>\n",
       "      <td>1.0</td>\n",
       "      <td>3.0</td>\n",
       "      <td>4.0</td>\n",
       "      <td>5.0</td>\n",
       "      <td>5.0</td>\n",
       "    </tr>\n",
       "    <tr>\n",
       "      <th>working_without_cable_importance</th>\n",
       "      <td>105.0</td>\n",
       "      <td>3.428571</td>\n",
       "      <td>1.406422</td>\n",
       "      <td>1.0</td>\n",
       "      <td>2.0</td>\n",
       "      <td>4.0</td>\n",
       "      <td>5.0</td>\n",
       "      <td>5.0</td>\n",
       "    </tr>\n",
       "    <tr>\n",
       "      <th>performance_importance</th>\n",
       "      <td>105.0</td>\n",
       "      <td>4.133333</td>\n",
       "      <td>1.209471</td>\n",
       "      <td>1.0</td>\n",
       "      <td>4.0</td>\n",
       "      <td>5.0</td>\n",
       "      <td>5.0</td>\n",
       "      <td>5.0</td>\n",
       "    </tr>\n",
       "    <tr>\n",
       "      <th>affordability_importance</th>\n",
       "      <td>105.0</td>\n",
       "      <td>3.552381</td>\n",
       "      <td>1.168340</td>\n",
       "      <td>1.0</td>\n",
       "      <td>3.0</td>\n",
       "      <td>4.0</td>\n",
       "      <td>5.0</td>\n",
       "      <td>5.0</td>\n",
       "    </tr>\n",
       "    <tr>\n",
       "      <th>cd_existence_importance</th>\n",
       "      <td>105.0</td>\n",
       "      <td>1.752381</td>\n",
       "      <td>1.035717</td>\n",
       "      <td>1.0</td>\n",
       "      <td>1.0</td>\n",
       "      <td>1.0</td>\n",
       "      <td>2.0</td>\n",
       "      <td>5.0</td>\n",
       "    </tr>\n",
       "    <tr>\n",
       "      <th>integrated_camera_importance</th>\n",
       "      <td>105.0</td>\n",
       "      <td>2.352381</td>\n",
       "      <td>1.184686</td>\n",
       "      <td>1.0</td>\n",
       "      <td>1.0</td>\n",
       "      <td>2.0</td>\n",
       "      <td>3.0</td>\n",
       "      <td>5.0</td>\n",
       "    </tr>\n",
       "    <tr>\n",
       "      <th>multiple_monitors_importance</th>\n",
       "      <td>105.0</td>\n",
       "      <td>2.409524</td>\n",
       "      <td>1.222350</td>\n",
       "      <td>1.0</td>\n",
       "      <td>1.0</td>\n",
       "      <td>2.0</td>\n",
       "      <td>3.0</td>\n",
       "      <td>5.0</td>\n",
       "    </tr>\n",
       "    <tr>\n",
       "      <th>hours_gaming</th>\n",
       "      <td>105.0</td>\n",
       "      <td>1.961905</td>\n",
       "      <td>1.941073</td>\n",
       "      <td>1.0</td>\n",
       "      <td>1.0</td>\n",
       "      <td>1.0</td>\n",
       "      <td>1.0</td>\n",
       "      <td>8.0</td>\n",
       "    </tr>\n",
       "    <tr>\n",
       "      <th>hours_work</th>\n",
       "      <td>105.0</td>\n",
       "      <td>2.819048</td>\n",
       "      <td>2.120327</td>\n",
       "      <td>1.0</td>\n",
       "      <td>1.0</td>\n",
       "      <td>3.0</td>\n",
       "      <td>3.0</td>\n",
       "      <td>8.0</td>\n",
       "    </tr>\n",
       "    <tr>\n",
       "      <th>hours_academic_study</th>\n",
       "      <td>105.0</td>\n",
       "      <td>4.133333</td>\n",
       "      <td>2.175328</td>\n",
       "      <td>1.0</td>\n",
       "      <td>3.0</td>\n",
       "      <td>5.0</td>\n",
       "      <td>5.0</td>\n",
       "      <td>8.0</td>\n",
       "    </tr>\n",
       "    <tr>\n",
       "      <th>self_study_hours</th>\n",
       "      <td>105.0</td>\n",
       "      <td>3.647619</td>\n",
       "      <td>2.033285</td>\n",
       "      <td>1.0</td>\n",
       "      <td>3.0</td>\n",
       "      <td>3.0</td>\n",
       "      <td>5.0</td>\n",
       "      <td>8.0</td>\n",
       "    </tr>\n",
       "    <tr>\n",
       "      <th>entertainment_(general)_hours</th>\n",
       "      <td>105.0</td>\n",
       "      <td>3.085714</td>\n",
       "      <td>2.103634</td>\n",
       "      <td>1.0</td>\n",
       "      <td>1.0</td>\n",
       "      <td>3.0</td>\n",
       "      <td>5.0</td>\n",
       "      <td>8.0</td>\n",
       "    </tr>\n",
       "    <tr>\n",
       "      <th>processor_generation</th>\n",
       "      <td>105.0</td>\n",
       "      <td>8.038095</td>\n",
       "      <td>2.944760</td>\n",
       "      <td>1.0</td>\n",
       "      <td>5.0</td>\n",
       "      <td>9.0</td>\n",
       "      <td>11.0</td>\n",
       "      <td>12.0</td>\n",
       "    </tr>\n",
       "    <tr>\n",
       "      <th>how_powerful_from_1_to_5</th>\n",
       "      <td>105.0</td>\n",
       "      <td>3.714286</td>\n",
       "      <td>1.132681</td>\n",
       "      <td>1.0</td>\n",
       "      <td>3.0</td>\n",
       "      <td>4.0</td>\n",
       "      <td>5.0</td>\n",
       "      <td>5.0</td>\n",
       "    </tr>\n",
       "    <tr>\n",
       "      <th>desktop_perc</th>\n",
       "      <td>105.0</td>\n",
       "      <td>0.223810</td>\n",
       "      <td>0.320913</td>\n",
       "      <td>0.0</td>\n",
       "      <td>0.0</td>\n",
       "      <td>0.0</td>\n",
       "      <td>0.4</td>\n",
       "      <td>1.0</td>\n",
       "    </tr>\n",
       "    <tr>\n",
       "      <th>laptop_perc</th>\n",
       "      <td>105.0</td>\n",
       "      <td>0.538095</td>\n",
       "      <td>0.422534</td>\n",
       "      <td>0.0</td>\n",
       "      <td>0.0</td>\n",
       "      <td>0.6</td>\n",
       "      <td>1.0</td>\n",
       "      <td>1.0</td>\n",
       "    </tr>\n",
       "    <tr>\n",
       "      <th>what_would_you_rebuy_for_laptop_imp</th>\n",
       "      <td>105.0</td>\n",
       "      <td>0.790476</td>\n",
       "      <td>0.408921</td>\n",
       "      <td>0.0</td>\n",
       "      <td>1.0</td>\n",
       "      <td>1.0</td>\n",
       "      <td>1.0</td>\n",
       "      <td>1.0</td>\n",
       "    </tr>\n",
       "    <tr>\n",
       "      <th>what_would_you_rebuy_for_desktop_imp</th>\n",
       "      <td>105.0</td>\n",
       "      <td>0.209524</td>\n",
       "      <td>0.408921</td>\n",
       "      <td>0.0</td>\n",
       "      <td>0.0</td>\n",
       "      <td>0.0</td>\n",
       "      <td>0.0</td>\n",
       "      <td>1.0</td>\n",
       "    </tr>\n",
       "  </tbody>\n",
       "</table>\n",
       "</div>"
      ],
      "text/plain": [
       "                                      count          mean          std   \n",
       "age                                   105.0     19.819048     0.927994  \\\n",
       "level                                 105.0      2.085714     1.001098   \n",
       "income_level_(num)                    105.0      2.038095     0.989598   \n",
       "devices_count                         105.0      3.066667     0.846562   \n",
       "surfing_the_internet                  105.0      0.095238     0.294951   \n",
       "device_price                          105.0  18114.646465  9502.439597   \n",
       "screen_size_importance                105.0      3.209524     0.977588   \n",
       "portability_importance                105.0      3.571429     1.350621   \n",
       "upgradability_importance              105.0      3.533333     1.225268   \n",
       "working_without_cable_importance      105.0      3.428571     1.406422   \n",
       "performance_importance                105.0      4.133333     1.209471   \n",
       "affordability_importance              105.0      3.552381     1.168340   \n",
       "cd_existence_importance               105.0      1.752381     1.035717   \n",
       "integrated_camera_importance          105.0      2.352381     1.184686   \n",
       "multiple_monitors_importance          105.0      2.409524     1.222350   \n",
       "hours_gaming                          105.0      1.961905     1.941073   \n",
       "hours_work                            105.0      2.819048     2.120327   \n",
       "hours_academic_study                  105.0      4.133333     2.175328   \n",
       "self_study_hours                      105.0      3.647619     2.033285   \n",
       "entertainment_(general)_hours         105.0      3.085714     2.103634   \n",
       "processor_generation                  105.0      8.038095     2.944760   \n",
       "how_powerful_from_1_to_5              105.0      3.714286     1.132681   \n",
       "desktop_perc                          105.0      0.223810     0.320913   \n",
       "laptop_perc                           105.0      0.538095     0.422534   \n",
       "what_would_you_rebuy_for_laptop_imp   105.0      0.790476     0.408921   \n",
       "what_would_you_rebuy_for_desktop_imp  105.0      0.209524     0.408921   \n",
       "\n",
       "                                         min      25%      50%      75%   \n",
       "age                                     18.0     19.0     20.0     21.0  \\\n",
       "level                                    1.0      1.0      2.0      3.0   \n",
       "income_level_(num)                       1.0      1.0      2.0      3.0   \n",
       "devices_count                            1.0      3.0      3.0      4.0   \n",
       "surfing_the_internet                     0.0      0.0      0.0      0.0   \n",
       "device_price                          2400.0  13000.0  17000.0  23000.0   \n",
       "screen_size_importance                   1.0      3.0      3.0      4.0   \n",
       "portability_importance                   1.0      2.0      4.0      5.0   \n",
       "upgradability_importance                 1.0      3.0      4.0      5.0   \n",
       "working_without_cable_importance         1.0      2.0      4.0      5.0   \n",
       "performance_importance                   1.0      4.0      5.0      5.0   \n",
       "affordability_importance                 1.0      3.0      4.0      5.0   \n",
       "cd_existence_importance                  1.0      1.0      1.0      2.0   \n",
       "integrated_camera_importance             1.0      1.0      2.0      3.0   \n",
       "multiple_monitors_importance             1.0      1.0      2.0      3.0   \n",
       "hours_gaming                             1.0      1.0      1.0      1.0   \n",
       "hours_work                               1.0      1.0      3.0      3.0   \n",
       "hours_academic_study                     1.0      3.0      5.0      5.0   \n",
       "self_study_hours                         1.0      3.0      3.0      5.0   \n",
       "entertainment_(general)_hours            1.0      1.0      3.0      5.0   \n",
       "processor_generation                     1.0      5.0      9.0     11.0   \n",
       "how_powerful_from_1_to_5                 1.0      3.0      4.0      5.0   \n",
       "desktop_perc                             0.0      0.0      0.0      0.4   \n",
       "laptop_perc                              0.0      0.0      0.6      1.0   \n",
       "what_would_you_rebuy_for_laptop_imp      0.0      1.0      1.0      1.0   \n",
       "what_would_you_rebuy_for_desktop_imp     0.0      0.0      0.0      0.0   \n",
       "\n",
       "                                          max  \n",
       "age                                      21.0  \n",
       "level                                     4.0  \n",
       "income_level_(num)                        5.0  \n",
       "devices_count                             5.0  \n",
       "surfing_the_internet                      1.0  \n",
       "device_price                          50000.0  \n",
       "screen_size_importance                    5.0  \n",
       "portability_importance                    5.0  \n",
       "upgradability_importance                  5.0  \n",
       "working_without_cable_importance          5.0  \n",
       "performance_importance                    5.0  \n",
       "affordability_importance                  5.0  \n",
       "cd_existence_importance                   5.0  \n",
       "integrated_camera_importance              5.0  \n",
       "multiple_monitors_importance              5.0  \n",
       "hours_gaming                              8.0  \n",
       "hours_work                                8.0  \n",
       "hours_academic_study                      8.0  \n",
       "self_study_hours                          8.0  \n",
       "entertainment_(general)_hours             8.0  \n",
       "processor_generation                     12.0  \n",
       "how_powerful_from_1_to_5                  5.0  \n",
       "desktop_perc                              1.0  \n",
       "laptop_perc                               1.0  \n",
       "what_would_you_rebuy_for_laptop_imp       1.0  \n",
       "what_would_you_rebuy_for_desktop_imp      1.0  "
      ]
     },
     "execution_count": 180,
     "metadata": {},
     "output_type": "execute_result"
    }
   ],
   "source": [
    "df.describe().T"
   ]
  },
  {
   "cell_type": "code",
   "execution_count": 181,
   "id": "Mnoc-QQTole-",
   "metadata": {
    "colab": {
     "base_uri": "https://localhost:8080/",
     "height": 994
    },
    "id": "Mnoc-QQTole-",
    "outputId": "81b6f70f-893a-4b3e-a4af-9c1699df0cef"
   },
   "outputs": [
    {
     "data": {
      "text/plain": [
       "Index(['age', 'gender', 'level', 'income_level', 'income_level_(num)',\n",
       "       'career_path', 'devices_count', 'own_tablet', 'main_usage_device',\n",
       "       'surfing_the_internet', 'device_price', 'operating_system',\n",
       "       'device_performance', 'screen_size_importance',\n",
       "       'portability_importance', 'upgradability_importance',\n",
       "       'working_without_cable_importance', 'performance_importance',\n",
       "       'affordability_importance', 'cd_existence_importance',\n",
       "       'integrated_camera_importance', 'multiple_monitors_importance',\n",
       "       'hours_gaming', 'hours_work', 'hours_academic_study',\n",
       "       'self_study_hours', 'entertainment_(general)_hours', 'processor',\n",
       "       'processor_generation', 'how_powerful_from_1_to_5', 'desktop_perc',\n",
       "       'laptop_perc', 'what_would_you_rebuy_for_laptop_imp',\n",
       "       'what_would_you_rebuy_for_desktop_imp'],\n",
       "      dtype='object')"
      ]
     },
     "execution_count": 181,
     "metadata": {},
     "output_type": "execute_result"
    }
   ],
   "source": [
    "df.columns"
   ]
  },
  {
   "cell_type": "code",
   "execution_count": 182,
   "id": "Wz4Oq03WmSNY",
   "metadata": {
    "colab": {
     "base_uri": "https://localhost:8080/"
    },
    "id": "Wz4Oq03WmSNY",
    "outputId": "e50bfe8c-8f5e-4245-caf0-b18e021c68b7"
   },
   "outputs": [],
   "source": [
    "# df.corr().portability_importance['working_without_cable_importance']"
   ]
  },
  {
   "cell_type": "code",
   "execution_count": 183,
   "id": "1edad2bf",
   "metadata": {},
   "outputs": [
    {
     "name": "stdout",
     "output_type": "stream",
     "text": [
      "<class 'pandas.core.frame.DataFrame'>\n",
      "Index: 105 entries, 0 to 105\n",
      "Data columns (total 34 columns):\n",
      " #   Column                                Non-Null Count  Dtype  \n",
      "---  ------                                --------------  -----  \n",
      " 0   age                                   105 non-null    int32  \n",
      " 1   gender                                105 non-null    object \n",
      " 2   level                                 105 non-null    int64  \n",
      " 3   income_level                          105 non-null    object \n",
      " 4   income_level_(num)                    105 non-null    int64  \n",
      " 5   career_path                           105 non-null    object \n",
      " 6   devices_count                         105 non-null    int32  \n",
      " 7   own_tablet                            105 non-null    object \n",
      " 8   main_usage_device                     105 non-null    object \n",
      " 9   surfing_the_internet                  105 non-null    int64  \n",
      " 10  device_price                          105 non-null    float64\n",
      " 11  operating_system                      105 non-null    object \n",
      " 12  device_performance                    105 non-null    object \n",
      " 13  screen_size_importance                105 non-null    int64  \n",
      " 14  portability_importance                105 non-null    int64  \n",
      " 15  upgradability_importance              105 non-null    int64  \n",
      " 16  working_without_cable_importance      105 non-null    int64  \n",
      " 17  performance_importance                105 non-null    int64  \n",
      " 18  affordability_importance              105 non-null    int64  \n",
      " 19  cd_existence_importance               105 non-null    int64  \n",
      " 20  integrated_camera_importance          105 non-null    int64  \n",
      " 21  multiple_monitors_importance          105 non-null    int64  \n",
      " 22  hours_gaming                          105 non-null    int64  \n",
      " 23  hours_work                            105 non-null    int64  \n",
      " 24  hours_academic_study                  105 non-null    int64  \n",
      " 25  self_study_hours                      105 non-null    int64  \n",
      " 26  entertainment_(general)_hours         105 non-null    int64  \n",
      " 27  processor                             105 non-null    object \n",
      " 28  processor_generation                  105 non-null    int64  \n",
      " 29  how_powerful_from_1_to_5              105 non-null    float64\n",
      " 30  desktop_perc                          105 non-null    float64\n",
      " 31  laptop_perc                           105 non-null    float64\n",
      " 32  what_would_you_rebuy_for_laptop_imp   105 non-null    int64  \n",
      " 33  what_would_you_rebuy_for_desktop_imp  105 non-null    int64  \n",
      "dtypes: float64(4), int32(2), int64(20), object(8)\n",
      "memory usage: 27.9+ KB\n"
     ]
    }
   ],
   "source": [
    "\n",
    "df.info()"
   ]
  },
  {
   "cell_type": "code",
   "execution_count": 184,
   "id": "102ddb08",
   "metadata": {},
   "outputs": [
    {
     "data": {
      "text/plain": [
       "array(['Medium end device', 'medium high specs', 'high end specs',\n",
       "       'Low end device'], dtype=object)"
      ]
     },
     "execution_count": 184,
     "metadata": {},
     "output_type": "execute_result"
    }
   ],
   "source": [
    "replace_map = {'Medium end device ' : 'Medium end device', 'high end specs ': 'high end specs'}\n",
    "df[\"device_performance\"] = df[\"device_performance\"].replace(replace_map)\n",
    "df[\"device_performance\"].unique()"
   ]
  },
  {
   "cell_type": "code",
   "execution_count": 185,
   "id": "798b4ce9",
   "metadata": {},
   "outputs": [
    {
     "data": {
      "text/html": [
       "<div>\n",
       "<style scoped>\n",
       "    .dataframe tbody tr th:only-of-type {\n",
       "        vertical-align: middle;\n",
       "    }\n",
       "\n",
       "    .dataframe tbody tr th {\n",
       "        vertical-align: top;\n",
       "    }\n",
       "\n",
       "    .dataframe thead th {\n",
       "        text-align: right;\n",
       "    }\n",
       "</style>\n",
       "<table border=\"1\" class=\"dataframe\">\n",
       "  <thead>\n",
       "    <tr style=\"text-align: right;\">\n",
       "      <th></th>\n",
       "      <th>age</th>\n",
       "      <th>gender</th>\n",
       "      <th>level</th>\n",
       "      <th>income_level</th>\n",
       "      <th>income_level_(num)</th>\n",
       "      <th>career_path</th>\n",
       "      <th>devices_count</th>\n",
       "      <th>own_tablet</th>\n",
       "      <th>main_usage_device</th>\n",
       "      <th>surfing_the_internet</th>\n",
       "      <th>...</th>\n",
       "      <th>hours_academic_study</th>\n",
       "      <th>self_study_hours</th>\n",
       "      <th>entertainment_(general)_hours</th>\n",
       "      <th>processor</th>\n",
       "      <th>processor_generation</th>\n",
       "      <th>how_powerful_from_1_to_5</th>\n",
       "      <th>desktop_perc</th>\n",
       "      <th>laptop_perc</th>\n",
       "      <th>what_would_you_rebuy_for_laptop_imp</th>\n",
       "      <th>what_would_you_rebuy_for_desktop_imp</th>\n",
       "    </tr>\n",
       "    <tr>\n",
       "      <th>device_performance</th>\n",
       "      <th></th>\n",
       "      <th></th>\n",
       "      <th></th>\n",
       "      <th></th>\n",
       "      <th></th>\n",
       "      <th></th>\n",
       "      <th></th>\n",
       "      <th></th>\n",
       "      <th></th>\n",
       "      <th></th>\n",
       "      <th></th>\n",
       "      <th></th>\n",
       "      <th></th>\n",
       "      <th></th>\n",
       "      <th></th>\n",
       "      <th></th>\n",
       "      <th></th>\n",
       "      <th></th>\n",
       "      <th></th>\n",
       "      <th></th>\n",
       "      <th></th>\n",
       "    </tr>\n",
       "  </thead>\n",
       "  <tbody>\n",
       "    <tr>\n",
       "      <th>Low end device</th>\n",
       "      <td>3</td>\n",
       "      <td>3</td>\n",
       "      <td>3</td>\n",
       "      <td>3</td>\n",
       "      <td>3</td>\n",
       "      <td>3</td>\n",
       "      <td>3</td>\n",
       "      <td>3</td>\n",
       "      <td>3</td>\n",
       "      <td>3</td>\n",
       "      <td>...</td>\n",
       "      <td>3</td>\n",
       "      <td>3</td>\n",
       "      <td>3</td>\n",
       "      <td>3</td>\n",
       "      <td>3</td>\n",
       "      <td>3</td>\n",
       "      <td>3</td>\n",
       "      <td>3</td>\n",
       "      <td>3</td>\n",
       "      <td>3</td>\n",
       "    </tr>\n",
       "    <tr>\n",
       "      <th>Medium end device</th>\n",
       "      <td>31</td>\n",
       "      <td>31</td>\n",
       "      <td>31</td>\n",
       "      <td>31</td>\n",
       "      <td>31</td>\n",
       "      <td>31</td>\n",
       "      <td>31</td>\n",
       "      <td>31</td>\n",
       "      <td>31</td>\n",
       "      <td>31</td>\n",
       "      <td>...</td>\n",
       "      <td>31</td>\n",
       "      <td>31</td>\n",
       "      <td>31</td>\n",
       "      <td>31</td>\n",
       "      <td>31</td>\n",
       "      <td>31</td>\n",
       "      <td>31</td>\n",
       "      <td>31</td>\n",
       "      <td>31</td>\n",
       "      <td>31</td>\n",
       "    </tr>\n",
       "    <tr>\n",
       "      <th>high end specs</th>\n",
       "      <td>21</td>\n",
       "      <td>21</td>\n",
       "      <td>21</td>\n",
       "      <td>21</td>\n",
       "      <td>21</td>\n",
       "      <td>21</td>\n",
       "      <td>21</td>\n",
       "      <td>21</td>\n",
       "      <td>21</td>\n",
       "      <td>21</td>\n",
       "      <td>...</td>\n",
       "      <td>21</td>\n",
       "      <td>21</td>\n",
       "      <td>21</td>\n",
       "      <td>21</td>\n",
       "      <td>21</td>\n",
       "      <td>21</td>\n",
       "      <td>21</td>\n",
       "      <td>21</td>\n",
       "      <td>21</td>\n",
       "      <td>21</td>\n",
       "    </tr>\n",
       "    <tr>\n",
       "      <th>medium high specs</th>\n",
       "      <td>50</td>\n",
       "      <td>50</td>\n",
       "      <td>50</td>\n",
       "      <td>50</td>\n",
       "      <td>50</td>\n",
       "      <td>50</td>\n",
       "      <td>50</td>\n",
       "      <td>50</td>\n",
       "      <td>50</td>\n",
       "      <td>50</td>\n",
       "      <td>...</td>\n",
       "      <td>50</td>\n",
       "      <td>50</td>\n",
       "      <td>50</td>\n",
       "      <td>50</td>\n",
       "      <td>50</td>\n",
       "      <td>50</td>\n",
       "      <td>50</td>\n",
       "      <td>50</td>\n",
       "      <td>50</td>\n",
       "      <td>50</td>\n",
       "    </tr>\n",
       "  </tbody>\n",
       "</table>\n",
       "<p>4 rows × 33 columns</p>\n",
       "</div>"
      ],
      "text/plain": [
       "                    age  gender  level  income_level  income_level_(num)   \n",
       "device_performance                                                         \n",
       "Low end device        3       3      3             3                   3  \\\n",
       "Medium end device    31      31     31            31                  31   \n",
       "high end specs       21      21     21            21                  21   \n",
       "medium high specs    50      50     50            50                  50   \n",
       "\n",
       "                    career_path  devices_count  own_tablet  main_usage_device   \n",
       "device_performance                                                              \n",
       "Low end device                3              3           3                  3  \\\n",
       "Medium end device            31             31          31                 31   \n",
       "high end specs               21             21          21                 21   \n",
       "medium high specs            50             50          50                 50   \n",
       "\n",
       "                    surfing_the_internet  ...  hours_academic_study   \n",
       "device_performance                        ...                         \n",
       "Low end device                         3  ...                     3  \\\n",
       "Medium end device                     31  ...                    31   \n",
       "high end specs                        21  ...                    21   \n",
       "medium high specs                     50  ...                    50   \n",
       "\n",
       "                    self_study_hours  entertainment_(general)_hours   \n",
       "device_performance                                                    \n",
       "Low end device                     3                              3  \\\n",
       "Medium end device                 31                             31   \n",
       "high end specs                    21                             21   \n",
       "medium high specs                 50                             50   \n",
       "\n",
       "                    processor  processor_generation  how_powerful_from_1_to_5   \n",
       "device_performance                                                              \n",
       "Low end device              3                     3                         3  \\\n",
       "Medium end device          31                    31                        31   \n",
       "high end specs             21                    21                        21   \n",
       "medium high specs          50                    50                        50   \n",
       "\n",
       "                    desktop_perc  laptop_perc   \n",
       "device_performance                              \n",
       "Low end device                 3            3  \\\n",
       "Medium end device             31           31   \n",
       "high end specs                21           21   \n",
       "medium high specs             50           50   \n",
       "\n",
       "                    what_would_you_rebuy_for_laptop_imp   \n",
       "device_performance                                        \n",
       "Low end device                                        3  \\\n",
       "Medium end device                                    31   \n",
       "high end specs                                       21   \n",
       "medium high specs                                    50   \n",
       "\n",
       "                    what_would_you_rebuy_for_desktop_imp  \n",
       "device_performance                                        \n",
       "Low end device                                         3  \n",
       "Medium end device                                     31  \n",
       "high end specs                                        21  \n",
       "medium high specs                                     50  \n",
       "\n",
       "[4 rows x 33 columns]"
      ]
     },
     "execution_count": 185,
     "metadata": {},
     "output_type": "execute_result"
    }
   ],
   "source": [
    "group = df.groupby([\"device_performance\"])\n",
    "group.count()"
   ]
  },
  {
   "cell_type": "code",
   "execution_count": 186,
   "id": "82974265",
   "metadata": {},
   "outputs": [
    {
     "data": {
      "text/plain": [
       "<Axes: ylabel='level'>"
      ]
     },
     "execution_count": 186,
     "metadata": {},
     "output_type": "execute_result"
    },
    {
     "data": {
      "image/png": "[encoded data removed]",
      "text/plain": [
       "<Figure size 640x480 with 1 Axes>"
      ]
     },
     "metadata": {},
     "output_type": "display_data"
    }
   ],
   "source": [
    "group.count()[\"level\"].plot.pie()"
   ]
  },
  {
   "attachments": {},
   "cell_type": "markdown",
   "id": "3fe823d1",
   "metadata": {},
   "source": [
    "We see that the sampling is not representative enough for low end devices, which is expected given that the sample is drawn from Computer science majors and professionals, we focus on analyzing the differences between the other 3 segments"
   ]
  },
  {
   "cell_type": "code",
   "execution_count": 187,
   "id": "cdb1d094",
   "metadata": {},
   "outputs": [],
   "source": [
    "df_by_performance = df[df[\"device_performance\"] != \"Low end device\"]\n",
    "group = df_by_performance.groupby(\"device_performance\")"
   ]
  },
  {
   "cell_type": "code",
   "execution_count": 188,
   "id": "f3b7e0db",
   "metadata": {},
   "outputs": [
    {
     "data": {
      "text/plain": [
       "<Axes: ylabel='level'>"
      ]
     },
     "execution_count": 188,
     "metadata": {},
     "output_type": "execute_result"
    },
    {
     "data": {
      "image/png": "[encoded data removed]",
      "text/plain": [
       "<Figure size 640x480 with 1 Axes>"
      ]
     },
     "metadata": {},
     "output_type": "display_data"
    }
   ],
   "source": [
    "group.count()[\"level\"].plot.pie()"
   ]
  },
  {
   "cell_type": "code",
   "execution_count": 189,
   "id": "26aada6d",
   "metadata": {},
   "outputs": [],
   "source": [
    "# group.mean()[\"device_price\"]"
   ]
  },
  {
   "attachments": {},
   "cell_type": "markdown",
   "id": "5801a006",
   "metadata": {},
   "source": [
    "We see that device price is consistent with device performance"
   ]
  },
  {
   "cell_type": "code",
   "execution_count": 190,
   "id": "99e2b302",
   "metadata": {
    "scrolled": true
   },
   "outputs": [
    {
     "name": "stdout",
     "output_type": "stream",
     "text": [
      "<class 'pandas.core.frame.DataFrame'>\n",
      "Index: 105 entries, 0 to 105\n",
      "Data columns (total 34 columns):\n",
      " #   Column                                Non-Null Count  Dtype  \n",
      "---  ------                                --------------  -----  \n",
      " 0   age                                   105 non-null    int32  \n",
      " 1   gender                                105 non-null    object \n",
      " 2   level                                 105 non-null    int64  \n",
      " 3   income_level                          105 non-null    object \n",
      " 4   income_level_(num)                    105 non-null    int64  \n",
      " 5   career_path                           105 non-null    object \n",
      " 6   devices_count                         105 non-null    int32  \n",
      " 7   own_tablet                            105 non-null    object \n",
      " 8   main_usage_device                     105 non-null    object \n",
      " 9   surfing_the_internet                  105 non-null    int64  \n",
      " 10  device_price                          105 non-null    float64\n",
      " 11  operating_system                      105 non-null    object \n",
      " 12  device_performance                    105 non-null    object \n",
      " 13  screen_size_importance                105 non-null    int64  \n",
      " 14  portability_importance                105 non-null    int64  \n",
      " 15  upgradability_importance              105 non-null    int64  \n",
      " 16  working_without_cable_importance      105 non-null    int64  \n",
      " 17  performance_importance                105 non-null    int64  \n",
      " 18  affordability_importance              105 non-null    int64  \n",
      " 19  cd_existence_importance               105 non-null    int64  \n",
      " 20  integrated_camera_importance          105 non-null    int64  \n",
      " 21  multiple_monitors_importance          105 non-null    int64  \n",
      " 22  hours_gaming                          105 non-null    int64  \n",
      " 23  hours_work                            105 non-null    int64  \n",
      " 24  hours_academic_study                  105 non-null    int64  \n",
      " 25  self_study_hours                      105 non-null    int64  \n",
      " 26  entertainment_(general)_hours         105 non-null    int64  \n",
      " 27  processor                             105 non-null    object \n",
      " 28  processor_generation                  105 non-null    int64  \n",
      " 29  how_powerful_from_1_to_5              105 non-null    float64\n",
      " 30  desktop_perc                          105 non-null    float64\n",
      " 31  laptop_perc                           105 non-null    float64\n",
      " 32  what_would_you_rebuy_for_laptop_imp   105 non-null    int64  \n",
      " 33  what_would_you_rebuy_for_desktop_imp  105 non-null    int64  \n",
      "dtypes: float64(4), int32(2), int64(20), object(8)\n",
      "memory usage: 27.9+ KB\n"
     ]
    }
   ],
   "source": [
    "df.info()"
   ]
  },
  {
   "cell_type": "code",
   "execution_count": 191,
   "id": "012fbde3",
   "metadata": {},
   "outputs": [
    {
     "data": {
      "text/plain": [
       "<Axes: xlabel='what_would_you_rebuy_for_laptop_imp', ylabel='device_price'>"
      ]
     },
     "execution_count": 191,
     "metadata": {},
     "output_type": "execute_result"
    },
    {
     "data": {
      "image/png": "[encoded data removed]",
      "text/plain": [
       "<Figure size 640x480 with 1 Axes>"
      ]
     },
     "metadata": {},
     "output_type": "display_data"
    }
   ],
   "source": [
    "sns.boxplot(y = df[\"device_price\"], x = df[\"what_would_you_rebuy_for_laptop_imp\"], orient = \"v\")\n"
   ]
  },
  {
   "attachments": {},
   "cell_type": "markdown",
   "id": "0971090f",
   "metadata": {},
   "source": [
    "## Inferential statistics"
   ]
  },
  {
   "cell_type": "code",
   "execution_count": 192,
   "id": "27a89755",
   "metadata": {},
   "outputs": [
    {
     "data": {
      "text/plain": [
       "0.7904761904761904"
      ]
     },
     "execution_count": 192,
     "metadata": {},
     "output_type": "execute_result"
    }
   ],
   "source": [
    "total_ratio = df[\"what_would_you_rebuy_for_laptop_imp\"].sum() / df[\"what_would_you_rebuy_for_laptop_imp\"].count()\n",
    "total_ratio"
   ]
  },
  {
   "cell_type": "code",
   "execution_count": 193,
   "id": "bf5e02f3",
   "metadata": {},
   "outputs": [
    {
     "data": {
      "text/plain": [
       "0.408920673500518"
      ]
     },
     "execution_count": 193,
     "metadata": {},
     "output_type": "execute_result"
    }
   ],
   "source": [
    "df['what_would_you_rebuy_for_laptop_imp'].std()"
   ]
  },
  {
   "attachments": {},
   "cell_type": "markdown",
   "id": "75a5c083",
   "metadata": {},
   "source": [
    "#### Do people spend more on PCs or laptops?"
   ]
  },
  {
   "cell_type": "code",
   "execution_count": 194,
   "id": "7dac4ff0",
   "metadata": {},
   "outputs": [],
   "source": [
    "df_pc = df[df['what_would_you_rebuy_for_laptop_imp'] == 0]\n",
    "df_lap = df[df['what_would_you_rebuy_for_laptop_imp'] == 1]"
   ]
  },
  {
   "cell_type": "code",
   "execution_count": 195,
   "id": "e8fc197f",
   "metadata": {
    "scrolled": true
   },
   "outputs": [
    {
     "data": {
      "text/plain": [
       "(array([12., 10., 29., 24., 12.,  9.,  3.,  5.,  0.,  1.]),\n",
       " array([ 2400.,  7160., 11920., 16680., 21440., 26200., 30960., 35720.,\n",
       "        40480., 45240., 50000.]),\n",
       " <BarContainer object of 10 artists>)"
      ]
     },
     "execution_count": 195,
     "metadata": {},
     "output_type": "execute_result"
    },
    {
     "data": {
      "image/png": "[encoded data removed]",
      "text/plain": [
       "<Figure size 640x480 with 1 Axes>"
      ]
     },
     "metadata": {},
     "output_type": "display_data"
    }
   ],
   "source": [
    "plt.hist(df[\"device_price\"])"
   ]
  },
  {
   "cell_type": "code",
   "execution_count": 196,
   "id": "807a5a04",
   "metadata": {},
   "outputs": [
    {
     "name": "stdout",
     "output_type": "stream",
     "text": [
      "18070.159425581114\n",
      "18282.4839302112\n"
     ]
    }
   ],
   "source": [
    "mean_income_lap = df_lap[\"device_price\"].mean()\n",
    "mean_income_pc = df_pc[\"device_price\"].mean()\n",
    "print(mean_income_lap)\n",
    "print(mean_income_pc)"
   ]
  },
  {
   "attachments": {},
   "cell_type": "markdown",
   "id": "0519c587",
   "metadata": {},
   "source": [
    "$H_0: \\mu_1 \\leq \\mu_2$<br>\n",
    "$H_1: \\mu_1 > \\mu_2$"
   ]
  },
  {
   "attachments": {},
   "cell_type": "markdown",
   "id": "d6a7f90c",
   "metadata": {},
   "source": [
    "Since the sample sizes are very small and the distributions are hard to identify, we use empirical statistical methods to perform hypothesis testing.\n",
    "The most suitable to use here is bootstrap."
   ]
  },
  {
   "cell_type": "code",
   "execution_count": 197,
   "id": "8289b82b",
   "metadata": {},
   "outputs": [],
   "source": [
    "iterations = 1000\n",
    "bootstrap_data = np.zeros(iterations)\n",
    "for i in range(iterations):\n",
    "    bootstrap_data[i] = np.random.choice(df_lap[\"device_price\"], size = 23, replace = True).mean() - np.random.choice(df_pc[\"device_price\"], size = 23, replace = True).mean()"
   ]
  },
  {
   "cell_type": "code",
   "execution_count": 198,
   "id": "e4fdb2c0",
   "metadata": {},
   "outputs": [],
   "source": [
    "bootstrap_data.sort()\n"
   ]
  },
  {
   "cell_type": "code",
   "execution_count": 199,
   "id": "eef19b88",
   "metadata": {},
   "outputs": [
    {
     "data": {
      "text/plain": [
       "array([-9768.92841458, -9550.        , -8731.07158542, -7994.37856829,\n",
       "       -7984.14580588, -7851.53711023, -7816.75450154, -7803.71102328,\n",
       "       -7682.60869565, -7608.69565217, -7301.53711023, -7226.08695652,\n",
       "       -7178.26086957, -6913.04347826, -6890.66754502, -6726.08695652,\n",
       "       -6701.27360562, -6694.37856829, -6675.45015371])"
      ]
     },
     "execution_count": 199,
     "metadata": {},
     "output_type": "execute_result"
    }
   ],
   "source": [
    "bootstrap_data[1:20]"
   ]
  },
  {
   "cell_type": "code",
   "execution_count": 200,
   "id": "68b25fdd",
   "metadata": {},
   "outputs": [
    {
     "data": {
      "text/plain": [
       "(array([  3.,  11.,  70., 148., 295., 279., 142.,  48.,   3.,   1.]),\n",
       " array([-11847.18928415,  -9461.62714097,  -7076.0649978 ,  -4690.50285463,\n",
       "         -2304.94071146,     80.62143171,   2466.18357488,   4851.74571805,\n",
       "          7237.30786122,   9622.87000439,  12008.43214756]),\n",
       " <BarContainer object of 10 artists>)"
      ]
     },
     "execution_count": 200,
     "metadata": {},
     "output_type": "execute_result"
    },
    {
     "data": {
      "image/png": "[encoded data removed]",
      "text/plain": [
       "<Figure size 640x480 with 1 Axes>"
      ]
     },
     "metadata": {},
     "output_type": "display_data"
    }
   ],
   "source": [
    "plt.hist(bootstrap_data)"
   ]
  },
  {
   "cell_type": "code",
   "execution_count": 201,
   "id": "0bfdcb1c",
   "metadata": {},
   "outputs": [
    {
     "data": {
      "text/plain": [
       "-168.58392621870897"
      ]
     },
     "execution_count": 201,
     "metadata": {},
     "output_type": "execute_result"
    }
   ],
   "source": [
    "bootstrap_point_mean = bootstrap_data.mean()\n",
    "bootstrap_point_mean"
   ]
  },
  {
   "cell_type": "code",
   "execution_count": 202,
   "id": "11946e56",
   "metadata": {},
   "outputs": [],
   "source": [
    "alpha = 0.05"
   ]
  },
  {
   "attachments": {},
   "cell_type": "markdown",
   "id": "34b20e67",
   "metadata": {},
   "source": [
    "The bootstrap confidence interval is constructed by taking the value at $(\\alpha \\times iterations )\\space  and \\space (iterations - \\alpha \\times iterations)$"
   ]
  },
  {
   "cell_type": "code",
   "execution_count": 203,
   "id": "41a0e97b",
   "metadata": {},
   "outputs": [],
   "source": [
    "left_bound =  bootstrap_data[math.ceil(alpha * iterations)]\n",
    "right_bound = bootstrap_data[math.ceil(1 - alpha * iterations)]"
   ]
  },
  {
   "cell_type": "code",
   "execution_count": 204,
   "id": "4a998b87",
   "metadata": {},
   "outputs": [
    {
     "name": "stdout",
     "output_type": "stream",
     "text": [
      "95% confidence interval for mu1 - mu2:\n",
      "[ -5391.304347826086  ,  4888.230127360561 ]\n"
     ]
    }
   ],
   "source": [
    "print(\"95% confidence interval for mu1 - mu2:\")\n",
    "print(\"[\", left_bound, \" , \", right_bound, \"]\")"
   ]
  },
  {
   "attachments": {},
   "cell_type": "markdown",
   "id": "3a833ace",
   "metadata": {},
   "source": [
    "The bootstrap hypothesis test is performed by checking whether the value for the variable lies within the acceptance region or not, since the null hypothesis states that $X = 0$ where $X = \\mu_1 - \\mu_2$, and $0$ lies inside the acceptance region, therefore we do not have enough evidence to reject the null hypothesis, that people tend to spend more on one device than another"
   ]
  },
  {
   "attachments": {},
   "cell_type": "markdown",
   "id": "4476845f",
   "metadata": {},
   "source": [
    "#### Chi-Square test for gender, with confidence level = 95%\n"
   ]
  },
  {
   "attachments": {},
   "cell_type": "markdown",
   "id": "2259e8aa",
   "metadata": {},
   "source": [
    "$H_0: \\text{The gender has no relationship with one's purchase choice.}$<br>\n",
    "$H_1: \\text{The two variables, gender and purchase choice, are dependent.}$"
   ]
  },
  {
   "cell_type": "code",
   "execution_count": 205,
   "id": "ac59ae2d",
   "metadata": {},
   "outputs": [
    {
     "data": {
      "text/html": [
       "<div>\n",
       "<style scoped>\n",
       "    .dataframe tbody tr th:only-of-type {\n",
       "        vertical-align: middle;\n",
       "    }\n",
       "\n",
       "    .dataframe tbody tr th {\n",
       "        vertical-align: top;\n",
       "    }\n",
       "\n",
       "    .dataframe thead th {\n",
       "        text-align: right;\n",
       "    }\n",
       "</style>\n",
       "<table border=\"1\" class=\"dataframe\">\n",
       "  <thead>\n",
       "    <tr style=\"text-align: right;\">\n",
       "      <th>what_would_you_rebuy_for_laptop_imp</th>\n",
       "      <th>0</th>\n",
       "      <th>1</th>\n",
       "    </tr>\n",
       "    <tr>\n",
       "      <th>gender</th>\n",
       "      <th></th>\n",
       "      <th></th>\n",
       "    </tr>\n",
       "  </thead>\n",
       "  <tbody>\n",
       "    <tr>\n",
       "      <th>Female</th>\n",
       "      <td>7</td>\n",
       "      <td>44</td>\n",
       "    </tr>\n",
       "    <tr>\n",
       "      <th>Male</th>\n",
       "      <td>15</td>\n",
       "      <td>39</td>\n",
       "    </tr>\n",
       "  </tbody>\n",
       "</table>\n",
       "</div>"
      ],
      "text/plain": [
       "what_would_you_rebuy_for_laptop_imp   0   1\n",
       "gender                                     \n",
       "Female                                7  44\n",
       "Male                                 15  39"
      ]
     },
     "execution_count": 205,
     "metadata": {},
     "output_type": "execute_result"
    }
   ],
   "source": [
    "contingency= pd.crosstab(df['gender'], df['what_would_you_rebuy_for_laptop_imp']) \n",
    "contingency"
   ]
  },
  {
   "cell_type": "code",
   "execution_count": 206,
   "id": "b15c62f2",
   "metadata": {},
   "outputs": [
    {
     "data": {
      "text/plain": [
       "0.12639457846098398"
      ]
     },
     "execution_count": 206,
     "metadata": {},
     "output_type": "execute_result"
    }
   ],
   "source": [
    "chi2, p, dof, ex = chi2_contingency(contingency)\n",
    "p"
   ]
  },
  {
   "attachments": {},
   "cell_type": "markdown",
   "id": "1035e576",
   "metadata": {},
   "source": [
    "Since p-value = 0.12639 > $\\alpha$, we cannot reliably reject the null hypothesis.\n",
    "<b>There is not enough evidence to say that the two variables, gender and purchase decision are dependant.</b>"
   ]
  },
  {
   "attachments": {},
   "cell_type": "markdown",
   "id": "ddeb3e7e",
   "metadata": {},
   "source": [
    "#### We conduct a similar test for age:"
   ]
  },
  {
   "cell_type": "code",
   "execution_count": 207,
   "id": "151f8622",
   "metadata": {},
   "outputs": [
    {
     "data": {
      "text/plain": [
       "0.4463577738771114"
      ]
     },
     "execution_count": 207,
     "metadata": {},
     "output_type": "execute_result"
    }
   ],
   "source": [
    "contingency= pd.crosstab(df['age'], df['what_would_you_rebuy_for_laptop_imp']) \n",
    "chi2, p, dof, ex = chi2_contingency(contingency)\n",
    "p"
   ]
  },
  {
   "cell_type": "code",
   "execution_count": 208,
   "id": "2078e2a6",
   "metadata": {},
   "outputs": [
    {
     "data": {
      "text/plain": [
       "0.4463577738771114"
      ]
     },
     "execution_count": 208,
     "metadata": {},
     "output_type": "execute_result"
    }
   ],
   "source": [
    "chi2, p, dof, ex = chi2_contingency(contingency)\n",
    "p"
   ]
  },
  {
   "attachments": {},
   "cell_type": "markdown",
   "id": "d756a40d",
   "metadata": {},
   "source": [
    "Since p-value = 0.44635 $ > \\alpha$, we cannot reliably reject the null hypothesis.\n",
    "<b>There is not enough evidence to say that the two variables, age and purchase decision are dependant.</b>"
   ]
  },
  {
   "attachments": {},
   "cell_type": "markdown",
   "id": "8b570c94",
   "metadata": {},
   "source": [
    "#### Chi-square test for the factors matrix:"
   ]
  },
  {
   "cell_type": "code",
   "execution_count": 209,
   "id": "fdac7b82",
   "metadata": {},
   "outputs": [
    {
     "name": "stdout",
     "output_type": "stream",
     "text": [
      "<class 'pandas.core.frame.DataFrame'>\n",
      "Index: 105 entries, 0 to 105\n",
      "Data columns (total 34 columns):\n",
      " #   Column                                Non-Null Count  Dtype  \n",
      "---  ------                                --------------  -----  \n",
      " 0   age                                   105 non-null    int32  \n",
      " 1   gender                                105 non-null    object \n",
      " 2   level                                 105 non-null    int64  \n",
      " 3   income_level                          105 non-null    object \n",
      " 4   income_level_(num)                    105 non-null    int64  \n",
      " 5   career_path                           105 non-null    object \n",
      " 6   devices_count                         105 non-null    int32  \n",
      " 7   own_tablet                            105 non-null    object \n",
      " 8   main_usage_device                     105 non-null    object \n",
      " 9   surfing_the_internet                  105 non-null    int64  \n",
      " 10  device_price                          105 non-null    float64\n",
      " 11  operating_system                      105 non-null    object \n",
      " 12  device_performance                    105 non-null    object \n",
      " 13  screen_size_importance                105 non-null    int64  \n",
      " 14  portability_importance                105 non-null    int64  \n",
      " 15  upgradability_importance              105 non-null    int64  \n",
      " 16  working_without_cable_importance      105 non-null    int64  \n",
      " 17  performance_importance                105 non-null    int64  \n",
      " 18  affordability_importance              105 non-null    int64  \n",
      " 19  cd_existence_importance               105 non-null    int64  \n",
      " 20  integrated_camera_importance          105 non-null    int64  \n",
      " 21  multiple_monitors_importance          105 non-null    int64  \n",
      " 22  hours_gaming                          105 non-null    int64  \n",
      " 23  hours_work                            105 non-null    int64  \n",
      " 24  hours_academic_study                  105 non-null    int64  \n",
      " 25  self_study_hours                      105 non-null    int64  \n",
      " 26  entertainment_(general)_hours         105 non-null    int64  \n",
      " 27  processor                             105 non-null    object \n",
      " 28  processor_generation                  105 non-null    int64  \n",
      " 29  how_powerful_from_1_to_5              105 non-null    float64\n",
      " 30  desktop_perc                          105 non-null    float64\n",
      " 31  laptop_perc                           105 non-null    float64\n",
      " 32  what_would_you_rebuy_for_laptop_imp   105 non-null    int64  \n",
      " 33  what_would_you_rebuy_for_desktop_imp  105 non-null    int64  \n",
      "dtypes: float64(4), int32(2), int64(20), object(8)\n",
      "memory usage: 27.9+ KB\n"
     ]
    }
   ],
   "source": [
    "df.info()"
   ]
  },
  {
   "cell_type": "code",
   "execution_count": 210,
   "id": "dd40b06e",
   "metadata": {},
   "outputs": [
    {
     "data": {
      "text/html": [
       "<div>\n",
       "<style scoped>\n",
       "    .dataframe tbody tr th:only-of-type {\n",
       "        vertical-align: middle;\n",
       "    }\n",
       "\n",
       "    .dataframe tbody tr th {\n",
       "        vertical-align: top;\n",
       "    }\n",
       "\n",
       "    .dataframe thead th {\n",
       "        text-align: right;\n",
       "    }\n",
       "</style>\n",
       "<table border=\"1\" class=\"dataframe\">\n",
       "  <thead>\n",
       "    <tr style=\"text-align: right;\">\n",
       "      <th></th>\n",
       "      <th>screen_size_importance</th>\n",
       "      <th>portability_importance</th>\n",
       "      <th>upgradability_importance</th>\n",
       "      <th>working_without_cable_importance</th>\n",
       "      <th>performance_importance</th>\n",
       "      <th>affordability_importance</th>\n",
       "      <th>cd_existence_importance</th>\n",
       "      <th>integrated_camera_importance</th>\n",
       "      <th>multiple_monitors_importance</th>\n",
       "    </tr>\n",
       "  </thead>\n",
       "  <tbody>\n",
       "    <tr>\n",
       "      <th>0</th>\n",
       "      <td>4</td>\n",
       "      <td>4</td>\n",
       "      <td>4</td>\n",
       "      <td>4</td>\n",
       "      <td>5</td>\n",
       "      <td>4</td>\n",
       "      <td>2</td>\n",
       "      <td>2</td>\n",
       "      <td>2</td>\n",
       "    </tr>\n",
       "    <tr>\n",
       "      <th>1</th>\n",
       "      <td>3</td>\n",
       "      <td>1</td>\n",
       "      <td>5</td>\n",
       "      <td>1</td>\n",
       "      <td>5</td>\n",
       "      <td>5</td>\n",
       "      <td>1</td>\n",
       "      <td>1</td>\n",
       "      <td>1</td>\n",
       "    </tr>\n",
       "  </tbody>\n",
       "</table>\n",
       "</div>"
      ],
      "text/plain": [
       "   screen_size_importance  portability_importance  upgradability_importance   \n",
       "0                       4                       4                         4  \\\n",
       "1                       3                       1                         5   \n",
       "\n",
       "   working_without_cable_importance  performance_importance   \n",
       "0                                 4                       5  \\\n",
       "1                                 1                       5   \n",
       "\n",
       "   affordability_importance  cd_existence_importance   \n",
       "0                         4                        2  \\\n",
       "1                         5                        1   \n",
       "\n",
       "   integrated_camera_importance  multiple_monitors_importance  \n",
       "0                             2                             2  \n",
       "1                             1                             1  "
      ]
     },
     "execution_count": 210,
     "metadata": {},
     "output_type": "execute_result"
    }
   ],
   "source": [
    "df.iloc[:,13:22].head(2)"
   ]
  },
  {
   "cell_type": "code",
   "execution_count": 211,
   "id": "8c88062f",
   "metadata": {},
   "outputs": [
    {
     "name": "stdout",
     "output_type": "stream",
     "text": [
      "13 0.0503926289910679\n",
      "14 0.0011445778985958997\n",
      "16 0.007655248020749649\n",
      "22 0.0009154120091443274\n"
     ]
    }
   ],
   "source": [
    "for i in range(13, 23):\n",
    "    contingency= pd.crosstab(df['what_would_you_rebuy_for_laptop_imp'], df.iloc[:,i]) \n",
    "    chi2, p, dof, ex = chi2_contingency(contingency)\n",
    "    if(p < 0.1):\n",
    "        print(i, p)"
   ]
  },
  {
   "attachments": {},
   "cell_type": "markdown",
   "id": "bf63b84d",
   "metadata": {},
   "source": [
    "Since all the variables are ordinal, we use the chi-square test to test all of them for dependency.\n",
    "With alpha = 0.05, the only two factors that show dependency is how much a user cares about portability and working without cable, which are highly correlated because the latter is part of the first.\n",
    "Using alpha = 0.1, we can be at least 90% confident that the screen size also shows dependency. \n",
    "For other tests, there is not enough evidence for dependency."
   ]
  },
  {
   "attachments": {},
   "cell_type": "markdown",
   "id": "b8cf24c5",
   "metadata": {},
   "source": [
    "Other factors will be checked through logistic regression analysis"
   ]
  },
  {
   "attachments": {},
   "cell_type": "markdown",
   "id": "38c6d361",
   "metadata": {},
   "source": [
    "## Building the model"
   ]
  },
  {
   "cell_type": "code",
   "execution_count": 212,
   "id": "7zCB7FzspTuU",
   "metadata": {
    "id": "7zCB7FzspTuU"
   },
   "outputs": [],
   "source": [
    "df.drop(columns=['working_without_cable_importance', 'affordability_importance', 'processor_generation'], inplace=True)\n",
    "# dropped due to multicollinearity"
   ]
  },
  {
   "cell_type": "code",
   "execution_count": 213,
   "id": "Mz1Z-t0tbE4F",
   "metadata": {
    "id": "Mz1Z-t0tbE4F"
   },
   "outputs": [],
   "source": [
    "ohe = OneHotEncoder(drop='first')\n",
    "\n",
    "gender_enc = ohe.fit_transform(df[['gender']])\n",
    "df[list(ohe.categories_[0])[1:]] = gender_enc.toarray()\n",
    "\n",
    "own_tablet_enc = ohe.fit_transform(df[['own_tablet']])\n",
    "df['own_tablet'] = own_tablet_enc.toarray()\n",
    "\n",
    "operating_system_enc = ohe.fit_transform(df[['operating_system']])\n",
    "df[list(ohe.categories_[0])[1:]] = operating_system_enc.toarray()\n",
    "df.drop(columns=['operating_system'], inplace=True)\n",
    "\n",
    "career_path_enc = ohe.fit_transform(df[['career_path']])\n",
    "df[list(ohe.categories_[0])[1:]] = career_path_enc.toarray()\n",
    "df.drop(columns=['career_path'], inplace=True)\n",
    "\n",
    "processor_enc = ohe.fit_transform(df[['processor']])\n",
    "df[list(ohe.categories_[0])[1:]] = processor_enc.toarray()\n",
    "df.drop(columns=['processor'], inplace=True)"
   ]
  },
  {
   "cell_type": "code",
   "execution_count": 214,
   "id": "bf2e0829",
   "metadata": {},
   "outputs": [],
   "source": [
    "# df.corr()[\"what_would_you_rebuy_for_laptop_imp\"].sort_values()"
   ]
  },
  {
   "cell_type": "code",
   "execution_count": 215,
   "id": "7faca7f9",
   "metadata": {
    "colab": {
     "base_uri": "https://localhost:8080/"
    },
    "id": "7faca7f9",
    "outputId": "a60012c7-fe10-48ab-fb43-2796ba1a53a4",
    "scrolled": false
   },
   "outputs": [
    {
     "name": "stdout",
     "output_type": "stream",
     "text": [
      "<class 'pandas.core.frame.DataFrame'>\n",
      "Index: 105 entries, 0 to 105\n",
      "Data columns (total 58 columns):\n",
      " #   Column                                Non-Null Count  Dtype  \n",
      "---  ------                                --------------  -----  \n",
      " 0   age                                   105 non-null    int32  \n",
      " 1   gender                                105 non-null    object \n",
      " 2   level                                 105 non-null    int64  \n",
      " 3   income_level                          105 non-null    object \n",
      " 4   income_level_(num)                    105 non-null    int64  \n",
      " 5   devices_count                         105 non-null    int32  \n",
      " 6   own_tablet                            105 non-null    float64\n",
      " 7   main_usage_device                     105 non-null    object \n",
      " 8   surfing_the_internet                  105 non-null    int64  \n",
      " 9   device_price                          105 non-null    float64\n",
      " 10  device_performance                    105 non-null    object \n",
      " 11  screen_size_importance                105 non-null    int64  \n",
      " 12  portability_importance                105 non-null    int64  \n",
      " 13  upgradability_importance              105 non-null    int64  \n",
      " 14  performance_importance                105 non-null    int64  \n",
      " 15  cd_existence_importance               105 non-null    int64  \n",
      " 16  integrated_camera_importance          105 non-null    int64  \n",
      " 17  multiple_monitors_importance          105 non-null    int64  \n",
      " 18  hours_gaming                          105 non-null    int64  \n",
      " 19  hours_work                            105 non-null    int64  \n",
      " 20  hours_academic_study                  105 non-null    int64  \n",
      " 21  self_study_hours                      105 non-null    int64  \n",
      " 22  entertainment_(general)_hours         105 non-null    int64  \n",
      " 23  how_powerful_from_1_to_5              105 non-null    float64\n",
      " 24  desktop_perc                          105 non-null    float64\n",
      " 25  laptop_perc                           105 non-null    float64\n",
      " 26  what_would_you_rebuy_for_laptop_imp   105 non-null    int64  \n",
      " 27  what_would_you_rebuy_for_desktop_imp  105 non-null    int64  \n",
      " 28  Male                                  105 non-null    float64\n",
      " 29  Mac                                   105 non-null    float64\n",
      " 30  Windows                               105 non-null    float64\n",
      " 31  Cyber security analyst                105 non-null    float64\n",
      " 32  Data analyst                          105 non-null    float64\n",
      " 33  Data scientist                        105 non-null    float64\n",
      " 34  Dentist                               105 non-null    float64\n",
      " 35  Electrical engineer                   105 non-null    float64\n",
      " 36  Graphic Designer                      105 non-null    float64\n",
      " 37  Penetration tester                    105 non-null    float64\n",
      " 38  Quantum Physicist                     105 non-null    float64\n",
      " 39  Software Developer                    105 non-null    float64\n",
      " 40  Student                               105 non-null    float64\n",
      " 41  Teaching                              105 non-null    float64\n",
      " 42  Video Game Developer                  105 non-null    float64\n",
      " 43  cloud computing engineer              105 non-null    float64\n",
      " 44  mobile developer                      105 non-null    float64\n",
      " 45  web developer                         105 non-null    float64\n",
      " 46  AMD a4                                105 non-null    float64\n",
      " 47  AMD a6                                105 non-null    float64\n",
      " 48  AMD a8                                105 non-null    float64\n",
      " 49  Core i3                               105 non-null    float64\n",
      " 50  Core i5                               105 non-null    float64\n",
      " 51  Core i7                               105 non-null    float64\n",
      " 52  Core i9                               105 non-null    float64\n",
      " 53  Intel Xeon                            105 non-null    float64\n",
      " 54  Ryzen 3                               105 non-null    float64\n",
      " 55  Ryzen 5                               105 non-null    float64\n",
      " 56  Ryzen 7                               105 non-null    float64\n",
      " 57  Ryzen 9                               105 non-null    float64\n",
      "dtypes: float64(35), int32(2), int64(17), object(4)\n",
      "memory usage: 47.6+ KB\n"
     ]
    }
   ],
   "source": [
    "df.info()"
   ]
  },
  {
   "cell_type": "code",
   "execution_count": 216,
   "id": "Gu_LMZA36zwg",
   "metadata": {
    "colab": {
     "base_uri": "https://localhost:8080/"
    },
    "id": "Gu_LMZA36zwg",
    "outputId": "45cca9a9-9296-4e9a-9e17-d94016852e07"
   },
   "outputs": [
    {
     "data": {
      "text/plain": [
       "array([1., 0.])"
      ]
     },
     "execution_count": 216,
     "metadata": {},
     "output_type": "execute_result"
    }
   ],
   "source": [
    "df['own_tablet'].unique()"
   ]
  },
  {
   "cell_type": "code",
   "execution_count": 217,
   "id": "qCObIOKe9AsV",
   "metadata": {
    "id": "qCObIOKe9AsV"
   },
   "outputs": [
    {
     "data": {
      "text/html": [
       "<div>\n",
       "<style scoped>\n",
       "    .dataframe tbody tr th:only-of-type {\n",
       "        vertical-align: middle;\n",
       "    }\n",
       "\n",
       "    .dataframe tbody tr th {\n",
       "        vertical-align: top;\n",
       "    }\n",
       "\n",
       "    .dataframe thead th {\n",
       "        text-align: right;\n",
       "    }\n",
       "</style>\n",
       "<table border=\"1\" class=\"dataframe\">\n",
       "  <thead>\n",
       "    <tr style=\"text-align: right;\">\n",
       "      <th></th>\n",
       "      <th>age</th>\n",
       "      <th>level</th>\n",
       "      <th>income_level_(num)</th>\n",
       "      <th>devices_count</th>\n",
       "      <th>own_tablet</th>\n",
       "      <th>surfing_the_internet</th>\n",
       "      <th>device_price</th>\n",
       "      <th>screen_size_importance</th>\n",
       "      <th>portability_importance</th>\n",
       "      <th>upgradability_importance</th>\n",
       "      <th>...</th>\n",
       "      <th>AMD a8</th>\n",
       "      <th>Core i3</th>\n",
       "      <th>Core i5</th>\n",
       "      <th>Core i7</th>\n",
       "      <th>Core i9</th>\n",
       "      <th>Intel Xeon</th>\n",
       "      <th>Ryzen 3</th>\n",
       "      <th>Ryzen 5</th>\n",
       "      <th>Ryzen 7</th>\n",
       "      <th>Ryzen 9</th>\n",
       "    </tr>\n",
       "  </thead>\n",
       "  <tbody>\n",
       "    <tr>\n",
       "      <th>0</th>\n",
       "      <td>19</td>\n",
       "      <td>1</td>\n",
       "      <td>2</td>\n",
       "      <td>4</td>\n",
       "      <td>1.0</td>\n",
       "      <td>0</td>\n",
       "      <td>15000.0</td>\n",
       "      <td>4</td>\n",
       "      <td>4</td>\n",
       "      <td>4</td>\n",
       "      <td>...</td>\n",
       "      <td>0.0</td>\n",
       "      <td>0.0</td>\n",
       "      <td>0.0</td>\n",
       "      <td>1.0</td>\n",
       "      <td>0.0</td>\n",
       "      <td>0.0</td>\n",
       "      <td>0.0</td>\n",
       "      <td>0.0</td>\n",
       "      <td>0.0</td>\n",
       "      <td>0.0</td>\n",
       "    </tr>\n",
       "    <tr>\n",
       "      <th>1</th>\n",
       "      <td>21</td>\n",
       "      <td>3</td>\n",
       "      <td>1</td>\n",
       "      <td>2</td>\n",
       "      <td>1.0</td>\n",
       "      <td>0</td>\n",
       "      <td>13000.0</td>\n",
       "      <td>3</td>\n",
       "      <td>1</td>\n",
       "      <td>5</td>\n",
       "      <td>...</td>\n",
       "      <td>0.0</td>\n",
       "      <td>0.0</td>\n",
       "      <td>0.0</td>\n",
       "      <td>0.0</td>\n",
       "      <td>0.0</td>\n",
       "      <td>0.0</td>\n",
       "      <td>0.0</td>\n",
       "      <td>1.0</td>\n",
       "      <td>0.0</td>\n",
       "      <td>0.0</td>\n",
       "    </tr>\n",
       "    <tr>\n",
       "      <th>2</th>\n",
       "      <td>20</td>\n",
       "      <td>2</td>\n",
       "      <td>2</td>\n",
       "      <td>4</td>\n",
       "      <td>1.0</td>\n",
       "      <td>0</td>\n",
       "      <td>8000.0</td>\n",
       "      <td>3</td>\n",
       "      <td>4</td>\n",
       "      <td>3</td>\n",
       "      <td>...</td>\n",
       "      <td>0.0</td>\n",
       "      <td>0.0</td>\n",
       "      <td>0.0</td>\n",
       "      <td>0.0</td>\n",
       "      <td>0.0</td>\n",
       "      <td>0.0</td>\n",
       "      <td>0.0</td>\n",
       "      <td>1.0</td>\n",
       "      <td>0.0</td>\n",
       "      <td>0.0</td>\n",
       "    </tr>\n",
       "    <tr>\n",
       "      <th>3</th>\n",
       "      <td>19</td>\n",
       "      <td>2</td>\n",
       "      <td>2</td>\n",
       "      <td>3</td>\n",
       "      <td>1.0</td>\n",
       "      <td>0</td>\n",
       "      <td>18000.0</td>\n",
       "      <td>4</td>\n",
       "      <td>4</td>\n",
       "      <td>3</td>\n",
       "      <td>...</td>\n",
       "      <td>0.0</td>\n",
       "      <td>0.0</td>\n",
       "      <td>0.0</td>\n",
       "      <td>0.0</td>\n",
       "      <td>0.0</td>\n",
       "      <td>1.0</td>\n",
       "      <td>0.0</td>\n",
       "      <td>0.0</td>\n",
       "      <td>0.0</td>\n",
       "      <td>0.0</td>\n",
       "    </tr>\n",
       "    <tr>\n",
       "      <th>4</th>\n",
       "      <td>21</td>\n",
       "      <td>3</td>\n",
       "      <td>2</td>\n",
       "      <td>3</td>\n",
       "      <td>0.0</td>\n",
       "      <td>0</td>\n",
       "      <td>15000.0</td>\n",
       "      <td>2</td>\n",
       "      <td>2</td>\n",
       "      <td>1</td>\n",
       "      <td>...</td>\n",
       "      <td>0.0</td>\n",
       "      <td>0.0</td>\n",
       "      <td>0.0</td>\n",
       "      <td>1.0</td>\n",
       "      <td>0.0</td>\n",
       "      <td>0.0</td>\n",
       "      <td>0.0</td>\n",
       "      <td>0.0</td>\n",
       "      <td>0.0</td>\n",
       "      <td>0.0</td>\n",
       "    </tr>\n",
       "    <tr>\n",
       "      <th>...</th>\n",
       "      <td>...</td>\n",
       "      <td>...</td>\n",
       "      <td>...</td>\n",
       "      <td>...</td>\n",
       "      <td>...</td>\n",
       "      <td>...</td>\n",
       "      <td>...</td>\n",
       "      <td>...</td>\n",
       "      <td>...</td>\n",
       "      <td>...</td>\n",
       "      <td>...</td>\n",
       "      <td>...</td>\n",
       "      <td>...</td>\n",
       "      <td>...</td>\n",
       "      <td>...</td>\n",
       "      <td>...</td>\n",
       "      <td>...</td>\n",
       "      <td>...</td>\n",
       "      <td>...</td>\n",
       "      <td>...</td>\n",
       "      <td>...</td>\n",
       "    </tr>\n",
       "    <tr>\n",
       "      <th>101</th>\n",
       "      <td>19</td>\n",
       "      <td>2</td>\n",
       "      <td>1</td>\n",
       "      <td>3</td>\n",
       "      <td>1.0</td>\n",
       "      <td>0</td>\n",
       "      <td>30000.0</td>\n",
       "      <td>5</td>\n",
       "      <td>1</td>\n",
       "      <td>4</td>\n",
       "      <td>...</td>\n",
       "      <td>0.0</td>\n",
       "      <td>0.0</td>\n",
       "      <td>0.0</td>\n",
       "      <td>0.0</td>\n",
       "      <td>0.0</td>\n",
       "      <td>0.0</td>\n",
       "      <td>0.0</td>\n",
       "      <td>1.0</td>\n",
       "      <td>0.0</td>\n",
       "      <td>0.0</td>\n",
       "    </tr>\n",
       "    <tr>\n",
       "      <th>102</th>\n",
       "      <td>20</td>\n",
       "      <td>2</td>\n",
       "      <td>3</td>\n",
       "      <td>3</td>\n",
       "      <td>1.0</td>\n",
       "      <td>1</td>\n",
       "      <td>30000.0</td>\n",
       "      <td>4</td>\n",
       "      <td>5</td>\n",
       "      <td>2</td>\n",
       "      <td>...</td>\n",
       "      <td>0.0</td>\n",
       "      <td>0.0</td>\n",
       "      <td>0.0</td>\n",
       "      <td>1.0</td>\n",
       "      <td>0.0</td>\n",
       "      <td>0.0</td>\n",
       "      <td>0.0</td>\n",
       "      <td>0.0</td>\n",
       "      <td>0.0</td>\n",
       "      <td>0.0</td>\n",
       "    </tr>\n",
       "    <tr>\n",
       "      <th>103</th>\n",
       "      <td>21</td>\n",
       "      <td>4</td>\n",
       "      <td>2</td>\n",
       "      <td>3</td>\n",
       "      <td>1.0</td>\n",
       "      <td>0</td>\n",
       "      <td>38000.0</td>\n",
       "      <td>4</td>\n",
       "      <td>4</td>\n",
       "      <td>3</td>\n",
       "      <td>...</td>\n",
       "      <td>0.0</td>\n",
       "      <td>0.0</td>\n",
       "      <td>0.0</td>\n",
       "      <td>1.0</td>\n",
       "      <td>0.0</td>\n",
       "      <td>0.0</td>\n",
       "      <td>0.0</td>\n",
       "      <td>0.0</td>\n",
       "      <td>0.0</td>\n",
       "      <td>0.0</td>\n",
       "    </tr>\n",
       "    <tr>\n",
       "      <th>104</th>\n",
       "      <td>21</td>\n",
       "      <td>4</td>\n",
       "      <td>2</td>\n",
       "      <td>4</td>\n",
       "      <td>1.0</td>\n",
       "      <td>0</td>\n",
       "      <td>15500.0</td>\n",
       "      <td>3</td>\n",
       "      <td>4</td>\n",
       "      <td>4</td>\n",
       "      <td>...</td>\n",
       "      <td>0.0</td>\n",
       "      <td>0.0</td>\n",
       "      <td>1.0</td>\n",
       "      <td>0.0</td>\n",
       "      <td>0.0</td>\n",
       "      <td>0.0</td>\n",
       "      <td>0.0</td>\n",
       "      <td>0.0</td>\n",
       "      <td>0.0</td>\n",
       "      <td>0.0</td>\n",
       "    </tr>\n",
       "    <tr>\n",
       "      <th>105</th>\n",
       "      <td>19</td>\n",
       "      <td>1</td>\n",
       "      <td>1</td>\n",
       "      <td>2</td>\n",
       "      <td>0.0</td>\n",
       "      <td>0</td>\n",
       "      <td>7500.0</td>\n",
       "      <td>2</td>\n",
       "      <td>2</td>\n",
       "      <td>2</td>\n",
       "      <td>...</td>\n",
       "      <td>0.0</td>\n",
       "      <td>0.0</td>\n",
       "      <td>0.0</td>\n",
       "      <td>1.0</td>\n",
       "      <td>0.0</td>\n",
       "      <td>0.0</td>\n",
       "      <td>0.0</td>\n",
       "      <td>0.0</td>\n",
       "      <td>0.0</td>\n",
       "      <td>0.0</td>\n",
       "    </tr>\n",
       "  </tbody>\n",
       "</table>\n",
       "<p>105 rows × 52 columns</p>\n",
       "</div>"
      ],
      "text/plain": [
       "     age  level  income_level_(num)  devices_count  own_tablet   \n",
       "0     19      1                   2              4         1.0  \\\n",
       "1     21      3                   1              2         1.0   \n",
       "2     20      2                   2              4         1.0   \n",
       "3     19      2                   2              3         1.0   \n",
       "4     21      3                   2              3         0.0   \n",
       "..   ...    ...                 ...            ...         ...   \n",
       "101   19      2                   1              3         1.0   \n",
       "102   20      2                   3              3         1.0   \n",
       "103   21      4                   2              3         1.0   \n",
       "104   21      4                   2              4         1.0   \n",
       "105   19      1                   1              2         0.0   \n",
       "\n",
       "     surfing_the_internet  device_price  screen_size_importance   \n",
       "0                       0       15000.0                       4  \\\n",
       "1                       0       13000.0                       3   \n",
       "2                       0        8000.0                       3   \n",
       "3                       0       18000.0                       4   \n",
       "4                       0       15000.0                       2   \n",
       "..                    ...           ...                     ...   \n",
       "101                     0       30000.0                       5   \n",
       "102                     1       30000.0                       4   \n",
       "103                     0       38000.0                       4   \n",
       "104                     0       15500.0                       3   \n",
       "105                     0        7500.0                       2   \n",
       "\n",
       "     portability_importance  upgradability_importance  ...  AMD a8  Core i3   \n",
       "0                         4                         4  ...     0.0      0.0  \\\n",
       "1                         1                         5  ...     0.0      0.0   \n",
       "2                         4                         3  ...     0.0      0.0   \n",
       "3                         4                         3  ...     0.0      0.0   \n",
       "4                         2                         1  ...     0.0      0.0   \n",
       "..                      ...                       ...  ...     ...      ...   \n",
       "101                       1                         4  ...     0.0      0.0   \n",
       "102                       5                         2  ...     0.0      0.0   \n",
       "103                       4                         3  ...     0.0      0.0   \n",
       "104                       4                         4  ...     0.0      0.0   \n",
       "105                       2                         2  ...     0.0      0.0   \n",
       "\n",
       "     Core i5  Core i7  Core i9  Intel Xeon  Ryzen 3  Ryzen 5  Ryzen 7  Ryzen 9  \n",
       "0        0.0      1.0      0.0         0.0      0.0      0.0      0.0      0.0  \n",
       "1        0.0      0.0      0.0         0.0      0.0      1.0      0.0      0.0  \n",
       "2        0.0      0.0      0.0         0.0      0.0      1.0      0.0      0.0  \n",
       "3        0.0      0.0      0.0         1.0      0.0      0.0      0.0      0.0  \n",
       "4        0.0      1.0      0.0         0.0      0.0      0.0      0.0      0.0  \n",
       "..       ...      ...      ...         ...      ...      ...      ...      ...  \n",
       "101      0.0      0.0      0.0         0.0      0.0      1.0      0.0      0.0  \n",
       "102      0.0      1.0      0.0         0.0      0.0      0.0      0.0      0.0  \n",
       "103      0.0      1.0      0.0         0.0      0.0      0.0      0.0      0.0  \n",
       "104      1.0      0.0      0.0         0.0      0.0      0.0      0.0      0.0  \n",
       "105      0.0      1.0      0.0         0.0      0.0      0.0      0.0      0.0  \n",
       "\n",
       "[105 rows x 52 columns]"
      ]
     },
     "execution_count": 217,
     "metadata": {},
     "output_type": "execute_result"
    }
   ],
   "source": [
    "X = df.drop(columns=['device_performance','main_usage_device','income_level', 'gender', 'what_would_you_rebuy_for_laptop_imp', 'what_would_you_rebuy_for_desktop_imp'])\n",
    "y_lap = df['what_would_you_rebuy_for_laptop_imp']\n",
    "y_desk = df['what_would_you_rebuy_for_desktop_imp']\n",
    "X"
   ]
  },
  {
   "cell_type": "code",
   "execution_count": 218,
   "id": "Pfp7fdWR-2fX",
   "metadata": {
    "id": "Pfp7fdWR-2fX"
   },
   "outputs": [],
   "source": [
    "X_train, X_test, y_train, y_test = train_test_split(X, y_lap, test_size=.2, random_state=42)"
   ]
  },
  {
   "cell_type": "code",
   "execution_count": 219,
   "id": "yN5wuWy__cBU",
   "metadata": {
    "colab": {
     "base_uri": "https://localhost:8080/"
    },
    "id": "yN5wuWy__cBU",
    "outputId": "0849b3a6-b7f8-4523-fe46-41e24262b568"
   },
   "outputs": [
    {
     "data": {
      "text/plain": [
       "what_would_you_rebuy_for_laptop_imp\n",
       "1    0.790476\n",
       "0    0.209524\n",
       "Name: proportion, dtype: float64"
      ]
     },
     "execution_count": 219,
     "metadata": {},
     "output_type": "execute_result"
    }
   ],
   "source": [
    "df.what_would_you_rebuy_for_laptop_imp.value_counts(normalize=True)\n",
    "# baseline is 0.78"
   ]
  },
  {
   "cell_type": "code",
   "execution_count": 220,
   "id": "DvqcHYif_I-M",
   "metadata": {
    "colab": {
     "base_uri": "https://localhost:8080/",
     "height": 74
    },
    "id": "DvqcHYif_I-M",
    "outputId": "7803a501-a6a1-45a4-8b84-b9ebd68e4257",
    "scrolled": true
   },
   "outputs": [
    {
     "data": {
      "text/html": [
       "<style>#sk-container-id-2 {color: black;background-color: white;}#sk-container-id-2 pre{padding: 0;}#sk-container-id-2 div.sk-toggleable {background-color: white;}#sk-container-id-2 label.sk-toggleable__label {cursor: pointer;display: block;width: 100%;margin-bottom: 0;padding: 0.3em;box-sizing: border-box;text-align: center;}#sk-container-id-2 label.sk-toggleable__label-arrow:before {content: \"▸\";float: left;margin-right: 0.25em;color: #696969;}#sk-container-id-2 label.sk-toggleable__label-arrow:hover:before {color: black;}#sk-container-id-2 div.sk-estimator:hover label.sk-toggleable__label-arrow:before {color: black;}#sk-container-id-2 div.sk-toggleable__content {max-height: 0;max-width: 0;overflow: hidden;text-align: left;background-color: #f0f8ff;}#sk-container-id-2 div.sk-toggleable__content pre {margin: 0.2em;color: black;border-radius: 0.25em;background-color: #f0f8ff;}#sk-container-id-2 input.sk-toggleable__control:checked~div.sk-toggleable__content {max-height: 200px;max-width: 100%;overflow: auto;}#sk-container-id-2 input.sk-toggleable__control:checked~label.sk-toggleable__label-arrow:before {content: \"▾\";}#sk-container-id-2 div.sk-estimator input.sk-toggleable__control:checked~label.sk-toggleable__label {background-color: #d4ebff;}#sk-container-id-2 div.sk-label input.sk-toggleable__control:checked~label.sk-toggleable__label {background-color: #d4ebff;}#sk-container-id-2 input.sk-hidden--visually {border: 0;clip: rect(1px 1px 1px 1px);clip: rect(1px, 1px, 1px, 1px);height: 1px;margin: -1px;overflow: hidden;padding: 0;position: absolute;width: 1px;}#sk-container-id-2 div.sk-estimator {font-family: monospace;background-color: #f0f8ff;border: 1px dotted black;border-radius: 0.25em;box-sizing: border-box;margin-bottom: 0.5em;}#sk-container-id-2 div.sk-estimator:hover {background-color: #d4ebff;}#sk-container-id-2 div.sk-parallel-item::after {content: \"\";width: 100%;border-bottom: 1px solid gray;flex-grow: 1;}#sk-container-id-2 div.sk-label:hover label.sk-toggleable__label {background-color: #d4ebff;}#sk-container-id-2 div.sk-serial::before {content: \"\";position: absolute;border-left: 1px solid gray;box-sizing: border-box;top: 0;bottom: 0;left: 50%;z-index: 0;}#sk-container-id-2 div.sk-serial {display: flex;flex-direction: column;align-items: center;background-color: white;padding-right: 0.2em;padding-left: 0.2em;position: relative;}#sk-container-id-2 div.sk-item {position: relative;z-index: 1;}#sk-container-id-2 div.sk-parallel {display: flex;align-items: stretch;justify-content: center;background-color: white;position: relative;}#sk-container-id-2 div.sk-item::before, #sk-container-id-2 div.sk-parallel-item::before {content: \"\";position: absolute;border-left: 1px solid gray;box-sizing: border-box;top: 0;bottom: 0;left: 50%;z-index: -1;}#sk-container-id-2 div.sk-parallel-item {display: flex;flex-direction: column;z-index: 1;position: relative;background-color: white;}#sk-container-id-2 div.sk-parallel-item:first-child::after {align-self: flex-end;width: 50%;}#sk-container-id-2 div.sk-parallel-item:last-child::after {align-self: flex-start;width: 50%;}#sk-container-id-2 div.sk-parallel-item:only-child::after {width: 0;}#sk-container-id-2 div.sk-dashed-wrapped {border: 1px dashed gray;margin: 0 0.4em 0.5em 0.4em;box-sizing: border-box;padding-bottom: 0.4em;background-color: white;}#sk-container-id-2 div.sk-label label {font-family: monospace;font-weight: bold;display: inline-block;line-height: 1.2em;}#sk-container-id-2 div.sk-label-container {text-align: center;}#sk-container-id-2 div.sk-container {/* jupyter's `normalize.less` sets `[hidden] { display: none; }` but bootstrap.min.css set `[hidden] { display: none !important; }` so we also need the `!important` here to be able to override the default hidden behavior on the sphinx rendered scikit-learn.org. See: https://github.com/scikit-learn/scikit-learn/issues/21755 */display: inline-block !important;position: relative;}#sk-container-id-2 div.sk-text-repr-fallback {display: none;}</style><div id=\"sk-container-id-2\" class=\"sk-top-container\"><div class=\"sk-text-repr-fallback\"><pre>LogisticRegression(max_iter=1000)</pre><b>In a Jupyter environment, please rerun this cell to show the HTML representation or trust the notebook. <br />On GitHub, the HTML representation is unable to render, please try loading this page with nbviewer.org.</b></div><div class=\"sk-container\" hidden><div class=\"sk-item\"><div class=\"sk-estimator sk-toggleable\"><input class=\"sk-toggleable__control sk-hidden--visually\" id=\"sk-estimator-id-2\" type=\"checkbox\" checked><label for=\"sk-estimator-id-2\" class=\"sk-toggleable__label sk-toggleable__label-arrow\">LogisticRegression</label><div class=\"sk-toggleable__content\"><pre>LogisticRegression(max_iter=1000)</pre></div></div></div></div></div>"
      ],
      "text/plain": [
       "LogisticRegression(max_iter=1000)"
      ]
     },
     "execution_count": 220,
     "metadata": {},
     "output_type": "execute_result"
    }
   ],
   "source": [
    "model = LogisticRegression(max_iter=1000)\n",
    "model.fit(X_train, y_train)"
   ]
  },
  {
   "cell_type": "code",
   "execution_count": 221,
   "id": "1a99f78d",
   "metadata": {},
   "outputs": [
    {
     "data": {
      "text/html": [
       "<div>\n",
       "<style scoped>\n",
       "    .dataframe tbody tr th:only-of-type {\n",
       "        vertical-align: middle;\n",
       "    }\n",
       "\n",
       "    .dataframe tbody tr th {\n",
       "        vertical-align: top;\n",
       "    }\n",
       "\n",
       "    .dataframe thead th {\n",
       "        text-align: right;\n",
       "    }\n",
       "</style>\n",
       "<table border=\"1\" class=\"dataframe\">\n",
       "  <thead>\n",
       "    <tr style=\"text-align: right;\">\n",
       "      <th></th>\n",
       "      <th>age</th>\n",
       "      <th>gender</th>\n",
       "      <th>level</th>\n",
       "      <th>income_level</th>\n",
       "      <th>income_level_(num)</th>\n",
       "      <th>devices_count</th>\n",
       "      <th>own_tablet</th>\n",
       "      <th>main_usage_device</th>\n",
       "      <th>surfing_the_internet</th>\n",
       "      <th>device_price</th>\n",
       "      <th>...</th>\n",
       "      <th>AMD a8</th>\n",
       "      <th>Core i3</th>\n",
       "      <th>Core i5</th>\n",
       "      <th>Core i7</th>\n",
       "      <th>Core i9</th>\n",
       "      <th>Intel Xeon</th>\n",
       "      <th>Ryzen 3</th>\n",
       "      <th>Ryzen 5</th>\n",
       "      <th>Ryzen 7</th>\n",
       "      <th>Ryzen 9</th>\n",
       "    </tr>\n",
       "  </thead>\n",
       "  <tbody>\n",
       "    <tr>\n",
       "      <th>0</th>\n",
       "      <td>19</td>\n",
       "      <td>Female</td>\n",
       "      <td>1</td>\n",
       "      <td>Medium</td>\n",
       "      <td>2</td>\n",
       "      <td>4</td>\n",
       "      <td>1.0</td>\n",
       "      <td>Study</td>\n",
       "      <td>0</td>\n",
       "      <td>15000.0</td>\n",
       "      <td>...</td>\n",
       "      <td>0.0</td>\n",
       "      <td>0.0</td>\n",
       "      <td>0.0</td>\n",
       "      <td>1.0</td>\n",
       "      <td>0.0</td>\n",
       "      <td>0.0</td>\n",
       "      <td>0.0</td>\n",
       "      <td>0.0</td>\n",
       "      <td>0.0</td>\n",
       "      <td>0.0</td>\n",
       "    </tr>\n",
       "    <tr>\n",
       "      <th>1</th>\n",
       "      <td>21</td>\n",
       "      <td>Male</td>\n",
       "      <td>3</td>\n",
       "      <td>Low</td>\n",
       "      <td>1</td>\n",
       "      <td>2</td>\n",
       "      <td>1.0</td>\n",
       "      <td>Study</td>\n",
       "      <td>0</td>\n",
       "      <td>13000.0</td>\n",
       "      <td>...</td>\n",
       "      <td>0.0</td>\n",
       "      <td>0.0</td>\n",
       "      <td>0.0</td>\n",
       "      <td>0.0</td>\n",
       "      <td>0.0</td>\n",
       "      <td>0.0</td>\n",
       "      <td>0.0</td>\n",
       "      <td>1.0</td>\n",
       "      <td>0.0</td>\n",
       "      <td>0.0</td>\n",
       "    </tr>\n",
       "    <tr>\n",
       "      <th>2</th>\n",
       "      <td>20</td>\n",
       "      <td>Female</td>\n",
       "      <td>2</td>\n",
       "      <td>Medium</td>\n",
       "      <td>2</td>\n",
       "      <td>4</td>\n",
       "      <td>1.0</td>\n",
       "      <td>Study</td>\n",
       "      <td>0</td>\n",
       "      <td>8000.0</td>\n",
       "      <td>...</td>\n",
       "      <td>0.0</td>\n",
       "      <td>0.0</td>\n",
       "      <td>0.0</td>\n",
       "      <td>0.0</td>\n",
       "      <td>0.0</td>\n",
       "      <td>0.0</td>\n",
       "      <td>0.0</td>\n",
       "      <td>1.0</td>\n",
       "      <td>0.0</td>\n",
       "      <td>0.0</td>\n",
       "    </tr>\n",
       "    <tr>\n",
       "      <th>3</th>\n",
       "      <td>19</td>\n",
       "      <td>Female</td>\n",
       "      <td>2</td>\n",
       "      <td>Medium</td>\n",
       "      <td>2</td>\n",
       "      <td>3</td>\n",
       "      <td>1.0</td>\n",
       "      <td>Study</td>\n",
       "      <td>0</td>\n",
       "      <td>18000.0</td>\n",
       "      <td>...</td>\n",
       "      <td>0.0</td>\n",
       "      <td>0.0</td>\n",
       "      <td>0.0</td>\n",
       "      <td>0.0</td>\n",
       "      <td>0.0</td>\n",
       "      <td>1.0</td>\n",
       "      <td>0.0</td>\n",
       "      <td>0.0</td>\n",
       "      <td>0.0</td>\n",
       "      <td>0.0</td>\n",
       "    </tr>\n",
       "    <tr>\n",
       "      <th>4</th>\n",
       "      <td>21</td>\n",
       "      <td>Female</td>\n",
       "      <td>3</td>\n",
       "      <td>Medium</td>\n",
       "      <td>2</td>\n",
       "      <td>3</td>\n",
       "      <td>0.0</td>\n",
       "      <td>Study</td>\n",
       "      <td>0</td>\n",
       "      <td>15000.0</td>\n",
       "      <td>...</td>\n",
       "      <td>0.0</td>\n",
       "      <td>0.0</td>\n",
       "      <td>0.0</td>\n",
       "      <td>1.0</td>\n",
       "      <td>0.0</td>\n",
       "      <td>0.0</td>\n",
       "      <td>0.0</td>\n",
       "      <td>0.0</td>\n",
       "      <td>0.0</td>\n",
       "      <td>0.0</td>\n",
       "    </tr>\n",
       "    <tr>\n",
       "      <th>...</th>\n",
       "      <td>...</td>\n",
       "      <td>...</td>\n",
       "      <td>...</td>\n",
       "      <td>...</td>\n",
       "      <td>...</td>\n",
       "      <td>...</td>\n",
       "      <td>...</td>\n",
       "      <td>...</td>\n",
       "      <td>...</td>\n",
       "      <td>...</td>\n",
       "      <td>...</td>\n",
       "      <td>...</td>\n",
       "      <td>...</td>\n",
       "      <td>...</td>\n",
       "      <td>...</td>\n",
       "      <td>...</td>\n",
       "      <td>...</td>\n",
       "      <td>...</td>\n",
       "      <td>...</td>\n",
       "      <td>...</td>\n",
       "      <td>...</td>\n",
       "    </tr>\n",
       "    <tr>\n",
       "      <th>101</th>\n",
       "      <td>19</td>\n",
       "      <td>Male</td>\n",
       "      <td>2</td>\n",
       "      <td>Low</td>\n",
       "      <td>1</td>\n",
       "      <td>3</td>\n",
       "      <td>1.0</td>\n",
       "      <td>Gaming</td>\n",
       "      <td>0</td>\n",
       "      <td>30000.0</td>\n",
       "      <td>...</td>\n",
       "      <td>0.0</td>\n",
       "      <td>0.0</td>\n",
       "      <td>0.0</td>\n",
       "      <td>0.0</td>\n",
       "      <td>0.0</td>\n",
       "      <td>0.0</td>\n",
       "      <td>0.0</td>\n",
       "      <td>1.0</td>\n",
       "      <td>0.0</td>\n",
       "      <td>0.0</td>\n",
       "    </tr>\n",
       "    <tr>\n",
       "      <th>102</th>\n",
       "      <td>20</td>\n",
       "      <td>Female</td>\n",
       "      <td>2</td>\n",
       "      <td>Lower medium</td>\n",
       "      <td>3</td>\n",
       "      <td>3</td>\n",
       "      <td>1.0</td>\n",
       "      <td>Surfing the internet</td>\n",
       "      <td>1</td>\n",
       "      <td>30000.0</td>\n",
       "      <td>...</td>\n",
       "      <td>0.0</td>\n",
       "      <td>0.0</td>\n",
       "      <td>0.0</td>\n",
       "      <td>1.0</td>\n",
       "      <td>0.0</td>\n",
       "      <td>0.0</td>\n",
       "      <td>0.0</td>\n",
       "      <td>0.0</td>\n",
       "      <td>0.0</td>\n",
       "      <td>0.0</td>\n",
       "    </tr>\n",
       "    <tr>\n",
       "      <th>103</th>\n",
       "      <td>21</td>\n",
       "      <td>Female</td>\n",
       "      <td>4</td>\n",
       "      <td>Medium</td>\n",
       "      <td>2</td>\n",
       "      <td>3</td>\n",
       "      <td>1.0</td>\n",
       "      <td>Study</td>\n",
       "      <td>0</td>\n",
       "      <td>38000.0</td>\n",
       "      <td>...</td>\n",
       "      <td>0.0</td>\n",
       "      <td>0.0</td>\n",
       "      <td>0.0</td>\n",
       "      <td>1.0</td>\n",
       "      <td>0.0</td>\n",
       "      <td>0.0</td>\n",
       "      <td>0.0</td>\n",
       "      <td>0.0</td>\n",
       "      <td>0.0</td>\n",
       "      <td>0.0</td>\n",
       "    </tr>\n",
       "    <tr>\n",
       "      <th>104</th>\n",
       "      <td>21</td>\n",
       "      <td>Female</td>\n",
       "      <td>4</td>\n",
       "      <td>Medium</td>\n",
       "      <td>2</td>\n",
       "      <td>4</td>\n",
       "      <td>1.0</td>\n",
       "      <td>Work</td>\n",
       "      <td>0</td>\n",
       "      <td>15500.0</td>\n",
       "      <td>...</td>\n",
       "      <td>0.0</td>\n",
       "      <td>0.0</td>\n",
       "      <td>1.0</td>\n",
       "      <td>0.0</td>\n",
       "      <td>0.0</td>\n",
       "      <td>0.0</td>\n",
       "      <td>0.0</td>\n",
       "      <td>0.0</td>\n",
       "      <td>0.0</td>\n",
       "      <td>0.0</td>\n",
       "    </tr>\n",
       "    <tr>\n",
       "      <th>105</th>\n",
       "      <td>19</td>\n",
       "      <td>Male</td>\n",
       "      <td>1</td>\n",
       "      <td>Low</td>\n",
       "      <td>1</td>\n",
       "      <td>2</td>\n",
       "      <td>0.0</td>\n",
       "      <td>Study</td>\n",
       "      <td>0</td>\n",
       "      <td>7500.0</td>\n",
       "      <td>...</td>\n",
       "      <td>0.0</td>\n",
       "      <td>0.0</td>\n",
       "      <td>0.0</td>\n",
       "      <td>1.0</td>\n",
       "      <td>0.0</td>\n",
       "      <td>0.0</td>\n",
       "      <td>0.0</td>\n",
       "      <td>0.0</td>\n",
       "      <td>0.0</td>\n",
       "      <td>0.0</td>\n",
       "    </tr>\n",
       "  </tbody>\n",
       "</table>\n",
       "<p>105 rows × 58 columns</p>\n",
       "</div>"
      ],
      "text/plain": [
       "     age  gender  level  income_level  income_level_(num)  devices_count   \n",
       "0     19  Female      1        Medium                   2              4  \\\n",
       "1     21    Male      3           Low                   1              2   \n",
       "2     20  Female      2        Medium                   2              4   \n",
       "3     19  Female      2        Medium                   2              3   \n",
       "4     21  Female      3        Medium                   2              3   \n",
       "..   ...     ...    ...           ...                 ...            ...   \n",
       "101   19    Male      2           Low                   1              3   \n",
       "102   20  Female      2  Lower medium                   3              3   \n",
       "103   21  Female      4        Medium                   2              3   \n",
       "104   21  Female      4        Medium                   2              4   \n",
       "105   19    Male      1           Low                   1              2   \n",
       "\n",
       "     own_tablet     main_usage_device  surfing_the_internet  device_price   \n",
       "0           1.0                 Study                     0       15000.0  \\\n",
       "1           1.0                 Study                     0       13000.0   \n",
       "2           1.0                 Study                     0        8000.0   \n",
       "3           1.0                 Study                     0       18000.0   \n",
       "4           0.0                 Study                     0       15000.0   \n",
       "..          ...                   ...                   ...           ...   \n",
       "101         1.0                Gaming                     0       30000.0   \n",
       "102         1.0  Surfing the internet                     1       30000.0   \n",
       "103         1.0                 Study                     0       38000.0   \n",
       "104         1.0                  Work                     0       15500.0   \n",
       "105         0.0                 Study                     0        7500.0   \n",
       "\n",
       "     ... AMD a8  Core i3  Core i5  Core i7  Core i9  Intel Xeon  Ryzen 3   \n",
       "0    ...    0.0      0.0      0.0      1.0      0.0         0.0      0.0  \\\n",
       "1    ...    0.0      0.0      0.0      0.0      0.0         0.0      0.0   \n",
       "2    ...    0.0      0.0      0.0      0.0      0.0         0.0      0.0   \n",
       "3    ...    0.0      0.0      0.0      0.0      0.0         1.0      0.0   \n",
       "4    ...    0.0      0.0      0.0      1.0      0.0         0.0      0.0   \n",
       "..   ...    ...      ...      ...      ...      ...         ...      ...   \n",
       "101  ...    0.0      0.0      0.0      0.0      0.0         0.0      0.0   \n",
       "102  ...    0.0      0.0      0.0      1.0      0.0         0.0      0.0   \n",
       "103  ...    0.0      0.0      0.0      1.0      0.0         0.0      0.0   \n",
       "104  ...    0.0      0.0      1.0      0.0      0.0         0.0      0.0   \n",
       "105  ...    0.0      0.0      0.0      1.0      0.0         0.0      0.0   \n",
       "\n",
       "     Ryzen 5  Ryzen 7  Ryzen 9  \n",
       "0        0.0      0.0      0.0  \n",
       "1        1.0      0.0      0.0  \n",
       "2        1.0      0.0      0.0  \n",
       "3        0.0      0.0      0.0  \n",
       "4        0.0      0.0      0.0  \n",
       "..       ...      ...      ...  \n",
       "101      1.0      0.0      0.0  \n",
       "102      0.0      0.0      0.0  \n",
       "103      0.0      0.0      0.0  \n",
       "104      0.0      0.0      0.0  \n",
       "105      0.0      0.0      0.0  \n",
       "\n",
       "[105 rows x 58 columns]"
      ]
     },
     "execution_count": 221,
     "metadata": {},
     "output_type": "execute_result"
    }
   ],
   "source": [
    "df"
   ]
  },
  {
   "cell_type": "code",
   "execution_count": 222,
   "id": "d014f2c2",
   "metadata": {
    "colab": {
     "base_uri": "https://localhost:8080/"
    },
    "id": "d014f2c2",
    "outputId": "e25c060b-1f1a-413a-bb6c-e14f898ebf49"
   },
   "outputs": [
    {
     "data": {
      "text/plain": [
       "0.7619047619047619"
      ]
     },
     "execution_count": 222,
     "metadata": {},
     "output_type": "execute_result"
    }
   ],
   "source": [
    "model.score(X_test, y_test)\n",
    "# The accuracy is better than the baseline.\n",
    "# We evaluated the model, and we can see that it's valuable. Now we can use the whole data for training."
   ]
  },
  {
   "attachments": {},
   "cell_type": "markdown",
   "id": "RhLTm3tUbLET",
   "metadata": {
    "id": "RhLTm3tUbLET"
   },
   "source": [
    "## Model Interpretation"
   ]
  },
  {
   "cell_type": "code",
   "execution_count": 223,
   "id": "39co5DbCFy3t",
   "metadata": {
    "colab": {
     "base_uri": "https://localhost:8080/",
     "height": 434
    },
    "id": "39co5DbCFy3t",
    "outputId": "7cb8a321-3bcd-4c7d-d642-bec0302055da"
   },
   "outputs": [
    {
     "data": {},
     "metadata": {},
     "output_type": "display_data"
    },
    {
     "data": {
      "application/vnd.holoviews_exec.v0+json": "",
      "text/html": [
       "<div id='p1466'>\n",
       "  <div id=\"df1e365a-a9a0-4491-88d8-b73cec9dfdca\" data-root-id=\"p1466\" style=\"display: contents;\"></div>\n",
       "</div>\n",
       "<script type=\"application/javascript\">(function(root) {\n",
       "  var docs_json = {\"eb2b39a6-6c77-4808-a5bb-e0e5a778b3d8\":{\"version\":\"3.1.1\",\"title\":\"Bokeh Application\",\"defs\":[{\"type\":\"model\",\"name\":\"ReactiveHTML1\"},{\"type\":\"model\",\"name\":\"FlexBox1\",\"properties\":[{\"name\":\"align_content\",\"kind\":\"Any\",\"default\":\"flex-start\"},{\"name\":\"align_items\",\"kind\":\"Any\",\"default\":\"flex-start\"},{\"name\":\"flex_direction\",\"kind\":\"Any\",\"default\":\"row\"},{\"name\":\"flex_wrap\",\"kind\":\"Any\",\"default\":\"wrap\"},{\"name\":\"justify_content\",\"kind\":\"Any\",\"default\":\"flex-start\"}]},{\"type\":\"model\",\"name\":\"FloatPanel1\",\"properties\":[{\"name\":\"config\",\"kind\":\"Any\",\"default\":{\"type\":\"map\"}},{\"name\":\"contained\",\"kind\":\"Any\",\"default\":true},{\"name\":\"position\",\"kind\":\"Any\",\"default\":\"right-top\"},{\"name\":\"offsetx\",\"kind\":\"Any\",\"default\":null},{\"name\":\"offsety\",\"kind\":\"Any\",\"default\":null},{\"name\":\"theme\",\"kind\":\"Any\",\"default\":\"primary\"},{\"name\":\"status\",\"kind\":\"Any\",\"default\":\"normalized\"}]},{\"type\":\"model\",\"name\":\"GridStack1\",\"properties\":[{\"name\":\"mode\",\"kind\":\"Any\",\"default\":\"warn\"},{\"name\":\"ncols\",\"kind\":\"Any\",\"default\":null},{\"name\":\"nrows\",\"kind\":\"Any\",\"default\":null},{\"name\":\"allow_resize\",\"kind\":\"Any\",\"default\":true},{\"name\":\"allow_drag\",\"kind\":\"Any\",\"default\":true},{\"name\":\"state\",\"kind\":\"Any\",\"default\":[]}]},{\"type\":\"model\",\"name\":\"drag1\",\"properties\":[{\"name\":\"slider_width\",\"kind\":\"Any\",\"default\":5},{\"name\":\"slider_color\",\"kind\":\"Any\",\"default\":\"black\"},{\"name\":\"value\",\"kind\":\"Any\",\"default\":50}]},{\"type\":\"model\",\"name\":\"click1\",\"properties\":[{\"name\":\"terminal_output\",\"kind\":\"Any\",\"default\":\"\"},{\"name\":\"debug_name\",\"kind\":\"Any\",\"default\":\"\"},{\"name\":\"clears\",\"kind\":\"Any\",\"default\":0}]},{\"type\":\"model\",\"name\":\"FastWrapper1\",\"properties\":[{\"name\":\"object\",\"kind\":\"Any\",\"default\":null},{\"name\":\"style\",\"kind\":\"Any\",\"default\":null}]},{\"type\":\"model\",\"name\":\"NotificationAreaBase1\",\"properties\":[{\"name\":\"position\",\"kind\":\"Any\",\"default\":\"bottom-right\"},{\"name\":\"_clear\",\"kind\":\"Any\",\"default\":0}]},{\"type\":\"model\",\"name\":\"NotificationArea1\",\"properties\":[{\"name\":\"notifications\",\"kind\":\"Any\",\"default\":[]},{\"name\":\"position\",\"kind\":\"Any\",\"default\":\"bottom-right\"},{\"name\":\"_clear\",\"kind\":\"Any\",\"default\":0},{\"name\":\"types\",\"kind\":\"Any\",\"default\":[{\"type\":\"map\",\"entries\":[[\"type\",\"warning\"],[\"background\",\"#ffc107\"],[\"icon\",{\"type\":\"map\",\"entries\":[[\"className\",\"fas fa-exclamation-triangle\"],[\"tagName\",\"i\"],[\"color\",\"white\"]]}]]},{\"type\":\"map\",\"entries\":[[\"type\",\"info\"],[\"background\",\"#007bff\"],[\"icon\",{\"type\":\"map\",\"entries\":[[\"className\",\"fas fa-info-circle\"],[\"tagName\",\"i\"],[\"color\",\"white\"]]}]]}]}]},{\"type\":\"model\",\"name\":\"Notification\",\"properties\":[{\"name\":\"background\",\"kind\":\"Any\",\"default\":null},{\"name\":\"duration\",\"kind\":\"Any\",\"default\":3000},{\"name\":\"icon\",\"kind\":\"Any\",\"default\":null},{\"name\":\"message\",\"kind\":\"Any\",\"default\":\"\"},{\"name\":\"notification_type\",\"kind\":\"Any\",\"default\":null},{\"name\":\"_destroyed\",\"kind\":\"Any\",\"default\":false}]},{\"type\":\"model\",\"name\":\"TemplateActions1\",\"properties\":[{\"name\":\"open_modal\",\"kind\":\"Any\",\"default\":0},{\"name\":\"close_modal\",\"kind\":\"Any\",\"default\":0}]},{\"type\":\"model\",\"name\":\"BootstrapTemplateActions1\",\"properties\":[{\"name\":\"open_modal\",\"kind\":\"Any\",\"default\":0},{\"name\":\"close_modal\",\"kind\":\"Any\",\"default\":0}]},{\"type\":\"model\",\"name\":\"MaterialTemplateActions1\",\"properties\":[{\"name\":\"open_modal\",\"kind\":\"Any\",\"default\":0},{\"name\":\"close_modal\",\"kind\":\"Any\",\"default\":0}]}],\"roots\":[{\"type\":\"object\",\"name\":\"Row\",\"id\":\"p1466\",\"attributes\":{\"name\":\"Row01331\",\"tags\":[\"embedded\"],\"stylesheets\":[\"\\n:host(.pn-loading).arc:before, .pn-loading.arc:before {\\n  background-image: url(\\\"data:image/svg+xml;base64,PHN2ZyB4bWxucz0iaHR0cDovL3d3dy53My5vcmcvMjAwMC9zdmciIHN0eWxlPSJtYXJnaW46IGF1dG87IGJhY2tncm91bmQ6IG5vbmU7IGRpc3BsYXk6IGJsb2NrOyBzaGFwZS1yZW5kZXJpbmc6IGF1dG87IiB2aWV3Qm94PSIwIDAgMTAwIDEwMCIgcHJlc2VydmVBc3BlY3RSYXRpbz0ieE1pZFlNaWQiPiAgPGNpcmNsZSBjeD0iNTAiIGN5PSI1MCIgZmlsbD0ibm9uZSIgc3Ryb2tlPSIjYzNjM2MzIiBzdHJva2Utd2lkdGg9IjEwIiByPSIzNSIgc3Ryb2tlLWRhc2hhcnJheT0iMTY0LjkzMzYxNDMxMzQ2NDE1IDU2Ljk3Nzg3MTQzNzgyMTM4Ij4gICAgPGFuaW1hdGVUcmFuc2Zvcm0gYXR0cmlidXRlTmFtZT0idHJhbnNmb3JtIiB0eXBlPSJyb3RhdGUiIHJlcGVhdENvdW50PSJpbmRlZmluaXRlIiBkdXI9IjFzIiB2YWx1ZXM9IjAgNTAgNTA7MzYwIDUwIDUwIiBrZXlUaW1lcz0iMDsxIj48L2FuaW1hdGVUcmFuc2Zvcm0+ICA8L2NpcmNsZT48L3N2Zz4=\\\");\\n  background-size: auto calc(min(50%, 400px));\\n}\",{\"type\":\"object\",\"name\":\"ImportedStyleSheet\",\"id\":\"p1552\",\"attributes\":{\"url\":\"https://cdn.holoviz.org/panel/1.0.2/dist/css/loading.css\"}},{\"type\":\"object\",\"name\":\"ImportedStyleSheet\",\"id\":\"p1553\",\"attributes\":{\"url\":\"https://cdn.holoviz.org/panel/1.0.2/dist/css/listpanel.css\"}},{\"type\":\"object\",\"name\":\"ImportedStyleSheet\",\"id\":\"p1550\",\"attributes\":{\"url\":\"https://cdn.holoviz.org/panel/1.0.2/dist/bundled/theme/default.css\"}},{\"type\":\"object\",\"name\":\"ImportedStyleSheet\",\"id\":\"p1551\",\"attributes\":{\"url\":\"https://cdn.holoviz.org/panel/1.0.2/dist/bundled/theme/native.css\"}}],\"margin\":0,\"align\":\"start\",\"children\":[{\"type\":\"object\",\"name\":\"Figure\",\"id\":\"p1470\",\"attributes\":{\"width\":700,\"height\":300,\"margin\":[5,10],\"sizing_mode\":\"fixed\",\"align\":\"start\",\"x_range\":{\"type\":\"object\",\"name\":\"Range1d\",\"id\":\"p1467\",\"attributes\":{\"tags\":[[[\"importance for laptop\",\"importance for laptop\",null]]],\"end\":3.4984878405132145,\"reset_start\":0.0,\"reset_end\":3.4984878405132145}},\"y_range\":{\"type\":\"object\",\"name\":\"FactorRange\",\"id\":\"p1468\",\"attributes\":{\"tags\":[[[\"feature\",\"feature\",null]]],\"factors\":[\"portability_importance\",\"income_level_(num)\",\"laptop_perc\",\"how_powerful_from_1_to_5\",\"cd_existence_importance\",\"Software Developer\"]}},\"x_scale\":{\"type\":\"object\",\"name\":\"LinearScale\",\"id\":\"p1482\"},\"y_scale\":{\"type\":\"object\",\"name\":\"CategoricalScale\",\"id\":\"p1484\"},\"title\":{\"type\":\"object\",\"name\":\"Title\",\"id\":\"p1473\",\"attributes\":{\"text_color\":\"black\",\"text_font_size\":\"12pt\"}},\"renderers\":[{\"type\":\"object\",\"name\":\"GlyphRenderer\",\"id\":\"p1523\",\"attributes\":{\"data_source\":{\"type\":\"object\",\"name\":\"ColumnDataSource\",\"id\":\"p1513\",\"attributes\":{\"selected\":{\"type\":\"object\",\"name\":\"Selection\",\"id\":\"p1514\",\"attributes\":{\"indices\":[],\"line_indices\":[]}},\"selection_policy\":{\"type\":\"object\",\"name\":\"UnionRenderers\",\"id\":\"p1515\"},\"data\":{\"type\":\"map\",\"entries\":[[\"feature\",{\"type\":\"ndarray\",\"array\":[\"portability_importance\",\"income_level_(num)\",\"laptop_perc\",\"how_powerful_from_1_to_5\",\"cd_existence_importance\",\"Software Developer\"],\"shape\":[6],\"dtype\":\"object\",\"order\":\"little\"}],[\"importance_for_laptop\",{\"type\":\"ndarray\",\"array\":{\"type\":\"bytes\",\"data\":\"2lQdZZWECkBjB6xi05kCQF9QGs+rVwFAsDs6nxPX/T+X+YCA6H37P1EGvNTGovc/\"},\"shape\":[6],\"dtype\":\"float64\",\"order\":\"little\"}]]}}},\"view\":{\"type\":\"object\",\"name\":\"CDSView\",\"id\":\"p1524\",\"attributes\":{\"filter\":{\"type\":\"object\",\"name\":\"AllIndices\",\"id\":\"p1525\"}}},\"glyph\":{\"type\":\"object\",\"name\":\"HBar\",\"id\":\"p1520\",\"attributes\":{\"tags\":[\"apply_ranges\"],\"y\":{\"type\":\"field\",\"field\":\"feature\"},\"height\":{\"type\":\"value\",\"value\":0.8},\"right\":{\"type\":\"field\",\"field\":\"importance_for_laptop\"},\"fill_color\":{\"type\":\"value\",\"value\":\"#30a2da\"},\"hatch_color\":{\"type\":\"value\",\"value\":\"#30a2da\"}}},\"selection_glyph\":{\"type\":\"object\",\"name\":\"HBar\",\"id\":\"p1526\",\"attributes\":{\"tags\":[\"apply_ranges\"],\"y\":{\"type\":\"field\",\"field\":\"feature\"},\"height\":{\"type\":\"value\",\"value\":0.8},\"left\":{\"type\":\"value\",\"value\":0},\"right\":{\"type\":\"field\",\"field\":\"importance_for_laptop\"},\"line_color\":{\"type\":\"value\",\"value\":\"black\"},\"line_alpha\":{\"type\":\"value\",\"value\":1.0},\"line_width\":{\"type\":\"value\",\"value\":1},\"line_join\":{\"type\":\"value\",\"value\":\"bevel\"},\"line_cap\":{\"type\":\"value\",\"value\":\"butt\"},\"line_dash\":{\"type\":\"value\",\"value\":[]},\"line_dash_offset\":{\"type\":\"value\",\"value\":0},\"fill_color\":{\"type\":\"value\",\"value\":\"#30a2da\"},\"fill_alpha\":{\"type\":\"value\",\"value\":1.0},\"hatch_color\":{\"type\":\"value\",\"value\":\"#30a2da\"},\"hatch_alpha\":{\"type\":\"value\",\"value\":1.0},\"hatch_scale\":{\"type\":\"value\",\"value\":12.0},\"hatch_pattern\":{\"type\":\"value\",\"value\":null},\"hatch_weight\":{\"type\":\"value\",\"value\":1.0}}},\"nonselection_glyph\":{\"type\":\"object\",\"name\":\"HBar\",\"id\":\"p1521\",\"attributes\":{\"tags\":[\"apply_ranges\"],\"y\":{\"type\":\"field\",\"field\":\"feature\"},\"height\":{\"type\":\"value\",\"value\":0.8},\"right\":{\"type\":\"field\",\"field\":\"importance_for_laptop\"},\"line_alpha\":{\"type\":\"value\",\"value\":0.1},\"fill_color\":{\"type\":\"value\",\"value\":\"#30a2da\"},\"fill_alpha\":{\"type\":\"value\",\"value\":0.1},\"hatch_color\":{\"type\":\"value\",\"value\":\"#30a2da\"},\"hatch_alpha\":{\"type\":\"value\",\"value\":0.1}}},\"muted_glyph\":{\"type\":\"object\",\"name\":\"HBar\",\"id\":\"p1522\",\"attributes\":{\"tags\":[\"apply_ranges\"],\"y\":{\"type\":\"field\",\"field\":\"feature\"},\"height\":{\"type\":\"value\",\"value\":0.8},\"right\":{\"type\":\"field\",\"field\":\"importance_for_laptop\"},\"line_alpha\":{\"type\":\"value\",\"value\":0.2},\"fill_color\":{\"type\":\"value\",\"value\":\"#30a2da\"},\"fill_alpha\":{\"type\":\"value\",\"value\":0.2},\"hatch_color\":{\"type\":\"value\",\"value\":\"#30a2da\"},\"hatch_alpha\":{\"type\":\"value\",\"value\":0.2}}}}}],\"toolbar\":{\"type\":\"object\",\"name\":\"Toolbar\",\"id\":\"p1478\",\"attributes\":{\"tools\":[{\"type\":\"object\",\"name\":\"HoverTool\",\"id\":\"p1469\",\"attributes\":{\"tags\":[\"hv_created\"],\"renderers\":[{\"id\":\"p1523\"}],\"tooltips\":[[\"feature\",\"@{feature}\"],[\"importance for laptop\",\"@{importance_for_laptop}\"]]}},{\"type\":\"object\",\"name\":\"SaveTool\",\"id\":\"p1499\"},{\"type\":\"object\",\"name\":\"PanTool\",\"id\":\"p1500\"},{\"type\":\"object\",\"name\":\"WheelZoomTool\",\"id\":\"p1501\"},{\"type\":\"object\",\"name\":\"BoxZoomTool\",\"id\":\"p1502\",\"attributes\":{\"overlay\":{\"type\":\"object\",\"name\":\"BoxAnnotation\",\"id\":\"p1503\",\"attributes\":{\"syncable\":false,\"level\":\"overlay\",\"visible\":false,\"left_units\":\"canvas\",\"right_units\":\"canvas\",\"bottom_units\":\"canvas\",\"top_units\":\"canvas\",\"line_color\":\"black\",\"line_alpha\":1.0,\"line_width\":2,\"line_dash\":[4,4],\"fill_color\":\"lightgrey\",\"fill_alpha\":0.5}}}},{\"type\":\"object\",\"name\":\"ResetTool\",\"id\":\"p1504\"}],\"active_drag\":{\"id\":\"p1500\"},\"active_scroll\":{\"id\":\"p1501\"}}},\"left\":[{\"type\":\"object\",\"name\":\"CategoricalAxis\",\"id\":\"p1493\",\"attributes\":{\"ticker\":{\"type\":\"object\",\"name\":\"CategoricalTicker\",\"id\":\"p1496\"},\"formatter\":{\"type\":\"object\",\"name\":\"CategoricalTickFormatter\",\"id\":\"p1495\"},\"axis_label\":\"feature\",\"major_label_policy\":{\"type\":\"object\",\"name\":\"AllLabels\",\"id\":\"p1494\"}}}],\"below\":[{\"type\":\"object\",\"name\":\"LinearAxis\",\"id\":\"p1486\",\"attributes\":{\"ticker\":{\"type\":\"object\",\"name\":\"BasicTicker\",\"id\":\"p1489\",\"attributes\":{\"mantissas\":[1,2,5]}},\"formatter\":{\"type\":\"object\",\"name\":\"BasicTickFormatter\",\"id\":\"p1488\"},\"axis_label\":\"importance for laptop\",\"major_label_policy\":{\"type\":\"object\",\"name\":\"AllLabels\",\"id\":\"p1487\"}}}],\"center\":[{\"type\":\"object\",\"name\":\"Grid\",\"id\":\"p1492\",\"attributes\":{\"axis\":{\"id\":\"p1486\"},\"grid_line_color\":null}},{\"type\":\"object\",\"name\":\"Grid\",\"id\":\"p1498\",\"attributes\":{\"dimension\":1,\"axis\":{\"id\":\"p1493\"},\"grid_line_color\":null}}],\"min_border_top\":10,\"min_border_bottom\":10,\"min_border_left\":10,\"min_border_right\":10,\"output_backend\":\"webgl\"}}]}}],\"callbacks\":{\"type\":\"map\"}}};\n",
       "  var render_items = [{\"docid\":\"eb2b39a6-6c77-4808-a5bb-e0e5a778b3d8\",\"roots\":{\"p1466\":\"df1e365a-a9a0-4491-88d8-b73cec9dfdca\"},\"root_ids\":[\"p1466\"]}];\n",
       "  var docs = Object.values(docs_json)\n",
       "  if (!docs) {\n",
       "    return\n",
       "  }\n",
       "  const py_version = docs[0].version.replace('rc', '-rc.')\n",
       "  const is_dev = py_version.indexOf(\"+\") !== -1 || py_version.indexOf(\"-\") !== -1\n",
       "  function embed_document(root) {\n",
       "    var Bokeh = get_bokeh(root)\n",
       "    Bokeh.embed.embed_items_notebook(docs_json, render_items);\n",
       "    for (const render_item of render_items) {\n",
       "      for (const root_id of render_item.root_ids) {\n",
       "\tconst id_el = document.getElementById(root_id)\n",
       "\tif (id_el.children.length && (id_el.children[0].className === 'bk-root')) {\n",
       "\t  const root_el = id_el.children[0]\n",
       "\t  root_el.id = root_el.id + '-rendered'\n",
       "\t}\n",
       "      }\n",
       "    }\n",
       "  }\n",
       "  function get_bokeh(root) {\n",
       "    if (root.Bokeh === undefined) {\n",
       "      return null\n",
       "    } else if (root.Bokeh.version !== py_version && !is_dev) {\n",
       "      if (root.Bokeh.versions === undefined || !root.Bokeh.versions.has(py_version)) {\n",
       "\treturn null\n",
       "      }\n",
       "      return root.Bokeh.versions.get(py_version);\n",
       "    } else if (root.Bokeh.version === py_version) {\n",
       "      return root.Bokeh\n",
       "    }\n",
       "    return null\n",
       "  }\n",
       "  function is_loaded(root) {\n",
       "    var Bokeh = get_bokeh(root)\n",
       "    return (Bokeh != null && Bokeh.Panel !== undefined)\n",
       "  }\n",
       "  if (is_loaded(root)) {\n",
       "    embed_document(root);\n",
       "  } else {\n",
       "    var attempts = 0;\n",
       "    var timer = setInterval(function(root) {\n",
       "      if (is_loaded(root)) {\n",
       "        clearInterval(timer);\n",
       "        embed_document(root);\n",
       "      } else if (document.readyState == \"complete\") {\n",
       "        attempts++;\n",
       "        if (attempts > 200) {\n",
       "          clearInterval(timer);\n",
       "\t  var Bokeh = get_bokeh(root)\n",
       "\t  if (Bokeh == null || Bokeh.Panel == null) {\n",
       "            console.warn(\"Panel: ERROR: Unable to run Panel code because Bokeh or Panel library is missing\");\n",
       "\t  } else {\n",
       "\t    console.warn(\"Panel: WARNING: Attempting to render but not all required libraries could be resolved.\")\n",
       "\t    embed_document(root)\n",
       "\t  }\n",
       "        }\n",
       "      }\n",
       "    }, 25, root)\n",
       "  }\n",
       "})(window);</script>"
      ],
      "text/plain": [
       ":Bars   [feature]   (importance for laptop)"
      ]
     },
     "execution_count": 223,
     "metadata": {
      "application/vnd.holoviews_exec.v0+json": {
       "id": "p1466"
      }
     },
     "output_type": "execute_result"
    }
   ],
   "source": [
    "model = LogisticRegression(max_iter=1000)\n",
    "model.fit(X, y_lap)\n",
    "feature_importance = pd.DataFrame(list(X.columns), columns = [\"feature\"])\n",
    "feature_importance[\"importance for laptop\"] = pow(math.e, model.coef_[0])\n",
    "feature_importance = feature_importance.sort_values(by = [\"importance for laptop\"], ascending=False).head(6)\n",
    " \n",
    "feature_importance.hvplot.barh(x='feature', y='importance for laptop')"
   ]
  },
  {
   "attachments": {},
   "cell_type": "markdown",
   "id": "e6029207",
   "metadata": {},
   "source": [
    "- The 'portability importance' is the most effective feature for increasing the odds of buying a laptop as the next device. An increase of the 'portability importance' feature by one unit increases the odds of buying a laptop by a factor of 3.5 when all other features remain the same.\n",
    "- An increase of the 'income level' feature by one unit increases the odds of buying a laptop by a factor of 2.42 when all other features remain the same.\n",
    "- An increase of the 'laptop usage percentage' feature by one unit increases the odds of buying a laptop by a factor of 2.21 when all other features remain the same.\n",
    "- An increase of the 'CD existence importance    ' feature by one unit increases the odds of buying a laptop by a factor of 1.87 when all other features remain the same.\n",
    "- Using the device for studying mainly increases the odds of buying a laptop by a factor of 1.74 when all other features remain the same."
   ]
  },
  {
   "cell_type": "code",
   "execution_count": 224,
   "id": "lIfI6tTYNItJ",
   "metadata": {
    "colab": {
     "base_uri": "https://localhost:8080/",
     "height": 434
    },
    "id": "lIfI6tTYNItJ",
    "outputId": "c10eb302-6123-4811-a799-90d579ccf929"
   },
   "outputs": [
    {
     "data": {},
     "metadata": {},
     "output_type": "display_data"
    },
    {
     "data": {
      "application/vnd.holoviews_exec.v0+json": "",
      "text/html": [
       "<div id='p1621'>\n",
       "  <div id=\"dee4188e-7eed-44f8-92ad-553fc4adacb2\" data-root-id=\"p1621\" style=\"display: contents;\"></div>\n",
       "</div>\n",
       "<script type=\"application/javascript\">(function(root) {\n",
       "  var docs_json = {\"c9c4733b-2785-4c51-8015-51f6b56273e0\":{\"version\":\"3.1.1\",\"title\":\"Bokeh Application\",\"defs\":[{\"type\":\"model\",\"name\":\"ReactiveHTML1\"},{\"type\":\"model\",\"name\":\"FlexBox1\",\"properties\":[{\"name\":\"align_content\",\"kind\":\"Any\",\"default\":\"flex-start\"},{\"name\":\"align_items\",\"kind\":\"Any\",\"default\":\"flex-start\"},{\"name\":\"flex_direction\",\"kind\":\"Any\",\"default\":\"row\"},{\"name\":\"flex_wrap\",\"kind\":\"Any\",\"default\":\"wrap\"},{\"name\":\"justify_content\",\"kind\":\"Any\",\"default\":\"flex-start\"}]},{\"type\":\"model\",\"name\":\"FloatPanel1\",\"properties\":[{\"name\":\"config\",\"kind\":\"Any\",\"default\":{\"type\":\"map\"}},{\"name\":\"contained\",\"kind\":\"Any\",\"default\":true},{\"name\":\"position\",\"kind\":\"Any\",\"default\":\"right-top\"},{\"name\":\"offsetx\",\"kind\":\"Any\",\"default\":null},{\"name\":\"offsety\",\"kind\":\"Any\",\"default\":null},{\"name\":\"theme\",\"kind\":\"Any\",\"default\":\"primary\"},{\"name\":\"status\",\"kind\":\"Any\",\"default\":\"normalized\"}]},{\"type\":\"model\",\"name\":\"GridStack1\",\"properties\":[{\"name\":\"mode\",\"kind\":\"Any\",\"default\":\"warn\"},{\"name\":\"ncols\",\"kind\":\"Any\",\"default\":null},{\"name\":\"nrows\",\"kind\":\"Any\",\"default\":null},{\"name\":\"allow_resize\",\"kind\":\"Any\",\"default\":true},{\"name\":\"allow_drag\",\"kind\":\"Any\",\"default\":true},{\"name\":\"state\",\"kind\":\"Any\",\"default\":[]}]},{\"type\":\"model\",\"name\":\"drag1\",\"properties\":[{\"name\":\"slider_width\",\"kind\":\"Any\",\"default\":5},{\"name\":\"slider_color\",\"kind\":\"Any\",\"default\":\"black\"},{\"name\":\"value\",\"kind\":\"Any\",\"default\":50}]},{\"type\":\"model\",\"name\":\"click1\",\"properties\":[{\"name\":\"terminal_output\",\"kind\":\"Any\",\"default\":\"\"},{\"name\":\"debug_name\",\"kind\":\"Any\",\"default\":\"\"},{\"name\":\"clears\",\"kind\":\"Any\",\"default\":0}]},{\"type\":\"model\",\"name\":\"FastWrapper1\",\"properties\":[{\"name\":\"object\",\"kind\":\"Any\",\"default\":null},{\"name\":\"style\",\"kind\":\"Any\",\"default\":null}]},{\"type\":\"model\",\"name\":\"NotificationAreaBase1\",\"properties\":[{\"name\":\"position\",\"kind\":\"Any\",\"default\":\"bottom-right\"},{\"name\":\"_clear\",\"kind\":\"Any\",\"default\":0}]},{\"type\":\"model\",\"name\":\"NotificationArea1\",\"properties\":[{\"name\":\"notifications\",\"kind\":\"Any\",\"default\":[]},{\"name\":\"position\",\"kind\":\"Any\",\"default\":\"bottom-right\"},{\"name\":\"_clear\",\"kind\":\"Any\",\"default\":0},{\"name\":\"types\",\"kind\":\"Any\",\"default\":[{\"type\":\"map\",\"entries\":[[\"type\",\"warning\"],[\"background\",\"#ffc107\"],[\"icon\",{\"type\":\"map\",\"entries\":[[\"className\",\"fas fa-exclamation-triangle\"],[\"tagName\",\"i\"],[\"color\",\"white\"]]}]]},{\"type\":\"map\",\"entries\":[[\"type\",\"info\"],[\"background\",\"#007bff\"],[\"icon\",{\"type\":\"map\",\"entries\":[[\"className\",\"fas fa-info-circle\"],[\"tagName\",\"i\"],[\"color\",\"white\"]]}]]}]}]},{\"type\":\"model\",\"name\":\"Notification\",\"properties\":[{\"name\":\"background\",\"kind\":\"Any\",\"default\":null},{\"name\":\"duration\",\"kind\":\"Any\",\"default\":3000},{\"name\":\"icon\",\"kind\":\"Any\",\"default\":null},{\"name\":\"message\",\"kind\":\"Any\",\"default\":\"\"},{\"name\":\"notification_type\",\"kind\":\"Any\",\"default\":null},{\"name\":\"_destroyed\",\"kind\":\"Any\",\"default\":false}]},{\"type\":\"model\",\"name\":\"TemplateActions1\",\"properties\":[{\"name\":\"open_modal\",\"kind\":\"Any\",\"default\":0},{\"name\":\"close_modal\",\"kind\":\"Any\",\"default\":0}]},{\"type\":\"model\",\"name\":\"BootstrapTemplateActions1\",\"properties\":[{\"name\":\"open_modal\",\"kind\":\"Any\",\"default\":0},{\"name\":\"close_modal\",\"kind\":\"Any\",\"default\":0}]},{\"type\":\"model\",\"name\":\"MaterialTemplateActions1\",\"properties\":[{\"name\":\"open_modal\",\"kind\":\"Any\",\"default\":0},{\"name\":\"close_modal\",\"kind\":\"Any\",\"default\":0}]}],\"roots\":[{\"type\":\"object\",\"name\":\"Row\",\"id\":\"p1621\",\"attributes\":{\"name\":\"Row01466\",\"tags\":[\"embedded\"],\"stylesheets\":[\"\\n:host(.pn-loading).arc:before, .pn-loading.arc:before {\\n  background-image: url(\\\"data:image/svg+xml;base64,PHN2ZyB4bWxucz0iaHR0cDovL3d3dy53My5vcmcvMjAwMC9zdmciIHN0eWxlPSJtYXJnaW46IGF1dG87IGJhY2tncm91bmQ6IG5vbmU7IGRpc3BsYXk6IGJsb2NrOyBzaGFwZS1yZW5kZXJpbmc6IGF1dG87IiB2aWV3Qm94PSIwIDAgMTAwIDEwMCIgcHJlc2VydmVBc3BlY3RSYXRpbz0ieE1pZFlNaWQiPiAgPGNpcmNsZSBjeD0iNTAiIGN5PSI1MCIgZmlsbD0ibm9uZSIgc3Ryb2tlPSIjYzNjM2MzIiBzdHJva2Utd2lkdGg9IjEwIiByPSIzNSIgc3Ryb2tlLWRhc2hhcnJheT0iMTY0LjkzMzYxNDMxMzQ2NDE1IDU2Ljk3Nzg3MTQzNzgyMTM4Ij4gICAgPGFuaW1hdGVUcmFuc2Zvcm0gYXR0cmlidXRlTmFtZT0idHJhbnNmb3JtIiB0eXBlPSJyb3RhdGUiIHJlcGVhdENvdW50PSJpbmRlZmluaXRlIiBkdXI9IjFzIiB2YWx1ZXM9IjAgNTAgNTA7MzYwIDUwIDUwIiBrZXlUaW1lcz0iMDsxIj48L2FuaW1hdGVUcmFuc2Zvcm0+ICA8L2NpcmNsZT48L3N2Zz4=\\\");\\n  background-size: auto calc(min(50%, 400px));\\n}\",{\"type\":\"object\",\"name\":\"ImportedStyleSheet\",\"id\":\"p1707\",\"attributes\":{\"url\":\"https://cdn.holoviz.org/panel/1.0.2/dist/css/loading.css\"}},{\"type\":\"object\",\"name\":\"ImportedStyleSheet\",\"id\":\"p1708\",\"attributes\":{\"url\":\"https://cdn.holoviz.org/panel/1.0.2/dist/css/listpanel.css\"}},{\"type\":\"object\",\"name\":\"ImportedStyleSheet\",\"id\":\"p1705\",\"attributes\":{\"url\":\"https://cdn.holoviz.org/panel/1.0.2/dist/bundled/theme/default.css\"}},{\"type\":\"object\",\"name\":\"ImportedStyleSheet\",\"id\":\"p1706\",\"attributes\":{\"url\":\"https://cdn.holoviz.org/panel/1.0.2/dist/bundled/theme/native.css\"}}],\"margin\":0,\"align\":\"start\",\"children\":[{\"type\":\"object\",\"name\":\"Figure\",\"id\":\"p1625\",\"attributes\":{\"width\":700,\"height\":300,\"margin\":[5,10],\"sizing_mode\":\"fixed\",\"align\":\"start\",\"x_range\":{\"type\":\"object\",\"name\":\"Range1d\",\"id\":\"p1622\",\"attributes\":{\"tags\":[[[\"importance for pc\",\"importance for pc\",null]]],\"end\":2.392166920768828,\"reset_start\":0.0,\"reset_end\":2.392166920768828}},\"y_range\":{\"type\":\"object\",\"name\":\"FactorRange\",\"id\":\"p1623\",\"attributes\":{\"tags\":[[[\"feature\",\"feature\",null]]],\"factors\":[\"desktop_perc\",\"Core i5\",\"performance_importance\",\"screen_size_importance\",\"hours_gaming\",\"self_study_hours\"]}},\"x_scale\":{\"type\":\"object\",\"name\":\"LinearScale\",\"id\":\"p1637\"},\"y_scale\":{\"type\":\"object\",\"name\":\"CategoricalScale\",\"id\":\"p1639\"},\"title\":{\"type\":\"object\",\"name\":\"Title\",\"id\":\"p1628\",\"attributes\":{\"text_color\":\"black\",\"text_font_size\":\"12pt\"}},\"renderers\":[{\"type\":\"object\",\"name\":\"GlyphRenderer\",\"id\":\"p1678\",\"attributes\":{\"data_source\":{\"type\":\"object\",\"name\":\"ColumnDataSource\",\"id\":\"p1668\",\"attributes\":{\"selected\":{\"type\":\"object\",\"name\":\"Selection\",\"id\":\"p1669\",\"attributes\":{\"indices\":[],\"line_indices\":[]}},\"selection_policy\":{\"type\":\"object\",\"name\":\"UnionRenderers\",\"id\":\"p1670\"},\"data\":{\"type\":\"map\",\"entries\":[[\"feature\",{\"type\":\"ndarray\",\"array\":[\"desktop_perc\",\"Core i5\",\"performance_importance\",\"screen_size_importance\",\"hours_gaming\",\"self_study_hours\"],\"shape\":[6],\"dtype\":\"object\",\"order\":\"little\"}],[\"importance_for_pc\",{\"type\":\"ndarray\",\"array\":{\"type\":\"bytes\",\"data\":\"bKgh9IZtAkBfho6hYqX8P0Q0fryOKPw/6qaQwh6F+z+xNIJbufv5P5Bz2MRwqvY/\"},\"shape\":[6],\"dtype\":\"float64\",\"order\":\"little\"}]]}}},\"view\":{\"type\":\"object\",\"name\":\"CDSView\",\"id\":\"p1679\",\"attributes\":{\"filter\":{\"type\":\"object\",\"name\":\"AllIndices\",\"id\":\"p1680\"}}},\"glyph\":{\"type\":\"object\",\"name\":\"HBar\",\"id\":\"p1675\",\"attributes\":{\"tags\":[\"apply_ranges\"],\"y\":{\"type\":\"field\",\"field\":\"feature\"},\"height\":{\"type\":\"value\",\"value\":0.8},\"right\":{\"type\":\"field\",\"field\":\"importance_for_pc\"},\"fill_color\":{\"type\":\"value\",\"value\":\"#30a2da\"},\"hatch_color\":{\"type\":\"value\",\"value\":\"#30a2da\"}}},\"selection_glyph\":{\"type\":\"object\",\"name\":\"HBar\",\"id\":\"p1681\",\"attributes\":{\"tags\":[\"apply_ranges\"],\"y\":{\"type\":\"field\",\"field\":\"feature\"},\"height\":{\"type\":\"value\",\"value\":0.8},\"left\":{\"type\":\"value\",\"value\":0},\"right\":{\"type\":\"field\",\"field\":\"importance_for_pc\"},\"line_color\":{\"type\":\"value\",\"value\":\"black\"},\"line_alpha\":{\"type\":\"value\",\"value\":1.0},\"line_width\":{\"type\":\"value\",\"value\":1},\"line_join\":{\"type\":\"value\",\"value\":\"bevel\"},\"line_cap\":{\"type\":\"value\",\"value\":\"butt\"},\"line_dash\":{\"type\":\"value\",\"value\":[]},\"line_dash_offset\":{\"type\":\"value\",\"value\":0},\"fill_color\":{\"type\":\"value\",\"value\":\"#30a2da\"},\"fill_alpha\":{\"type\":\"value\",\"value\":1.0},\"hatch_color\":{\"type\":\"value\",\"value\":\"#30a2da\"},\"hatch_alpha\":{\"type\":\"value\",\"value\":1.0},\"hatch_scale\":{\"type\":\"value\",\"value\":12.0},\"hatch_pattern\":{\"type\":\"value\",\"value\":null},\"hatch_weight\":{\"type\":\"value\",\"value\":1.0}}},\"nonselection_glyph\":{\"type\":\"object\",\"name\":\"HBar\",\"id\":\"p1676\",\"attributes\":{\"tags\":[\"apply_ranges\"],\"y\":{\"type\":\"field\",\"field\":\"feature\"},\"height\":{\"type\":\"value\",\"value\":0.8},\"right\":{\"type\":\"field\",\"field\":\"importance_for_pc\"},\"line_alpha\":{\"type\":\"value\",\"value\":0.1},\"fill_color\":{\"type\":\"value\",\"value\":\"#30a2da\"},\"fill_alpha\":{\"type\":\"value\",\"value\":0.1},\"hatch_color\":{\"type\":\"value\",\"value\":\"#30a2da\"},\"hatch_alpha\":{\"type\":\"value\",\"value\":0.1}}},\"muted_glyph\":{\"type\":\"object\",\"name\":\"HBar\",\"id\":\"p1677\",\"attributes\":{\"tags\":[\"apply_ranges\"],\"y\":{\"type\":\"field\",\"field\":\"feature\"},\"height\":{\"type\":\"value\",\"value\":0.8},\"right\":{\"type\":\"field\",\"field\":\"importance_for_pc\"},\"line_alpha\":{\"type\":\"value\",\"value\":0.2},\"fill_color\":{\"type\":\"value\",\"value\":\"#30a2da\"},\"fill_alpha\":{\"type\":\"value\",\"value\":0.2},\"hatch_color\":{\"type\":\"value\",\"value\":\"#30a2da\"},\"hatch_alpha\":{\"type\":\"value\",\"value\":0.2}}}}}],\"toolbar\":{\"type\":\"object\",\"name\":\"Toolbar\",\"id\":\"p1633\",\"attributes\":{\"tools\":[{\"type\":\"object\",\"name\":\"HoverTool\",\"id\":\"p1624\",\"attributes\":{\"tags\":[\"hv_created\"],\"renderers\":[{\"id\":\"p1678\"}],\"tooltips\":[[\"feature\",\"@{feature}\"],[\"importance for pc\",\"@{importance_for_pc}\"]]}},{\"type\":\"object\",\"name\":\"SaveTool\",\"id\":\"p1654\"},{\"type\":\"object\",\"name\":\"PanTool\",\"id\":\"p1655\"},{\"type\":\"object\",\"name\":\"WheelZoomTool\",\"id\":\"p1656\"},{\"type\":\"object\",\"name\":\"BoxZoomTool\",\"id\":\"p1657\",\"attributes\":{\"overlay\":{\"type\":\"object\",\"name\":\"BoxAnnotation\",\"id\":\"p1658\",\"attributes\":{\"syncable\":false,\"level\":\"overlay\",\"visible\":false,\"left_units\":\"canvas\",\"right_units\":\"canvas\",\"bottom_units\":\"canvas\",\"top_units\":\"canvas\",\"line_color\":\"black\",\"line_alpha\":1.0,\"line_width\":2,\"line_dash\":[4,4],\"fill_color\":\"lightgrey\",\"fill_alpha\":0.5}}}},{\"type\":\"object\",\"name\":\"ResetTool\",\"id\":\"p1659\"}],\"active_drag\":{\"id\":\"p1655\"},\"active_scroll\":{\"id\":\"p1656\"}}},\"left\":[{\"type\":\"object\",\"name\":\"CategoricalAxis\",\"id\":\"p1648\",\"attributes\":{\"ticker\":{\"type\":\"object\",\"name\":\"CategoricalTicker\",\"id\":\"p1651\"},\"formatter\":{\"type\":\"object\",\"name\":\"CategoricalTickFormatter\",\"id\":\"p1650\"},\"axis_label\":\"feature\",\"major_label_policy\":{\"type\":\"object\",\"name\":\"AllLabels\",\"id\":\"p1649\"}}}],\"below\":[{\"type\":\"object\",\"name\":\"LinearAxis\",\"id\":\"p1641\",\"attributes\":{\"ticker\":{\"type\":\"object\",\"name\":\"BasicTicker\",\"id\":\"p1644\",\"attributes\":{\"mantissas\":[1,2,5]}},\"formatter\":{\"type\":\"object\",\"name\":\"BasicTickFormatter\",\"id\":\"p1643\"},\"axis_label\":\"importance for pc\",\"major_label_policy\":{\"type\":\"object\",\"name\":\"AllLabels\",\"id\":\"p1642\"}}}],\"center\":[{\"type\":\"object\",\"name\":\"Grid\",\"id\":\"p1647\",\"attributes\":{\"axis\":{\"id\":\"p1641\"},\"grid_line_color\":null}},{\"type\":\"object\",\"name\":\"Grid\",\"id\":\"p1653\",\"attributes\":{\"dimension\":1,\"axis\":{\"id\":\"p1648\"},\"grid_line_color\":null}}],\"min_border_top\":10,\"min_border_bottom\":10,\"min_border_left\":10,\"min_border_right\":10,\"output_backend\":\"webgl\"}}]}}],\"callbacks\":{\"type\":\"map\"}}};\n",
       "  var render_items = [{\"docid\":\"c9c4733b-2785-4c51-8015-51f6b56273e0\",\"roots\":{\"p1621\":\"dee4188e-7eed-44f8-92ad-553fc4adacb2\"},\"root_ids\":[\"p1621\"]}];\n",
       "  var docs = Object.values(docs_json)\n",
       "  if (!docs) {\n",
       "    return\n",
       "  }\n",
       "  const py_version = docs[0].version.replace('rc', '-rc.')\n",
       "  const is_dev = py_version.indexOf(\"+\") !== -1 || py_version.indexOf(\"-\") !== -1\n",
       "  function embed_document(root) {\n",
       "    var Bokeh = get_bokeh(root)\n",
       "    Bokeh.embed.embed_items_notebook(docs_json, render_items);\n",
       "    for (const render_item of render_items) {\n",
       "      for (const root_id of render_item.root_ids) {\n",
       "\tconst id_el = document.getElementById(root_id)\n",
       "\tif (id_el.children.length && (id_el.children[0].className === 'bk-root')) {\n",
       "\t  const root_el = id_el.children[0]\n",
       "\t  root_el.id = root_el.id + '-rendered'\n",
       "\t}\n",
       "      }\n",
       "    }\n",
       "  }\n",
       "  function get_bokeh(root) {\n",
       "    if (root.Bokeh === undefined) {\n",
       "      return null\n",
       "    } else if (root.Bokeh.version !== py_version && !is_dev) {\n",
       "      if (root.Bokeh.versions === undefined || !root.Bokeh.versions.has(py_version)) {\n",
       "\treturn null\n",
       "      }\n",
       "      return root.Bokeh.versions.get(py_version);\n",
       "    } else if (root.Bokeh.version === py_version) {\n",
       "      return root.Bokeh\n",
       "    }\n",
       "    return null\n",
       "  }\n",
       "  function is_loaded(root) {\n",
       "    var Bokeh = get_bokeh(root)\n",
       "    return (Bokeh != null && Bokeh.Panel !== undefined)\n",
       "  }\n",
       "  if (is_loaded(root)) {\n",
       "    embed_document(root);\n",
       "  } else {\n",
       "    var attempts = 0;\n",
       "    var timer = setInterval(function(root) {\n",
       "      if (is_loaded(root)) {\n",
       "        clearInterval(timer);\n",
       "        embed_document(root);\n",
       "      } else if (document.readyState == \"complete\") {\n",
       "        attempts++;\n",
       "        if (attempts > 200) {\n",
       "          clearInterval(timer);\n",
       "\t  var Bokeh = get_bokeh(root)\n",
       "\t  if (Bokeh == null || Bokeh.Panel == null) {\n",
       "            console.warn(\"Panel: ERROR: Unable to run Panel code because Bokeh or Panel library is missing\");\n",
       "\t  } else {\n",
       "\t    console.warn(\"Panel: WARNING: Attempting to render but not all required libraries could be resolved.\")\n",
       "\t    embed_document(root)\n",
       "\t  }\n",
       "        }\n",
       "      }\n",
       "    }, 25, root)\n",
       "  }\n",
       "})(window);</script>"
      ],
      "text/plain": [
       ":Bars   [feature]   (importance for pc)"
      ]
     },
     "execution_count": 224,
     "metadata": {
      "application/vnd.holoviews_exec.v0+json": {
       "id": "p1621"
      }
     },
     "output_type": "execute_result"
    }
   ],
   "source": [
    "model = LogisticRegression(max_iter=1000)\n",
    "model.fit(X, y_desk)\n",
    "feature_importance = pd.DataFrame(list(X.columns), columns = [\"feature\"])\n",
    "feature_importance[\"importance for pc\"] = pow(math.e, model.coef_[0])\n",
    "feature_importance = feature_importance.sort_values(by = [\"importance for pc\"], ascending=False).head(6)\n",
    " \n",
    "feature_importance.hvplot.barh(x='feature', y='importance for pc')"
   ]
  },
  {
   "attachments": {},
   "cell_type": "markdown",
   "id": "510c9b88",
   "metadata": {},
   "source": [
    "- The 'desktop usage percentage' is the most effective feature for increasing the odds of buying a desktop as the next device. An increase of the 'desktop usage percentage' feature by one unit increases the odds of buying a desktop by a factor of 2.48 when all other features remain the same.\n",
    "- Having a Core i5 processor increases the odds of buying a desktop by a factor of 1.98 when all other features remain the same.\n",
    "- An increase of the 'performance importance' feature by one unit increases the odds of buying a desktop as the next by a factor of 1.84 when all other features remain the same.\n",
    "- An increase of the 'screen size importance' feature by one unit increases the odds of buying a desktop by a factor of 1.83 when all other features remain the same.\n",
    "- Being a Data scientist increases the odds of buying a desktop by a factor of 1.6 when all other features remain the same."
   ]
  },
  {
   "cell_type": "code",
   "execution_count": 225,
   "id": "7sNAnYvqkcWr",
   "metadata": {
    "id": "7sNAnYvqkcWr"
   },
   "outputs": [
    {
     "data": {},
     "metadata": {},
     "output_type": "display_data"
    },
    {
     "data": {
      "application/vnd.holoviews_exec.v0+json": "",
      "text/html": [
       "<div id='p1776'>\n",
       "  <div id=\"e65e63db-6aaf-4f99-b355-40d7cbc95e40\" data-root-id=\"p1776\" style=\"display: contents;\"></div>\n",
       "</div>\n",
       "<script type=\"application/javascript\">(function(root) {\n",
       "  var docs_json = {\"8b4dd6a9-6b2d-41bf-a4f3-9db1a11dc7db\":{\"version\":\"3.1.1\",\"title\":\"Bokeh Application\",\"defs\":[{\"type\":\"model\",\"name\":\"ReactiveHTML1\"},{\"type\":\"model\",\"name\":\"FlexBox1\",\"properties\":[{\"name\":\"align_content\",\"kind\":\"Any\",\"default\":\"flex-start\"},{\"name\":\"align_items\",\"kind\":\"Any\",\"default\":\"flex-start\"},{\"name\":\"flex_direction\",\"kind\":\"Any\",\"default\":\"row\"},{\"name\":\"flex_wrap\",\"kind\":\"Any\",\"default\":\"wrap\"},{\"name\":\"justify_content\",\"kind\":\"Any\",\"default\":\"flex-start\"}]},{\"type\":\"model\",\"name\":\"FloatPanel1\",\"properties\":[{\"name\":\"config\",\"kind\":\"Any\",\"default\":{\"type\":\"map\"}},{\"name\":\"contained\",\"kind\":\"Any\",\"default\":true},{\"name\":\"position\",\"kind\":\"Any\",\"default\":\"right-top\"},{\"name\":\"offsetx\",\"kind\":\"Any\",\"default\":null},{\"name\":\"offsety\",\"kind\":\"Any\",\"default\":null},{\"name\":\"theme\",\"kind\":\"Any\",\"default\":\"primary\"},{\"name\":\"status\",\"kind\":\"Any\",\"default\":\"normalized\"}]},{\"type\":\"model\",\"name\":\"GridStack1\",\"properties\":[{\"name\":\"mode\",\"kind\":\"Any\",\"default\":\"warn\"},{\"name\":\"ncols\",\"kind\":\"Any\",\"default\":null},{\"name\":\"nrows\",\"kind\":\"Any\",\"default\":null},{\"name\":\"allow_resize\",\"kind\":\"Any\",\"default\":true},{\"name\":\"allow_drag\",\"kind\":\"Any\",\"default\":true},{\"name\":\"state\",\"kind\":\"Any\",\"default\":[]}]},{\"type\":\"model\",\"name\":\"drag1\",\"properties\":[{\"name\":\"slider_width\",\"kind\":\"Any\",\"default\":5},{\"name\":\"slider_color\",\"kind\":\"Any\",\"default\":\"black\"},{\"name\":\"value\",\"kind\":\"Any\",\"default\":50}]},{\"type\":\"model\",\"name\":\"click1\",\"properties\":[{\"name\":\"terminal_output\",\"kind\":\"Any\",\"default\":\"\"},{\"name\":\"debug_name\",\"kind\":\"Any\",\"default\":\"\"},{\"name\":\"clears\",\"kind\":\"Any\",\"default\":0}]},{\"type\":\"model\",\"name\":\"FastWrapper1\",\"properties\":[{\"name\":\"object\",\"kind\":\"Any\",\"default\":null},{\"name\":\"style\",\"kind\":\"Any\",\"default\":null}]},{\"type\":\"model\",\"name\":\"NotificationAreaBase1\",\"properties\":[{\"name\":\"position\",\"kind\":\"Any\",\"default\":\"bottom-right\"},{\"name\":\"_clear\",\"kind\":\"Any\",\"default\":0}]},{\"type\":\"model\",\"name\":\"NotificationArea1\",\"properties\":[{\"name\":\"notifications\",\"kind\":\"Any\",\"default\":[]},{\"name\":\"position\",\"kind\":\"Any\",\"default\":\"bottom-right\"},{\"name\":\"_clear\",\"kind\":\"Any\",\"default\":0},{\"name\":\"types\",\"kind\":\"Any\",\"default\":[{\"type\":\"map\",\"entries\":[[\"type\",\"warning\"],[\"background\",\"#ffc107\"],[\"icon\",{\"type\":\"map\",\"entries\":[[\"className\",\"fas fa-exclamation-triangle\"],[\"tagName\",\"i\"],[\"color\",\"white\"]]}]]},{\"type\":\"map\",\"entries\":[[\"type\",\"info\"],[\"background\",\"#007bff\"],[\"icon\",{\"type\":\"map\",\"entries\":[[\"className\",\"fas fa-info-circle\"],[\"tagName\",\"i\"],[\"color\",\"white\"]]}]]}]}]},{\"type\":\"model\",\"name\":\"Notification\",\"properties\":[{\"name\":\"background\",\"kind\":\"Any\",\"default\":null},{\"name\":\"duration\",\"kind\":\"Any\",\"default\":3000},{\"name\":\"icon\",\"kind\":\"Any\",\"default\":null},{\"name\":\"message\",\"kind\":\"Any\",\"default\":\"\"},{\"name\":\"notification_type\",\"kind\":\"Any\",\"default\":null},{\"name\":\"_destroyed\",\"kind\":\"Any\",\"default\":false}]},{\"type\":\"model\",\"name\":\"TemplateActions1\",\"properties\":[{\"name\":\"open_modal\",\"kind\":\"Any\",\"default\":0},{\"name\":\"close_modal\",\"kind\":\"Any\",\"default\":0}]},{\"type\":\"model\",\"name\":\"BootstrapTemplateActions1\",\"properties\":[{\"name\":\"open_modal\",\"kind\":\"Any\",\"default\":0},{\"name\":\"close_modal\",\"kind\":\"Any\",\"default\":0}]},{\"type\":\"model\",\"name\":\"MaterialTemplateActions1\",\"properties\":[{\"name\":\"open_modal\",\"kind\":\"Any\",\"default\":0},{\"name\":\"close_modal\",\"kind\":\"Any\",\"default\":0}]}],\"roots\":[{\"type\":\"object\",\"name\":\"Row\",\"id\":\"p1776\",\"attributes\":{\"name\":\"Row01637\",\"tags\":[\"embedded\"],\"stylesheets\":[\"\\n:host(.pn-loading).arc:before, .pn-loading.arc:before {\\n  background-image: url(\\\"data:image/svg+xml;base64,PHN2ZyB4bWxucz0iaHR0cDovL3d3dy53My5vcmcvMjAwMC9zdmciIHN0eWxlPSJtYXJnaW46IGF1dG87IGJhY2tncm91bmQ6IG5vbmU7IGRpc3BsYXk6IGJsb2NrOyBzaGFwZS1yZW5kZXJpbmc6IGF1dG87IiB2aWV3Qm94PSIwIDAgMTAwIDEwMCIgcHJlc2VydmVBc3BlY3RSYXRpbz0ieE1pZFlNaWQiPiAgPGNpcmNsZSBjeD0iNTAiIGN5PSI1MCIgZmlsbD0ibm9uZSIgc3Ryb2tlPSIjYzNjM2MzIiBzdHJva2Utd2lkdGg9IjEwIiByPSIzNSIgc3Ryb2tlLWRhc2hhcnJheT0iMTY0LjkzMzYxNDMxMzQ2NDE1IDU2Ljk3Nzg3MTQzNzgyMTM4Ij4gICAgPGFuaW1hdGVUcmFuc2Zvcm0gYXR0cmlidXRlTmFtZT0idHJhbnNmb3JtIiB0eXBlPSJyb3RhdGUiIHJlcGVhdENvdW50PSJpbmRlZmluaXRlIiBkdXI9IjFzIiB2YWx1ZXM9IjAgNTAgNTA7MzYwIDUwIDUwIiBrZXlUaW1lcz0iMDsxIj48L2FuaW1hdGVUcmFuc2Zvcm0+ICA8L2NpcmNsZT48L3N2Zz4=\\\");\\n  background-size: auto calc(min(50%, 400px));\\n}\",{\"type\":\"object\",\"name\":\"ImportedStyleSheet\",\"id\":\"p1862\",\"attributes\":{\"url\":\"https://cdn.holoviz.org/panel/1.0.2/dist/css/loading.css\"}},{\"type\":\"object\",\"name\":\"ImportedStyleSheet\",\"id\":\"p1863\",\"attributes\":{\"url\":\"https://cdn.holoviz.org/panel/1.0.2/dist/css/listpanel.css\"}},{\"type\":\"object\",\"name\":\"ImportedStyleSheet\",\"id\":\"p1860\",\"attributes\":{\"url\":\"https://cdn.holoviz.org/panel/1.0.2/dist/bundled/theme/default.css\"}},{\"type\":\"object\",\"name\":\"ImportedStyleSheet\",\"id\":\"p1861\",\"attributes\":{\"url\":\"https://cdn.holoviz.org/panel/1.0.2/dist/bundled/theme/native.css\"}}],\"margin\":0,\"align\":\"start\",\"children\":[{\"type\":\"object\",\"name\":\"Figure\",\"id\":\"p1780\",\"attributes\":{\"width\":700,\"height\":300,\"margin\":[5,10],\"sizing_mode\":\"fixed\",\"align\":\"start\",\"x_range\":{\"type\":\"object\",\"name\":\"FactorRange\",\"id\":\"p1777\",\"attributes\":{\"tags\":[[[\"income_level\",\"income_level\",null]]],\"factors\":[\"High\",\"Higher medium\",\"Low\",\"Lower medium\",\"Medium\"]}},\"y_range\":{\"type\":\"object\",\"name\":\"Range1d\",\"id\":\"p1778\",\"attributes\":{\"tags\":[[[\"devices_count\",\"devices_count\",null]]],\"end\":151.1,\"reset_start\":0.0,\"reset_end\":151.1}},\"x_scale\":{\"type\":\"object\",\"name\":\"CategoricalScale\",\"id\":\"p1792\"},\"y_scale\":{\"type\":\"object\",\"name\":\"LinearScale\",\"id\":\"p1794\"},\"title\":{\"type\":\"object\",\"name\":\"Title\",\"id\":\"p1783\",\"attributes\":{\"text_color\":\"black\",\"text_font_size\":\"12pt\"}},\"renderers\":[{\"type\":\"object\",\"name\":\"GlyphRenderer\",\"id\":\"p1833\",\"attributes\":{\"data_source\":{\"type\":\"object\",\"name\":\"ColumnDataSource\",\"id\":\"p1823\",\"attributes\":{\"selected\":{\"type\":\"object\",\"name\":\"Selection\",\"id\":\"p1824\",\"attributes\":{\"indices\":[],\"line_indices\":[]}},\"selection_policy\":{\"type\":\"object\",\"name\":\"UnionRenderers\",\"id\":\"p1825\"},\"data\":{\"type\":\"map\",\"entries\":[[\"income_level\",{\"type\":\"ndarray\",\"array\":[\"High\",\"Higher medium\",\"Low\",\"Lower medium\",\"Medium\"],\"shape\":[5],\"dtype\":\"object\",\"order\":\"little\"}],[\"devices_count\",{\"type\":\"ndarray\",\"array\":{\"type\":\"bytes\",\"data\":\"BwAAABcAAABqAAAAMAAAAIoAAAA=\"},\"shape\":[5],\"dtype\":\"int32\",\"order\":\"little\"}]]}}},\"view\":{\"type\":\"object\",\"name\":\"CDSView\",\"id\":\"p1834\",\"attributes\":{\"filter\":{\"type\":\"object\",\"name\":\"AllIndices\",\"id\":\"p1835\"}}},\"glyph\":{\"type\":\"object\",\"name\":\"VBar\",\"id\":\"p1830\",\"attributes\":{\"tags\":[\"apply_ranges\"],\"x\":{\"type\":\"field\",\"field\":\"income_level\"},\"width\":{\"type\":\"value\",\"value\":0.8},\"top\":{\"type\":\"field\",\"field\":\"devices_count\"},\"fill_color\":{\"type\":\"value\",\"value\":\"#30a2da\"},\"hatch_color\":{\"type\":\"value\",\"value\":\"#30a2da\"}}},\"selection_glyph\":{\"type\":\"object\",\"name\":\"VBar\",\"id\":\"p1836\",\"attributes\":{\"tags\":[\"apply_ranges\"],\"x\":{\"type\":\"field\",\"field\":\"income_level\"},\"width\":{\"type\":\"value\",\"value\":0.8},\"bottom\":{\"type\":\"value\",\"value\":0},\"top\":{\"type\":\"field\",\"field\":\"devices_count\"},\"line_color\":{\"type\":\"value\",\"value\":\"black\"},\"line_alpha\":{\"type\":\"value\",\"value\":1.0},\"line_width\":{\"type\":\"value\",\"value\":1},\"line_join\":{\"type\":\"value\",\"value\":\"bevel\"},\"line_cap\":{\"type\":\"value\",\"value\":\"butt\"},\"line_dash\":{\"type\":\"value\",\"value\":[]},\"line_dash_offset\":{\"type\":\"value\",\"value\":0},\"fill_color\":{\"type\":\"value\",\"value\":\"#30a2da\"},\"fill_alpha\":{\"type\":\"value\",\"value\":1.0},\"hatch_color\":{\"type\":\"value\",\"value\":\"#30a2da\"},\"hatch_alpha\":{\"type\":\"value\",\"value\":1.0},\"hatch_scale\":{\"type\":\"value\",\"value\":12.0},\"hatch_pattern\":{\"type\":\"value\",\"value\":null},\"hatch_weight\":{\"type\":\"value\",\"value\":1.0}}},\"nonselection_glyph\":{\"type\":\"object\",\"name\":\"VBar\",\"id\":\"p1831\",\"attributes\":{\"tags\":[\"apply_ranges\"],\"x\":{\"type\":\"field\",\"field\":\"income_level\"},\"width\":{\"type\":\"value\",\"value\":0.8},\"top\":{\"type\":\"field\",\"field\":\"devices_count\"},\"line_alpha\":{\"type\":\"value\",\"value\":0.1},\"fill_color\":{\"type\":\"value\",\"value\":\"#30a2da\"},\"fill_alpha\":{\"type\":\"value\",\"value\":0.1},\"hatch_color\":{\"type\":\"value\",\"value\":\"#30a2da\"},\"hatch_alpha\":{\"type\":\"value\",\"value\":0.1}}},\"muted_glyph\":{\"type\":\"object\",\"name\":\"VBar\",\"id\":\"p1832\",\"attributes\":{\"tags\":[\"apply_ranges\"],\"x\":{\"type\":\"field\",\"field\":\"income_level\"},\"width\":{\"type\":\"value\",\"value\":0.8},\"top\":{\"type\":\"field\",\"field\":\"devices_count\"},\"line_alpha\":{\"type\":\"value\",\"value\":0.2},\"fill_color\":{\"type\":\"value\",\"value\":\"#30a2da\"},\"fill_alpha\":{\"type\":\"value\",\"value\":0.2},\"hatch_color\":{\"type\":\"value\",\"value\":\"#30a2da\"},\"hatch_alpha\":{\"type\":\"value\",\"value\":0.2}}}}}],\"toolbar\":{\"type\":\"object\",\"name\":\"Toolbar\",\"id\":\"p1788\",\"attributes\":{\"tools\":[{\"type\":\"object\",\"name\":\"HoverTool\",\"id\":\"p1779\",\"attributes\":{\"tags\":[\"hv_created\"],\"renderers\":[{\"id\":\"p1833\"}],\"tooltips\":[[\"income_level\",\"@{income_level}\"],[\"devices_count\",\"@{devices_count}\"]]}},{\"type\":\"object\",\"name\":\"SaveTool\",\"id\":\"p1809\"},{\"type\":\"object\",\"name\":\"PanTool\",\"id\":\"p1810\"},{\"type\":\"object\",\"name\":\"WheelZoomTool\",\"id\":\"p1811\"},{\"type\":\"object\",\"name\":\"BoxZoomTool\",\"id\":\"p1812\",\"attributes\":{\"overlay\":{\"type\":\"object\",\"name\":\"BoxAnnotation\",\"id\":\"p1813\",\"attributes\":{\"syncable\":false,\"level\":\"overlay\",\"visible\":false,\"left_units\":\"canvas\",\"right_units\":\"canvas\",\"bottom_units\":\"canvas\",\"top_units\":\"canvas\",\"line_color\":\"black\",\"line_alpha\":1.0,\"line_width\":2,\"line_dash\":[4,4],\"fill_color\":\"lightgrey\",\"fill_alpha\":0.5}}}},{\"type\":\"object\",\"name\":\"ResetTool\",\"id\":\"p1814\"}],\"active_drag\":{\"id\":\"p1810\"},\"active_scroll\":{\"id\":\"p1811\"}}},\"left\":[{\"type\":\"object\",\"name\":\"LinearAxis\",\"id\":\"p1802\",\"attributes\":{\"ticker\":{\"type\":\"object\",\"name\":\"BasicTicker\",\"id\":\"p1805\",\"attributes\":{\"mantissas\":[1,2,5]}},\"formatter\":{\"type\":\"object\",\"name\":\"BasicTickFormatter\",\"id\":\"p1804\"},\"axis_label\":\"devices_count\",\"major_label_policy\":{\"type\":\"object\",\"name\":\"AllLabels\",\"id\":\"p1803\"}}}],\"below\":[{\"type\":\"object\",\"name\":\"CategoricalAxis\",\"id\":\"p1796\",\"attributes\":{\"ticker\":{\"type\":\"object\",\"name\":\"CategoricalTicker\",\"id\":\"p1799\"},\"formatter\":{\"type\":\"object\",\"name\":\"CategoricalTickFormatter\",\"id\":\"p1798\"},\"axis_label\":\"income_level\",\"major_label_policy\":{\"type\":\"object\",\"name\":\"AllLabels\",\"id\":\"p1797\"}}}],\"center\":[{\"type\":\"object\",\"name\":\"Grid\",\"id\":\"p1801\",\"attributes\":{\"axis\":{\"id\":\"p1796\"},\"grid_line_color\":null}},{\"type\":\"object\",\"name\":\"Grid\",\"id\":\"p1808\",\"attributes\":{\"dimension\":1,\"axis\":{\"id\":\"p1802\"},\"grid_line_color\":null}}],\"min_border_top\":10,\"min_border_bottom\":10,\"min_border_left\":10,\"min_border_right\":10,\"output_backend\":\"webgl\"}}]}}],\"callbacks\":{\"type\":\"map\"}}};\n",
       "  var render_items = [{\"docid\":\"8b4dd6a9-6b2d-41bf-a4f3-9db1a11dc7db\",\"roots\":{\"p1776\":\"e65e63db-6aaf-4f99-b355-40d7cbc95e40\"},\"root_ids\":[\"p1776\"]}];\n",
       "  var docs = Object.values(docs_json)\n",
       "  if (!docs) {\n",
       "    return\n",
       "  }\n",
       "  const py_version = docs[0].version.replace('rc', '-rc.')\n",
       "  const is_dev = py_version.indexOf(\"+\") !== -1 || py_version.indexOf(\"-\") !== -1\n",
       "  function embed_document(root) {\n",
       "    var Bokeh = get_bokeh(root)\n",
       "    Bokeh.embed.embed_items_notebook(docs_json, render_items);\n",
       "    for (const render_item of render_items) {\n",
       "      for (const root_id of render_item.root_ids) {\n",
       "\tconst id_el = document.getElementById(root_id)\n",
       "\tif (id_el.children.length && (id_el.children[0].className === 'bk-root')) {\n",
       "\t  const root_el = id_el.children[0]\n",
       "\t  root_el.id = root_el.id + '-rendered'\n",
       "\t}\n",
       "      }\n",
       "    }\n",
       "  }\n",
       "  function get_bokeh(root) {\n",
       "    if (root.Bokeh === undefined) {\n",
       "      return null\n",
       "    } else if (root.Bokeh.version !== py_version && !is_dev) {\n",
       "      if (root.Bokeh.versions === undefined || !root.Bokeh.versions.has(py_version)) {\n",
       "\treturn null\n",
       "      }\n",
       "      return root.Bokeh.versions.get(py_version);\n",
       "    } else if (root.Bokeh.version === py_version) {\n",
       "      return root.Bokeh\n",
       "    }\n",
       "    return null\n",
       "  }\n",
       "  function is_loaded(root) {\n",
       "    var Bokeh = get_bokeh(root)\n",
       "    return (Bokeh != null && Bokeh.Panel !== undefined)\n",
       "  }\n",
       "  if (is_loaded(root)) {\n",
       "    embed_document(root);\n",
       "  } else {\n",
       "    var attempts = 0;\n",
       "    var timer = setInterval(function(root) {\n",
       "      if (is_loaded(root)) {\n",
       "        clearInterval(timer);\n",
       "        embed_document(root);\n",
       "      } else if (document.readyState == \"complete\") {\n",
       "        attempts++;\n",
       "        if (attempts > 200) {\n",
       "          clearInterval(timer);\n",
       "\t  var Bokeh = get_bokeh(root)\n",
       "\t  if (Bokeh == null || Bokeh.Panel == null) {\n",
       "            console.warn(\"Panel: ERROR: Unable to run Panel code because Bokeh or Panel library is missing\");\n",
       "\t  } else {\n",
       "\t    console.warn(\"Panel: WARNING: Attempting to render but not all required libraries could be resolved.\")\n",
       "\t    embed_document(root)\n",
       "\t  }\n",
       "        }\n",
       "      }\n",
       "    }, 25, root)\n",
       "  }\n",
       "})(window);</script>"
      ],
      "text/plain": [
       ":Bars   [income_level]   (devices_count)"
      ]
     },
     "execution_count": 225,
     "metadata": {
      "application/vnd.holoviews_exec.v0+json": {
       "id": "p1776"
      }
     },
     "output_type": "execute_result"
    }
   ],
   "source": [
    "gm = df.groupby('income_level').sum()\n",
    "gm.reset_index(inplace=True)\n",
    "gm.hvplot.bar(x = 'income_level' ,y = 'devices_count')"
   ]
  },
  {
   "cell_type": "code",
   "execution_count": 226,
   "id": "52ab6e29",
   "metadata": {},
   "outputs": [
    {
     "data": {
      "text/plain": [
       "Index(['age', 'gender', 'level', 'income_level', 'income_level_(num)',\n",
       "       'devices_count', 'own_tablet', 'main_usage_device',\n",
       "       'surfing_the_internet', 'device_price', 'device_performance',\n",
       "       'screen_size_importance', 'portability_importance',\n",
       "       'upgradability_importance', 'performance_importance',\n",
       "       'cd_existence_importance', 'integrated_camera_importance',\n",
       "       'multiple_monitors_importance', 'hours_gaming', 'hours_work',\n",
       "       'hours_academic_study', 'self_study_hours',\n",
       "       'entertainment_(general)_hours', 'how_powerful_from_1_to_5',\n",
       "       'desktop_perc', 'laptop_perc', 'what_would_you_rebuy_for_laptop_imp',\n",
       "       'what_would_you_rebuy_for_desktop_imp', 'Male', 'Mac', 'Windows',\n",
       "       'Cyber security analyst', 'Data analyst', 'Data scientist', 'Dentist ',\n",
       "       'Electrical engineer', 'Graphic Designer ', 'Penetration tester',\n",
       "       'Quantum Physicist', 'Software Developer', 'Student', 'Teaching ',\n",
       "       'Video Game Developer', 'cloud computing engineer', 'mobile developer',\n",
       "       'web developer', 'AMD a4', 'AMD a6', 'AMD a8', 'Core i3', 'Core i5',\n",
       "       'Core i7', 'Core i9', 'Intel Xeon', 'Ryzen 3', 'Ryzen 5', 'Ryzen 7',\n",
       "       'Ryzen 9'],\n",
       "      dtype='object')"
      ]
     },
     "execution_count": 226,
     "metadata": {},
     "output_type": "execute_result"
    }
   ],
   "source": [
    "df.columns"
   ]
  },
  {
   "cell_type": "code",
   "execution_count": 227,
   "id": "076549a0",
   "metadata": {},
   "outputs": [
    {
     "data": {
      "text/html": [
       "<div>\n",
       "<style scoped>\n",
       "    .dataframe tbody tr th:only-of-type {\n",
       "        vertical-align: middle;\n",
       "    }\n",
       "\n",
       "    .dataframe tbody tr th {\n",
       "        vertical-align: top;\n",
       "    }\n",
       "\n",
       "    .dataframe thead th {\n",
       "        text-align: right;\n",
       "    }\n",
       "</style>\n",
       "<table border=\"1\" class=\"dataframe\">\n",
       "  <thead>\n",
       "    <tr style=\"text-align: right;\">\n",
       "      <th></th>\n",
       "      <th>age</th>\n",
       "      <th>gender</th>\n",
       "      <th>level</th>\n",
       "      <th>income_level</th>\n",
       "      <th>income_level_(num)</th>\n",
       "      <th>devices_count</th>\n",
       "      <th>own_tablet</th>\n",
       "      <th>main_usage_device</th>\n",
       "      <th>surfing_the_internet</th>\n",
       "      <th>device_price</th>\n",
       "      <th>...</th>\n",
       "      <th>AMD a8</th>\n",
       "      <th>Core i3</th>\n",
       "      <th>Core i5</th>\n",
       "      <th>Core i7</th>\n",
       "      <th>Core i9</th>\n",
       "      <th>Intel Xeon</th>\n",
       "      <th>Ryzen 3</th>\n",
       "      <th>Ryzen 5</th>\n",
       "      <th>Ryzen 7</th>\n",
       "      <th>Ryzen 9</th>\n",
       "    </tr>\n",
       "  </thead>\n",
       "  <tbody>\n",
       "    <tr>\n",
       "      <th>0</th>\n",
       "      <td>19</td>\n",
       "      <td>Female</td>\n",
       "      <td>1</td>\n",
       "      <td>Medium</td>\n",
       "      <td>2</td>\n",
       "      <td>4</td>\n",
       "      <td>1.0</td>\n",
       "      <td>Study</td>\n",
       "      <td>0</td>\n",
       "      <td>15000.0</td>\n",
       "      <td>...</td>\n",
       "      <td>0.0</td>\n",
       "      <td>0.0</td>\n",
       "      <td>0.0</td>\n",
       "      <td>1.0</td>\n",
       "      <td>0.0</td>\n",
       "      <td>0.0</td>\n",
       "      <td>0.0</td>\n",
       "      <td>0.0</td>\n",
       "      <td>0.0</td>\n",
       "      <td>0.0</td>\n",
       "    </tr>\n",
       "    <tr>\n",
       "      <th>1</th>\n",
       "      <td>21</td>\n",
       "      <td>Male</td>\n",
       "      <td>3</td>\n",
       "      <td>Low</td>\n",
       "      <td>1</td>\n",
       "      <td>2</td>\n",
       "      <td>1.0</td>\n",
       "      <td>Study</td>\n",
       "      <td>0</td>\n",
       "      <td>13000.0</td>\n",
       "      <td>...</td>\n",
       "      <td>0.0</td>\n",
       "      <td>0.0</td>\n",
       "      <td>0.0</td>\n",
       "      <td>0.0</td>\n",
       "      <td>0.0</td>\n",
       "      <td>0.0</td>\n",
       "      <td>0.0</td>\n",
       "      <td>1.0</td>\n",
       "      <td>0.0</td>\n",
       "      <td>0.0</td>\n",
       "    </tr>\n",
       "    <tr>\n",
       "      <th>2</th>\n",
       "      <td>20</td>\n",
       "      <td>Female</td>\n",
       "      <td>2</td>\n",
       "      <td>Medium</td>\n",
       "      <td>2</td>\n",
       "      <td>4</td>\n",
       "      <td>1.0</td>\n",
       "      <td>Study</td>\n",
       "      <td>0</td>\n",
       "      <td>8000.0</td>\n",
       "      <td>...</td>\n",
       "      <td>0.0</td>\n",
       "      <td>0.0</td>\n",
       "      <td>0.0</td>\n",
       "      <td>0.0</td>\n",
       "      <td>0.0</td>\n",
       "      <td>0.0</td>\n",
       "      <td>0.0</td>\n",
       "      <td>1.0</td>\n",
       "      <td>0.0</td>\n",
       "      <td>0.0</td>\n",
       "    </tr>\n",
       "    <tr>\n",
       "      <th>3</th>\n",
       "      <td>19</td>\n",
       "      <td>Female</td>\n",
       "      <td>2</td>\n",
       "      <td>Medium</td>\n",
       "      <td>2</td>\n",
       "      <td>3</td>\n",
       "      <td>1.0</td>\n",
       "      <td>Study</td>\n",
       "      <td>0</td>\n",
       "      <td>18000.0</td>\n",
       "      <td>...</td>\n",
       "      <td>0.0</td>\n",
       "      <td>0.0</td>\n",
       "      <td>0.0</td>\n",
       "      <td>0.0</td>\n",
       "      <td>0.0</td>\n",
       "      <td>1.0</td>\n",
       "      <td>0.0</td>\n",
       "      <td>0.0</td>\n",
       "      <td>0.0</td>\n",
       "      <td>0.0</td>\n",
       "    </tr>\n",
       "    <tr>\n",
       "      <th>4</th>\n",
       "      <td>21</td>\n",
       "      <td>Female</td>\n",
       "      <td>3</td>\n",
       "      <td>Medium</td>\n",
       "      <td>2</td>\n",
       "      <td>3</td>\n",
       "      <td>0.0</td>\n",
       "      <td>Study</td>\n",
       "      <td>0</td>\n",
       "      <td>15000.0</td>\n",
       "      <td>...</td>\n",
       "      <td>0.0</td>\n",
       "      <td>0.0</td>\n",
       "      <td>0.0</td>\n",
       "      <td>1.0</td>\n",
       "      <td>0.0</td>\n",
       "      <td>0.0</td>\n",
       "      <td>0.0</td>\n",
       "      <td>0.0</td>\n",
       "      <td>0.0</td>\n",
       "      <td>0.0</td>\n",
       "    </tr>\n",
       "    <tr>\n",
       "      <th>...</th>\n",
       "      <td>...</td>\n",
       "      <td>...</td>\n",
       "      <td>...</td>\n",
       "      <td>...</td>\n",
       "      <td>...</td>\n",
       "      <td>...</td>\n",
       "      <td>...</td>\n",
       "      <td>...</td>\n",
       "      <td>...</td>\n",
       "      <td>...</td>\n",
       "      <td>...</td>\n",
       "      <td>...</td>\n",
       "      <td>...</td>\n",
       "      <td>...</td>\n",
       "      <td>...</td>\n",
       "      <td>...</td>\n",
       "      <td>...</td>\n",
       "      <td>...</td>\n",
       "      <td>...</td>\n",
       "      <td>...</td>\n",
       "      <td>...</td>\n",
       "    </tr>\n",
       "    <tr>\n",
       "      <th>101</th>\n",
       "      <td>19</td>\n",
       "      <td>Male</td>\n",
       "      <td>2</td>\n",
       "      <td>Low</td>\n",
       "      <td>1</td>\n",
       "      <td>3</td>\n",
       "      <td>1.0</td>\n",
       "      <td>Gaming</td>\n",
       "      <td>0</td>\n",
       "      <td>30000.0</td>\n",
       "      <td>...</td>\n",
       "      <td>0.0</td>\n",
       "      <td>0.0</td>\n",
       "      <td>0.0</td>\n",
       "      <td>0.0</td>\n",
       "      <td>0.0</td>\n",
       "      <td>0.0</td>\n",
       "      <td>0.0</td>\n",
       "      <td>1.0</td>\n",
       "      <td>0.0</td>\n",
       "      <td>0.0</td>\n",
       "    </tr>\n",
       "    <tr>\n",
       "      <th>102</th>\n",
       "      <td>20</td>\n",
       "      <td>Female</td>\n",
       "      <td>2</td>\n",
       "      <td>Lower medium</td>\n",
       "      <td>3</td>\n",
       "      <td>3</td>\n",
       "      <td>1.0</td>\n",
       "      <td>Surfing the internet</td>\n",
       "      <td>1</td>\n",
       "      <td>30000.0</td>\n",
       "      <td>...</td>\n",
       "      <td>0.0</td>\n",
       "      <td>0.0</td>\n",
       "      <td>0.0</td>\n",
       "      <td>1.0</td>\n",
       "      <td>0.0</td>\n",
       "      <td>0.0</td>\n",
       "      <td>0.0</td>\n",
       "      <td>0.0</td>\n",
       "      <td>0.0</td>\n",
       "      <td>0.0</td>\n",
       "    </tr>\n",
       "    <tr>\n",
       "      <th>103</th>\n",
       "      <td>21</td>\n",
       "      <td>Female</td>\n",
       "      <td>4</td>\n",
       "      <td>Medium</td>\n",
       "      <td>2</td>\n",
       "      <td>3</td>\n",
       "      <td>1.0</td>\n",
       "      <td>Study</td>\n",
       "      <td>0</td>\n",
       "      <td>38000.0</td>\n",
       "      <td>...</td>\n",
       "      <td>0.0</td>\n",
       "      <td>0.0</td>\n",
       "      <td>0.0</td>\n",
       "      <td>1.0</td>\n",
       "      <td>0.0</td>\n",
       "      <td>0.0</td>\n",
       "      <td>0.0</td>\n",
       "      <td>0.0</td>\n",
       "      <td>0.0</td>\n",
       "      <td>0.0</td>\n",
       "    </tr>\n",
       "    <tr>\n",
       "      <th>104</th>\n",
       "      <td>21</td>\n",
       "      <td>Female</td>\n",
       "      <td>4</td>\n",
       "      <td>Medium</td>\n",
       "      <td>2</td>\n",
       "      <td>4</td>\n",
       "      <td>1.0</td>\n",
       "      <td>Work</td>\n",
       "      <td>0</td>\n",
       "      <td>15500.0</td>\n",
       "      <td>...</td>\n",
       "      <td>0.0</td>\n",
       "      <td>0.0</td>\n",
       "      <td>1.0</td>\n",
       "      <td>0.0</td>\n",
       "      <td>0.0</td>\n",
       "      <td>0.0</td>\n",
       "      <td>0.0</td>\n",
       "      <td>0.0</td>\n",
       "      <td>0.0</td>\n",
       "      <td>0.0</td>\n",
       "    </tr>\n",
       "    <tr>\n",
       "      <th>105</th>\n",
       "      <td>19</td>\n",
       "      <td>Male</td>\n",
       "      <td>1</td>\n",
       "      <td>Low</td>\n",
       "      <td>1</td>\n",
       "      <td>2</td>\n",
       "      <td>0.0</td>\n",
       "      <td>Study</td>\n",
       "      <td>0</td>\n",
       "      <td>7500.0</td>\n",
       "      <td>...</td>\n",
       "      <td>0.0</td>\n",
       "      <td>0.0</td>\n",
       "      <td>0.0</td>\n",
       "      <td>1.0</td>\n",
       "      <td>0.0</td>\n",
       "      <td>0.0</td>\n",
       "      <td>0.0</td>\n",
       "      <td>0.0</td>\n",
       "      <td>0.0</td>\n",
       "      <td>0.0</td>\n",
       "    </tr>\n",
       "  </tbody>\n",
       "</table>\n",
       "<p>105 rows × 58 columns</p>\n",
       "</div>"
      ],
      "text/plain": [
       "     age  gender  level  income_level  income_level_(num)  devices_count   \n",
       "0     19  Female      1        Medium                   2              4  \\\n",
       "1     21    Male      3           Low                   1              2   \n",
       "2     20  Female      2        Medium                   2              4   \n",
       "3     19  Female      2        Medium                   2              3   \n",
       "4     21  Female      3        Medium                   2              3   \n",
       "..   ...     ...    ...           ...                 ...            ...   \n",
       "101   19    Male      2           Low                   1              3   \n",
       "102   20  Female      2  Lower medium                   3              3   \n",
       "103   21  Female      4        Medium                   2              3   \n",
       "104   21  Female      4        Medium                   2              4   \n",
       "105   19    Male      1           Low                   1              2   \n",
       "\n",
       "     own_tablet     main_usage_device  surfing_the_internet  device_price   \n",
       "0           1.0                 Study                     0       15000.0  \\\n",
       "1           1.0                 Study                     0       13000.0   \n",
       "2           1.0                 Study                     0        8000.0   \n",
       "3           1.0                 Study                     0       18000.0   \n",
       "4           0.0                 Study                     0       15000.0   \n",
       "..          ...                   ...                   ...           ...   \n",
       "101         1.0                Gaming                     0       30000.0   \n",
       "102         1.0  Surfing the internet                     1       30000.0   \n",
       "103         1.0                 Study                     0       38000.0   \n",
       "104         1.0                  Work                     0       15500.0   \n",
       "105         0.0                 Study                     0        7500.0   \n",
       "\n",
       "     ... AMD a8  Core i3  Core i5  Core i7  Core i9  Intel Xeon  Ryzen 3   \n",
       "0    ...    0.0      0.0      0.0      1.0      0.0         0.0      0.0  \\\n",
       "1    ...    0.0      0.0      0.0      0.0      0.0         0.0      0.0   \n",
       "2    ...    0.0      0.0      0.0      0.0      0.0         0.0      0.0   \n",
       "3    ...    0.0      0.0      0.0      0.0      0.0         1.0      0.0   \n",
       "4    ...    0.0      0.0      0.0      1.0      0.0         0.0      0.0   \n",
       "..   ...    ...      ...      ...      ...      ...         ...      ...   \n",
       "101  ...    0.0      0.0      0.0      0.0      0.0         0.0      0.0   \n",
       "102  ...    0.0      0.0      0.0      1.0      0.0         0.0      0.0   \n",
       "103  ...    0.0      0.0      0.0      1.0      0.0         0.0      0.0   \n",
       "104  ...    0.0      0.0      1.0      0.0      0.0         0.0      0.0   \n",
       "105  ...    0.0      0.0      0.0      1.0      0.0         0.0      0.0   \n",
       "\n",
       "     Ryzen 5  Ryzen 7  Ryzen 9  \n",
       "0        0.0      0.0      0.0  \n",
       "1        1.0      0.0      0.0  \n",
       "2        1.0      0.0      0.0  \n",
       "3        0.0      0.0      0.0  \n",
       "4        0.0      0.0      0.0  \n",
       "..       ...      ...      ...  \n",
       "101      1.0      0.0      0.0  \n",
       "102      0.0      0.0      0.0  \n",
       "103      0.0      0.0      0.0  \n",
       "104      0.0      0.0      0.0  \n",
       "105      0.0      0.0      0.0  \n",
       "\n",
       "[105 rows x 58 columns]"
      ]
     },
     "execution_count": 227,
     "metadata": {},
     "output_type": "execute_result"
    }
   ],
   "source": [
    "df"
   ]
  },
  {
   "cell_type": "code",
   "execution_count": 228,
   "id": "405fe1e5",
   "metadata": {},
   "outputs": [
    {
     "name": "stdout",
     "output_type": "stream",
     "text": [
      "<class 'pandas.core.frame.DataFrame'>\n",
      "Index: 105 entries, 0 to 105\n",
      "Data columns (total 58 columns):\n",
      " #   Column                                Non-Null Count  Dtype  \n",
      "---  ------                                --------------  -----  \n",
      " 0   age                                   105 non-null    int32  \n",
      " 1   gender                                105 non-null    object \n",
      " 2   level                                 105 non-null    int64  \n",
      " 3   income_level                          105 non-null    object \n",
      " 4   income_level_(num)                    105 non-null    int64  \n",
      " 5   devices_count                         105 non-null    int32  \n",
      " 6   own_tablet                            105 non-null    float64\n",
      " 7   main_usage_device                     105 non-null    object \n",
      " 8   surfing_the_internet                  105 non-null    int64  \n",
      " 9   device_price                          105 non-null    float64\n",
      " 10  device_performance                    105 non-null    object \n",
      " 11  screen_size_importance                105 non-null    int64  \n",
      " 12  portability_importance                105 non-null    int64  \n",
      " 13  upgradability_importance              105 non-null    int64  \n",
      " 14  performance_importance                105 non-null    int64  \n",
      " 15  cd_existence_importance               105 non-null    int64  \n",
      " 16  integrated_camera_importance          105 non-null    int64  \n",
      " 17  multiple_monitors_importance          105 non-null    int64  \n",
      " 18  hours_gaming                          105 non-null    int64  \n",
      " 19  hours_work                            105 non-null    int64  \n",
      " 20  hours_academic_study                  105 non-null    int64  \n",
      " 21  self_study_hours                      105 non-null    int64  \n",
      " 22  entertainment_(general)_hours         105 non-null    int64  \n",
      " 23  how_powerful_from_1_to_5              105 non-null    float64\n",
      " 24  desktop_perc                          105 non-null    float64\n",
      " 25  laptop_perc                           105 non-null    float64\n",
      " 26  what_would_you_rebuy_for_laptop_imp   105 non-null    int64  \n",
      " 27  what_would_you_rebuy_for_desktop_imp  105 non-null    int64  \n",
      " 28  Male                                  105 non-null    float64\n",
      " 29  Mac                                   105 non-null    float64\n",
      " 30  Windows                               105 non-null    float64\n",
      " 31  Cyber security analyst                105 non-null    float64\n",
      " 32  Data analyst                          105 non-null    float64\n",
      " 33  Data scientist                        105 non-null    float64\n",
      " 34  Dentist                               105 non-null    float64\n",
      " 35  Electrical engineer                   105 non-null    float64\n",
      " 36  Graphic Designer                      105 non-null    float64\n",
      " 37  Penetration tester                    105 non-null    float64\n",
      " 38  Quantum Physicist                     105 non-null    float64\n",
      " 39  Software Developer                    105 non-null    float64\n",
      " 40  Student                               105 non-null    float64\n",
      " 41  Teaching                              105 non-null    float64\n",
      " 42  Video Game Developer                  105 non-null    float64\n",
      " 43  cloud computing engineer              105 non-null    float64\n",
      " 44  mobile developer                      105 non-null    float64\n",
      " 45  web developer                         105 non-null    float64\n",
      " 46  AMD a4                                105 non-null    float64\n",
      " 47  AMD a6                                105 non-null    float64\n",
      " 48  AMD a8                                105 non-null    float64\n",
      " 49  Core i3                               105 non-null    float64\n",
      " 50  Core i5                               105 non-null    float64\n",
      " 51  Core i7                               105 non-null    float64\n",
      " 52  Core i9                               105 non-null    float64\n",
      " 53  Intel Xeon                            105 non-null    float64\n",
      " 54  Ryzen 3                               105 non-null    float64\n",
      " 55  Ryzen 5                               105 non-null    float64\n",
      " 56  Ryzen 7                               105 non-null    float64\n",
      " 57  Ryzen 9                               105 non-null    float64\n",
      "dtypes: float64(35), int32(2), int64(17), object(4)\n",
      "memory usage: 47.6+ KB\n"
     ]
    }
   ],
   "source": [
    "df.info()"
   ]
  },
  {
   "cell_type": "code",
   "execution_count": 243,
   "id": "4afa687b",
   "metadata": {},
   "outputs": [],
   "source": [
    "df_alpha = df.drop([\"main_usage_device\", \"income_level\",  \"own_tablet\"], axis = 1)"
   ]
  },
  {
   "cell_type": "code",
   "execution_count": 244,
   "id": "3b037ab3",
   "metadata": {},
   "outputs": [
    {
     "name": "stdout",
     "output_type": "stream",
     "text": [
      "<class 'pandas.core.frame.DataFrame'>\n",
      "Index: 105 entries, 0 to 105\n",
      "Data columns (total 55 columns):\n",
      " #   Column                                Non-Null Count  Dtype  \n",
      "---  ------                                --------------  -----  \n",
      " 0   age                                   105 non-null    int32  \n",
      " 1   gender                                105 non-null    object \n",
      " 2   level                                 105 non-null    int64  \n",
      " 3   income_level_(num)                    105 non-null    int64  \n",
      " 4   devices_count                         105 non-null    int32  \n",
      " 5   surfing_the_internet                  105 non-null    int64  \n",
      " 6   device_price                          105 non-null    float64\n",
      " 7   device_performance                    105 non-null    object \n",
      " 8   screen_size_importance                105 non-null    int64  \n",
      " 9   portability_importance                105 non-null    int64  \n",
      " 10  upgradability_importance              105 non-null    int64  \n",
      " 11  performance_importance                105 non-null    int64  \n",
      " 12  cd_existence_importance               105 non-null    int64  \n",
      " 13  integrated_camera_importance          105 non-null    int64  \n",
      " 14  multiple_monitors_importance          105 non-null    int64  \n",
      " 15  hours_gaming                          105 non-null    int64  \n",
      " 16  hours_work                            105 non-null    int64  \n",
      " 17  hours_academic_study                  105 non-null    int64  \n",
      " 18  self_study_hours                      105 non-null    int64  \n",
      " 19  entertainment_(general)_hours         105 non-null    int64  \n",
      " 20  how_powerful_from_1_to_5              105 non-null    float64\n",
      " 21  desktop_perc                          105 non-null    float64\n",
      " 22  laptop_perc                           105 non-null    float64\n",
      " 23  what_would_you_rebuy_for_laptop_imp   105 non-null    int64  \n",
      " 24  what_would_you_rebuy_for_desktop_imp  105 non-null    int64  \n",
      " 25  Male                                  105 non-null    float64\n",
      " 26  Mac                                   105 non-null    float64\n",
      " 27  Windows                               105 non-null    float64\n",
      " 28  Cyber security analyst                105 non-null    float64\n",
      " 29  Data analyst                          105 non-null    float64\n",
      " 30  Data scientist                        105 non-null    float64\n",
      " 31  Dentist                               105 non-null    float64\n",
      " 32  Electrical engineer                   105 non-null    float64\n",
      " 33  Graphic Designer                      105 non-null    float64\n",
      " 34  Penetration tester                    105 non-null    float64\n",
      " 35  Quantum Physicist                     105 non-null    float64\n",
      " 36  Software Developer                    105 non-null    float64\n",
      " 37  Student                               105 non-null    float64\n",
      " 38  Teaching                              105 non-null    float64\n",
      " 39  Video Game Developer                  105 non-null    float64\n",
      " 40  cloud computing engineer              105 non-null    float64\n",
      " 41  mobile developer                      105 non-null    float64\n",
      " 42  web developer                         105 non-null    float64\n",
      " 43  AMD a4                                105 non-null    float64\n",
      " 44  AMD a6                                105 non-null    float64\n",
      " 45  AMD a8                                105 non-null    float64\n",
      " 46  Core i3                               105 non-null    float64\n",
      " 47  Core i5                               105 non-null    float64\n",
      " 48  Core i7                               105 non-null    float64\n",
      " 49  Core i9                               105 non-null    float64\n",
      " 50  Intel Xeon                            105 non-null    float64\n",
      " 51  Ryzen 3                               105 non-null    float64\n",
      " 52  Ryzen 5                               105 non-null    float64\n",
      " 53  Ryzen 7                               105 non-null    float64\n",
      " 54  Ryzen 9                               105 non-null    float64\n",
      "dtypes: float64(34), int32(2), int64(17), object(2)\n",
      "memory usage: 45.1+ KB\n"
     ]
    }
   ],
   "source": [
    "df_alpha.info()"
   ]
  },
  {
   "cell_type": "code",
   "execution_count": 231,
   "id": "173a9f02",
   "metadata": {},
   "outputs": [
    {
     "data": {
      "text/plain": [
       "0      Female\n",
       "1        Male\n",
       "2      Female\n",
       "3      Female\n",
       "4      Female\n",
       "        ...  \n",
       "101      Male\n",
       "102    Female\n",
       "103    Female\n",
       "104    Female\n",
       "105      Male\n",
       "Name: gender, Length: 105, dtype: object"
      ]
     },
     "execution_count": 231,
     "metadata": {},
     "output_type": "execute_result"
    }
   ],
   "source": [
    "df[\"gender\"]"
   ]
  },
  {
   "cell_type": "code",
   "execution_count": 246,
   "id": "80264397",
   "metadata": {},
   "outputs": [
    {
     "data": {
      "text/html": [
       "<div>\n",
       "<style scoped>\n",
       "    .dataframe tbody tr th:only-of-type {\n",
       "        vertical-align: middle;\n",
       "    }\n",
       "\n",
       "    .dataframe tbody tr th {\n",
       "        vertical-align: top;\n",
       "    }\n",
       "\n",
       "    .dataframe thead th {\n",
       "        text-align: right;\n",
       "    }\n",
       "</style>\n",
       "<table border=\"1\" class=\"dataframe\">\n",
       "  <thead>\n",
       "    <tr style=\"text-align: right;\">\n",
       "      <th></th>\n",
       "      <th>age</th>\n",
       "      <th>gender</th>\n",
       "      <th>level</th>\n",
       "      <th>income_level_(num)</th>\n",
       "      <th>devices_count</th>\n",
       "      <th>surfing_the_internet</th>\n",
       "      <th>device_price</th>\n",
       "      <th>device_performance</th>\n",
       "      <th>screen_size_importance</th>\n",
       "      <th>portability_importance</th>\n",
       "      <th>...</th>\n",
       "      <th>AMD a8</th>\n",
       "      <th>Core i3</th>\n",
       "      <th>Core i5</th>\n",
       "      <th>Core i7</th>\n",
       "      <th>Core i9</th>\n",
       "      <th>Intel Xeon</th>\n",
       "      <th>Ryzen 3</th>\n",
       "      <th>Ryzen 5</th>\n",
       "      <th>Ryzen 7</th>\n",
       "      <th>Ryzen 9</th>\n",
       "    </tr>\n",
       "  </thead>\n",
       "  <tbody>\n",
       "    <tr>\n",
       "      <th>0</th>\n",
       "      <td>19</td>\n",
       "      <td>2</td>\n",
       "      <td>1</td>\n",
       "      <td>2</td>\n",
       "      <td>4</td>\n",
       "      <td>0</td>\n",
       "      <td>15000.0</td>\n",
       "      <td>Medium end device</td>\n",
       "      <td>4</td>\n",
       "      <td>4</td>\n",
       "      <td>...</td>\n",
       "      <td>0.0</td>\n",
       "      <td>0.0</td>\n",
       "      <td>0.0</td>\n",
       "      <td>1.0</td>\n",
       "      <td>0.0</td>\n",
       "      <td>0.0</td>\n",
       "      <td>0.0</td>\n",
       "      <td>0.0</td>\n",
       "      <td>0.0</td>\n",
       "      <td>0.0</td>\n",
       "    </tr>\n",
       "    <tr>\n",
       "      <th>1</th>\n",
       "      <td>21</td>\n",
       "      <td>1</td>\n",
       "      <td>3</td>\n",
       "      <td>1</td>\n",
       "      <td>2</td>\n",
       "      <td>0</td>\n",
       "      <td>13000.0</td>\n",
       "      <td>medium high specs</td>\n",
       "      <td>3</td>\n",
       "      <td>1</td>\n",
       "      <td>...</td>\n",
       "      <td>0.0</td>\n",
       "      <td>0.0</td>\n",
       "      <td>0.0</td>\n",
       "      <td>0.0</td>\n",
       "      <td>0.0</td>\n",
       "      <td>0.0</td>\n",
       "      <td>0.0</td>\n",
       "      <td>1.0</td>\n",
       "      <td>0.0</td>\n",
       "      <td>0.0</td>\n",
       "    </tr>\n",
       "    <tr>\n",
       "      <th>2</th>\n",
       "      <td>20</td>\n",
       "      <td>2</td>\n",
       "      <td>2</td>\n",
       "      <td>2</td>\n",
       "      <td>4</td>\n",
       "      <td>0</td>\n",
       "      <td>8000.0</td>\n",
       "      <td>Medium end device</td>\n",
       "      <td>3</td>\n",
       "      <td>4</td>\n",
       "      <td>...</td>\n",
       "      <td>0.0</td>\n",
       "      <td>0.0</td>\n",
       "      <td>0.0</td>\n",
       "      <td>0.0</td>\n",
       "      <td>0.0</td>\n",
       "      <td>0.0</td>\n",
       "      <td>0.0</td>\n",
       "      <td>1.0</td>\n",
       "      <td>0.0</td>\n",
       "      <td>0.0</td>\n",
       "    </tr>\n",
       "    <tr>\n",
       "      <th>3</th>\n",
       "      <td>19</td>\n",
       "      <td>2</td>\n",
       "      <td>2</td>\n",
       "      <td>2</td>\n",
       "      <td>3</td>\n",
       "      <td>0</td>\n",
       "      <td>18000.0</td>\n",
       "      <td>medium high specs</td>\n",
       "      <td>4</td>\n",
       "      <td>4</td>\n",
       "      <td>...</td>\n",
       "      <td>0.0</td>\n",
       "      <td>0.0</td>\n",
       "      <td>0.0</td>\n",
       "      <td>0.0</td>\n",
       "      <td>0.0</td>\n",
       "      <td>1.0</td>\n",
       "      <td>0.0</td>\n",
       "      <td>0.0</td>\n",
       "      <td>0.0</td>\n",
       "      <td>0.0</td>\n",
       "    </tr>\n",
       "    <tr>\n",
       "      <th>4</th>\n",
       "      <td>21</td>\n",
       "      <td>2</td>\n",
       "      <td>3</td>\n",
       "      <td>2</td>\n",
       "      <td>3</td>\n",
       "      <td>0</td>\n",
       "      <td>15000.0</td>\n",
       "      <td>Medium end device</td>\n",
       "      <td>2</td>\n",
       "      <td>2</td>\n",
       "      <td>...</td>\n",
       "      <td>0.0</td>\n",
       "      <td>0.0</td>\n",
       "      <td>0.0</td>\n",
       "      <td>1.0</td>\n",
       "      <td>0.0</td>\n",
       "      <td>0.0</td>\n",
       "      <td>0.0</td>\n",
       "      <td>0.0</td>\n",
       "      <td>0.0</td>\n",
       "      <td>0.0</td>\n",
       "    </tr>\n",
       "    <tr>\n",
       "      <th>...</th>\n",
       "      <td>...</td>\n",
       "      <td>...</td>\n",
       "      <td>...</td>\n",
       "      <td>...</td>\n",
       "      <td>...</td>\n",
       "      <td>...</td>\n",
       "      <td>...</td>\n",
       "      <td>...</td>\n",
       "      <td>...</td>\n",
       "      <td>...</td>\n",
       "      <td>...</td>\n",
       "      <td>...</td>\n",
       "      <td>...</td>\n",
       "      <td>...</td>\n",
       "      <td>...</td>\n",
       "      <td>...</td>\n",
       "      <td>...</td>\n",
       "      <td>...</td>\n",
       "      <td>...</td>\n",
       "      <td>...</td>\n",
       "      <td>...</td>\n",
       "    </tr>\n",
       "    <tr>\n",
       "      <th>101</th>\n",
       "      <td>19</td>\n",
       "      <td>1</td>\n",
       "      <td>2</td>\n",
       "      <td>1</td>\n",
       "      <td>3</td>\n",
       "      <td>0</td>\n",
       "      <td>30000.0</td>\n",
       "      <td>medium high specs</td>\n",
       "      <td>5</td>\n",
       "      <td>1</td>\n",
       "      <td>...</td>\n",
       "      <td>0.0</td>\n",
       "      <td>0.0</td>\n",
       "      <td>0.0</td>\n",
       "      <td>0.0</td>\n",
       "      <td>0.0</td>\n",
       "      <td>0.0</td>\n",
       "      <td>0.0</td>\n",
       "      <td>1.0</td>\n",
       "      <td>0.0</td>\n",
       "      <td>0.0</td>\n",
       "    </tr>\n",
       "    <tr>\n",
       "      <th>102</th>\n",
       "      <td>20</td>\n",
       "      <td>2</td>\n",
       "      <td>2</td>\n",
       "      <td>3</td>\n",
       "      <td>3</td>\n",
       "      <td>1</td>\n",
       "      <td>30000.0</td>\n",
       "      <td>Medium end device</td>\n",
       "      <td>4</td>\n",
       "      <td>5</td>\n",
       "      <td>...</td>\n",
       "      <td>0.0</td>\n",
       "      <td>0.0</td>\n",
       "      <td>0.0</td>\n",
       "      <td>1.0</td>\n",
       "      <td>0.0</td>\n",
       "      <td>0.0</td>\n",
       "      <td>0.0</td>\n",
       "      <td>0.0</td>\n",
       "      <td>0.0</td>\n",
       "      <td>0.0</td>\n",
       "    </tr>\n",
       "    <tr>\n",
       "      <th>103</th>\n",
       "      <td>21</td>\n",
       "      <td>2</td>\n",
       "      <td>4</td>\n",
       "      <td>2</td>\n",
       "      <td>3</td>\n",
       "      <td>0</td>\n",
       "      <td>38000.0</td>\n",
       "      <td>medium high specs</td>\n",
       "      <td>4</td>\n",
       "      <td>4</td>\n",
       "      <td>...</td>\n",
       "      <td>0.0</td>\n",
       "      <td>0.0</td>\n",
       "      <td>0.0</td>\n",
       "      <td>1.0</td>\n",
       "      <td>0.0</td>\n",
       "      <td>0.0</td>\n",
       "      <td>0.0</td>\n",
       "      <td>0.0</td>\n",
       "      <td>0.0</td>\n",
       "      <td>0.0</td>\n",
       "    </tr>\n",
       "    <tr>\n",
       "      <th>104</th>\n",
       "      <td>21</td>\n",
       "      <td>2</td>\n",
       "      <td>4</td>\n",
       "      <td>2</td>\n",
       "      <td>4</td>\n",
       "      <td>0</td>\n",
       "      <td>15500.0</td>\n",
       "      <td>medium high specs</td>\n",
       "      <td>3</td>\n",
       "      <td>4</td>\n",
       "      <td>...</td>\n",
       "      <td>0.0</td>\n",
       "      <td>0.0</td>\n",
       "      <td>1.0</td>\n",
       "      <td>0.0</td>\n",
       "      <td>0.0</td>\n",
       "      <td>0.0</td>\n",
       "      <td>0.0</td>\n",
       "      <td>0.0</td>\n",
       "      <td>0.0</td>\n",
       "      <td>0.0</td>\n",
       "    </tr>\n",
       "    <tr>\n",
       "      <th>105</th>\n",
       "      <td>19</td>\n",
       "      <td>1</td>\n",
       "      <td>1</td>\n",
       "      <td>1</td>\n",
       "      <td>2</td>\n",
       "      <td>0</td>\n",
       "      <td>7500.0</td>\n",
       "      <td>Medium end device</td>\n",
       "      <td>2</td>\n",
       "      <td>2</td>\n",
       "      <td>...</td>\n",
       "      <td>0.0</td>\n",
       "      <td>0.0</td>\n",
       "      <td>0.0</td>\n",
       "      <td>1.0</td>\n",
       "      <td>0.0</td>\n",
       "      <td>0.0</td>\n",
       "      <td>0.0</td>\n",
       "      <td>0.0</td>\n",
       "      <td>0.0</td>\n",
       "      <td>0.0</td>\n",
       "    </tr>\n",
       "  </tbody>\n",
       "</table>\n",
       "<p>105 rows × 55 columns</p>\n",
       "</div>"
      ],
      "text/plain": [
       "     age  gender  level  income_level_(num)  devices_count   \n",
       "0     19       2      1                   2              4  \\\n",
       "1     21       1      3                   1              2   \n",
       "2     20       2      2                   2              4   \n",
       "3     19       2      2                   2              3   \n",
       "4     21       2      3                   2              3   \n",
       "..   ...     ...    ...                 ...            ...   \n",
       "101   19       1      2                   1              3   \n",
       "102   20       2      2                   3              3   \n",
       "103   21       2      4                   2              3   \n",
       "104   21       2      4                   2              4   \n",
       "105   19       1      1                   1              2   \n",
       "\n",
       "     surfing_the_internet  device_price device_performance   \n",
       "0                       0       15000.0  Medium end device  \\\n",
       "1                       0       13000.0  medium high specs   \n",
       "2                       0        8000.0  Medium end device   \n",
       "3                       0       18000.0  medium high specs   \n",
       "4                       0       15000.0  Medium end device   \n",
       "..                    ...           ...                ...   \n",
       "101                     0       30000.0  medium high specs   \n",
       "102                     1       30000.0  Medium end device   \n",
       "103                     0       38000.0  medium high specs   \n",
       "104                     0       15500.0  medium high specs   \n",
       "105                     0        7500.0  Medium end device   \n",
       "\n",
       "     screen_size_importance  portability_importance  ...  AMD a8  Core i3   \n",
       "0                         4                       4  ...     0.0      0.0  \\\n",
       "1                         3                       1  ...     0.0      0.0   \n",
       "2                         3                       4  ...     0.0      0.0   \n",
       "3                         4                       4  ...     0.0      0.0   \n",
       "4                         2                       2  ...     0.0      0.0   \n",
       "..                      ...                     ...  ...     ...      ...   \n",
       "101                       5                       1  ...     0.0      0.0   \n",
       "102                       4                       5  ...     0.0      0.0   \n",
       "103                       4                       4  ...     0.0      0.0   \n",
       "104                       3                       4  ...     0.0      0.0   \n",
       "105                       2                       2  ...     0.0      0.0   \n",
       "\n",
       "     Core i5  Core i7  Core i9  Intel Xeon  Ryzen 3  Ryzen 5  Ryzen 7  Ryzen 9  \n",
       "0        0.0      1.0      0.0         0.0      0.0      0.0      0.0      0.0  \n",
       "1        0.0      0.0      0.0         0.0      0.0      1.0      0.0      0.0  \n",
       "2        0.0      0.0      0.0         0.0      0.0      1.0      0.0      0.0  \n",
       "3        0.0      0.0      0.0         1.0      0.0      0.0      0.0      0.0  \n",
       "4        0.0      1.0      0.0         0.0      0.0      0.0      0.0      0.0  \n",
       "..       ...      ...      ...         ...      ...      ...      ...      ...  \n",
       "101      0.0      0.0      0.0         0.0      0.0      1.0      0.0      0.0  \n",
       "102      0.0      1.0      0.0         0.0      0.0      0.0      0.0      0.0  \n",
       "103      0.0      1.0      0.0         0.0      0.0      0.0      0.0      0.0  \n",
       "104      1.0      0.0      0.0         0.0      0.0      0.0      0.0      0.0  \n",
       "105      0.0      1.0      0.0         0.0      0.0      0.0      0.0      0.0  \n",
       "\n",
       "[105 rows x 55 columns]"
      ]
     },
     "execution_count": 246,
     "metadata": {},
     "output_type": "execute_result"
    }
   ],
   "source": [
    "df_alpha.gender = df_alpha.gender.replace({'Male': 1, 'Female' : 2}).astype(int)\n",
    "df_alpha"
   ]
  },
  {
   "cell_type": "code",
   "execution_count": 247,
   "id": "1419178b",
   "metadata": {},
   "outputs": [
    {
     "data": {
      "text/plain": [
       "array(['Medium end device', 'medium high specs', 'high end specs',\n",
       "       'Low end device'], dtype=object)"
      ]
     },
     "execution_count": 247,
     "metadata": {},
     "output_type": "execute_result"
    }
   ],
   "source": [
    "df[\"device_performance\"].unique()"
   ]
  },
  {
   "cell_type": "code",
   "execution_count": 234,
   "id": "63046543",
   "metadata": {},
   "outputs": [],
   "source": [
    "final_map = {\n",
    "    'Low end device':1,\n",
    "    'Medium end device' : 2,\n",
    "    'medium high specs' : 3,\n",
    "     'high end specs' : 4    \n",
    "}"
   ]
  },
  {
   "cell_type": "code",
   "execution_count": 235,
   "id": "6e054df4",
   "metadata": {},
   "outputs": [],
   "source": [
    "df_alpha.device_performance = df_alpha.device_performance.replace(final_map).astype(int)"
   ]
  },
  {
   "cell_type": "code",
   "execution_count": 236,
   "id": "31c01c5f",
   "metadata": {},
   "outputs": [
    {
     "name": "stdout",
     "output_type": "stream",
     "text": [
      "<class 'pandas.core.frame.DataFrame'>\n",
      "Index: 105 entries, 0 to 105\n",
      "Data columns (total 55 columns):\n",
      " #   Column                                Non-Null Count  Dtype  \n",
      "---  ------                                --------------  -----  \n",
      " 0   age                                   105 non-null    int32  \n",
      " 1   gender                                105 non-null    int32  \n",
      " 2   level                                 105 non-null    int64  \n",
      " 3   income_level_(num)                    105 non-null    int64  \n",
      " 4   devices_count                         105 non-null    int32  \n",
      " 5   surfing_the_internet                  105 non-null    int64  \n",
      " 6   device_price                          105 non-null    float64\n",
      " 7   device_performance                    105 non-null    int32  \n",
      " 8   screen_size_importance                105 non-null    int64  \n",
      " 9   portability_importance                105 non-null    int64  \n",
      " 10  upgradability_importance              105 non-null    int64  \n",
      " 11  performance_importance                105 non-null    int64  \n",
      " 12  cd_existence_importance               105 non-null    int64  \n",
      " 13  integrated_camera_importance          105 non-null    int64  \n",
      " 14  multiple_monitors_importance          105 non-null    int64  \n",
      " 15  hours_gaming                          105 non-null    int64  \n",
      " 16  hours_work                            105 non-null    int64  \n",
      " 17  hours_academic_study                  105 non-null    int64  \n",
      " 18  self_study_hours                      105 non-null    int64  \n",
      " 19  entertainment_(general)_hours         105 non-null    int64  \n",
      " 20  how_powerful_from_1_to_5              105 non-null    float64\n",
      " 21  desktop_perc                          105 non-null    float64\n",
      " 22  laptop_perc                           105 non-null    float64\n",
      " 23  what_would_you_rebuy_for_laptop_imp   105 non-null    int64  \n",
      " 24  what_would_you_rebuy_for_desktop_imp  105 non-null    int64  \n",
      " 25  Male                                  105 non-null    float64\n",
      " 26  Mac                                   105 non-null    float64\n",
      " 27  Windows                               105 non-null    float64\n",
      " 28  Cyber security analyst                105 non-null    float64\n",
      " 29  Data analyst                          105 non-null    float64\n",
      " 30  Data scientist                        105 non-null    float64\n",
      " 31  Dentist                               105 non-null    float64\n",
      " 32  Electrical engineer                   105 non-null    float64\n",
      " 33  Graphic Designer                      105 non-null    float64\n",
      " 34  Penetration tester                    105 non-null    float64\n",
      " 35  Quantum Physicist                     105 non-null    float64\n",
      " 36  Software Developer                    105 non-null    float64\n",
      " 37  Student                               105 non-null    float64\n",
      " 38  Teaching                              105 non-null    float64\n",
      " 39  Video Game Developer                  105 non-null    float64\n",
      " 40  cloud computing engineer              105 non-null    float64\n",
      " 41  mobile developer                      105 non-null    float64\n",
      " 42  web developer                         105 non-null    float64\n",
      " 43  AMD a4                                105 non-null    float64\n",
      " 44  AMD a6                                105 non-null    float64\n",
      " 45  AMD a8                                105 non-null    float64\n",
      " 46  Core i3                               105 non-null    float64\n",
      " 47  Core i5                               105 non-null    float64\n",
      " 48  Core i7                               105 non-null    float64\n",
      " 49  Core i9                               105 non-null    float64\n",
      " 50  Intel Xeon                            105 non-null    float64\n",
      " 51  Ryzen 3                               105 non-null    float64\n",
      " 52  Ryzen 5                               105 non-null    float64\n",
      " 53  Ryzen 7                               105 non-null    float64\n",
      " 54  Ryzen 9                               105 non-null    float64\n",
      "dtypes: float64(34), int32(4), int64(17)\n",
      "memory usage: 44.3 KB\n"
     ]
    }
   ],
   "source": [
    "df_alpha.info()"
   ]
  },
  {
   "cell_type": "code",
   "execution_count": 250,
   "id": "7915c9d3",
   "metadata": {},
   "outputs": [
    {
     "ename": "AssertionError",
     "evalue": "All columns must be numeric.",
     "output_type": "error",
     "traceback": [
      "\u001b[1;31m---------------------------------------------------------------------------\u001b[0m",
      "\u001b[1;31mAssertionError\u001b[0m                            Traceback (most recent call last)",
      "Cell \u001b[1;32mIn[250], line 1\u001b[0m\n\u001b[1;32m----> 1\u001b[0m alpha \u001b[39m=\u001b[39m pingouin\u001b[39m.\u001b[39;49mcronbach_alpha(data \u001b[39m=\u001b[39;49m df_alpha)\n",
      "File \u001b[1;32mc:\\Users\\Blu-ray\\AppData\\Local\\Programs\\Python\\Python310\\lib\\site-packages\\pingouin\\reliability.py:137\u001b[0m, in \u001b[0;36mcronbach_alpha\u001b[1;34m(data, items, scores, subject, nan_policy, ci)\u001b[0m\n\u001b[0;32m    135\u001b[0m \u001b[39massert\u001b[39;00m n \u001b[39m>\u001b[39m\u001b[39m=\u001b[39m \u001b[39m2\u001b[39m, \u001b[39m\"\u001b[39m\u001b[39mAt least two raters/subjects are required.\u001b[39m\u001b[39m\"\u001b[39m\n\u001b[0;32m    136\u001b[0m err \u001b[39m=\u001b[39m \u001b[39m\"\u001b[39m\u001b[39mAll columns must be numeric.\u001b[39m\u001b[39m\"\u001b[39m\n\u001b[1;32m--> 137\u001b[0m \u001b[39massert\u001b[39;00m \u001b[39mall\u001b[39m([data[c]\u001b[39m.\u001b[39mdtype\u001b[39m.\u001b[39mkind \u001b[39min\u001b[39;00m \u001b[39m\"\u001b[39m\u001b[39mbfiu\u001b[39m\u001b[39m\"\u001b[39m \u001b[39mfor\u001b[39;00m c \u001b[39min\u001b[39;00m data\u001b[39m.\u001b[39mcolumns]), err\n\u001b[0;32m    138\u001b[0m \u001b[39mif\u001b[39;00m data\u001b[39m.\u001b[39misna()\u001b[39m.\u001b[39many()\u001b[39m.\u001b[39many() \u001b[39mand\u001b[39;00m nan_policy \u001b[39m==\u001b[39m \u001b[39m\"\u001b[39m\u001b[39mlistwise\u001b[39m\u001b[39m\"\u001b[39m:\n\u001b[0;32m    139\u001b[0m     \u001b[39m# In R = psych:alpha(data, use=\"complete.obs\")\u001b[39;00m\n\u001b[0;32m    140\u001b[0m     data \u001b[39m=\u001b[39m data\u001b[39m.\u001b[39mdropna(axis\u001b[39m=\u001b[39m\u001b[39m0\u001b[39m, how\u001b[39m=\u001b[39m\u001b[39m\"\u001b[39m\u001b[39many\u001b[39m\u001b[39m\"\u001b[39m)\n",
      "\u001b[1;31mAssertionError\u001b[0m: All columns must be numeric."
     ]
    }
   ],
   "source": [
    "alpha = pingouin.cronbach_alpha(data = df_alpha)"
   ]
  },
  {
   "cell_type": "code",
   "execution_count": 238,
   "id": "ece5c765",
   "metadata": {},
   "outputs": [
    {
     "data": {
      "text/plain": [
       "(0.0003332009155561007, array([-0.293,  0.255]))"
      ]
     },
     "execution_count": 238,
     "metadata": {},
     "output_type": "execute_result"
    }
   ],
   "source": [
    "alpha"
   ]
  },
  {
   "cell_type": "code",
   "execution_count": 239,
   "id": "7b133f1c",
   "metadata": {},
   "outputs": [],
   "source": [
    "df_alpha2 = df_alpha\n",
    "df_alpha2[\"device_price\"] = df_alpha2[\"device_price\"] / df_alpha2[\"device_price\"].max()"
   ]
  },
  {
   "cell_type": "code",
   "execution_count": 248,
   "id": "6c9ba5d7",
   "metadata": {},
   "outputs": [],
   "source": [
    "alpha = pingouin.cronbach_alpha(data = df_alpha2)"
   ]
  },
  {
   "cell_type": "code",
   "execution_count": 249,
   "id": "828214c7",
   "metadata": {},
   "outputs": [
    {
     "data": {
      "text/plain": [
       "(0.6360760517575998, array([0.529, 0.729]))"
      ]
     },
     "execution_count": 249,
     "metadata": {},
     "output_type": "execute_result"
    }
   ],
   "source": [
    "alpha"
   ]
  },
  {
   "cell_type": "code",
   "execution_count": 251,
   "id": "36a980bc",
   "metadata": {},
   "outputs": [
    {
     "data": {
      "text/plain": [
       "0      15000.0\n",
       "1      13000.0\n",
       "2       8000.0\n",
       "3      18000.0\n",
       "4      15000.0\n",
       "        ...   \n",
       "101    30000.0\n",
       "102    30000.0\n",
       "103    38000.0\n",
       "104    15500.0\n",
       "105     7500.0\n",
       "Name: device_price, Length: 105, dtype: float64"
      ]
     },
     "execution_count": 251,
     "metadata": {},
     "output_type": "execute_result"
    }
   ],
   "source": [
    "df_alpha[\"device_price\"]"
   ]
  },
  {
   "cell_type": "code",
   "execution_count": null,
   "id": "8d1ffe62",
   "metadata": {},
   "outputs": [],
   "source": []
  },
  {
   "cell_type": "code",
   "execution_count": null,
   "id": "752f34b1",
   "metadata": {},
   "outputs": [],
   "source": []
  }
 ],
 "metadata": {
  "accelerator": "GPU",
  "colab": {
   "gpuType": "T4",
   "provenance": []
  },
  "gpuClass": "standard",
  "kernelspec": {
   "display_name": "Python 3",
   "language": "python",
   "name": "python3"
  },
  "language_info": {
   "codemirror_mode": {
    "name": "ipython",
    "version": 3
   },
   "file_extension": ".py",
   "mimetype": "text/x-python",
   "name": "python",
   "nbconvert_exporter": "python",
   "pygments_lexer": "ipython3",
   "version": "3.10.11"
  }
 },
 "nbformat": 4,
 "nbformat_minor": 5
}
