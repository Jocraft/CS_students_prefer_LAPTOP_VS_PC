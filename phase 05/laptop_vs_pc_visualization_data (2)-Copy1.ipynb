{
 "cells": [
  {
   "cell_type": "code",
   "execution_count": 147,
   "id": "d4a9c7d6",
   "metadata": {
    "id": "d4a9c7d6"
   },
   "outputs": [],
   "source": [
    "import pandas as pd\n",
    "import numpy as np\n",
    "import seaborn as sns\n",
    "from sklearn.preprocessing import OneHotEncoder\n",
    "from sklearn.linear_model import LogisticRegression\n",
    "from sklearn.model_selection import train_test_split\n",
    "import matplotlib.pyplot as plt\n",
    "import seaborn as sns\n",
    "import math\n",
    "import random\n",
    "sns.set()\n",
    "#import hvplot as hlt"
   ]
  },
  {
   "cell_type": "code",
   "execution_count": 365,
   "id": "8787caea",
   "metadata": {
    "colab": {
     "base_uri": "https://localhost:8080/",
     "height": 1000
    },
    "id": "8787caea",
    "outputId": "2f782c37-373f-404b-c871-68c642e6b516"
   },
   "outputs": [
    {
     "data": {
      "text/html": [
       "<div>\n",
       "<style scoped>\n",
       "    .dataframe tbody tr th:only-of-type {\n",
       "        vertical-align: middle;\n",
       "    }\n",
       "\n",
       "    .dataframe tbody tr th {\n",
       "        vertical-align: top;\n",
       "    }\n",
       "\n",
       "    .dataframe thead th {\n",
       "        text-align: right;\n",
       "    }\n",
       "</style>\n",
       "<table border=\"1\" class=\"dataframe\">\n",
       "  <thead>\n",
       "    <tr style=\"text-align: right;\">\n",
       "      <th></th>\n",
       "      <th>Timestamp</th>\n",
       "      <th>age</th>\n",
       "      <th>gender</th>\n",
       "      <th>level</th>\n",
       "      <th>income level</th>\n",
       "      <th>income level (num)</th>\n",
       "      <th>ID</th>\n",
       "      <th>Current career /future career</th>\n",
       "      <th>Data scientist?</th>\n",
       "      <th>devices count</th>\n",
       "      <th>...</th>\n",
       "      <th>Self study hours</th>\n",
       "      <th>Entertainment (general) hours</th>\n",
       "      <th>sum of the time spent</th>\n",
       "      <th>processor.</th>\n",
       "      <th>is it intel</th>\n",
       "      <th>processor generation</th>\n",
       "      <th>how powerful from 1_to_5</th>\n",
       "      <th>graphics card model</th>\n",
       "      <th>how powerful from 1_to_5.1</th>\n",
       "      <th>point of view</th>\n",
       "    </tr>\n",
       "  </thead>\n",
       "  <tbody>\n",
       "    <tr>\n",
       "      <th>0</th>\n",
       "      <td>2023/04/27 11:05:28 PM GMT+3</td>\n",
       "      <td>19</td>\n",
       "      <td>Female</td>\n",
       "      <td>First</td>\n",
       "      <td>Medium</td>\n",
       "      <td>2</td>\n",
       "      <td>NaN</td>\n",
       "      <td>Data scientist</td>\n",
       "      <td>1</td>\n",
       "      <td>4</td>\n",
       "      <td>...</td>\n",
       "      <td>1</td>\n",
       "      <td>1</td>\n",
       "      <td>4</td>\n",
       "      <td>Core i7</td>\n",
       "      <td>1</td>\n",
       "      <td>8</td>\n",
       "      <td>4.0</td>\n",
       "      <td>NaN</td>\n",
       "      <td>NaN</td>\n",
       "      <td>Laptop</td>\n",
       "    </tr>\n",
       "    <tr>\n",
       "      <th>1</th>\n",
       "      <td>2023/04/27 11:07:17 PM GMT+3</td>\n",
       "      <td>21 or more</td>\n",
       "      <td>Male</td>\n",
       "      <td>Third</td>\n",
       "      <td>Low</td>\n",
       "      <td>1</td>\n",
       "      <td>2.020145e+10</td>\n",
       "      <td>Data scientist</td>\n",
       "      <td>1</td>\n",
       "      <td>2</td>\n",
       "      <td>...</td>\n",
       "      <td>3</td>\n",
       "      <td>5</td>\n",
       "      <td>10</td>\n",
       "      <td>Ryzen 5</td>\n",
       "      <td>0</td>\n",
       "      <td>4</td>\n",
       "      <td>4.0</td>\n",
       "      <td>Integrated AMD Graphics</td>\n",
       "      <td>2.0</td>\n",
       "      <td>PC, more flexible in terms of future upgrades ...</td>\n",
       "    </tr>\n",
       "    <tr>\n",
       "      <th>2</th>\n",
       "      <td>2023/04/27 11:15:08 PM GMT+3</td>\n",
       "      <td>20</td>\n",
       "      <td>Female</td>\n",
       "      <td>Second</td>\n",
       "      <td>Medium</td>\n",
       "      <td>2</td>\n",
       "      <td>2.022146e+10</td>\n",
       "      <td>mobile developer</td>\n",
       "      <td>0</td>\n",
       "      <td>4</td>\n",
       "      <td>...</td>\n",
       "      <td>1</td>\n",
       "      <td>8</td>\n",
       "      <td>12</td>\n",
       "      <td>Ryzen 5</td>\n",
       "      <td>0</td>\n",
       "      <td>10</td>\n",
       "      <td>4.0</td>\n",
       "      <td>NaN</td>\n",
       "      <td>NaN</td>\n",
       "      <td>Laptop :Portability</td>\n",
       "    </tr>\n",
       "    <tr>\n",
       "      <th>3</th>\n",
       "      <td>2023/04/27 11:47:44 PM GMT+3</td>\n",
       "      <td>19</td>\n",
       "      <td>Female</td>\n",
       "      <td>Second</td>\n",
       "      <td>Medium</td>\n",
       "      <td>2</td>\n",
       "      <td>NaN</td>\n",
       "      <td>Data scientist</td>\n",
       "      <td>1</td>\n",
       "      <td>3</td>\n",
       "      <td>...</td>\n",
       "      <td>3</td>\n",
       "      <td>1</td>\n",
       "      <td>6</td>\n",
       "      <td>Intel Xeon</td>\n",
       "      <td>1</td>\n",
       "      <td>8</td>\n",
       "      <td>2.0</td>\n",
       "      <td>INTEL HD Graphics</td>\n",
       "      <td>2.0</td>\n",
       "      <td>Laptop</td>\n",
       "    </tr>\n",
       "    <tr>\n",
       "      <th>4</th>\n",
       "      <td>2023/04/27 7:04:17 PM GMT+3</td>\n",
       "      <td>21 or more</td>\n",
       "      <td>Female</td>\n",
       "      <td>Third</td>\n",
       "      <td>Medium</td>\n",
       "      <td>2</td>\n",
       "      <td>2.024865e+08</td>\n",
       "      <td>web developer</td>\n",
       "      <td>0</td>\n",
       "      <td>3</td>\n",
       "      <td>...</td>\n",
       "      <td>1</td>\n",
       "      <td>3</td>\n",
       "      <td>4</td>\n",
       "      <td>Core i7</td>\n",
       "      <td>1</td>\n",
       "      <td>7</td>\n",
       "      <td>3.0</td>\n",
       "      <td>NaN</td>\n",
       "      <td>NaN</td>\n",
       "      <td>Laptop, I can move with it everywere</td>\n",
       "    </tr>\n",
       "    <tr>\n",
       "      <th>...</th>\n",
       "      <td>...</td>\n",
       "      <td>...</td>\n",
       "      <td>...</td>\n",
       "      <td>...</td>\n",
       "      <td>...</td>\n",
       "      <td>...</td>\n",
       "      <td>...</td>\n",
       "      <td>...</td>\n",
       "      <td>...</td>\n",
       "      <td>...</td>\n",
       "      <td>...</td>\n",
       "      <td>...</td>\n",
       "      <td>...</td>\n",
       "      <td>...</td>\n",
       "      <td>...</td>\n",
       "      <td>...</td>\n",
       "      <td>...</td>\n",
       "      <td>...</td>\n",
       "      <td>...</td>\n",
       "      <td>...</td>\n",
       "      <td>...</td>\n",
       "    </tr>\n",
       "    <tr>\n",
       "      <th>101</th>\n",
       "      <td>2023/05/05 11:55:34 PM GMT+3</td>\n",
       "      <td>19</td>\n",
       "      <td>Male</td>\n",
       "      <td>Second</td>\n",
       "      <td>Low</td>\n",
       "      <td>1</td>\n",
       "      <td>2.022169e+10</td>\n",
       "      <td>Data scientist</td>\n",
       "      <td>1</td>\n",
       "      <td>3</td>\n",
       "      <td>...</td>\n",
       "      <td>1</td>\n",
       "      <td>1</td>\n",
       "      <td>4</td>\n",
       "      <td>Ryzen 5</td>\n",
       "      <td>0</td>\n",
       "      <td>12</td>\n",
       "      <td>4.0</td>\n",
       "      <td>rtx 3060</td>\n",
       "      <td>5.0</td>\n",
       "      <td>i think that pc is better if you are thinking ...</td>\n",
       "    </tr>\n",
       "    <tr>\n",
       "      <th>102</th>\n",
       "      <td>2023/05/05 4:20:42 AM GMT+3</td>\n",
       "      <td>20</td>\n",
       "      <td>Female</td>\n",
       "      <td>Second</td>\n",
       "      <td>Lower medium</td>\n",
       "      <td>3</td>\n",
       "      <td>NaN</td>\n",
       "      <td>Electrical engineer</td>\n",
       "      <td>0</td>\n",
       "      <td>3</td>\n",
       "      <td>...</td>\n",
       "      <td>1</td>\n",
       "      <td>3</td>\n",
       "      <td>8</td>\n",
       "      <td>Core i7</td>\n",
       "      <td>1</td>\n",
       "      <td>11</td>\n",
       "      <td>5.0</td>\n",
       "      <td>NaN</td>\n",
       "      <td>NaN</td>\n",
       "      <td>Laptop because of mobility</td>\n",
       "    </tr>\n",
       "    <tr>\n",
       "      <th>103</th>\n",
       "      <td>2023/05/05 4:36:22 PM GMT+3</td>\n",
       "      <td>21 or more</td>\n",
       "      <td>Female</td>\n",
       "      <td>Fourth</td>\n",
       "      <td>Medium</td>\n",
       "      <td>2</td>\n",
       "      <td>2.019482e+09</td>\n",
       "      <td>Data scientist</td>\n",
       "      <td>1</td>\n",
       "      <td>3</td>\n",
       "      <td>...</td>\n",
       "      <td>5</td>\n",
       "      <td>3</td>\n",
       "      <td>16</td>\n",
       "      <td>Core i7</td>\n",
       "      <td>1</td>\n",
       "      <td>11</td>\n",
       "      <td>5.0</td>\n",
       "      <td>NaN</td>\n",
       "      <td>NaN</td>\n",
       "      <td>Pc for portability</td>\n",
       "    </tr>\n",
       "    <tr>\n",
       "      <th>104</th>\n",
       "      <td>2023/05/05 6:34:01 AM GMT+3</td>\n",
       "      <td>21 or more</td>\n",
       "      <td>Female</td>\n",
       "      <td>Fourth</td>\n",
       "      <td>Medium</td>\n",
       "      <td>2</td>\n",
       "      <td>NaN</td>\n",
       "      <td>Data scientist</td>\n",
       "      <td>1</td>\n",
       "      <td>4</td>\n",
       "      <td>...</td>\n",
       "      <td>3</td>\n",
       "      <td>5</td>\n",
       "      <td>18</td>\n",
       "      <td>Core i5</td>\n",
       "      <td>1</td>\n",
       "      <td>8</td>\n",
       "      <td>4.0</td>\n",
       "      <td>Intel Iris 5100</td>\n",
       "      <td>4.0</td>\n",
       "      <td>PC, easily upgradable, costs less for same per...</td>\n",
       "    </tr>\n",
       "    <tr>\n",
       "      <th>105</th>\n",
       "      <td>2023/05/05 9:28:17 AM GMT+3</td>\n",
       "      <td>19</td>\n",
       "      <td>Male</td>\n",
       "      <td>First</td>\n",
       "      <td>Low</td>\n",
       "      <td>1</td>\n",
       "      <td>2.201014e+07</td>\n",
       "      <td>mobile developer</td>\n",
       "      <td>0</td>\n",
       "      <td>2</td>\n",
       "      <td>...</td>\n",
       "      <td>5</td>\n",
       "      <td>3</td>\n",
       "      <td>6</td>\n",
       "      <td>Core i7</td>\n",
       "      <td>1</td>\n",
       "      <td>6</td>\n",
       "      <td>3.0</td>\n",
       "      <td>NaN</td>\n",
       "      <td>NaN</td>\n",
       "      <td>Pc</td>\n",
       "    </tr>\n",
       "  </tbody>\n",
       "</table>\n",
       "<p>106 rows × 44 columns</p>\n",
       "</div>"
      ],
      "text/plain": [
       "                        Timestamp         age  gender   level  income level  \\\n",
       "0    2023/04/27 11:05:28 PM GMT+3          19  Female   First        Medium   \n",
       "1    2023/04/27 11:07:17 PM GMT+3  21 or more    Male   Third           Low   \n",
       "2    2023/04/27 11:15:08 PM GMT+3          20  Female  Second        Medium   \n",
       "3    2023/04/27 11:47:44 PM GMT+3          19  Female  Second        Medium   \n",
       "4     2023/04/27 7:04:17 PM GMT+3  21 or more  Female   Third        Medium   \n",
       "..                            ...         ...     ...     ...           ...   \n",
       "101  2023/05/05 11:55:34 PM GMT+3          19    Male  Second           Low   \n",
       "102   2023/05/05 4:20:42 AM GMT+3          20  Female  Second  Lower medium   \n",
       "103   2023/05/05 4:36:22 PM GMT+3  21 or more  Female  Fourth        Medium   \n",
       "104   2023/05/05 6:34:01 AM GMT+3  21 or more  Female  Fourth        Medium   \n",
       "105   2023/05/05 9:28:17 AM GMT+3          19    Male   First           Low   \n",
       "\n",
       "     income level (num)            ID Current career /future career  \\\n",
       "0                     2           NaN                Data scientist   \n",
       "1                     1  2.020145e+10                Data scientist   \n",
       "2                     2  2.022146e+10              mobile developer   \n",
       "3                     2           NaN                Data scientist   \n",
       "4                     2  2.024865e+08                 web developer   \n",
       "..                  ...           ...                           ...   \n",
       "101                   1  2.022169e+10                Data scientist   \n",
       "102                   3           NaN           Electrical engineer   \n",
       "103                   2  2.019482e+09                Data scientist   \n",
       "104                   2           NaN                Data scientist   \n",
       "105                   1  2.201014e+07              mobile developer   \n",
       "\n",
       "     Data scientist? devices count  ... Self study hours   \\\n",
       "0                  1             4  ...                 1   \n",
       "1                  1             2  ...                 3   \n",
       "2                  0             4  ...                 1   \n",
       "3                  1             3  ...                 3   \n",
       "4                  0             3  ...                 1   \n",
       "..               ...           ...  ...               ...   \n",
       "101                1             3  ...                 1   \n",
       "102                0             3  ...                 1   \n",
       "103                1             3  ...                 5   \n",
       "104                1             4  ...                 3   \n",
       "105                0             2  ...                 5   \n",
       "\n",
       "    Entertainment (general) hours  sum of the time spent  processor.  \\\n",
       "0                                1                     4     Core i7   \n",
       "1                                5                    10     Ryzen 5   \n",
       "2                                8                    12     Ryzen 5   \n",
       "3                                1                     6  Intel Xeon   \n",
       "4                                3                     4     Core i7   \n",
       "..                             ...                   ...         ...   \n",
       "101                              1                     4     Ryzen 5   \n",
       "102                              3                     8     Core i7   \n",
       "103                              3                    16     Core i7   \n",
       "104                              5                    18     Core i5   \n",
       "105                              3                     6     Core i7   \n",
       "\n",
       "     is it intel  processor generation  how powerful from 1_to_5  \\\n",
       "0               1                    8                       4.0   \n",
       "1               0                    4                       4.0   \n",
       "2               0                   10                       4.0   \n",
       "3               1                    8                       2.0   \n",
       "4               1                    7                       3.0   \n",
       "..            ...                  ...                       ...   \n",
       "101             0                   12                       4.0   \n",
       "102             1                   11                       5.0   \n",
       "103             1                   11                       5.0   \n",
       "104             1                    8                       4.0   \n",
       "105             1                    6                       3.0   \n",
       "\n",
       "         graphics card model how powerful from 1_to_5.1  \\\n",
       "0                        NaN                        NaN   \n",
       "1    Integrated AMD Graphics                        2.0   \n",
       "2                        NaN                        NaN   \n",
       "3          INTEL HD Graphics                        2.0   \n",
       "4                        NaN                        NaN   \n",
       "..                       ...                        ...   \n",
       "101                 rtx 3060                        5.0   \n",
       "102                      NaN                        NaN   \n",
       "103                      NaN                        NaN   \n",
       "104          Intel Iris 5100                        4.0   \n",
       "105                      NaN                        NaN   \n",
       "\n",
       "                                         point of view  \n",
       "0                                              Laptop   \n",
       "1    PC, more flexible in terms of future upgrades ...  \n",
       "2                                  Laptop :Portability  \n",
       "3                                              Laptop   \n",
       "4                Laptop, I can move with it everywere   \n",
       "..                                                 ...  \n",
       "101  i think that pc is better if you are thinking ...  \n",
       "102                        Laptop because of mobility   \n",
       "103                                Pc for portability   \n",
       "104  PC, easily upgradable, costs less for same per...  \n",
       "105                                                 Pc  \n",
       "\n",
       "[106 rows x 44 columns]"
      ]
     },
     "execution_count": 365,
     "metadata": {},
     "output_type": "execute_result"
    }
   ],
   "source": [
    "df = pd.read_csv(\"final_data_cleaned_for_analysis.csv\")\n",
    "df"
   ]
  },
  {
   "cell_type": "code",
   "execution_count": 367,
   "id": "af4be171",
   "metadata": {},
   "outputs": [
    {
     "data": {
      "text/plain": [
       "Index(['Timestamp', 'age', 'gender', 'level', 'income level',\n",
       "       'income level (num)', 'ID', 'Current career /future career',\n",
       "       'Data scientist?', 'devices count', 'own Laptop', 'own DeskTop',\n",
       "       'own Tablet', 'device use ratio ', 'main device', 'MAIN usage device',\n",
       "       'Surfing the internet', 'device price', 'what would you rebuy',\n",
       "       'would he chage his device', 'operating system',\n",
       "       'device's performance.', 'Screen size importance',\n",
       "       'Portability importance', 'Upgradability importance',\n",
       "       ' working without cable importance', 'Performance importance',\n",
       "       'Affordability importance', 'CD existence importance',\n",
       "       'Integrated camera importance', 'Multiple monitors importance',\n",
       "       'hours Gaming', 'hours Work', 'hours Academic study',\n",
       "       'Self study hours ', 'Entertainment (general) hours ',\n",
       "       'sum of the time spent', 'processor.', 'is it intel ',\n",
       "       'processor generation', 'how powerful from 1_to_5',\n",
       "       'graphics card model', 'how powerful from 1_to_5.1', 'point of view'],\n",
       "      dtype='object')"
      ]
     },
     "execution_count": 367,
     "metadata": {},
     "output_type": "execute_result"
    }
   ],
   "source": [
    "df.columns"
   ]
  },
  {
   "cell_type": "markdown",
   "id": "tvDQK3_sfn9h",
   "metadata": {
    "id": "tvDQK3_sfn9h"
   },
   "source": [
    "## Data Cleaning"
   ]
  },
  {
   "cell_type": "code",
   "execution_count": 368,
   "id": "80b05f95",
   "metadata": {},
   "outputs": [
    {
     "data": {
      "text/plain": [
       "Timestamp                                            2023/05/03 1:58:35 PM GMT+3\n",
       "age                                                                           18\n",
       "gender                                                                      Male\n",
       "level                                                                     Second\n",
       "income level                                                                 Low\n",
       "income level (num)                                                             1\n",
       "ID                                                                 20221450635.0\n",
       "Current career /future career                                     Data scientist\n",
       "Data scientist?                                                                1\n",
       "devices count                                                                  3\n",
       "own Laptop                                                                   Yes\n",
       "own DeskTop                                                                  Yes\n",
       "own Tablet                                                                   Yes\n",
       "device use ratio                     40% using laptop 60% using desktop computer\n",
       "main device                                                                  0.0\n",
       "MAIN usage device                                                         Gaming\n",
       "Surfing the internet                                                           0\n",
       "device price                                                                3000\n",
       "what would you rebuy                                                      Laptop\n",
       "would he chage his device                                                      0\n",
       "operating system                                                         Windows\n",
       "device's performance.                                             Low end device\n",
       "Screen size importance                                                         4\n",
       "Portability importance                                                         4\n",
       "Upgradability importance                                                       4\n",
       " working without cable importance                                              4\n",
       "Performance importance                                                         4\n",
       "Affordability importance                                                       4\n",
       "CD existence importance                                                        4\n",
       "Integrated camera importance                                                   4\n",
       "Multiple monitors importance                                                   4\n",
       "hours Gaming                                                                   5\n",
       "hours Work                                                                     5\n",
       "hours Academic study                                                           5\n",
       "Self study hours                                                               5\n",
       "Entertainment (general) hours                                                  5\n",
       "sum of the time spent                                                         20\n",
       "processor.                                                               Core i7\n",
       "is it intel                                                                    1\n",
       "processor generation                                                          11\n",
       "how powerful from 1_to_5                                                     5.0\n",
       "graphics card model                                                          NaN\n",
       "how powerful from 1_to_5.1                                                   NaN\n",
       "point of view                                                            Laptop \n",
       "Name: 66, dtype: object"
      ]
     },
     "execution_count": 368,
     "metadata": {},
     "output_type": "execute_result"
    }
   ],
   "source": [
    "df.drop(axis = 0, index = 65).iloc[65]"
   ]
  },
  {
   "cell_type": "code",
   "execution_count": 369,
   "id": "11dcf2ab",
   "metadata": {
    "id": "11dcf2ab"
   },
   "outputs": [],
   "source": [
    "df.rename(columns= {'Current career /future career':'career_path','is it intel ':'intel'},inplace=True)\n",
    "df.rename(columns = lambda x: x.replace(\"'s\",\"\"),inplace=True)\n",
    "df.rename(columns = lambda x: x.replace('.',''),inplace=True)\n",
    "df.rename(columns = lambda x: x.replace('?',''),inplace=True)\n",
    "df.rename(columns=lambda x: x.strip().lower().replace(' ','_'),inplace=True)"
   ]
  },
  {
   "cell_type": "code",
   "execution_count": 370,
   "id": "4b08a194",
   "metadata": {
    "colab": {
     "base_uri": "https://localhost:8080/"
    },
    "id": "4b08a194",
    "outputId": "9239e4c7-4c4a-4247-fb8f-bdd9cb8a6337"
   },
   "outputs": [
    {
     "data": {
      "text/plain": [
       "I only use laptop                              34\n",
       "I don�t have both                              23\n",
       "80% using laptop 20% using desktop computer    19\n",
       "20% using laptop 80% using desktop computer    10\n",
       "60% using laptop 40% using desktop computer     7\n",
       "I only use PC                                   6\n",
       "40% using laptop 60% using desktop computer     4\n",
       "I don’t have both                               2\n",
       "50% using laptop 50% using desktop computer     1\n",
       "Name: device_use_ratio, dtype: int64"
      ]
     },
     "execution_count": 370,
     "metadata": {},
     "output_type": "execute_result"
    }
   ],
   "source": [
    "df['device_use_ratio'].value_counts()"
   ]
  },
  {
   "cell_type": "code",
   "execution_count": 371,
   "id": "f6Ed1NwqJulB",
   "metadata": {
    "id": "f6Ed1NwqJulB"
   },
   "outputs": [],
   "source": [
    "df.device_use_ratio = df.device_use_ratio.replace([\"I don�t have both\", \"I don’t have both\"], 'I have neither')"
   ]
  },
  {
   "cell_type": "code",
   "execution_count": 372,
   "id": "zG7RLiaVTsEY",
   "metadata": {
    "id": "zG7RLiaVTsEY"
   },
   "outputs": [],
   "source": [
    "df['desktop_perc'] = df.device_use_ratio.replace(['I have neither', 'I only use laptop', '80% using laptop 20% using desktop computer',\n",
    "                                               '60% using laptop 40% using desktop computer', '50% using laptop 50% using desktop computer',\n",
    "                                               '40% using laptop 60% using desktop computer', '20% using laptop 80% using desktop computer', \n",
    "                                               'I only use PC'], [0, 0, 0.2, 0.4, 0.5, 0.6, 0.8, 1])\n",
    "df['laptop_perc'] = df.device_use_ratio.replace(['I have neither', 'I only use laptop', '80% using laptop 20% using desktop computer',\n",
    "                                               '60% using laptop 40% using desktop computer', '50% using laptop 50% using desktop computer',\n",
    "                                               '40% using laptop 60% using desktop computer', '20% using laptop 80% using desktop computer', \n",
    "                                               'I only use PC'], [0, 1, 0.8, 0.6, 0.5, 0.4, 0.2, 0])\n",
    "\n",
    "df.drop(columns=['device_use_ratio'], inplace=True)"
   ]
  },
  {
   "cell_type": "code",
   "execution_count": 373,
   "id": "6866b394",
   "metadata": {
    "colab": {
     "base_uri": "https://localhost:8080/"
    },
    "id": "6866b394",
    "outputId": "7a3d99cb-2292-48fb-9210-3fa4cb173abc"
   },
   "outputs": [
    {
     "data": {
      "text/plain": [
       "array([0. , 0.2, 0.8, 0.4, 1. , 0.6, 0.5])"
      ]
     },
     "execution_count": 373,
     "metadata": {},
     "output_type": "execute_result"
    }
   ],
   "source": [
    "df['desktop_perc'].unique()"
   ]
  },
  {
   "cell_type": "code",
   "execution_count": 374,
   "id": "9800f156",
   "metadata": {},
   "outputs": [
    {
     "data": {
      "text/plain": [
       "array(['15000', '13000', '8000', '18000', '26000', '10000', '30000',\n",
       "       '28000', '35000', '13800', '3500', '21000', '20000', '16000',\n",
       "       '19000', '17000', '5000', '12000', '25000', '14000', '23000',\n",
       "       '4000', '18500', '4500', '11000', '3000', '18950', '24000',\n",
       "       '40000', '32000', '2400', '14800', '22000', '50000', '4600',\n",
       "       '7000', '3900', '27000', '38000', '15500', '7500'], dtype=object)"
      ]
     },
     "execution_count": 374,
     "metadata": {},
     "output_type": "execute_result"
    }
   ],
   "source": [
    "df.device_price.replace('          ', None, inplace = True)\n",
    "df.device_price.replace('           ', None, inplace = True)\n",
    "df.device_price.unique()"
   ]
  },
  {
   "cell_type": "code",
   "execution_count": 375,
   "id": "1b9ea535",
   "metadata": {
    "id": "1b9ea535"
   },
   "outputs": [],
   "source": [
    "df.device_price = df.device_price.replace(' ', None, regex=True).astype(float)\n",
    "df.device_price.fillna(df.device_price.mean(), inplace=True)"
   ]
  },
  {
   "cell_type": "code",
   "execution_count": 376,
   "id": "JMn1RDGplOCf",
   "metadata": {
    "id": "JMn1RDGplOCf"
   },
   "outputs": [],
   "source": [
    "df.how_powerful_from_1_to_5.fillna(round(df.how_powerful_from_1_to_5.mean()), inplace=True)"
   ]
  },
  {
   "cell_type": "code",
   "execution_count": 377,
   "id": "5FS0AzYxlh_u",
   "metadata": {
    "colab": {
     "base_uri": "https://localhost:8080/"
    },
    "id": "5FS0AzYxlh_u",
    "outputId": "a0450163-78d0-4f2f-b77e-8d6e57cca68c"
   },
   "outputs": [
    {
     "data": {
      "text/plain": [
       "array([4., 2., 3., 5., 1.])"
      ]
     },
     "execution_count": 377,
     "metadata": {},
     "output_type": "execute_result"
    }
   ],
   "source": [
    "df.how_powerful_from_1_to_5.unique()"
   ]
  },
  {
   "cell_type": "code",
   "execution_count": 378,
   "id": "dd2ef49f",
   "metadata": {
    "colab": {
     "base_uri": "https://localhost:8080/"
    },
    "id": "dd2ef49f",
    "outputId": "c5260060-e4d9-4d30-c7e1-92de76d3cd54"
   },
   "outputs": [
    {
     "data": {
      "text/plain": [
       "array([15000., 13000.,  8000., 18000., 26000., 10000., 30000., 28000.,\n",
       "       35000., 13800.,  3500., 21000., 20000., 16000., 19000., 17000.,\n",
       "        5000., 12000., 25000., 14000., 23000.,  4000., 18500.,  4500.,\n",
       "       11000.,  3000., 18950., 24000., 40000., 32000.,  2400., 14800.,\n",
       "       22000., 50000.,  4600.,  7000.,  3900., 27000., 38000., 15500.,\n",
       "        7500.])"
      ]
     },
     "execution_count": 378,
     "metadata": {},
     "output_type": "execute_result"
    }
   ],
   "source": [
    "df['device_price'].unique()"
   ]
  },
  {
   "cell_type": "code",
   "execution_count": 379,
   "id": "jGyLdg1im8We",
   "metadata": {
    "id": "jGyLdg1im8We"
   },
   "outputs": [],
   "source": [
    "df = df.apply(lambda x: x.fillna(x.value_counts().index[0]))"
   ]
  },
  {
   "cell_type": "code",
   "execution_count": 380,
   "id": "38Ioq-ejDVog",
   "metadata": {
    "id": "38Ioq-ejDVog"
   },
   "outputs": [],
   "source": [
    "df.age = df.age.replace('21 or more', 21)\n",
    "df.age = df.age.astype(int)"
   ]
  },
  {
   "cell_type": "code",
   "execution_count": 381,
   "id": "Mgb3FZvLHBHT",
   "metadata": {
    "colab": {
     "base_uri": "https://localhost:8080/"
    },
    "id": "Mgb3FZvLHBHT",
    "outputId": "567b0b52-db59-4715-d0ce-a9baf13ab931"
   },
   "outputs": [
    {
     "data": {
      "text/plain": [
       "Second    42\n",
       "First     34\n",
       "Fourth    15\n",
       "Third     15\n",
       "Name: level, dtype: int64"
      ]
     },
     "execution_count": 381,
     "metadata": {},
     "output_type": "execute_result"
    }
   ],
   "source": [
    "df.level.value_counts()"
   ]
  },
  {
   "cell_type": "code",
   "execution_count": 382,
   "id": "g5eOpskIFSRm",
   "metadata": {
    "id": "g5eOpskIFSRm"
   },
   "outputs": [],
   "source": [
    "df.level.unique()\n",
    "df.level = df.level.replace(['First', 'Second', 'Third', 'Fourth'], [1, 2, 3, 4])"
   ]
  },
  {
   "cell_type": "code",
   "execution_count": 383,
   "id": "DHN9JYgIHpd0",
   "metadata": {
    "colab": {
     "base_uri": "https://localhost:8080/"
    },
    "id": "DHN9JYgIHpd0",
    "outputId": "1b6f3034-860c-4ad6-851c-30c86f9e7e00"
   },
   "outputs": [
    {
     "data": {
      "text/plain": [
       "3            48\n",
       "4            27\n",
       "2            24\n",
       "5 or more     4\n",
       "1             3\n",
       "Name: devices_count, dtype: int64"
      ]
     },
     "execution_count": 383,
     "metadata": {},
     "output_type": "execute_result"
    }
   ],
   "source": [
    "df.devices_count.value_counts()"
   ]
  },
  {
   "cell_type": "code",
   "execution_count": 384,
   "id": "VDZ8nvgFIH5Q",
   "metadata": {
    "id": "VDZ8nvgFIH5Q"
   },
   "outputs": [],
   "source": [
    "df.devices_count = df.devices_count.replace('5 or more', 5).astype(int)"
   ]
  },
  {
   "cell_type": "code",
   "execution_count": 385,
   "id": "0O-TucHqY5K_",
   "metadata": {
    "id": "0O-TucHqY5K_"
   },
   "outputs": [],
   "source": [
    "df['what_would_you_rebuy_for_laptop_imp'] = df.what_would_you_rebuy.replace(['Laptop', 'Desktop computer'], [1, 0])\n",
    "df['what_would_you_rebuy_for_desktop_imp'] = df.what_would_you_rebuy.replace(['Desktop computer', 'Laptop'], [1, 0])\n",
    "df.drop(columns=['what_would_you_rebuy'], inplace=True)"
   ]
  },
  {
   "cell_type": "code",
   "execution_count": 386,
   "id": "tytxbZlVZ4Mt",
   "metadata": {
    "colab": {
     "base_uri": "https://localhost:8080/"
    },
    "id": "tytxbZlVZ4Mt",
    "outputId": "b7663549-2bdc-4747-c0e4-b42f9be94f2e"
   },
   "outputs": [
    {
     "data": {
      "text/plain": [
       "5.0    33\n",
       "3.0    32\n",
       "4.0    28\n",
       "2.0     8\n",
       "1.0     5\n",
       "Name: how_powerful_from_1_to_5, dtype: int64"
      ]
     },
     "execution_count": 386,
     "metadata": {},
     "output_type": "execute_result"
    }
   ],
   "source": [
    "df.how_powerful_from_1_to_5.value_counts()"
   ]
  },
  {
   "cell_type": "markdown",
   "id": "keS3fYMIgBOw",
   "metadata": {
    "id": "keS3fYMIgBOw"
   },
   "source": [
    "## Descriptive Statistics"
   ]
  },
  {
   "cell_type": "code",
   "execution_count": 451,
   "id": "00787e66",
   "metadata": {},
   "outputs": [
    {
     "data": {
      "text/html": [
       "<div>\n",
       "<style scoped>\n",
       "    .dataframe tbody tr th:only-of-type {\n",
       "        vertical-align: middle;\n",
       "    }\n",
       "\n",
       "    .dataframe tbody tr th {\n",
       "        vertical-align: top;\n",
       "    }\n",
       "\n",
       "    .dataframe thead th {\n",
       "        text-align: right;\n",
       "    }\n",
       "</style>\n",
       "<table border=\"1\" class=\"dataframe\">\n",
       "  <thead>\n",
       "    <tr style=\"text-align: right;\">\n",
       "      <th></th>\n",
       "      <th>age</th>\n",
       "      <th>level</th>\n",
       "      <th>income_level_(num)</th>\n",
       "      <th>id</th>\n",
       "      <th>data_scientist</th>\n",
       "      <th>devices_count</th>\n",
       "      <th>main_device</th>\n",
       "      <th>surfing_the_internet</th>\n",
       "      <th>device_price</th>\n",
       "      <th>would_he_chage_his_device</th>\n",
       "      <th>...</th>\n",
       "      <th>entertainment_(general)_hours</th>\n",
       "      <th>sum_of_the_time_spent</th>\n",
       "      <th>intel</th>\n",
       "      <th>processor_generation</th>\n",
       "      <th>how_powerful_from_1_to_5</th>\n",
       "      <th>how_powerful_from_1_to_51</th>\n",
       "      <th>desktop_perc</th>\n",
       "      <th>laptop_perc</th>\n",
       "      <th>what_would_you_rebuy_for_laptop_imp</th>\n",
       "      <th>what_would_you_rebuy_for_desktop_imp</th>\n",
       "    </tr>\n",
       "  </thead>\n",
       "  <tbody>\n",
       "    <tr>\n",
       "      <th>0</th>\n",
       "      <td>19</td>\n",
       "      <td>1</td>\n",
       "      <td>2</td>\n",
       "      <td>2.019152e+10</td>\n",
       "      <td>1</td>\n",
       "      <td>4</td>\n",
       "      <td>1.0</td>\n",
       "      <td>0</td>\n",
       "      <td>15000.0</td>\n",
       "      <td>0</td>\n",
       "      <td>...</td>\n",
       "      <td>1</td>\n",
       "      <td>4</td>\n",
       "      <td>1</td>\n",
       "      <td>8</td>\n",
       "      <td>4.0</td>\n",
       "      <td>5.0</td>\n",
       "      <td>0.0</td>\n",
       "      <td>1.0</td>\n",
       "      <td>1</td>\n",
       "      <td>0</td>\n",
       "    </tr>\n",
       "    <tr>\n",
       "      <th>1</th>\n",
       "      <td>21</td>\n",
       "      <td>3</td>\n",
       "      <td>1</td>\n",
       "      <td>2.020145e+10</td>\n",
       "      <td>1</td>\n",
       "      <td>2</td>\n",
       "      <td>1.0</td>\n",
       "      <td>0</td>\n",
       "      <td>13000.0</td>\n",
       "      <td>0</td>\n",
       "      <td>...</td>\n",
       "      <td>5</td>\n",
       "      <td>10</td>\n",
       "      <td>0</td>\n",
       "      <td>4</td>\n",
       "      <td>4.0</td>\n",
       "      <td>2.0</td>\n",
       "      <td>0.0</td>\n",
       "      <td>0.0</td>\n",
       "      <td>0</td>\n",
       "      <td>1</td>\n",
       "    </tr>\n",
       "    <tr>\n",
       "      <th>2</th>\n",
       "      <td>20</td>\n",
       "      <td>2</td>\n",
       "      <td>2</td>\n",
       "      <td>2.022146e+10</td>\n",
       "      <td>0</td>\n",
       "      <td>4</td>\n",
       "      <td>1.0</td>\n",
       "      <td>0</td>\n",
       "      <td>8000.0</td>\n",
       "      <td>0</td>\n",
       "      <td>...</td>\n",
       "      <td>8</td>\n",
       "      <td>12</td>\n",
       "      <td>0</td>\n",
       "      <td>10</td>\n",
       "      <td>4.0</td>\n",
       "      <td>5.0</td>\n",
       "      <td>0.0</td>\n",
       "      <td>1.0</td>\n",
       "      <td>1</td>\n",
       "      <td>0</td>\n",
       "    </tr>\n",
       "    <tr>\n",
       "      <th>3</th>\n",
       "      <td>19</td>\n",
       "      <td>2</td>\n",
       "      <td>2</td>\n",
       "      <td>2.019152e+10</td>\n",
       "      <td>1</td>\n",
       "      <td>3</td>\n",
       "      <td>1.0</td>\n",
       "      <td>0</td>\n",
       "      <td>18000.0</td>\n",
       "      <td>0</td>\n",
       "      <td>...</td>\n",
       "      <td>1</td>\n",
       "      <td>6</td>\n",
       "      <td>1</td>\n",
       "      <td>8</td>\n",
       "      <td>2.0</td>\n",
       "      <td>2.0</td>\n",
       "      <td>0.2</td>\n",
       "      <td>0.8</td>\n",
       "      <td>1</td>\n",
       "      <td>0</td>\n",
       "    </tr>\n",
       "    <tr>\n",
       "      <th>4</th>\n",
       "      <td>21</td>\n",
       "      <td>3</td>\n",
       "      <td>2</td>\n",
       "      <td>2.024865e+08</td>\n",
       "      <td>0</td>\n",
       "      <td>3</td>\n",
       "      <td>1.0</td>\n",
       "      <td>0</td>\n",
       "      <td>15000.0</td>\n",
       "      <td>0</td>\n",
       "      <td>...</td>\n",
       "      <td>3</td>\n",
       "      <td>4</td>\n",
       "      <td>1</td>\n",
       "      <td>7</td>\n",
       "      <td>3.0</td>\n",
       "      <td>5.0</td>\n",
       "      <td>0.0</td>\n",
       "      <td>0.0</td>\n",
       "      <td>1</td>\n",
       "      <td>0</td>\n",
       "    </tr>\n",
       "    <tr>\n",
       "      <th>...</th>\n",
       "      <td>...</td>\n",
       "      <td>...</td>\n",
       "      <td>...</td>\n",
       "      <td>...</td>\n",
       "      <td>...</td>\n",
       "      <td>...</td>\n",
       "      <td>...</td>\n",
       "      <td>...</td>\n",
       "      <td>...</td>\n",
       "      <td>...</td>\n",
       "      <td>...</td>\n",
       "      <td>...</td>\n",
       "      <td>...</td>\n",
       "      <td>...</td>\n",
       "      <td>...</td>\n",
       "      <td>...</td>\n",
       "      <td>...</td>\n",
       "      <td>...</td>\n",
       "      <td>...</td>\n",
       "      <td>...</td>\n",
       "      <td>...</td>\n",
       "    </tr>\n",
       "    <tr>\n",
       "      <th>101</th>\n",
       "      <td>19</td>\n",
       "      <td>2</td>\n",
       "      <td>1</td>\n",
       "      <td>2.022169e+10</td>\n",
       "      <td>1</td>\n",
       "      <td>3</td>\n",
       "      <td>0.0</td>\n",
       "      <td>0</td>\n",
       "      <td>30000.0</td>\n",
       "      <td>0</td>\n",
       "      <td>...</td>\n",
       "      <td>1</td>\n",
       "      <td>4</td>\n",
       "      <td>0</td>\n",
       "      <td>12</td>\n",
       "      <td>4.0</td>\n",
       "      <td>5.0</td>\n",
       "      <td>0.8</td>\n",
       "      <td>0.2</td>\n",
       "      <td>0</td>\n",
       "      <td>1</td>\n",
       "    </tr>\n",
       "    <tr>\n",
       "      <th>102</th>\n",
       "      <td>20</td>\n",
       "      <td>2</td>\n",
       "      <td>3</td>\n",
       "      <td>2.019152e+10</td>\n",
       "      <td>0</td>\n",
       "      <td>3</td>\n",
       "      <td>1.0</td>\n",
       "      <td>1</td>\n",
       "      <td>30000.0</td>\n",
       "      <td>0</td>\n",
       "      <td>...</td>\n",
       "      <td>3</td>\n",
       "      <td>8</td>\n",
       "      <td>1</td>\n",
       "      <td>11</td>\n",
       "      <td>5.0</td>\n",
       "      <td>5.0</td>\n",
       "      <td>0.2</td>\n",
       "      <td>0.8</td>\n",
       "      <td>1</td>\n",
       "      <td>0</td>\n",
       "    </tr>\n",
       "    <tr>\n",
       "      <th>103</th>\n",
       "      <td>21</td>\n",
       "      <td>4</td>\n",
       "      <td>2</td>\n",
       "      <td>2.019482e+09</td>\n",
       "      <td>1</td>\n",
       "      <td>3</td>\n",
       "      <td>1.0</td>\n",
       "      <td>0</td>\n",
       "      <td>38000.0</td>\n",
       "      <td>0</td>\n",
       "      <td>...</td>\n",
       "      <td>3</td>\n",
       "      <td>16</td>\n",
       "      <td>1</td>\n",
       "      <td>11</td>\n",
       "      <td>5.0</td>\n",
       "      <td>5.0</td>\n",
       "      <td>0.2</td>\n",
       "      <td>0.8</td>\n",
       "      <td>1</td>\n",
       "      <td>0</td>\n",
       "    </tr>\n",
       "    <tr>\n",
       "      <th>104</th>\n",
       "      <td>21</td>\n",
       "      <td>4</td>\n",
       "      <td>2</td>\n",
       "      <td>2.019152e+10</td>\n",
       "      <td>1</td>\n",
       "      <td>4</td>\n",
       "      <td>0.0</td>\n",
       "      <td>0</td>\n",
       "      <td>15500.0</td>\n",
       "      <td>0</td>\n",
       "      <td>...</td>\n",
       "      <td>5</td>\n",
       "      <td>18</td>\n",
       "      <td>1</td>\n",
       "      <td>8</td>\n",
       "      <td>4.0</td>\n",
       "      <td>4.0</td>\n",
       "      <td>0.6</td>\n",
       "      <td>0.4</td>\n",
       "      <td>0</td>\n",
       "      <td>1</td>\n",
       "    </tr>\n",
       "    <tr>\n",
       "      <th>105</th>\n",
       "      <td>19</td>\n",
       "      <td>1</td>\n",
       "      <td>1</td>\n",
       "      <td>2.201014e+07</td>\n",
       "      <td>0</td>\n",
       "      <td>2</td>\n",
       "      <td>0.0</td>\n",
       "      <td>0</td>\n",
       "      <td>7500.0</td>\n",
       "      <td>1</td>\n",
       "      <td>...</td>\n",
       "      <td>3</td>\n",
       "      <td>6</td>\n",
       "      <td>1</td>\n",
       "      <td>6</td>\n",
       "      <td>3.0</td>\n",
       "      <td>5.0</td>\n",
       "      <td>0.8</td>\n",
       "      <td>0.2</td>\n",
       "      <td>0</td>\n",
       "      <td>1</td>\n",
       "    </tr>\n",
       "  </tbody>\n",
       "</table>\n",
       "<p>106 rows × 33 columns</p>\n",
       "</div>"
      ],
      "text/plain": [
       "     age  level  income_level_(num)            id  data_scientist  \\\n",
       "0     19      1                   2  2.019152e+10               1   \n",
       "1     21      3                   1  2.020145e+10               1   \n",
       "2     20      2                   2  2.022146e+10               0   \n",
       "3     19      2                   2  2.019152e+10               1   \n",
       "4     21      3                   2  2.024865e+08               0   \n",
       "..   ...    ...                 ...           ...             ...   \n",
       "101   19      2                   1  2.022169e+10               1   \n",
       "102   20      2                   3  2.019152e+10               0   \n",
       "103   21      4                   2  2.019482e+09               1   \n",
       "104   21      4                   2  2.019152e+10               1   \n",
       "105   19      1                   1  2.201014e+07               0   \n",
       "\n",
       "     devices_count  main_device  surfing_the_internet  device_price  \\\n",
       "0                4          1.0                     0       15000.0   \n",
       "1                2          1.0                     0       13000.0   \n",
       "2                4          1.0                     0        8000.0   \n",
       "3                3          1.0                     0       18000.0   \n",
       "4                3          1.0                     0       15000.0   \n",
       "..             ...          ...                   ...           ...   \n",
       "101              3          0.0                     0       30000.0   \n",
       "102              3          1.0                     1       30000.0   \n",
       "103              3          1.0                     0       38000.0   \n",
       "104              4          0.0                     0       15500.0   \n",
       "105              2          0.0                     0        7500.0   \n",
       "\n",
       "     would_he_chage_his_device  ...  entertainment_(general)_hours  \\\n",
       "0                            0  ...                              1   \n",
       "1                            0  ...                              5   \n",
       "2                            0  ...                              8   \n",
       "3                            0  ...                              1   \n",
       "4                            0  ...                              3   \n",
       "..                         ...  ...                            ...   \n",
       "101                          0  ...                              1   \n",
       "102                          0  ...                              3   \n",
       "103                          0  ...                              3   \n",
       "104                          0  ...                              5   \n",
       "105                          1  ...                              3   \n",
       "\n",
       "     sum_of_the_time_spent  intel  processor_generation  \\\n",
       "0                        4      1                     8   \n",
       "1                       10      0                     4   \n",
       "2                       12      0                    10   \n",
       "3                        6      1                     8   \n",
       "4                        4      1                     7   \n",
       "..                     ...    ...                   ...   \n",
       "101                      4      0                    12   \n",
       "102                      8      1                    11   \n",
       "103                     16      1                    11   \n",
       "104                     18      1                     8   \n",
       "105                      6      1                     6   \n",
       "\n",
       "     how_powerful_from_1_to_5  how_powerful_from_1_to_51  desktop_perc  \\\n",
       "0                         4.0                        5.0           0.0   \n",
       "1                         4.0                        2.0           0.0   \n",
       "2                         4.0                        5.0           0.0   \n",
       "3                         2.0                        2.0           0.2   \n",
       "4                         3.0                        5.0           0.0   \n",
       "..                        ...                        ...           ...   \n",
       "101                       4.0                        5.0           0.8   \n",
       "102                       5.0                        5.0           0.2   \n",
       "103                       5.0                        5.0           0.2   \n",
       "104                       4.0                        4.0           0.6   \n",
       "105                       3.0                        5.0           0.8   \n",
       "\n",
       "     laptop_perc  what_would_you_rebuy_for_laptop_imp  \\\n",
       "0            1.0                                    1   \n",
       "1            0.0                                    0   \n",
       "2            1.0                                    1   \n",
       "3            0.8                                    1   \n",
       "4            0.0                                    1   \n",
       "..           ...                                  ...   \n",
       "101          0.2                                    0   \n",
       "102          0.8                                    1   \n",
       "103          0.8                                    1   \n",
       "104          0.4                                    0   \n",
       "105          0.2                                    0   \n",
       "\n",
       "     what_would_you_rebuy_for_desktop_imp  \n",
       "0                                       0  \n",
       "1                                       1  \n",
       "2                                       0  \n",
       "3                                       0  \n",
       "4                                       0  \n",
       "..                                    ...  \n",
       "101                                     1  \n",
       "102                                     0  \n",
       "103                                     0  \n",
       "104                                     1  \n",
       "105                                     1  \n",
       "\n",
       "[106 rows x 33 columns]"
      ]
     },
     "execution_count": 451,
     "metadata": {},
     "output_type": "execute_result"
    }
   ],
   "source": [
    "dfplot=df.select_dtypes(exclude=['object'])\n",
    "dfplot"
   ]
  },
  {
   "cell_type": "code",
   "execution_count": 458,
   "id": "2d1ff403",
   "metadata": {},
   "outputs": [
    {
     "name": "stdout",
     "output_type": "stream",
     "text": [
      "age\n",
      "level\n",
      "income_level_(num)\n",
      "id\n",
      "data_scientist\n",
      "devices_count\n",
      "main_device\n",
      "surfing_the_internet\n",
      "device_price\n",
      "would_he_chage_his_device\n",
      "screen_size_importance\n",
      "portability_importance\n",
      "upgradability_importance\n",
      "working_without_cable_importance\n",
      "performance_importance\n",
      "affordability_importance\n",
      "cd_existence_importance\n",
      "integrated_camera_importance\n"
     ]
    },
    {
     "name": "stderr",
     "output_type": "stream",
     "text": [
      "<ipython-input-458-f8b42e3c2d74>:3: RuntimeWarning: More than 20 figures have been opened. Figures created through the pyplot interface (`matplotlib.pyplot.figure`) are retained until explicitly closed and may consume too much memory. (To control this warning, see the rcParam `figure.max_open_warning`).\n",
      "  plt.figure()\n"
     ]
    },
    {
     "name": "stdout",
     "output_type": "stream",
     "text": [
      "multiple_monitors_importance\n",
      "hours_gaming\n",
      "hours_work\n",
      "hours_academic_study\n",
      "self_study_hours\n",
      "entertainment_(general)_hours\n",
      "sum_of_the_time_spent\n",
      "intel\n",
      "processor_generation\n",
      "how_powerful_from_1_to_5\n",
      "how_powerful_from_1_to_51\n",
      "desktop_perc\n",
      "laptop_perc\n",
      "what_would_you_rebuy_for_laptop_imp\n",
      "what_would_you_rebuy_for_desktop_imp\n"
     ]
    },
    {
     "data": {
      "text/plain": [
       "<Figure size 432x288 with 0 Axes>"
      ]
     },
     "metadata": {},
     "output_type": "display_data"
    },
    {
     "data": {
      "image/png": "[encoded data removed]",
      "text/plain": [
       "<Figure size 432x288 with 1 Axes>"
      ]
     },
     "metadata": {},
     "output_type": "display_data"
    },
    {
     "data": {
      "text/plain": [
       "<Figure size 432x288 with 0 Axes>"
      ]
     },
     "metadata": {},
     "output_type": "display_data"
    },
    {
     "data": {
      "image/png": "[encoded data removed]",
      "text/plain": [
       "<Figure size 432x288 with 1 Axes>"
      ]
     },
     "metadata": {},
     "output_type": "display_data"
    },
    {
     "data": {
      "text/plain": [
       "<Figure size 432x288 with 0 Axes>"
      ]
     },
     "metadata": {},
     "output_type": "display_data"
    },
    {
     "data": {
      "image/png": "[encoded data removed]",
      "text/plain": [
       "<Figure size 432x288 with 1 Axes>"
      ]
     },
     "metadata": {},
     "output_type": "display_data"
    },
    {
     "data": {
      "text/plain": [
       "<Figure size 432x288 with 0 Axes>"
      ]
     },
     "metadata": {},
     "output_type": "display_data"
    },
    {
     "data": {
      "image/png": "[encoded data removed]",
      "text/plain": [
       "<Figure size 432x288 with 1 Axes>"
      ]
     },
     "metadata": {},
     "output_type": "display_data"
    },
    {
     "data": {
      "text/plain": [
       "<Figure size 432x288 with 0 Axes>"
      ]
     },
     "metadata": {},
     "output_type": "display_data"
    },
    {
     "data": {
      "image/png": "[encoded data removed]",
      "text/plain": [
       "<Figure size 432x288 with 1 Axes>"
      ]
     },
     "metadata": {},
     "output_type": "display_data"
    },
    {
     "data": {
      "text/plain": [
       "<Figure size 432x288 with 0 Axes>"
      ]
     },
     "metadata": {},
     "output_type": "display_data"
    },
    {
     "data": {
      "image/png": "[encoded data removed]",
      "text/plain": [
       "<Figure size 432x288 with 1 Axes>"
      ]
     },
     "metadata": {},
     "output_type": "display_data"
    },
    {
     "data": {
      "text/plain": [
       "<Figure size 432x288 with 0 Axes>"
      ]
     },
     "metadata": {},
     "output_type": "display_data"
    },
    {
     "data": {
      "image/png": "[encoded data removed]",
      "text/plain": [
       "<Figure size 432x288 with 1 Axes>"
      ]
     },
     "metadata": {},
     "output_type": "display_data"
    },
    {
     "data": {
      "text/plain": [
       "<Figure size 432x288 with 0 Axes>"
      ]
     },
     "metadata": {},
     "output_type": "display_data"
    },
    {
     "data": {
      "image/png": "[encoded data removed]",
      "text/plain": [
       "<Figure size 432x288 with 1 Axes>"
      ]
     },
     "metadata": {},
     "output_type": "display_data"
    },
    {
     "data": {
      "text/plain": [
       "<Figure size 432x288 with 0 Axes>"
      ]
     },
     "metadata": {},
     "output_type": "display_data"
    },
    {
     "data": {
      "image/png": "[encoded data removed]",
      "text/plain": [
       "<Figure size 432x288 with 1 Axes>"
      ]
     },
     "metadata": {},
     "output_type": "display_data"
    },
    {
     "data": {
      "text/plain": [
       "<Figure size 432x288 with 0 Axes>"
      ]
     },
     "metadata": {},
     "output_type": "display_data"
    },
    {
     "data": {
      "image/png": "[encoded data removed]",
      "text/plain": [
       "<Figure size 432x288 with 1 Axes>"
      ]
     },
     "metadata": {},
     "output_type": "display_data"
    },
    {
     "data": {
      "text/plain": [
       "<Figure size 432x288 with 0 Axes>"
      ]
     },
     "metadata": {},
     "output_type": "display_data"
    },
    {
     "data": {
      "image/png": "[encoded data removed]",
      "text/plain": [
       "<Figure size 432x288 with 1 Axes>"
      ]
     },
     "metadata": {},
     "output_type": "display_data"
    },
    {
     "data": {
      "text/plain": [
       "<Figure size 432x288 with 0 Axes>"
      ]
     },
     "metadata": {},
     "output_type": "display_data"
    },
    {
     "data": {
      "image/png": "[encoded data removed]",
      "text/plain": [
       "<Figure size 432x288 with 1 Axes>"
      ]
     },
     "metadata": {},
     "output_type": "display_data"
    },
    {
     "data": {
      "text/plain": [
       "<Figure size 432x288 with 0 Axes>"
      ]
     },
     "metadata": {},
     "output_type": "display_data"
    },
    {
     "data": {
      "image/png": "[encoded data removed]",
      "text/plain": [
       "<Figure size 432x288 with 1 Axes>"
      ]
     },
     "metadata": {},
     "output_type": "display_data"
    },
    {
     "data": {
      "text/plain": [
       "<Figure size 432x288 with 0 Axes>"
      ]
     },
     "metadata": {},
     "output_type": "display_data"
    },
    {
     "data": {
      "image/png": "[encoded data removed]",
      "text/plain": [
       "<Figure size 432x288 with 1 Axes>"
      ]
     },
     "metadata": {},
     "output_type": "display_data"
    },
    {
     "data": {
      "text/plain": [
       "<Figure size 432x288 with 0 Axes>"
      ]
     },
     "metadata": {},
     "output_type": "display_data"
    },
    {
     "data": {
      "image/png": "[encoded data removed]",
      "text/plain": [
       "<Figure size 432x288 with 1 Axes>"
      ]
     },
     "metadata": {},
     "output_type": "display_data"
    },
    {
     "data": {
      "text/plain": [
       "<Figure size 432x288 with 0 Axes>"
      ]
     },
     "metadata": {},
     "output_type": "display_data"
    },
    {
     "data": {
      "image/png": "[encoded data removed]",
      "text/plain": [
       "<Figure size 432x288 with 1 Axes>"
      ]
     },
     "metadata": {},
     "output_type": "display_data"
    },
    {
     "data": {
      "text/plain": [
       "<Figure size 432x288 with 0 Axes>"
      ]
     },
     "metadata": {},
     "output_type": "display_data"
    },
    {
     "data": {
      "image/png": "[encoded data removed]",
      "text/plain": [
       "<Figure size 432x288 with 1 Axes>"
      ]
     },
     "metadata": {},
     "output_type": "display_data"
    },
    {
     "data": {
      "text/plain": [
       "<Figure size 432x288 with 0 Axes>"
      ]
     },
     "metadata": {},
     "output_type": "display_data"
    },
    {
     "data": {
      "image/png": "[encoded data removed]",
      "text/plain": [
       "<Figure size 432x288 with 1 Axes>"
      ]
     },
     "metadata": {},
     "output_type": "display_data"
    },
    {
     "data": {
      "text/plain": [
       "<Figure size 432x288 with 0 Axes>"
      ]
     },
     "metadata": {},
     "output_type": "display_data"
    },
    {
     "data": {
      "image/png": "[encoded data removed]",
      "text/plain": [
       "<Figure size 432x288 with 1 Axes>"
      ]
     },
     "metadata": {},
     "output_type": "display_data"
    },
    {
     "data": {
      "text/plain": [
       "<Figure size 432x288 with 0 Axes>"
      ]
     },
     "metadata": {},
     "output_type": "display_data"
    },
    {
     "data": {
      "image/png": "[encoded data removed]",
      "text/plain": [
       "<Figure size 432x288 with 1 Axes>"
      ]
     },
     "metadata": {},
     "output_type": "display_data"
    },
    {
     "data": {
      "text/plain": [
       "<Figure size 432x288 with 0 Axes>"
      ]
     },
     "metadata": {},
     "output_type": "display_data"
    },
    {
     "data": {
      "image/png": "[encoded data removed]",
      "text/plain": [
       "<Figure size 432x288 with 1 Axes>"
      ]
     },
     "metadata": {},
     "output_type": "display_data"
    },
    {
     "data": {
      "text/plain": [
       "<Figure size 432x288 with 0 Axes>"
      ]
     },
     "metadata": {},
     "output_type": "display_data"
    },
    {
     "data": {
      "image/png": "[encoded data removed]",
      "text/plain": [
       "<Figure size 432x288 with 1 Axes>"
      ]
     },
     "metadata": {},
     "output_type": "display_data"
    },
    {
     "data": {
      "text/plain": [
       "<Figure size 432x288 with 0 Axes>"
      ]
     },
     "metadata": {},
     "output_type": "display_data"
    },
    {
     "data": {
      "image/png": "[encoded data removed]",
      "text/plain": [
       "<Figure size 432x288 with 1 Axes>"
      ]
     },
     "metadata": {},
     "output_type": "display_data"
    },
    {
     "data": {
      "text/plain": [
       "<Figure size 432x288 with 0 Axes>"
      ]
     },
     "metadata": {},
     "output_type": "display_data"
    },
    {
     "data": {
      "image/png": "[encoded data removed]",
      "text/plain": [
       "<Figure size 432x288 with 1 Axes>"
      ]
     },
     "metadata": {},
     "output_type": "display_data"
    },
    {
     "data": {
      "text/plain": [
       "<Figure size 432x288 with 0 Axes>"
      ]
     },
     "metadata": {},
     "output_type": "display_data"
    },
    {
     "data": {
      "image/png": "[encoded data removed]",
      "text/plain": [
       "<Figure size 432x288 with 1 Axes>"
      ]
     },
     "metadata": {},
     "output_type": "display_data"
    },
    {
     "data": {
      "text/plain": [
       "<Figure size 432x288 with 0 Axes>"
      ]
     },
     "metadata": {},
     "output_type": "display_data"
    },
    {
     "data": {
      "image/png": "[encoded data removed]",
      "text/plain": [
       "<Figure size 432x288 with 1 Axes>"
      ]
     },
     "metadata": {},
     "output_type": "display_data"
    },
    {
     "data": {
      "text/plain": [
       "<Figure size 432x288 with 0 Axes>"
      ]
     },
     "metadata": {},
     "output_type": "display_data"
    },
    {
     "data": {
      "image/png": "[encoded data removed]",
      "text/plain": [
       "<Figure size 432x288 with 1 Axes>"
      ]
     },
     "metadata": {},
     "output_type": "display_data"
    },
    {
     "data": {
      "text/plain": [
       "<Figure size 432x288 with 0 Axes>"
      ]
     },
     "metadata": {},
     "output_type": "display_data"
    },
    {
     "data": {
      "image/png": "[encoded data removed]",
      "text/plain": [
       "<Figure size 432x288 with 1 Axes>"
      ]
     },
     "metadata": {},
     "output_type": "display_data"
    },
    {
     "data": {
      "text/plain": [
       "<Figure size 432x288 with 0 Axes>"
      ]
     },
     "metadata": {},
     "output_type": "display_data"
    },
    {
     "data": {
      "image/png": "[encoded data removed]",
      "text/plain": [
       "<Figure size 432x288 with 1 Axes>"
      ]
     },
     "metadata": {},
     "output_type": "display_data"
    },
    {
     "data": {
      "text/plain": [
       "<Figure size 432x288 with 0 Axes>"
      ]
     },
     "metadata": {},
     "output_type": "display_data"
    },
    {
     "data": {
      "image/png": "[encoded data removed]",
      "text/plain": [
       "<Figure size 432x288 with 1 Axes>"
      ]
     },
     "metadata": {},
     "output_type": "display_data"
    },
    {
     "data": {
      "text/plain": [
       "<Figure size 432x288 with 0 Axes>"
      ]
     },
     "metadata": {},
     "output_type": "display_data"
    },
    {
     "data": {
      "image/png": "[encoded data removed]",
      "text/plain": [
       "<Figure size 432x288 with 1 Axes>"
      ]
     },
     "metadata": {},
     "output_type": "display_data"
    },
    {
     "data": {
      "text/plain": [
       "<Figure size 432x288 with 0 Axes>"
      ]
     },
     "metadata": {},
     "output_type": "display_data"
    },
    {
     "data": {
      "image/png": "[encoded data removed]",
      "text/plain": [
       "<Figure size 432x288 with 1 Axes>"
      ]
     },
     "metadata": {},
     "output_type": "display_data"
    },
    {
     "data": {
      "text/plain": [
       "<Figure size 432x288 with 0 Axes>"
      ]
     },
     "metadata": {},
     "output_type": "display_data"
    },
    {
     "data": {
      "image/png": "[encoded data removed]",
      "text/plain": [
       "<Figure size 432x288 with 1 Axes>"
      ]
     },
     "metadata": {},
     "output_type": "display_data"
    }
   ],
   "source": [
    "for column in dfplot:\n",
    "    print(column)\n",
    "    plt.figure()\n",
    "    dfplot.hist([column])\n"
   ]
  },
  {
   "cell_type": "code",
   "execution_count": 387,
   "id": "MLa3MBjbgINv",
   "metadata": {
    "colab": {
     "base_uri": "https://localhost:8080/",
     "height": 864
    },
    "id": "MLa3MBjbgINv",
    "outputId": "707f1158-1554-45aa-b794-9e8aed6ebd2a",
    "scrolled": true
   },
   "outputs": [
    {
     "data": {
      "text/html": [
       "<div>\n",
       "<style scoped>\n",
       "    .dataframe tbody tr th:only-of-type {\n",
       "        vertical-align: middle;\n",
       "    }\n",
       "\n",
       "    .dataframe tbody tr th {\n",
       "        vertical-align: top;\n",
       "    }\n",
       "\n",
       "    .dataframe thead th {\n",
       "        text-align: right;\n",
       "    }\n",
       "</style>\n",
       "<table border=\"1\" class=\"dataframe\">\n",
       "  <thead>\n",
       "    <tr style=\"text-align: right;\">\n",
       "      <th></th>\n",
       "      <th>count</th>\n",
       "      <th>mean</th>\n",
       "      <th>std</th>\n",
       "      <th>min</th>\n",
       "      <th>25%</th>\n",
       "      <th>50%</th>\n",
       "      <th>75%</th>\n",
       "      <th>max</th>\n",
       "    </tr>\n",
       "  </thead>\n",
       "  <tbody>\n",
       "    <tr>\n",
       "      <th>age</th>\n",
       "      <td>106.0</td>\n",
       "      <td>1.979245e+01</td>\n",
       "      <td>9.632977e-01</td>\n",
       "      <td>17.0</td>\n",
       "      <td>1.900000e+01</td>\n",
       "      <td>2.000000e+01</td>\n",
       "      <td>2.100000e+01</td>\n",
       "      <td>2.100000e+01</td>\n",
       "    </tr>\n",
       "    <tr>\n",
       "      <th>level</th>\n",
       "      <td>106.0</td>\n",
       "      <td>2.103774e+00</td>\n",
       "      <td>1.013520e+00</td>\n",
       "      <td>1.0</td>\n",
       "      <td>1.000000e+00</td>\n",
       "      <td>2.000000e+00</td>\n",
       "      <td>3.000000e+00</td>\n",
       "      <td>4.000000e+00</td>\n",
       "    </tr>\n",
       "    <tr>\n",
       "      <th>income_level_(num)</th>\n",
       "      <td>106.0</td>\n",
       "      <td>2.028302e+00</td>\n",
       "      <td>9.900221e-01</td>\n",
       "      <td>1.0</td>\n",
       "      <td>1.000000e+00</td>\n",
       "      <td>2.000000e+00</td>\n",
       "      <td>2.750000e+00</td>\n",
       "      <td>5.000000e+00</td>\n",
       "    </tr>\n",
       "    <tr>\n",
       "      <th>id</th>\n",
       "      <td>106.0</td>\n",
       "      <td>1.770197e+10</td>\n",
       "      <td>3.034174e+10</td>\n",
       "      <td>21010023.0</td>\n",
       "      <td>2.650834e+08</td>\n",
       "      <td>2.019152e+10</td>\n",
       "      <td>2.020150e+10</td>\n",
       "      <td>3.030000e+11</td>\n",
       "    </tr>\n",
       "    <tr>\n",
       "      <th>data_scientist</th>\n",
       "      <td>106.0</td>\n",
       "      <td>4.905660e-01</td>\n",
       "      <td>5.022859e-01</td>\n",
       "      <td>0.0</td>\n",
       "      <td>0.000000e+00</td>\n",
       "      <td>0.000000e+00</td>\n",
       "      <td>1.000000e+00</td>\n",
       "      <td>1.000000e+00</td>\n",
       "    </tr>\n",
       "    <tr>\n",
       "      <th>devices_count</th>\n",
       "      <td>106.0</td>\n",
       "      <td>3.047170e+00</td>\n",
       "      <td>8.661032e-01</td>\n",
       "      <td>1.0</td>\n",
       "      <td>2.250000e+00</td>\n",
       "      <td>3.000000e+00</td>\n",
       "      <td>4.000000e+00</td>\n",
       "      <td>5.000000e+00</td>\n",
       "    </tr>\n",
       "    <tr>\n",
       "      <th>main_device</th>\n",
       "      <td>106.0</td>\n",
       "      <td>8.113208e-01</td>\n",
       "      <td>3.931123e-01</td>\n",
       "      <td>0.0</td>\n",
       "      <td>1.000000e+00</td>\n",
       "      <td>1.000000e+00</td>\n",
       "      <td>1.000000e+00</td>\n",
       "      <td>1.000000e+00</td>\n",
       "    </tr>\n",
       "    <tr>\n",
       "      <th>surfing_the_internet</th>\n",
       "      <td>106.0</td>\n",
       "      <td>9.433962e-02</td>\n",
       "      <td>2.936892e-01</td>\n",
       "      <td>0.0</td>\n",
       "      <td>0.000000e+00</td>\n",
       "      <td>0.000000e+00</td>\n",
       "      <td>0.000000e+00</td>\n",
       "      <td>1.000000e+00</td>\n",
       "    </tr>\n",
       "    <tr>\n",
       "      <th>device_price</th>\n",
       "      <td>106.0</td>\n",
       "      <td>1.763538e+04</td>\n",
       "      <td>9.828060e+03</td>\n",
       "      <td>2400.0</td>\n",
       "      <td>1.200000e+04</td>\n",
       "      <td>1.600000e+04</td>\n",
       "      <td>2.300000e+04</td>\n",
       "      <td>5.000000e+04</td>\n",
       "    </tr>\n",
       "    <tr>\n",
       "      <th>would_he_chage_his_device</th>\n",
       "      <td>106.0</td>\n",
       "      <td>1.037736e-01</td>\n",
       "      <td>3.064154e-01</td>\n",
       "      <td>0.0</td>\n",
       "      <td>0.000000e+00</td>\n",
       "      <td>0.000000e+00</td>\n",
       "      <td>0.000000e+00</td>\n",
       "      <td>1.000000e+00</td>\n",
       "    </tr>\n",
       "    <tr>\n",
       "      <th>screen_size_importance</th>\n",
       "      <td>106.0</td>\n",
       "      <td>3.188679e+00</td>\n",
       "      <td>9.963095e-01</td>\n",
       "      <td>1.0</td>\n",
       "      <td>3.000000e+00</td>\n",
       "      <td>3.000000e+00</td>\n",
       "      <td>4.000000e+00</td>\n",
       "      <td>5.000000e+00</td>\n",
       "    </tr>\n",
       "    <tr>\n",
       "      <th>portability_importance</th>\n",
       "      <td>106.0</td>\n",
       "      <td>3.547170e+00</td>\n",
       "      <td>1.367180e+00</td>\n",
       "      <td>1.0</td>\n",
       "      <td>2.000000e+00</td>\n",
       "      <td>4.000000e+00</td>\n",
       "      <td>5.000000e+00</td>\n",
       "      <td>5.000000e+00</td>\n",
       "    </tr>\n",
       "    <tr>\n",
       "      <th>upgradability_importance</th>\n",
       "      <td>106.0</td>\n",
       "      <td>3.509434e+00</td>\n",
       "      <td>1.243997e+00</td>\n",
       "      <td>1.0</td>\n",
       "      <td>3.000000e+00</td>\n",
       "      <td>4.000000e+00</td>\n",
       "      <td>5.000000e+00</td>\n",
       "      <td>5.000000e+00</td>\n",
       "    </tr>\n",
       "    <tr>\n",
       "      <th>working_without_cable_importance</th>\n",
       "      <td>106.0</td>\n",
       "      <td>3.405660e+00</td>\n",
       "      <td>1.419445e+00</td>\n",
       "      <td>1.0</td>\n",
       "      <td>2.000000e+00</td>\n",
       "      <td>4.000000e+00</td>\n",
       "      <td>5.000000e+00</td>\n",
       "      <td>5.000000e+00</td>\n",
       "    </tr>\n",
       "    <tr>\n",
       "      <th>performance_importance</th>\n",
       "      <td>106.0</td>\n",
       "      <td>4.103774e+00</td>\n",
       "      <td>1.241575e+00</td>\n",
       "      <td>1.0</td>\n",
       "      <td>3.250000e+00</td>\n",
       "      <td>5.000000e+00</td>\n",
       "      <td>5.000000e+00</td>\n",
       "      <td>5.000000e+00</td>\n",
       "    </tr>\n",
       "    <tr>\n",
       "      <th>affordability_importance</th>\n",
       "      <td>106.0</td>\n",
       "      <td>3.528302e+00</td>\n",
       "      <td>1.188897e+00</td>\n",
       "      <td>1.0</td>\n",
       "      <td>3.000000e+00</td>\n",
       "      <td>4.000000e+00</td>\n",
       "      <td>4.750000e+00</td>\n",
       "      <td>5.000000e+00</td>\n",
       "    </tr>\n",
       "    <tr>\n",
       "      <th>cd_existence_importance</th>\n",
       "      <td>106.0</td>\n",
       "      <td>1.745283e+00</td>\n",
       "      <td>1.033361e+00</td>\n",
       "      <td>1.0</td>\n",
       "      <td>1.000000e+00</td>\n",
       "      <td>1.000000e+00</td>\n",
       "      <td>2.000000e+00</td>\n",
       "      <td>5.000000e+00</td>\n",
       "    </tr>\n",
       "    <tr>\n",
       "      <th>integrated_camera_importance</th>\n",
       "      <td>106.0</td>\n",
       "      <td>2.339623e+00</td>\n",
       "      <td>1.186325e+00</td>\n",
       "      <td>1.0</td>\n",
       "      <td>1.000000e+00</td>\n",
       "      <td>2.000000e+00</td>\n",
       "      <td>3.000000e+00</td>\n",
       "      <td>5.000000e+00</td>\n",
       "    </tr>\n",
       "    <tr>\n",
       "      <th>multiple_monitors_importance</th>\n",
       "      <td>106.0</td>\n",
       "      <td>2.396226e+00</td>\n",
       "      <td>1.224195e+00</td>\n",
       "      <td>1.0</td>\n",
       "      <td>1.000000e+00</td>\n",
       "      <td>2.000000e+00</td>\n",
       "      <td>3.000000e+00</td>\n",
       "      <td>5.000000e+00</td>\n",
       "    </tr>\n",
       "    <tr>\n",
       "      <th>hours_gaming</th>\n",
       "      <td>106.0</td>\n",
       "      <td>2.009434e+00</td>\n",
       "      <td>1.992822e+00</td>\n",
       "      <td>1.0</td>\n",
       "      <td>1.000000e+00</td>\n",
       "      <td>1.000000e+00</td>\n",
       "      <td>1.000000e+00</td>\n",
       "      <td>8.000000e+00</td>\n",
       "    </tr>\n",
       "    <tr>\n",
       "      <th>hours_work</th>\n",
       "      <td>106.0</td>\n",
       "      <td>2.801887e+00</td>\n",
       "      <td>2.117590e+00</td>\n",
       "      <td>1.0</td>\n",
       "      <td>1.000000e+00</td>\n",
       "      <td>3.000000e+00</td>\n",
       "      <td>3.000000e+00</td>\n",
       "      <td>8.000000e+00</td>\n",
       "    </tr>\n",
       "    <tr>\n",
       "      <th>hours_academic_study</th>\n",
       "      <td>106.0</td>\n",
       "      <td>4.103774e+00</td>\n",
       "      <td>2.186231e+00</td>\n",
       "      <td>1.0</td>\n",
       "      <td>3.000000e+00</td>\n",
       "      <td>4.000000e+00</td>\n",
       "      <td>5.000000e+00</td>\n",
       "      <td>8.000000e+00</td>\n",
       "    </tr>\n",
       "    <tr>\n",
       "      <th>self_study_hours</th>\n",
       "      <td>106.0</td>\n",
       "      <td>3.622642e+00</td>\n",
       "      <td>2.039854e+00</td>\n",
       "      <td>1.0</td>\n",
       "      <td>3.000000e+00</td>\n",
       "      <td>3.000000e+00</td>\n",
       "      <td>5.000000e+00</td>\n",
       "      <td>8.000000e+00</td>\n",
       "    </tr>\n",
       "    <tr>\n",
       "      <th>entertainment_(general)_hours</th>\n",
       "      <td>106.0</td>\n",
       "      <td>3.122642e+00</td>\n",
       "      <td>2.127833e+00</td>\n",
       "      <td>1.0</td>\n",
       "      <td>1.000000e+00</td>\n",
       "      <td>3.000000e+00</td>\n",
       "      <td>5.000000e+00</td>\n",
       "      <td>8.000000e+00</td>\n",
       "    </tr>\n",
       "    <tr>\n",
       "      <th>sum_of_the_time_spent</th>\n",
       "      <td>106.0</td>\n",
       "      <td>1.094340e+01</td>\n",
       "      <td>6.608552e+00</td>\n",
       "      <td>0.0</td>\n",
       "      <td>6.000000e+00</td>\n",
       "      <td>1.000000e+01</td>\n",
       "      <td>1.400000e+01</td>\n",
       "      <td>3.400000e+01</td>\n",
       "    </tr>\n",
       "    <tr>\n",
       "      <th>intel</th>\n",
       "      <td>106.0</td>\n",
       "      <td>7.358491e-01</td>\n",
       "      <td>4.429745e-01</td>\n",
       "      <td>0.0</td>\n",
       "      <td>0.000000e+00</td>\n",
       "      <td>1.000000e+00</td>\n",
       "      <td>1.000000e+00</td>\n",
       "      <td>1.000000e+00</td>\n",
       "    </tr>\n",
       "    <tr>\n",
       "      <th>processor_generation</th>\n",
       "      <td>106.0</td>\n",
       "      <td>8.084906e+00</td>\n",
       "      <td>2.970066e+00</td>\n",
       "      <td>1.0</td>\n",
       "      <td>5.250000e+00</td>\n",
       "      <td>9.000000e+00</td>\n",
       "      <td>1.100000e+01</td>\n",
       "      <td>1.300000e+01</td>\n",
       "    </tr>\n",
       "    <tr>\n",
       "      <th>how_powerful_from_1_to_5</th>\n",
       "      <td>106.0</td>\n",
       "      <td>3.716981e+00</td>\n",
       "      <td>1.127616e+00</td>\n",
       "      <td>1.0</td>\n",
       "      <td>3.000000e+00</td>\n",
       "      <td>4.000000e+00</td>\n",
       "      <td>5.000000e+00</td>\n",
       "      <td>5.000000e+00</td>\n",
       "    </tr>\n",
       "    <tr>\n",
       "      <th>how_powerful_from_1_to_51</th>\n",
       "      <td>106.0</td>\n",
       "      <td>4.349057e+00</td>\n",
       "      <td>9.465974e-01</td>\n",
       "      <td>2.0</td>\n",
       "      <td>4.000000e+00</td>\n",
       "      <td>5.000000e+00</td>\n",
       "      <td>5.000000e+00</td>\n",
       "      <td>5.000000e+00</td>\n",
       "    </tr>\n",
       "    <tr>\n",
       "      <th>desktop_perc</th>\n",
       "      <td>106.0</td>\n",
       "      <td>2.216981e-01</td>\n",
       "      <td>3.201204e-01</td>\n",
       "      <td>0.0</td>\n",
       "      <td>0.000000e+00</td>\n",
       "      <td>0.000000e+00</td>\n",
       "      <td>4.000000e-01</td>\n",
       "      <td>1.000000e+00</td>\n",
       "    </tr>\n",
       "    <tr>\n",
       "      <th>laptop_perc</th>\n",
       "      <td>106.0</td>\n",
       "      <td>5.424528e-01</td>\n",
       "      <td>4.229034e-01</td>\n",
       "      <td>0.0</td>\n",
       "      <td>0.000000e+00</td>\n",
       "      <td>7.000000e-01</td>\n",
       "      <td>1.000000e+00</td>\n",
       "      <td>1.000000e+00</td>\n",
       "    </tr>\n",
       "    <tr>\n",
       "      <th>what_would_you_rebuy_for_laptop_imp</th>\n",
       "      <td>106.0</td>\n",
       "      <td>7.830189e-01</td>\n",
       "      <td>4.141478e-01</td>\n",
       "      <td>0.0</td>\n",
       "      <td>1.000000e+00</td>\n",
       "      <td>1.000000e+00</td>\n",
       "      <td>1.000000e+00</td>\n",
       "      <td>1.000000e+00</td>\n",
       "    </tr>\n",
       "    <tr>\n",
       "      <th>what_would_you_rebuy_for_desktop_imp</th>\n",
       "      <td>106.0</td>\n",
       "      <td>2.169811e-01</td>\n",
       "      <td>4.141478e-01</td>\n",
       "      <td>0.0</td>\n",
       "      <td>0.000000e+00</td>\n",
       "      <td>0.000000e+00</td>\n",
       "      <td>0.000000e+00</td>\n",
       "      <td>1.000000e+00</td>\n",
       "    </tr>\n",
       "  </tbody>\n",
       "</table>\n",
       "</div>"
      ],
      "text/plain": [
       "                                      count          mean           std  \\\n",
       "age                                   106.0  1.979245e+01  9.632977e-01   \n",
       "level                                 106.0  2.103774e+00  1.013520e+00   \n",
       "income_level_(num)                    106.0  2.028302e+00  9.900221e-01   \n",
       "id                                    106.0  1.770197e+10  3.034174e+10   \n",
       "data_scientist                        106.0  4.905660e-01  5.022859e-01   \n",
       "devices_count                         106.0  3.047170e+00  8.661032e-01   \n",
       "main_device                           106.0  8.113208e-01  3.931123e-01   \n",
       "surfing_the_internet                  106.0  9.433962e-02  2.936892e-01   \n",
       "device_price                          106.0  1.763538e+04  9.828060e+03   \n",
       "would_he_chage_his_device             106.0  1.037736e-01  3.064154e-01   \n",
       "screen_size_importance                106.0  3.188679e+00  9.963095e-01   \n",
       "portability_importance                106.0  3.547170e+00  1.367180e+00   \n",
       "upgradability_importance              106.0  3.509434e+00  1.243997e+00   \n",
       "working_without_cable_importance      106.0  3.405660e+00  1.419445e+00   \n",
       "performance_importance                106.0  4.103774e+00  1.241575e+00   \n",
       "affordability_importance              106.0  3.528302e+00  1.188897e+00   \n",
       "cd_existence_importance               106.0  1.745283e+00  1.033361e+00   \n",
       "integrated_camera_importance          106.0  2.339623e+00  1.186325e+00   \n",
       "multiple_monitors_importance          106.0  2.396226e+00  1.224195e+00   \n",
       "hours_gaming                          106.0  2.009434e+00  1.992822e+00   \n",
       "hours_work                            106.0  2.801887e+00  2.117590e+00   \n",
       "hours_academic_study                  106.0  4.103774e+00  2.186231e+00   \n",
       "self_study_hours                      106.0  3.622642e+00  2.039854e+00   \n",
       "entertainment_(general)_hours         106.0  3.122642e+00  2.127833e+00   \n",
       "sum_of_the_time_spent                 106.0  1.094340e+01  6.608552e+00   \n",
       "intel                                 106.0  7.358491e-01  4.429745e-01   \n",
       "processor_generation                  106.0  8.084906e+00  2.970066e+00   \n",
       "how_powerful_from_1_to_5              106.0  3.716981e+00  1.127616e+00   \n",
       "how_powerful_from_1_to_51             106.0  4.349057e+00  9.465974e-01   \n",
       "desktop_perc                          106.0  2.216981e-01  3.201204e-01   \n",
       "laptop_perc                           106.0  5.424528e-01  4.229034e-01   \n",
       "what_would_you_rebuy_for_laptop_imp   106.0  7.830189e-01  4.141478e-01   \n",
       "what_would_you_rebuy_for_desktop_imp  106.0  2.169811e-01  4.141478e-01   \n",
       "\n",
       "                                             min           25%           50%  \\\n",
       "age                                         17.0  1.900000e+01  2.000000e+01   \n",
       "level                                        1.0  1.000000e+00  2.000000e+00   \n",
       "income_level_(num)                           1.0  1.000000e+00  2.000000e+00   \n",
       "id                                    21010023.0  2.650834e+08  2.019152e+10   \n",
       "data_scientist                               0.0  0.000000e+00  0.000000e+00   \n",
       "devices_count                                1.0  2.250000e+00  3.000000e+00   \n",
       "main_device                                  0.0  1.000000e+00  1.000000e+00   \n",
       "surfing_the_internet                         0.0  0.000000e+00  0.000000e+00   \n",
       "device_price                              2400.0  1.200000e+04  1.600000e+04   \n",
       "would_he_chage_his_device                    0.0  0.000000e+00  0.000000e+00   \n",
       "screen_size_importance                       1.0  3.000000e+00  3.000000e+00   \n",
       "portability_importance                       1.0  2.000000e+00  4.000000e+00   \n",
       "upgradability_importance                     1.0  3.000000e+00  4.000000e+00   \n",
       "working_without_cable_importance             1.0  2.000000e+00  4.000000e+00   \n",
       "performance_importance                       1.0  3.250000e+00  5.000000e+00   \n",
       "affordability_importance                     1.0  3.000000e+00  4.000000e+00   \n",
       "cd_existence_importance                      1.0  1.000000e+00  1.000000e+00   \n",
       "integrated_camera_importance                 1.0  1.000000e+00  2.000000e+00   \n",
       "multiple_monitors_importance                 1.0  1.000000e+00  2.000000e+00   \n",
       "hours_gaming                                 1.0  1.000000e+00  1.000000e+00   \n",
       "hours_work                                   1.0  1.000000e+00  3.000000e+00   \n",
       "hours_academic_study                         1.0  3.000000e+00  4.000000e+00   \n",
       "self_study_hours                             1.0  3.000000e+00  3.000000e+00   \n",
       "entertainment_(general)_hours                1.0  1.000000e+00  3.000000e+00   \n",
       "sum_of_the_time_spent                        0.0  6.000000e+00  1.000000e+01   \n",
       "intel                                        0.0  0.000000e+00  1.000000e+00   \n",
       "processor_generation                         1.0  5.250000e+00  9.000000e+00   \n",
       "how_powerful_from_1_to_5                     1.0  3.000000e+00  4.000000e+00   \n",
       "how_powerful_from_1_to_51                    2.0  4.000000e+00  5.000000e+00   \n",
       "desktop_perc                                 0.0  0.000000e+00  0.000000e+00   \n",
       "laptop_perc                                  0.0  0.000000e+00  7.000000e-01   \n",
       "what_would_you_rebuy_for_laptop_imp          0.0  1.000000e+00  1.000000e+00   \n",
       "what_would_you_rebuy_for_desktop_imp         0.0  0.000000e+00  0.000000e+00   \n",
       "\n",
       "                                               75%           max  \n",
       "age                                   2.100000e+01  2.100000e+01  \n",
       "level                                 3.000000e+00  4.000000e+00  \n",
       "income_level_(num)                    2.750000e+00  5.000000e+00  \n",
       "id                                    2.020150e+10  3.030000e+11  \n",
       "data_scientist                        1.000000e+00  1.000000e+00  \n",
       "devices_count                         4.000000e+00  5.000000e+00  \n",
       "main_device                           1.000000e+00  1.000000e+00  \n",
       "surfing_the_internet                  0.000000e+00  1.000000e+00  \n",
       "device_price                          2.300000e+04  5.000000e+04  \n",
       "would_he_chage_his_device             0.000000e+00  1.000000e+00  \n",
       "screen_size_importance                4.000000e+00  5.000000e+00  \n",
       "portability_importance                5.000000e+00  5.000000e+00  \n",
       "upgradability_importance              5.000000e+00  5.000000e+00  \n",
       "working_without_cable_importance      5.000000e+00  5.000000e+00  \n",
       "performance_importance                5.000000e+00  5.000000e+00  \n",
       "affordability_importance              4.750000e+00  5.000000e+00  \n",
       "cd_existence_importance               2.000000e+00  5.000000e+00  \n",
       "integrated_camera_importance          3.000000e+00  5.000000e+00  \n",
       "multiple_monitors_importance          3.000000e+00  5.000000e+00  \n",
       "hours_gaming                          1.000000e+00  8.000000e+00  \n",
       "hours_work                            3.000000e+00  8.000000e+00  \n",
       "hours_academic_study                  5.000000e+00  8.000000e+00  \n",
       "self_study_hours                      5.000000e+00  8.000000e+00  \n",
       "entertainment_(general)_hours         5.000000e+00  8.000000e+00  \n",
       "sum_of_the_time_spent                 1.400000e+01  3.400000e+01  \n",
       "intel                                 1.000000e+00  1.000000e+00  \n",
       "processor_generation                  1.100000e+01  1.300000e+01  \n",
       "how_powerful_from_1_to_5              5.000000e+00  5.000000e+00  \n",
       "how_powerful_from_1_to_51             5.000000e+00  5.000000e+00  \n",
       "desktop_perc                          4.000000e-01  1.000000e+00  \n",
       "laptop_perc                           1.000000e+00  1.000000e+00  \n",
       "what_would_you_rebuy_for_laptop_imp   1.000000e+00  1.000000e+00  \n",
       "what_would_you_rebuy_for_desktop_imp  0.000000e+00  1.000000e+00  "
      ]
     },
     "execution_count": 387,
     "metadata": {},
     "output_type": "execute_result"
    }
   ],
   "source": [
    "df.describe().T"
   ]
  },
  {
   "cell_type": "code",
   "execution_count": 388,
   "id": "bf2e0829",
   "metadata": {},
   "outputs": [
    {
     "data": {
      "text/plain": [
       "-0.41291801513493465"
      ]
     },
     "execution_count": 388,
     "metadata": {},
     "output_type": "execute_result"
    }
   ],
   "source": [
    "df.corr()[\"what_would_you_rebuy_for_laptop_imp\"].sort_values()[\"hours_gaming\"]"
   ]
  },
  {
   "cell_type": "code",
   "execution_count": 389,
   "id": "Mnoc-QQTole-",
   "metadata": {
    "colab": {
     "base_uri": "https://localhost:8080/",
     "height": 994
    },
    "id": "Mnoc-QQTole-",
    "outputId": "81b6f70f-893a-4b3e-a4af-9c1699df0cef"
   },
   "outputs": [
    {
     "data": {
      "text/plain": [
       "Index(['timestamp', 'age', 'gender', 'level', 'income_level',\n",
       "       'income_level_(num)', 'id', 'career_path', 'data_scientist',\n",
       "       'devices_count', 'own_laptop', 'own_desktop', 'own_tablet',\n",
       "       'main_device', 'main_usage_device', 'surfing_the_internet',\n",
       "       'device_price', 'would_he_chage_his_device', 'operating_system',\n",
       "       'device_performance', 'screen_size_importance',\n",
       "       'portability_importance', 'upgradability_importance',\n",
       "       'working_without_cable_importance', 'performance_importance',\n",
       "       'affordability_importance', 'cd_existence_importance',\n",
       "       'integrated_camera_importance', 'multiple_monitors_importance',\n",
       "       'hours_gaming', 'hours_work', 'hours_academic_study',\n",
       "       'self_study_hours', 'entertainment_(general)_hours',\n",
       "       'sum_of_the_time_spent', 'processor', 'intel', 'processor_generation',\n",
       "       'how_powerful_from_1_to_5', 'graphics_card_model',\n",
       "       'how_powerful_from_1_to_51', 'point_of_view', 'desktop_perc',\n",
       "       'laptop_perc', 'what_would_you_rebuy_for_laptop_imp',\n",
       "       'what_would_you_rebuy_for_desktop_imp'],\n",
       "      dtype='object')"
      ]
     },
     "execution_count": 389,
     "metadata": {},
     "output_type": "execute_result"
    }
   ],
   "source": [
    "df.columns"
   ]
  },
  {
   "cell_type": "code",
   "execution_count": 390,
   "id": "Wz4Oq03WmSNY",
   "metadata": {
    "colab": {
     "base_uri": "https://localhost:8080/"
    },
    "id": "Wz4Oq03WmSNY",
    "outputId": "e50bfe8c-8f5e-4245-caf0-b18e021c68b7"
   },
   "outputs": [
    {
     "data": {
      "text/plain": [
       "0.7188196379765331"
      ]
     },
     "execution_count": 390,
     "metadata": {},
     "output_type": "execute_result"
    }
   ],
   "source": [
    "df.corr().portability_importance['working_without_cable_importance']"
   ]
  },
  {
   "cell_type": "code",
   "execution_count": 391,
   "id": "1edad2bf",
   "metadata": {},
   "outputs": [
    {
     "name": "stdout",
     "output_type": "stream",
     "text": [
      "<class 'pandas.core.frame.DataFrame'>\n",
      "RangeIndex: 106 entries, 0 to 105\n",
      "Data columns (total 46 columns):\n",
      " #   Column                                Non-Null Count  Dtype  \n",
      "---  ------                                --------------  -----  \n",
      " 0   timestamp                             106 non-null    object \n",
      " 1   age                                   106 non-null    int32  \n",
      " 2   gender                                106 non-null    object \n",
      " 3   level                                 106 non-null    int64  \n",
      " 4   income_level                          106 non-null    object \n",
      " 5   income_level_(num)                    106 non-null    int64  \n",
      " 6   id                                    106 non-null    float64\n",
      " 7   career_path                           106 non-null    object \n",
      " 8   data_scientist                        106 non-null    int64  \n",
      " 9   devices_count                         106 non-null    int32  \n",
      " 10  own_laptop                            106 non-null    object \n",
      " 11  own_desktop                           106 non-null    object \n",
      " 12  own_tablet                            106 non-null    object \n",
      " 13  main_device                           106 non-null    float64\n",
      " 14  main_usage_device                     106 non-null    object \n",
      " 15  surfing_the_internet                  106 non-null    int64  \n",
      " 16  device_price                          106 non-null    float64\n",
      " 17  would_he_chage_his_device             106 non-null    int64  \n",
      " 18  operating_system                      106 non-null    object \n",
      " 19  device_performance                    106 non-null    object \n",
      " 20  screen_size_importance                106 non-null    int64  \n",
      " 21  portability_importance                106 non-null    int64  \n",
      " 22  upgradability_importance              106 non-null    int64  \n",
      " 23  working_without_cable_importance      106 non-null    int64  \n",
      " 24  performance_importance                106 non-null    int64  \n",
      " 25  affordability_importance              106 non-null    int64  \n",
      " 26  cd_existence_importance               106 non-null    int64  \n",
      " 27  integrated_camera_importance          106 non-null    int64  \n",
      " 28  multiple_monitors_importance          106 non-null    int64  \n",
      " 29  hours_gaming                          106 non-null    int64  \n",
      " 30  hours_work                            106 non-null    int64  \n",
      " 31  hours_academic_study                  106 non-null    int64  \n",
      " 32  self_study_hours                      106 non-null    int64  \n",
      " 33  entertainment_(general)_hours         106 non-null    int64  \n",
      " 34  sum_of_the_time_spent                 106 non-null    int64  \n",
      " 35  processor                             106 non-null    object \n",
      " 36  intel                                 106 non-null    int64  \n",
      " 37  processor_generation                  106 non-null    int64  \n",
      " 38  how_powerful_from_1_to_5              106 non-null    float64\n",
      " 39  graphics_card_model                   106 non-null    object \n",
      " 40  how_powerful_from_1_to_51             106 non-null    float64\n",
      " 41  point_of_view                         106 non-null    object \n",
      " 42  desktop_perc                          106 non-null    float64\n",
      " 43  laptop_perc                           106 non-null    float64\n",
      " 44  what_would_you_rebuy_for_laptop_imp   106 non-null    int64  \n",
      " 45  what_would_you_rebuy_for_desktop_imp  106 non-null    int64  \n",
      "dtypes: float64(7), int32(2), int64(24), object(13)\n",
      "memory usage: 37.4+ KB\n"
     ]
    }
   ],
   "source": [
    "\n",
    "df.info()"
   ]
  },
  {
   "cell_type": "code",
   "execution_count": 426,
   "id": "102ddb08",
   "metadata": {},
   "outputs": [
    {
     "data": {
      "text/plain": [
       "array(['Medium end device', 'medium high specs', 'high end specs',\n",
       "       'Low end device'], dtype=object)"
      ]
     },
     "execution_count": 426,
     "metadata": {},
     "output_type": "execute_result"
    }
   ],
   "source": [
    "replace_map = {'Medium end device ' : 'Medium end device', 'high end specs ': 'high end specs'}\n",
    "df[\"device_performance\"] = df[\"device_performance\"].replace(replace_map)\n",
    "df[\"device_performance\"].unique()"
   ]
  },
  {
   "cell_type": "code",
   "execution_count": 427,
   "id": "798b4ce9",
   "metadata": {},
   "outputs": [
    {
     "data": {
      "text/html": [
       "<div>\n",
       "<style scoped>\n",
       "    .dataframe tbody tr th:only-of-type {\n",
       "        vertical-align: middle;\n",
       "    }\n",
       "\n",
       "    .dataframe tbody tr th {\n",
       "        vertical-align: top;\n",
       "    }\n",
       "\n",
       "    .dataframe thead th {\n",
       "        text-align: right;\n",
       "    }\n",
       "</style>\n",
       "<table border=\"1\" class=\"dataframe\">\n",
       "  <thead>\n",
       "    <tr style=\"text-align: right;\">\n",
       "      <th></th>\n",
       "      <th>timestamp</th>\n",
       "      <th>age</th>\n",
       "      <th>gender</th>\n",
       "      <th>level</th>\n",
       "      <th>income_level</th>\n",
       "      <th>income_level_(num)</th>\n",
       "      <th>id</th>\n",
       "      <th>career_path</th>\n",
       "      <th>data_scientist</th>\n",
       "      <th>devices_count</th>\n",
       "      <th>...</th>\n",
       "      <th>intel</th>\n",
       "      <th>processor_generation</th>\n",
       "      <th>how_powerful_from_1_to_5</th>\n",
       "      <th>graphics_card_model</th>\n",
       "      <th>how_powerful_from_1_to_51</th>\n",
       "      <th>point_of_view</th>\n",
       "      <th>desktop_perc</th>\n",
       "      <th>laptop_perc</th>\n",
       "      <th>what_would_you_rebuy_for_laptop_imp</th>\n",
       "      <th>what_would_you_rebuy_for_desktop_imp</th>\n",
       "    </tr>\n",
       "    <tr>\n",
       "      <th>device_performance</th>\n",
       "      <th></th>\n",
       "      <th></th>\n",
       "      <th></th>\n",
       "      <th></th>\n",
       "      <th></th>\n",
       "      <th></th>\n",
       "      <th></th>\n",
       "      <th></th>\n",
       "      <th></th>\n",
       "      <th></th>\n",
       "      <th></th>\n",
       "      <th></th>\n",
       "      <th></th>\n",
       "      <th></th>\n",
       "      <th></th>\n",
       "      <th></th>\n",
       "      <th></th>\n",
       "      <th></th>\n",
       "      <th></th>\n",
       "      <th></th>\n",
       "      <th></th>\n",
       "    </tr>\n",
       "  </thead>\n",
       "  <tbody>\n",
       "    <tr>\n",
       "      <th>Low end device</th>\n",
       "      <td>4</td>\n",
       "      <td>4</td>\n",
       "      <td>4</td>\n",
       "      <td>4</td>\n",
       "      <td>4</td>\n",
       "      <td>4</td>\n",
       "      <td>4</td>\n",
       "      <td>4</td>\n",
       "      <td>4</td>\n",
       "      <td>4</td>\n",
       "      <td>...</td>\n",
       "      <td>4</td>\n",
       "      <td>4</td>\n",
       "      <td>4</td>\n",
       "      <td>4</td>\n",
       "      <td>4</td>\n",
       "      <td>4</td>\n",
       "      <td>4</td>\n",
       "      <td>4</td>\n",
       "      <td>4</td>\n",
       "      <td>4</td>\n",
       "    </tr>\n",
       "    <tr>\n",
       "      <th>Medium end device</th>\n",
       "      <td>31</td>\n",
       "      <td>31</td>\n",
       "      <td>31</td>\n",
       "      <td>31</td>\n",
       "      <td>31</td>\n",
       "      <td>31</td>\n",
       "      <td>31</td>\n",
       "      <td>31</td>\n",
       "      <td>31</td>\n",
       "      <td>31</td>\n",
       "      <td>...</td>\n",
       "      <td>31</td>\n",
       "      <td>31</td>\n",
       "      <td>31</td>\n",
       "      <td>31</td>\n",
       "      <td>31</td>\n",
       "      <td>31</td>\n",
       "      <td>31</td>\n",
       "      <td>31</td>\n",
       "      <td>31</td>\n",
       "      <td>31</td>\n",
       "    </tr>\n",
       "    <tr>\n",
       "      <th>high end specs</th>\n",
       "      <td>21</td>\n",
       "      <td>21</td>\n",
       "      <td>21</td>\n",
       "      <td>21</td>\n",
       "      <td>21</td>\n",
       "      <td>21</td>\n",
       "      <td>21</td>\n",
       "      <td>21</td>\n",
       "      <td>21</td>\n",
       "      <td>21</td>\n",
       "      <td>...</td>\n",
       "      <td>21</td>\n",
       "      <td>21</td>\n",
       "      <td>21</td>\n",
       "      <td>21</td>\n",
       "      <td>21</td>\n",
       "      <td>21</td>\n",
       "      <td>21</td>\n",
       "      <td>21</td>\n",
       "      <td>21</td>\n",
       "      <td>21</td>\n",
       "    </tr>\n",
       "    <tr>\n",
       "      <th>medium high specs</th>\n",
       "      <td>50</td>\n",
       "      <td>50</td>\n",
       "      <td>50</td>\n",
       "      <td>50</td>\n",
       "      <td>50</td>\n",
       "      <td>50</td>\n",
       "      <td>50</td>\n",
       "      <td>50</td>\n",
       "      <td>50</td>\n",
       "      <td>50</td>\n",
       "      <td>...</td>\n",
       "      <td>50</td>\n",
       "      <td>50</td>\n",
       "      <td>50</td>\n",
       "      <td>50</td>\n",
       "      <td>50</td>\n",
       "      <td>50</td>\n",
       "      <td>50</td>\n",
       "      <td>50</td>\n",
       "      <td>50</td>\n",
       "      <td>50</td>\n",
       "    </tr>\n",
       "  </tbody>\n",
       "</table>\n",
       "<p>4 rows × 45 columns</p>\n",
       "</div>"
      ],
      "text/plain": [
       "                    timestamp  age  gender  level  income_level  \\\n",
       "device_performance                                                \n",
       "Low end device              4    4       4      4             4   \n",
       "Medium end device          31   31      31     31            31   \n",
       "high end specs             21   21      21     21            21   \n",
       "medium high specs          50   50      50     50            50   \n",
       "\n",
       "                    income_level_(num)  id  career_path  data_scientist  \\\n",
       "device_performance                                                        \n",
       "Low end device                       4   4            4               4   \n",
       "Medium end device                   31  31           31              31   \n",
       "high end specs                      21  21           21              21   \n",
       "medium high specs                   50  50           50              50   \n",
       "\n",
       "                    devices_count  ...  intel  processor_generation  \\\n",
       "device_performance                 ...                                \n",
       "Low end device                  4  ...      4                     4   \n",
       "Medium end device              31  ...     31                    31   \n",
       "high end specs                 21  ...     21                    21   \n",
       "medium high specs              50  ...     50                    50   \n",
       "\n",
       "                    how_powerful_from_1_to_5  graphics_card_model  \\\n",
       "device_performance                                                  \n",
       "Low end device                             4                    4   \n",
       "Medium end device                         31                   31   \n",
       "high end specs                            21                   21   \n",
       "medium high specs                         50                   50   \n",
       "\n",
       "                    how_powerful_from_1_to_51  point_of_view  desktop_perc  \\\n",
       "device_performance                                                           \n",
       "Low end device                              4              4             4   \n",
       "Medium end device                          31             31            31   \n",
       "high end specs                             21             21            21   \n",
       "medium high specs                          50             50            50   \n",
       "\n",
       "                    laptop_perc  what_would_you_rebuy_for_laptop_imp  \\\n",
       "device_performance                                                     \n",
       "Low end device                4                                    4   \n",
       "Medium end device            31                                   31   \n",
       "high end specs               21                                   21   \n",
       "medium high specs            50                                   50   \n",
       "\n",
       "                    what_would_you_rebuy_for_desktop_imp  \n",
       "device_performance                                        \n",
       "Low end device                                         4  \n",
       "Medium end device                                     31  \n",
       "high end specs                                        21  \n",
       "medium high specs                                     50  \n",
       "\n",
       "[4 rows x 45 columns]"
      ]
     },
     "execution_count": 427,
     "metadata": {},
     "output_type": "execute_result"
    }
   ],
   "source": [
    "group = df.groupby([\"device_performance\"])\n",
    "group.count()"
   ]
  },
  {
   "cell_type": "code",
   "execution_count": 428,
   "id": "82974265",
   "metadata": {},
   "outputs": [
    {
     "data": {
      "text/plain": [
       "<AxesSubplot:ylabel='timestamp'>"
      ]
     },
     "execution_count": 428,
     "metadata": {},
     "output_type": "execute_result"
    },
    {
     "data": {
      "image/png": "[encoded data removed]",
      "text/plain": [
       "<Figure size 432x288 with 1 Axes>"
      ]
     },
     "metadata": {},
     "output_type": "display_data"
    }
   ],
   "source": [
    "group.count()[\"timestamp\"].plot.pie()"
   ]
  },
  {
   "cell_type": "markdown",
   "id": "3fe823d1",
   "metadata": {},
   "source": [
    "We see that the sampling is not representative enough for low end devices, which is expected given that the sample is drawn from Computer science majors and professionals, we focus on analyzing the differences between the other 3 segments"
   ]
  },
  {
   "cell_type": "code",
   "execution_count": 430,
   "id": "cdb1d094",
   "metadata": {},
   "outputs": [],
   "source": [
    "df_by_performance = df[df[\"device_performance\"] != \"Low end device\"]\n",
    "group = df_by_performance.groupby(\"device_performance\")"
   ]
  },
  {
   "cell_type": "code",
   "execution_count": 437,
   "id": "f3b7e0db",
   "metadata": {},
   "outputs": [
    {
     "data": {
      "text/plain": [
       "<AxesSubplot:ylabel='timestamp'>"
      ]
     },
     "execution_count": 437,
     "metadata": {},
     "output_type": "execute_result"
    },
    {
     "data": {
      "image/png": "[encoded data removed]",
      "text/plain": [
       "<Figure size 432x288 with 1 Axes>"
      ]
     },
     "metadata": {},
     "output_type": "display_data"
    }
   ],
   "source": [
    "group.count()[\"timestamp\"].plot.pie()"
   ]
  },
  {
   "cell_type": "code",
   "execution_count": 438,
   "id": "26aada6d",
   "metadata": {},
   "outputs": [
    {
     "data": {
      "text/plain": [
       "device_performance\n",
       "Medium end device    13345.161290\n",
       "high end specs       26180.952381\n",
       "medium high specs    16997.000000\n",
       "Name: device_price, dtype: float64"
      ]
     },
     "execution_count": 438,
     "metadata": {},
     "output_type": "execute_result"
    }
   ],
   "source": [
    "group.mean()[\"device_price\"]"
   ]
  },
  {
   "cell_type": "markdown",
   "id": "5801a006",
   "metadata": {},
   "source": [
    "We see that device price is consistent with device performance"
   ]
  },
  {
   "cell_type": "code",
   "execution_count": 393,
   "id": "99e2b302",
   "metadata": {},
   "outputs": [
    {
     "name": "stdout",
     "output_type": "stream",
     "text": [
      "<class 'pandas.core.frame.DataFrame'>\n",
      "RangeIndex: 106 entries, 0 to 105\n",
      "Data columns (total 46 columns):\n",
      " #   Column                                Non-Null Count  Dtype  \n",
      "---  ------                                --------------  -----  \n",
      " 0   timestamp                             106 non-null    object \n",
      " 1   age                                   106 non-null    int32  \n",
      " 2   gender                                106 non-null    object \n",
      " 3   level                                 106 non-null    int64  \n",
      " 4   income_level                          106 non-null    object \n",
      " 5   income_level_(num)                    106 non-null    int64  \n",
      " 6   id                                    106 non-null    float64\n",
      " 7   career_path                           106 non-null    object \n",
      " 8   data_scientist                        106 non-null    int64  \n",
      " 9   devices_count                         106 non-null    int32  \n",
      " 10  own_laptop                            106 non-null    object \n",
      " 11  own_desktop                           106 non-null    object \n",
      " 12  own_tablet                            106 non-null    object \n",
      " 13  main_device                           106 non-null    float64\n",
      " 14  main_usage_device                     106 non-null    object \n",
      " 15  surfing_the_internet                  106 non-null    int64  \n",
      " 16  device_price                          106 non-null    float64\n",
      " 17  would_he_chage_his_device             106 non-null    int64  \n",
      " 18  operating_system                      106 non-null    object \n",
      " 19  device_performance                    106 non-null    object \n",
      " 20  screen_size_importance                106 non-null    int64  \n",
      " 21  portability_importance                106 non-null    int64  \n",
      " 22  upgradability_importance              106 non-null    int64  \n",
      " 23  working_without_cable_importance      106 non-null    int64  \n",
      " 24  performance_importance                106 non-null    int64  \n",
      " 25  affordability_importance              106 non-null    int64  \n",
      " 26  cd_existence_importance               106 non-null    int64  \n",
      " 27  integrated_camera_importance          106 non-null    int64  \n",
      " 28  multiple_monitors_importance          106 non-null    int64  \n",
      " 29  hours_gaming                          106 non-null    int64  \n",
      " 30  hours_work                            106 non-null    int64  \n",
      " 31  hours_academic_study                  106 non-null    int64  \n",
      " 32  self_study_hours                      106 non-null    int64  \n",
      " 33  entertainment_(general)_hours         106 non-null    int64  \n",
      " 34  sum_of_the_time_spent                 106 non-null    int64  \n",
      " 35  processor                             106 non-null    object \n",
      " 36  intel                                 106 non-null    int64  \n",
      " 37  processor_generation                  106 non-null    int64  \n",
      " 38  how_powerful_from_1_to_5              106 non-null    float64\n",
      " 39  graphics_card_model                   106 non-null    object \n",
      " 40  how_powerful_from_1_to_51             106 non-null    float64\n",
      " 41  point_of_view                         106 non-null    object \n",
      " 42  desktop_perc                          106 non-null    float64\n",
      " 43  laptop_perc                           106 non-null    float64\n",
      " 44  what_would_you_rebuy_for_laptop_imp   106 non-null    int64  \n",
      " 45  what_would_you_rebuy_for_desktop_imp  106 non-null    int64  \n",
      "dtypes: float64(7), int32(2), int64(24), object(13)\n",
      "memory usage: 37.4+ KB\n"
     ]
    }
   ],
   "source": [
    "df.info()"
   ]
  },
  {
   "cell_type": "code",
   "execution_count": 338,
   "id": "012fbde3",
   "metadata": {},
   "outputs": [
    {
     "data": {
      "text/plain": [
       "<AxesSubplot:xlabel='what_would_you_rebuy_for_laptop_imp', ylabel='device_price'>"
      ]
     },
     "execution_count": 338,
     "metadata": {},
     "output_type": "execute_result"
    },
    {
     "data": {
      "image/png": "[encoded data removed]",
      "text/plain": [
       "<Figure size 432x288 with 1 Axes>"
      ]
     },
     "metadata": {},
     "output_type": "display_data"
    }
   ],
   "source": [
    "sns.boxplot(y = df[\"device_price\"], x = df[\"what_would_you_rebuy_for_laptop_imp\"], orient = \"v\")\n"
   ]
  },
  {
   "cell_type": "code",
   "execution_count": null,
   "id": "e527cdf5",
   "metadata": {},
   "outputs": [],
   "source": []
  },
  {
   "cell_type": "code",
   "execution_count": 4,
   "id": "6416212c",
   "metadata": {
    "id": "6416212c"
   },
   "outputs": [],
   "source": [
    "df.drop(columns=['Timestamp','ID', 'point of view','graphics card model','how powerful from 1_to_5.1', 'main device', \n",
    "                            'is it intel ', 'sum of the time spent', 'own DeskTop', 'own Laptop', 'Data scientist?', \"device's performance.\", \n",
    "                            'would he chage his device'], inplace=True)\n",
    "\n",
    "# don't use ['main_usage_device','income_level', 'gender'] "
   ]
  },
  {
   "cell_type": "code",
   "execution_count": null,
   "id": "43a0cf74",
   "metadata": {},
   "outputs": [],
   "source": []
  },
  {
   "cell_type": "markdown",
   "id": "0971090f",
   "metadata": {},
   "source": [
    "## Inferential statistics"
   ]
  },
  {
   "cell_type": "code",
   "execution_count": 115,
   "id": "bf5e02f3",
   "metadata": {},
   "outputs": [
    {
     "data": {
      "text/plain": [
       "0.4141478222666759"
      ]
     },
     "execution_count": 115,
     "metadata": {},
     "output_type": "execute_result"
    }
   ],
   "source": [
    "df['what_would_you_rebuy_for_laptop_imp'].std()"
   ]
  },
  {
   "cell_type": "markdown",
   "id": "75a5c083",
   "metadata": {},
   "source": [
    "#### Is the mean income for one group greater than another?"
   ]
  },
  {
   "cell_type": "code",
   "execution_count": 214,
   "id": "7dac4ff0",
   "metadata": {},
   "outputs": [],
   "source": [
    "df_pc = df[df['what_would_you_rebuy_for_laptop_imp'] == 0]\n",
    "df_lap = df[df['what_would_you_rebuy_for_laptop_imp'] == 1]"
   ]
  },
  {
   "cell_type": "code",
   "execution_count": 215,
   "id": "e8fc197f",
   "metadata": {},
   "outputs": [
    {
     "data": {
      "text/plain": [
       "(array([12.,  0.,  0.,  9.,  0.,  0.,  1.,  0.,  0.,  1.]),\n",
       " array([1. , 1.3, 1.6, 1.9, 2.2, 2.5, 2.8, 3.1, 3.4, 3.7, 4. ]),\n",
       " <BarContainer object of 10 artists>)"
      ]
     },
     "execution_count": 215,
     "metadata": {},
     "output_type": "execute_result"
    },
    {
     "data": {
      "image/png": "[encoded data removed]",
      "text/plain": [
       "<Figure size 432x288 with 1 Axes>"
      ]
     },
     "metadata": {},
     "output_type": "display_data"
    }
   ],
   "source": [
    "plt.hist(df_pc[\"income_level_(num)\"])"
   ]
  },
  {
   "cell_type": "code",
   "execution_count": 143,
   "id": "c9cc0d68",
   "metadata": {},
   "outputs": [
    {
     "data": {
      "text/plain": [
       "(array([24.,  0., 34.,  0.,  0., 16.,  0.,  7.,  0.,  2.]),\n",
       " array([1. , 1.4, 1.8, 2.2, 2.6, 3. , 3.4, 3.8, 4.2, 4.6, 5. ]),\n",
       " <BarContainer object of 10 artists>)"
      ]
     },
     "execution_count": 143,
     "metadata": {},
     "output_type": "execute_result"
    },
    {
     "data": {
      "image/png": "[encoded data removed]",
      "text/plain": [
       "<Figure size 432x288 with 1 Axes>"
      ]
     },
     "metadata": {},
     "output_type": "display_data"
    }
   ],
   "source": [
    "plt.hist(df_lap[\"income_level_(num)\"])"
   ]
  },
  {
   "cell_type": "code",
   "execution_count": 145,
   "id": "807a5a04",
   "metadata": {},
   "outputs": [
    {
     "name": "stdout",
     "output_type": "stream",
     "text": [
      "2.144578313253012\n",
      "1.608695652173913\n"
     ]
    }
   ],
   "source": [
    "mean_income_lap = df_lap[\"income_level_(num)\"].mean()\n",
    "mean_income_pc = df_pc[\"income_level_(num)\"].mean()\n",
    "print(mean_cost_lap)\n",
    "print(mean_cost_pc)"
   ]
  },
  {
   "cell_type": "code",
   "execution_count": 155,
   "id": "671ced7e",
   "metadata": {},
   "outputs": [
    {
     "data": {
      "text/plain": [
       "(23, 58)"
      ]
     },
     "execution_count": 155,
     "metadata": {},
     "output_type": "execute_result"
    }
   ],
   "source": [
    "df_pc.shape"
   ]
  },
  {
   "cell_type": "markdown",
   "id": "0519c587",
   "metadata": {},
   "source": [
    "$H_0: \\mu_1 = \\mu_2$<br>\n",
    "$H_1: \\mu_1 \\neq \\mu_2$"
   ]
  },
  {
   "cell_type": "markdown",
   "id": "d6a7f90c",
   "metadata": {},
   "source": [
    "Since the sample sizes are very small and the distributions are hard to identify, we use empirical statistical methods to perform hypothesis testing.\n",
    "The most suitable to use here is bootstrap."
   ]
  },
  {
   "cell_type": "code",
   "execution_count": 295,
   "id": "ae9fe1ba",
   "metadata": {},
   "outputs": [
    {
     "data": {
      "text/plain": [
       "0            Medium\n",
       "2            Medium\n",
       "3            Medium\n",
       "4            Medium\n",
       "5            Medium\n",
       "           ...     \n",
       "98              Low\n",
       "99           Medium\n",
       "100            High\n",
       "102    Lower medium\n",
       "103          Medium\n",
       "Name: income_level, Length: 83, dtype: object"
      ]
     },
     "execution_count": 295,
     "metadata": {},
     "output_type": "execute_result"
    }
   ],
   "source": [
    "df_lap[\"income_level\"]"
   ]
  },
  {
   "cell_type": "code",
   "execution_count": 318,
   "id": "8289b82b",
   "metadata": {},
   "outputs": [],
   "source": [
    "iterations = 1000\n",
    "bootstrap_data = np.zeros(iterations)\n",
    "for i in range(iterations):\n",
    "    bootstrap_data[i] = np.random.choice(df_lap[\"income_level_(num)\"], size = 23, replace = True).mean() - np.random.choice(df_pc[\"income_level_(num)\"], size = 23, replace = True).mean()"
   ]
  },
  {
   "cell_type": "code",
   "execution_count": 319,
   "id": "e4fdb2c0",
   "metadata": {},
   "outputs": [],
   "source": [
    "bootstrap_data.sort()\n"
   ]
  },
  {
   "cell_type": "code",
   "execution_count": 321,
   "id": "eef19b88",
   "metadata": {},
   "outputs": [
    {
     "data": {
      "text/plain": [
       "array([-0.39130435, -0.30434783, -0.26086957, -0.17391304, -0.13043478,\n",
       "       -0.08695652, -0.08695652, -0.08695652, -0.08695652, -0.08695652,\n",
       "       -0.08695652, -0.08695652, -0.04347826, -0.04347826, -0.04347826,\n",
       "       -0.04347826, -0.04347826, -0.04347826, -0.04347826])"
      ]
     },
     "execution_count": 321,
     "metadata": {},
     "output_type": "execute_result"
    }
   ],
   "source": [
    "bootstrap_data[1:20]"
   ]
  },
  {
   "cell_type": "code",
   "execution_count": 322,
   "id": "68b25fdd",
   "metadata": {},
   "outputs": [
    {
     "data": {
      "text/plain": [
       "(array([  4.,   9.,  38., 117., 218., 253., 221., 103.,  27.,  10.]),\n",
       " array([-0.39130435, -0.22173913, -0.05217391,  0.1173913 ,  0.28695652,\n",
       "         0.45652174,  0.62608696,  0.79565217,  0.96521739,  1.13478261,\n",
       "         1.30434783]),\n",
       " <BarContainer object of 10 artists>)"
      ]
     },
     "execution_count": 322,
     "metadata": {},
     "output_type": "execute_result"
    },
    {
     "data": {
      "image/png": "[encoded data removed]",
      "text/plain": [
       "<Figure size 432x288 with 1 Axes>"
      ]
     },
     "metadata": {},
     "output_type": "display_data"
    }
   ],
   "source": [
    "plt.hist(bootstrap_data)"
   ]
  },
  {
   "cell_type": "code",
   "execution_count": 287,
   "id": "0bfdcb1c",
   "metadata": {},
   "outputs": [
    {
     "data": {
      "text/plain": [
       "0.5333478260869565"
      ]
     },
     "execution_count": 287,
     "metadata": {},
     "output_type": "execute_result"
    }
   ],
   "source": [
    "bootstrap_point_mean = bootstrap_data.mean()\n",
    "bootstrap_point_mean"
   ]
  },
  {
   "cell_type": "code",
   "execution_count": 282,
   "id": "11946e56",
   "metadata": {},
   "outputs": [],
   "source": [
    "alpha = 0.05"
   ]
  },
  {
   "cell_type": "markdown",
   "id": "34b20e67",
   "metadata": {},
   "source": [
    "The bootstrap confidence interval is constructed by taking the value at $\\frac{\\alpha}{2} \\times iterations and iterations - \\frac{\\alpha}{2} \\times iterations$"
   ]
  },
  {
   "cell_type": "code",
   "execution_count": 291,
   "id": "41a0e97b",
   "metadata": {},
   "outputs": [],
   "source": [
    "left_bound =  bootstrap_data[math.ceil(alpha * iterations / 2)]\n",
    "right_bound = bootstrap_data[math.ceil(1 - alpha * iterations / 2)]"
   ]
  },
  {
   "cell_type": "code",
   "execution_count": 294,
   "id": "4a998b87",
   "metadata": {},
   "outputs": [
    {
     "name": "stdout",
     "output_type": "stream",
     "text": [
      "95% confidence interval for mu1 - mu2:\n",
      "[ 0.04347826086956519  ,  1.0434782608695652 ]\n"
     ]
    }
   ],
   "source": [
    "print(\"95% confidence interval for mu1 - mu2:\")\n",
    "print(\"[\", left_bound, \" , \", right_bound, \"]\")"
   ]
  },
  {
   "cell_type": "markdown",
   "id": "3a833ace",
   "metadata": {},
   "source": [
    "The bootstrap hypothesis test is performed by checking whether the value for the variable lies within the acceptance region or not, since the null hypothesis states that $X = 0$ where $X = \\mu_1 - \\mu_2$, and $0$ lies outside the acceptance region, then we have enough evidence to reject $H_0$ with 95% confidence, and we claim that income does have an impact on what device one will choose"
   ]
  },
  {
   "cell_type": "markdown",
   "id": "16f41f55",
   "metadata": {},
   "source": [
    "#### Are people more willing to spend more on desktops or laptops?"
   ]
  },
  {
   "cell_type": "code",
   "execution_count": 285,
   "id": "d42e8490",
   "metadata": {
    "scrolled": true
   },
   "outputs": [
    {
     "data": {
      "text/plain": [
       "what_would_you_rebuy_for_desktop_imp   -1.000000\n",
       "desktop_perc                           -0.488552\n",
       "hours_gaming                           -0.412918\n",
       "Mac                                    -0.263435\n",
       "Teaching                               -0.185388\n",
       "Student                                -0.185388\n",
       "Snapdragon 8 gen 3 + pro max ultra     -0.185388\n",
       "entertainment_(general)_hours          -0.174854\n",
       "Male                                   -0.150306\n",
       "Video Game Developer                   -0.135972\n",
       "level                                  -0.127360\n",
       "Data scientist                         -0.114437\n",
       "Ryzen 5                                -0.109533\n",
       "own_tablet                             -0.107744\n",
       "upgradability_importance               -0.097660\n",
       "AMD a8                                 -0.095217\n",
       "AMD a6                                 -0.095217\n",
       "Core i5                                -0.075733\n",
       "screen_size_importance                 -0.061405\n",
       "hours_work                             -0.049483\n",
       "mobile developer                       -0.046021\n",
       "performance_importance                 -0.029879\n",
       "age                                    -0.018467\n",
       "Intel Xeon                             -0.015863\n",
       "surfing_the_internet                    0.013296\n",
       "device_price                            0.026940\n",
       "devices_count                           0.028806\n",
       "self_study_hours                        0.037436\n",
       "multiple_monitors_importance            0.039696\n",
       "Electrical engineer                     0.051372\n",
       "Dentist                                 0.051372\n",
       "Quantum Physicist                       0.051372\n",
       "Data analyst                            0.051372\n",
       "Penetration tester                      0.051372\n",
       "Graphic Designer                        0.051372\n",
       "Ryzen 3                                 0.051372\n",
       "Ryzen 9                                 0.051372\n",
       "cloud computing engineer                0.051372\n",
       "Core i9                                 0.051372\n",
       "Core i7                                 0.059433\n",
       "web developer                           0.070151\n",
       "how_powerful_from_1_to_5                0.071185\n",
       "AMD a4                                  0.073000\n",
       "Cyber security analyst                  0.073000\n",
       "Core i3                                 0.117125\n",
       "Software Developer                      0.139977\n",
       "Ryzen 7                                 0.150403\n",
       "cd_existence_importance                 0.158925\n",
       "Windows                                 0.186189\n",
       "integrated_camera_importance            0.209571\n",
       "hours_academic_study                    0.214441\n",
       "income_level_(num)                      0.224171\n",
       "laptop_perc                             0.237976\n",
       "portability_importance                  0.396701\n",
       "what_would_you_rebuy_for_laptop_imp     1.000000\n",
       "Name: what_would_you_rebuy_for_laptop_imp, dtype: float64"
      ]
     },
     "execution_count": 285,
     "metadata": {},
     "output_type": "execute_result"
    }
   ],
   "source": [
    "df.corr()['what_would_you_rebuy_for_laptop_imp'].sort_values()"
   ]
  },
  {
   "cell_type": "markdown",
   "id": "38c6d361",
   "metadata": {},
   "source": [
    "## Building the model"
   ]
  },
  {
   "cell_type": "code",
   "execution_count": 27,
   "id": "7zCB7FzspTuU",
   "metadata": {
    "id": "7zCB7FzspTuU"
   },
   "outputs": [],
   "source": [
    "df.drop(columns=['working_without_cable_importance', 'affordability_importance', 'processor_generation'], inplace=True)\n",
    "# dropped due to multicollinearity"
   ]
  },
  {
   "cell_type": "code",
   "execution_count": 28,
   "id": "Mz1Z-t0tbE4F",
   "metadata": {
    "id": "Mz1Z-t0tbE4F"
   },
   "outputs": [],
   "source": [
    "ohe = OneHotEncoder(drop='first')\n",
    "\n",
    "gender_enc = ohe.fit_transform(df[['gender']])\n",
    "df[list(ohe.categories_[0])[1:]] = gender_enc.toarray()\n",
    "\n",
    "own_tablet_enc = ohe.fit_transform(df[['own_tablet']])\n",
    "df['own_tablet'] = own_tablet_enc.toarray()\n",
    "\n",
    "operating_system_enc = ohe.fit_transform(df[['operating_system']])\n",
    "df[list(ohe.categories_[0])[1:]] = operating_system_enc.toarray()\n",
    "df.drop(columns=['operating_system'], inplace=True)\n",
    "\n",
    "career_path_enc = ohe.fit_transform(df[['career_path']])\n",
    "df[list(ohe.categories_[0])[1:]] = career_path_enc.toarray()\n",
    "df.drop(columns=['career_path'], inplace=True)\n",
    "\n",
    "processor_enc = ohe.fit_transform(df[['processor']])\n",
    "df[list(ohe.categories_[0])[1:]] = processor_enc.toarray()\n",
    "df.drop(columns=['processor'], inplace=True)"
   ]
  },
  {
   "cell_type": "code",
   "execution_count": 29,
   "id": "7faca7f9",
   "metadata": {
    "colab": {
     "base_uri": "https://localhost:8080/"
    },
    "id": "7faca7f9",
    "outputId": "a60012c7-fe10-48ab-fb43-2796ba1a53a4",
    "scrolled": true
   },
   "outputs": [
    {
     "name": "stdout",
     "output_type": "stream",
     "text": [
      "<class 'pandas.core.frame.DataFrame'>\n",
      "RangeIndex: 106 entries, 0 to 105\n",
      "Data columns (total 58 columns):\n",
      " #   Column                                Non-Null Count  Dtype  \n",
      "---  ------                                --------------  -----  \n",
      " 0   age                                   106 non-null    int32  \n",
      " 1   gender                                106 non-null    object \n",
      " 2   level                                 106 non-null    int64  \n",
      " 3   income_level                          106 non-null    object \n",
      " 4   income_level_(num)                    106 non-null    int64  \n",
      " 5   devices_count                         106 non-null    int32  \n",
      " 6   own_tablet                            106 non-null    float64\n",
      " 7   main_usage_device                     106 non-null    object \n",
      " 8   surfing_the_internet                  106 non-null    int64  \n",
      " 9   device_price                          106 non-null    float64\n",
      " 10  screen_size_importance                106 non-null    int64  \n",
      " 11  portability_importance                106 non-null    int64  \n",
      " 12  upgradability_importance              106 non-null    int64  \n",
      " 13  performance_importance                106 non-null    int64  \n",
      " 14  cd_existence_importance               106 non-null    int64  \n",
      " 15  integrated_camera_importance          106 non-null    int64  \n",
      " 16  multiple_monitors_importance          106 non-null    int64  \n",
      " 17  hours_gaming                          106 non-null    int64  \n",
      " 18  hours_work                            106 non-null    int64  \n",
      " 19  hours_academic_study                  106 non-null    int64  \n",
      " 20  self_study_hours                      106 non-null    int64  \n",
      " 21  entertainment_(general)_hours         106 non-null    int64  \n",
      " 22  how_powerful_from_1_to_5              106 non-null    float64\n",
      " 23  desktop_perc                          106 non-null    float64\n",
      " 24  laptop_perc                           106 non-null    float64\n",
      " 25  what_would_you_rebuy_for_laptop_imp   106 non-null    int64  \n",
      " 26  what_would_you_rebuy_for_desktop_imp  106 non-null    int64  \n",
      " 27  Male                                  106 non-null    float64\n",
      " 28  Mac                                   106 non-null    float64\n",
      " 29  Windows                               106 non-null    float64\n",
      " 30  Cyber security analyst                106 non-null    float64\n",
      " 31  Data analyst                          106 non-null    float64\n",
      " 32  Data scientist                        106 non-null    float64\n",
      " 33  Dentist                               106 non-null    float64\n",
      " 34  Electrical engineer                   106 non-null    float64\n",
      " 35  Graphic Designer                      106 non-null    float64\n",
      " 36  Penetration tester                    106 non-null    float64\n",
      " 37  Quantum Physicist                     106 non-null    float64\n",
      " 38  Software Developer                    106 non-null    float64\n",
      " 39  Student                               106 non-null    float64\n",
      " 40  Teaching                              106 non-null    float64\n",
      " 41  Video Game Developer                  106 non-null    float64\n",
      " 42  cloud computing engineer              106 non-null    float64\n",
      " 43  mobile developer                      106 non-null    float64\n",
      " 44  web developer                         106 non-null    float64\n",
      " 45  AMD a4                                106 non-null    float64\n",
      " 46  AMD a6                                106 non-null    float64\n",
      " 47  AMD a8                                106 non-null    float64\n",
      " 48  Core i3                               106 non-null    float64\n",
      " 49  Core i5                               106 non-null    float64\n",
      " 50  Core i7                               106 non-null    float64\n",
      " 51  Core i9                               106 non-null    float64\n",
      " 52  Intel Xeon                            106 non-null    float64\n",
      " 53  Ryzen 3                               106 non-null    float64\n",
      " 54  Ryzen 5                               106 non-null    float64\n",
      " 55  Ryzen 7                               106 non-null    float64\n",
      " 56  Ryzen 9                               106 non-null    float64\n",
      " 57  Snapdragon 8 gen 3 + pro max ultra    106 non-null    float64\n",
      "dtypes: float64(36), int32(2), int64(17), object(3)\n",
      "memory usage: 47.3+ KB\n"
     ]
    }
   ],
   "source": [
    "df.info()"
   ]
  },
  {
   "cell_type": "code",
   "execution_count": 30,
   "id": "Gu_LMZA36zwg",
   "metadata": {
    "colab": {
     "base_uri": "https://localhost:8080/"
    },
    "id": "Gu_LMZA36zwg",
    "outputId": "45cca9a9-9296-4e9a-9e17-d94016852e07"
   },
   "outputs": [
    {
     "data": {
      "text/plain": [
       "array([1., 0.])"
      ]
     },
     "execution_count": 30,
     "metadata": {},
     "output_type": "execute_result"
    }
   ],
   "source": [
    "df['own_tablet'].unique()"
   ]
  },
  {
   "cell_type": "code",
   "execution_count": 31,
   "id": "qCObIOKe9AsV",
   "metadata": {
    "id": "qCObIOKe9AsV"
   },
   "outputs": [],
   "source": [
    "X = df.drop(columns=['main_usage_device','income_level', 'gender', 'what_would_you_rebuy_for_laptop_imp', 'what_would_you_rebuy_for_desktop_imp'])\n",
    "y_lap = df['what_would_you_rebuy_for_laptop_imp']\n",
    "y_desk = df['what_would_you_rebuy_for_desktop_imp']\n"
   ]
  },
  {
   "cell_type": "code",
   "execution_count": 108,
   "id": "Pfp7fdWR-2fX",
   "metadata": {
    "id": "Pfp7fdWR-2fX"
   },
   "outputs": [],
   "source": [
    "X_train, X_test, y_train, y_test = train_test_split(X, y_lap, test_size=.2, random_state=42)"
   ]
  },
  {
   "cell_type": "code",
   "execution_count": 109,
   "id": "yN5wuWy__cBU",
   "metadata": {
    "colab": {
     "base_uri": "https://localhost:8080/"
    },
    "id": "yN5wuWy__cBU",
    "outputId": "0849b3a6-b7f8-4523-fe46-41e24262b568"
   },
   "outputs": [
    {
     "data": {
      "text/plain": [
       "1    0.783019\n",
       "0    0.216981\n",
       "Name: what_would_you_rebuy_for_laptop_imp, dtype: float64"
      ]
     },
     "execution_count": 109,
     "metadata": {},
     "output_type": "execute_result"
    }
   ],
   "source": [
    "df.what_would_you_rebuy_for_laptop_imp.value_counts(normalize=True)\n",
    "# baseline is 0.78"
   ]
  },
  {
   "cell_type": "code",
   "execution_count": 110,
   "id": "DvqcHYif_I-M",
   "metadata": {
    "colab": {
     "base_uri": "https://localhost:8080/",
     "height": 74
    },
    "id": "DvqcHYif_I-M",
    "outputId": "7803a501-a6a1-45a4-8b84-b9ebd68e4257",
    "scrolled": true
   },
   "outputs": [
    {
     "data": {
      "text/html": [
       "<style>#sk-container-id-3 {color: black;background-color: white;}#sk-container-id-3 pre{padding: 0;}#sk-container-id-3 div.sk-toggleable {background-color: white;}#sk-container-id-3 label.sk-toggleable__label {cursor: pointer;display: block;width: 100%;margin-bottom: 0;padding: 0.3em;box-sizing: border-box;text-align: center;}#sk-container-id-3 label.sk-toggleable__label-arrow:before {content: \"▸\";float: left;margin-right: 0.25em;color: #696969;}#sk-container-id-3 label.sk-toggleable__label-arrow:hover:before {color: black;}#sk-container-id-3 div.sk-estimator:hover label.sk-toggleable__label-arrow:before {color: black;}#sk-container-id-3 div.sk-toggleable__content {max-height: 0;max-width: 0;overflow: hidden;text-align: left;background-color: #f0f8ff;}#sk-container-id-3 div.sk-toggleable__content pre {margin: 0.2em;color: black;border-radius: 0.25em;background-color: #f0f8ff;}#sk-container-id-3 input.sk-toggleable__control:checked~div.sk-toggleable__content {max-height: 200px;max-width: 100%;overflow: auto;}#sk-container-id-3 input.sk-toggleable__control:checked~label.sk-toggleable__label-arrow:before {content: \"▾\";}#sk-container-id-3 div.sk-estimator input.sk-toggleable__control:checked~label.sk-toggleable__label {background-color: #d4ebff;}#sk-container-id-3 div.sk-label input.sk-toggleable__control:checked~label.sk-toggleable__label {background-color: #d4ebff;}#sk-container-id-3 input.sk-hidden--visually {border: 0;clip: rect(1px 1px 1px 1px);clip: rect(1px, 1px, 1px, 1px);height: 1px;margin: -1px;overflow: hidden;padding: 0;position: absolute;width: 1px;}#sk-container-id-3 div.sk-estimator {font-family: monospace;background-color: #f0f8ff;border: 1px dotted black;border-radius: 0.25em;box-sizing: border-box;margin-bottom: 0.5em;}#sk-container-id-3 div.sk-estimator:hover {background-color: #d4ebff;}#sk-container-id-3 div.sk-parallel-item::after {content: \"\";width: 100%;border-bottom: 1px solid gray;flex-grow: 1;}#sk-container-id-3 div.sk-label:hover label.sk-toggleable__label {background-color: #d4ebff;}#sk-container-id-3 div.sk-serial::before {content: \"\";position: absolute;border-left: 1px solid gray;box-sizing: border-box;top: 0;bottom: 0;left: 50%;z-index: 0;}#sk-container-id-3 div.sk-serial {display: flex;flex-direction: column;align-items: center;background-color: white;padding-right: 0.2em;padding-left: 0.2em;position: relative;}#sk-container-id-3 div.sk-item {position: relative;z-index: 1;}#sk-container-id-3 div.sk-parallel {display: flex;align-items: stretch;justify-content: center;background-color: white;position: relative;}#sk-container-id-3 div.sk-item::before, #sk-container-id-3 div.sk-parallel-item::before {content: \"\";position: absolute;border-left: 1px solid gray;box-sizing: border-box;top: 0;bottom: 0;left: 50%;z-index: -1;}#sk-container-id-3 div.sk-parallel-item {display: flex;flex-direction: column;z-index: 1;position: relative;background-color: white;}#sk-container-id-3 div.sk-parallel-item:first-child::after {align-self: flex-end;width: 50%;}#sk-container-id-3 div.sk-parallel-item:last-child::after {align-self: flex-start;width: 50%;}#sk-container-id-3 div.sk-parallel-item:only-child::after {width: 0;}#sk-container-id-3 div.sk-dashed-wrapped {border: 1px dashed gray;margin: 0 0.4em 0.5em 0.4em;box-sizing: border-box;padding-bottom: 0.4em;background-color: white;}#sk-container-id-3 div.sk-label label {font-family: monospace;font-weight: bold;display: inline-block;line-height: 1.2em;}#sk-container-id-3 div.sk-label-container {text-align: center;}#sk-container-id-3 div.sk-container {/* jupyter's `normalize.less` sets `[hidden] { display: none; }` but bootstrap.min.css set `[hidden] { display: none !important; }` so we also need the `!important` here to be able to override the default hidden behavior on the sphinx rendered scikit-learn.org. See: https://github.com/scikit-learn/scikit-learn/issues/21755 */display: inline-block !important;position: relative;}#sk-container-id-3 div.sk-text-repr-fallback {display: none;}</style><div id=\"sk-container-id-3\" class=\"sk-top-container\"><div class=\"sk-text-repr-fallback\"><pre>LogisticRegression(max_iter=1000)</pre><b>In a Jupyter environment, please rerun this cell to show the HTML representation or trust the notebook. <br />On GitHub, the HTML representation is unable to render, please try loading this page with nbviewer.org.</b></div><div class=\"sk-container\" hidden><div class=\"sk-item\"><div class=\"sk-estimator sk-toggleable\"><input class=\"sk-toggleable__control sk-hidden--visually\" id=\"sk-estimator-id-3\" type=\"checkbox\" checked><label for=\"sk-estimator-id-3\" class=\"sk-toggleable__label sk-toggleable__label-arrow\">LogisticRegression</label><div class=\"sk-toggleable__content\"><pre>LogisticRegression(max_iter=1000)</pre></div></div></div></div></div>"
      ],
      "text/plain": [
       "LogisticRegression(max_iter=1000)"
      ]
     },
     "execution_count": 110,
     "metadata": {},
     "output_type": "execute_result"
    }
   ],
   "source": [
    "model = LogisticRegression(max_iter=1000)\n",
    "model.fit(X_train, y_train)"
   ]
  },
  {
   "cell_type": "code",
   "execution_count": 111,
   "id": "1a99f78d",
   "metadata": {},
   "outputs": [
    {
     "data": {
      "text/html": [
       "<div>\n",
       "<style scoped>\n",
       "    .dataframe tbody tr th:only-of-type {\n",
       "        vertical-align: middle;\n",
       "    }\n",
       "\n",
       "    .dataframe tbody tr th {\n",
       "        vertical-align: top;\n",
       "    }\n",
       "\n",
       "    .dataframe thead th {\n",
       "        text-align: right;\n",
       "    }\n",
       "</style>\n",
       "<table border=\"1\" class=\"dataframe\">\n",
       "  <thead>\n",
       "    <tr style=\"text-align: right;\">\n",
       "      <th></th>\n",
       "      <th>age</th>\n",
       "      <th>gender</th>\n",
       "      <th>level</th>\n",
       "      <th>income_level</th>\n",
       "      <th>income_level_(num)</th>\n",
       "      <th>devices_count</th>\n",
       "      <th>own_tablet</th>\n",
       "      <th>main_usage_device</th>\n",
       "      <th>surfing_the_internet</th>\n",
       "      <th>device_price</th>\n",
       "      <th>...</th>\n",
       "      <th>Core i3</th>\n",
       "      <th>Core i5</th>\n",
       "      <th>Core i7</th>\n",
       "      <th>Core i9</th>\n",
       "      <th>Intel Xeon</th>\n",
       "      <th>Ryzen 3</th>\n",
       "      <th>Ryzen 5</th>\n",
       "      <th>Ryzen 7</th>\n",
       "      <th>Ryzen 9</th>\n",
       "      <th>Snapdragon 8 gen 3 + pro max ultra</th>\n",
       "    </tr>\n",
       "  </thead>\n",
       "  <tbody>\n",
       "    <tr>\n",
       "      <th>0</th>\n",
       "      <td>19</td>\n",
       "      <td>Female</td>\n",
       "      <td>1</td>\n",
       "      <td>Medium</td>\n",
       "      <td>2</td>\n",
       "      <td>4</td>\n",
       "      <td>1.0</td>\n",
       "      <td>Study</td>\n",
       "      <td>0</td>\n",
       "      <td>15000.0</td>\n",
       "      <td>...</td>\n",
       "      <td>0.0</td>\n",
       "      <td>0.0</td>\n",
       "      <td>1.0</td>\n",
       "      <td>0.0</td>\n",
       "      <td>0.0</td>\n",
       "      <td>0.0</td>\n",
       "      <td>0.0</td>\n",
       "      <td>0.0</td>\n",
       "      <td>0.0</td>\n",
       "      <td>0.0</td>\n",
       "    </tr>\n",
       "    <tr>\n",
       "      <th>1</th>\n",
       "      <td>21</td>\n",
       "      <td>Male</td>\n",
       "      <td>3</td>\n",
       "      <td>Low</td>\n",
       "      <td>1</td>\n",
       "      <td>2</td>\n",
       "      <td>1.0</td>\n",
       "      <td>Study</td>\n",
       "      <td>0</td>\n",
       "      <td>13000.0</td>\n",
       "      <td>...</td>\n",
       "      <td>0.0</td>\n",
       "      <td>0.0</td>\n",
       "      <td>0.0</td>\n",
       "      <td>0.0</td>\n",
       "      <td>0.0</td>\n",
       "      <td>0.0</td>\n",
       "      <td>1.0</td>\n",
       "      <td>0.0</td>\n",
       "      <td>0.0</td>\n",
       "      <td>0.0</td>\n",
       "    </tr>\n",
       "    <tr>\n",
       "      <th>2</th>\n",
       "      <td>20</td>\n",
       "      <td>Female</td>\n",
       "      <td>2</td>\n",
       "      <td>Medium</td>\n",
       "      <td>2</td>\n",
       "      <td>4</td>\n",
       "      <td>1.0</td>\n",
       "      <td>Study</td>\n",
       "      <td>0</td>\n",
       "      <td>8000.0</td>\n",
       "      <td>...</td>\n",
       "      <td>0.0</td>\n",
       "      <td>0.0</td>\n",
       "      <td>0.0</td>\n",
       "      <td>0.0</td>\n",
       "      <td>0.0</td>\n",
       "      <td>0.0</td>\n",
       "      <td>1.0</td>\n",
       "      <td>0.0</td>\n",
       "      <td>0.0</td>\n",
       "      <td>0.0</td>\n",
       "    </tr>\n",
       "    <tr>\n",
       "      <th>3</th>\n",
       "      <td>19</td>\n",
       "      <td>Female</td>\n",
       "      <td>2</td>\n",
       "      <td>Medium</td>\n",
       "      <td>2</td>\n",
       "      <td>3</td>\n",
       "      <td>1.0</td>\n",
       "      <td>Study</td>\n",
       "      <td>0</td>\n",
       "      <td>18000.0</td>\n",
       "      <td>...</td>\n",
       "      <td>0.0</td>\n",
       "      <td>0.0</td>\n",
       "      <td>0.0</td>\n",
       "      <td>0.0</td>\n",
       "      <td>1.0</td>\n",
       "      <td>0.0</td>\n",
       "      <td>0.0</td>\n",
       "      <td>0.0</td>\n",
       "      <td>0.0</td>\n",
       "      <td>0.0</td>\n",
       "    </tr>\n",
       "    <tr>\n",
       "      <th>4</th>\n",
       "      <td>21</td>\n",
       "      <td>Female</td>\n",
       "      <td>3</td>\n",
       "      <td>Medium</td>\n",
       "      <td>2</td>\n",
       "      <td>3</td>\n",
       "      <td>0.0</td>\n",
       "      <td>Study</td>\n",
       "      <td>0</td>\n",
       "      <td>15000.0</td>\n",
       "      <td>...</td>\n",
       "      <td>0.0</td>\n",
       "      <td>0.0</td>\n",
       "      <td>1.0</td>\n",
       "      <td>0.0</td>\n",
       "      <td>0.0</td>\n",
       "      <td>0.0</td>\n",
       "      <td>0.0</td>\n",
       "      <td>0.0</td>\n",
       "      <td>0.0</td>\n",
       "      <td>0.0</td>\n",
       "    </tr>\n",
       "    <tr>\n",
       "      <th>...</th>\n",
       "      <td>...</td>\n",
       "      <td>...</td>\n",
       "      <td>...</td>\n",
       "      <td>...</td>\n",
       "      <td>...</td>\n",
       "      <td>...</td>\n",
       "      <td>...</td>\n",
       "      <td>...</td>\n",
       "      <td>...</td>\n",
       "      <td>...</td>\n",
       "      <td>...</td>\n",
       "      <td>...</td>\n",
       "      <td>...</td>\n",
       "      <td>...</td>\n",
       "      <td>...</td>\n",
       "      <td>...</td>\n",
       "      <td>...</td>\n",
       "      <td>...</td>\n",
       "      <td>...</td>\n",
       "      <td>...</td>\n",
       "      <td>...</td>\n",
       "    </tr>\n",
       "    <tr>\n",
       "      <th>101</th>\n",
       "      <td>19</td>\n",
       "      <td>Male</td>\n",
       "      <td>2</td>\n",
       "      <td>Low</td>\n",
       "      <td>1</td>\n",
       "      <td>3</td>\n",
       "      <td>1.0</td>\n",
       "      <td>Gaming</td>\n",
       "      <td>0</td>\n",
       "      <td>30000.0</td>\n",
       "      <td>...</td>\n",
       "      <td>0.0</td>\n",
       "      <td>0.0</td>\n",
       "      <td>0.0</td>\n",
       "      <td>0.0</td>\n",
       "      <td>0.0</td>\n",
       "      <td>0.0</td>\n",
       "      <td>1.0</td>\n",
       "      <td>0.0</td>\n",
       "      <td>0.0</td>\n",
       "      <td>0.0</td>\n",
       "    </tr>\n",
       "    <tr>\n",
       "      <th>102</th>\n",
       "      <td>20</td>\n",
       "      <td>Female</td>\n",
       "      <td>2</td>\n",
       "      <td>Lower medium</td>\n",
       "      <td>3</td>\n",
       "      <td>3</td>\n",
       "      <td>1.0</td>\n",
       "      <td>Surfing the internet</td>\n",
       "      <td>1</td>\n",
       "      <td>30000.0</td>\n",
       "      <td>...</td>\n",
       "      <td>0.0</td>\n",
       "      <td>0.0</td>\n",
       "      <td>1.0</td>\n",
       "      <td>0.0</td>\n",
       "      <td>0.0</td>\n",
       "      <td>0.0</td>\n",
       "      <td>0.0</td>\n",
       "      <td>0.0</td>\n",
       "      <td>0.0</td>\n",
       "      <td>0.0</td>\n",
       "    </tr>\n",
       "    <tr>\n",
       "      <th>103</th>\n",
       "      <td>21</td>\n",
       "      <td>Female</td>\n",
       "      <td>4</td>\n",
       "      <td>Medium</td>\n",
       "      <td>2</td>\n",
       "      <td>3</td>\n",
       "      <td>1.0</td>\n",
       "      <td>Study</td>\n",
       "      <td>0</td>\n",
       "      <td>38000.0</td>\n",
       "      <td>...</td>\n",
       "      <td>0.0</td>\n",
       "      <td>0.0</td>\n",
       "      <td>1.0</td>\n",
       "      <td>0.0</td>\n",
       "      <td>0.0</td>\n",
       "      <td>0.0</td>\n",
       "      <td>0.0</td>\n",
       "      <td>0.0</td>\n",
       "      <td>0.0</td>\n",
       "      <td>0.0</td>\n",
       "    </tr>\n",
       "    <tr>\n",
       "      <th>104</th>\n",
       "      <td>21</td>\n",
       "      <td>Female</td>\n",
       "      <td>4</td>\n",
       "      <td>Medium</td>\n",
       "      <td>2</td>\n",
       "      <td>4</td>\n",
       "      <td>1.0</td>\n",
       "      <td>Work</td>\n",
       "      <td>0</td>\n",
       "      <td>15500.0</td>\n",
       "      <td>...</td>\n",
       "      <td>0.0</td>\n",
       "      <td>1.0</td>\n",
       "      <td>0.0</td>\n",
       "      <td>0.0</td>\n",
       "      <td>0.0</td>\n",
       "      <td>0.0</td>\n",
       "      <td>0.0</td>\n",
       "      <td>0.0</td>\n",
       "      <td>0.0</td>\n",
       "      <td>0.0</td>\n",
       "    </tr>\n",
       "    <tr>\n",
       "      <th>105</th>\n",
       "      <td>19</td>\n",
       "      <td>Male</td>\n",
       "      <td>1</td>\n",
       "      <td>Low</td>\n",
       "      <td>1</td>\n",
       "      <td>2</td>\n",
       "      <td>0.0</td>\n",
       "      <td>Study</td>\n",
       "      <td>0</td>\n",
       "      <td>7500.0</td>\n",
       "      <td>...</td>\n",
       "      <td>0.0</td>\n",
       "      <td>0.0</td>\n",
       "      <td>1.0</td>\n",
       "      <td>0.0</td>\n",
       "      <td>0.0</td>\n",
       "      <td>0.0</td>\n",
       "      <td>0.0</td>\n",
       "      <td>0.0</td>\n",
       "      <td>0.0</td>\n",
       "      <td>0.0</td>\n",
       "    </tr>\n",
       "  </tbody>\n",
       "</table>\n",
       "<p>106 rows × 58 columns</p>\n",
       "</div>"
      ],
      "text/plain": [
       "     age  gender  level  income_level  income_level_(num)  devices_count  \\\n",
       "0     19  Female      1        Medium                   2              4   \n",
       "1     21    Male      3           Low                   1              2   \n",
       "2     20  Female      2        Medium                   2              4   \n",
       "3     19  Female      2        Medium                   2              3   \n",
       "4     21  Female      3        Medium                   2              3   \n",
       "..   ...     ...    ...           ...                 ...            ...   \n",
       "101   19    Male      2           Low                   1              3   \n",
       "102   20  Female      2  Lower medium                   3              3   \n",
       "103   21  Female      4        Medium                   2              3   \n",
       "104   21  Female      4        Medium                   2              4   \n",
       "105   19    Male      1           Low                   1              2   \n",
       "\n",
       "     own_tablet     main_usage_device  surfing_the_internet  device_price  \\\n",
       "0           1.0                 Study                     0       15000.0   \n",
       "1           1.0                 Study                     0       13000.0   \n",
       "2           1.0                 Study                     0        8000.0   \n",
       "3           1.0                 Study                     0       18000.0   \n",
       "4           0.0                 Study                     0       15000.0   \n",
       "..          ...                   ...                   ...           ...   \n",
       "101         1.0                Gaming                     0       30000.0   \n",
       "102         1.0  Surfing the internet                     1       30000.0   \n",
       "103         1.0                 Study                     0       38000.0   \n",
       "104         1.0                  Work                     0       15500.0   \n",
       "105         0.0                 Study                     0        7500.0   \n",
       "\n",
       "     ...  Core i3  Core i5  Core i7  Core i9  Intel Xeon  Ryzen 3  Ryzen 5  \\\n",
       "0    ...      0.0      0.0      1.0      0.0         0.0      0.0      0.0   \n",
       "1    ...      0.0      0.0      0.0      0.0         0.0      0.0      1.0   \n",
       "2    ...      0.0      0.0      0.0      0.0         0.0      0.0      1.0   \n",
       "3    ...      0.0      0.0      0.0      0.0         1.0      0.0      0.0   \n",
       "4    ...      0.0      0.0      1.0      0.0         0.0      0.0      0.0   \n",
       "..   ...      ...      ...      ...      ...         ...      ...      ...   \n",
       "101  ...      0.0      0.0      0.0      0.0         0.0      0.0      1.0   \n",
       "102  ...      0.0      0.0      1.0      0.0         0.0      0.0      0.0   \n",
       "103  ...      0.0      0.0      1.0      0.0         0.0      0.0      0.0   \n",
       "104  ...      0.0      1.0      0.0      0.0         0.0      0.0      0.0   \n",
       "105  ...      0.0      0.0      1.0      0.0         0.0      0.0      0.0   \n",
       "\n",
       "     Ryzen 7  Ryzen 9  Snapdragon 8 gen 3 + pro max ultra   \n",
       "0        0.0      0.0                                  0.0  \n",
       "1        0.0      0.0                                  0.0  \n",
       "2        0.0      0.0                                  0.0  \n",
       "3        0.0      0.0                                  0.0  \n",
       "4        0.0      0.0                                  0.0  \n",
       "..       ...      ...                                  ...  \n",
       "101      0.0      0.0                                  0.0  \n",
       "102      0.0      0.0                                  0.0  \n",
       "103      0.0      0.0                                  0.0  \n",
       "104      0.0      0.0                                  0.0  \n",
       "105      0.0      0.0                                  0.0  \n",
       "\n",
       "[106 rows x 58 columns]"
      ]
     },
     "execution_count": 111,
     "metadata": {},
     "output_type": "execute_result"
    }
   ],
   "source": [
    "df"
   ]
  },
  {
   "cell_type": "code",
   "execution_count": 112,
   "id": "d014f2c2",
   "metadata": {
    "colab": {
     "base_uri": "https://localhost:8080/"
    },
    "id": "d014f2c2",
    "outputId": "e25c060b-1f1a-413a-bb6c-e14f898ebf49"
   },
   "outputs": [
    {
     "data": {
      "text/plain": [
       "0.8181818181818182"
      ]
     },
     "execution_count": 112,
     "metadata": {},
     "output_type": "execute_result"
    }
   ],
   "source": [
    "model.score(X_test, y_test)\n",
    "# The accuracy is better than the baseline.\n",
    "# We evaluated the model, and we can see that it's valuable. Now we can use the whole data for training."
   ]
  },
  {
   "cell_type": "markdown",
   "id": "RhLTm3tUbLET",
   "metadata": {
    "id": "RhLTm3tUbLET"
   },
   "source": [
    "## Model Interpretation"
   ]
  },
  {
   "cell_type": "code",
   "execution_count": 36,
   "id": "39co5DbCFy3t",
   "metadata": {
    "colab": {
     "base_uri": "https://localhost:8080/",
     "height": 434
    },
    "id": "39co5DbCFy3t",
    "outputId": "7cb8a321-3bcd-4c7d-d642-bec0302055da"
   },
   "outputs": [
    {
     "data": {
      "image/png": "[encoded data removed]",
      "text/plain": [
       "<Figure size 432x288 with 1 Axes>"
      ]
     },
     "metadata": {},
     "output_type": "display_data"
    }
   ],
   "source": [
    "model = LogisticRegression(max_iter=1000)\n",
    "model.fit(X, y_lap)\n",
    "feature_importance = pd.DataFrame(list(X.columns), columns = [\"feature\"])\n",
    "feature_importance[\"importance for laptop\"] = pow(math.e, model.coef_[0])\n",
    "feature_importance = feature_importance.sort_values(by = [\"importance for laptop\"], ascending=False).head(6)\n",
    " \n",
    "feature_importance.plot.barh(x='feature', y='importance for laptop');"
   ]
  },
  {
   "cell_type": "markdown",
   "id": "e6029207",
   "metadata": {},
   "source": [
    "- The 'portability importance' is the most effective feature for increasing the odds of buying a laptop as the next device. An increase of the 'portability importance' feature by one unit increases the odds of buying a laptop by a factor of 3.5 when all other features remain the same.\n",
    "- An increase of the 'income level' feature by one unit increases the odds of buying a laptop by a factor of 2.42 when all other features remain the same.\n",
    "- An increase of the 'laptop usage percentage' feature by one unit increases the odds of buying a laptop by a factor of 2.21 when all other features remain the same.\n",
    "- An increase of the 'CD existence importance    ' feature by one unit increases the odds of buying a laptop by a factor of 1.87 when all other features remain the same.\n",
    "- Using the device for studying mainly increases the odds of buying a laptop by a factor of 1.74 when all other features remain the same."
   ]
  },
  {
   "cell_type": "code",
   "execution_count": 37,
   "id": "lIfI6tTYNItJ",
   "metadata": {
    "colab": {
     "base_uri": "https://localhost:8080/",
     "height": 434
    },
    "id": "lIfI6tTYNItJ",
    "outputId": "c10eb302-6123-4811-a799-90d579ccf929"
   },
   "outputs": [
    {
     "data": {
      "image/png": "[encoded data removed]",
      "text/plain": [
       "<Figure size 432x288 with 1 Axes>"
      ]
     },
     "metadata": {},
     "output_type": "display_data"
    }
   ],
   "source": [
    "model = LogisticRegression(max_iter=1000)\n",
    "model.fit(X, y_desk)\n",
    "feature_importance = pd.DataFrame(list(X.columns), columns = [\"feature\"])\n",
    "feature_importance[\"importance for pc\"] = pow(math.e, model.coef_[0])\n",
    "feature_importance = feature_importance.sort_values(by = [\"importance for pc\"], ascending=False).head(6)\n",
    " \n",
    "feature_importance.plot.barh(x='feature', y='importance for pc');"
   ]
  },
  {
   "cell_type": "markdown",
   "id": "510c9b88",
   "metadata": {},
   "source": [
    "- The 'desktop usage percentage' is the most effective feature for increasing the odds of buying a desktop as the next device. An increase of the 'desktop usage percentage' feature by one unit increases the odds of buying a desktop by a factor of 2.48 when all other features remain the same.\n",
    "- Having a Core i5 processor increases the odds of buying a desktop by a factor of 1.98 when all other features remain the same.\n",
    "- An increase of the 'performance importance' feature by one unit increases the odds of buying a desktop as the next by a factor of 1.84 when all other features remain the same.\n",
    "- An increase of the 'screen size importance' feature by one unit increases the odds of buying a desktop by a factor of 1.83 when all other features remain the same.\n",
    "- Being a Data scientist increases the odds of buying a desktop by a factor of 1.6 when all other features remain the same."
   ]
  },
  {
   "cell_type": "code",
   "execution_count": null,
   "id": "7sNAnYvqkcWr",
   "metadata": {
    "id": "7sNAnYvqkcWr"
   },
   "outputs": [],
   "source": [
    "gm = df.groupby('income_level').sum()\n",
    "gm.reset_index(inplace=True)\n",
    "gm.hvplot.bar(x = 'income_level' ,y = 'devices_count',)"
   ]
  },
  {
   "cell_type": "code",
   "execution_count": null,
   "id": "05993c18",
   "metadata": {},
   "outputs": [],
   "source": []
  },
  {
   "cell_type": "code",
   "execution_count": null,
   "id": "52ab6e29",
   "metadata": {},
   "outputs": [],
   "source": []
  }
 ],
 "metadata": {
  "accelerator": "GPU",
  "colab": {
   "gpuType": "T4",
   "provenance": []
  },
  "gpuClass": "standard",
  "kernelspec": {
   "display_name": "Python 3",
   "language": "python",
   "name": "python3"
  },
  "language_info": {
   "codemirror_mode": {
    "name": "ipython",
    "version": 3
   },
   "file_extension": ".py",
   "mimetype": "text/x-python",
   "name": "python",
   "nbconvert_exporter": "python",
   "pygments_lexer": "ipython3",
   "version": "3.8.8"
  }
 },
 "nbformat": 4,
 "nbformat_minor": 5
}
